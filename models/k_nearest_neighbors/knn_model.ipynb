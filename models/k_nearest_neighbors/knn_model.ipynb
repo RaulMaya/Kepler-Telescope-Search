{
 "cells": [
  {
   "cell_type": "markdown",
   "id": "67a20bc4",
   "metadata": {},
   "source": [
    "### Nearest Neighbors Model for Kepler Space Telescope Data\n",
    "The purpose of this project is to reinforce my data science and machine learning knowledge, and to help others in their journeys. I'm not an expert on these topics, and I'm conscious that there are a lot of tools, concepts and techniques that I need to master. That's why I develop this project, to share with the community the tools, concepts and techniques, that I have learned across my data science journey. I'm open to comments, critics and feedback that would help me to develop learn best practices and corrections in case I was wrong."
   ]
  },
  {
   "cell_type": "code",
   "execution_count": null,
   "id": "03fc2b20",
   "metadata": {},
   "outputs": [],
   "source": []
  }
 ],
 "metadata": {
  "kernelspec": {
   "display_name": "Python 3",
   "language": "python",
   "name": "python3"
  },
  "language_info": {
   "codemirror_mode": {
    "name": "ipython",
    "version": 3
   },
   "file_extension": ".py",
   "mimetype": "text/x-python",
   "name": "python",
   "nbconvert_exporter": "python",
   "pygments_lexer": "ipython3",
   "version": "3.6.10"
  }
 },
 "nbformat": 4,
 "nbformat_minor": 5
}
