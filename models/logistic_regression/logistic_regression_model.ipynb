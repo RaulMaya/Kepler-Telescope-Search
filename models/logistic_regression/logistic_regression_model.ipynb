{
 "cells": [
  {
   "cell_type": "markdown",
   "id": "e7d7bfd5",
   "metadata": {},
   "source": [
    "### Logistic Regression Model for Kepler Space Telescope Data\n",
    "The purpose of this project is to reinforce my data science and machine learning knowledge, and to help others in their journeys. I'm not an expert on these topics, and I'm conscious that there are a lot of tools, concepts and techniques that I need to master. That's why I develop this project, to share with the community the tools, concepts and techniques, that I have learned across my data science journey. I'm open to comments, critics and feedback that would help me to develop learn best practices and corrections in case I was wrong."
   ]
  },
  {
   "cell_type": "markdown",
   "id": "bd8295fb",
   "metadata": {},
   "source": [
    "#### About Logistic Regression\n",
    "- It is a classification model\n",
    "- Mostly used to predict a discrete set of categories, such as Yes/No, Young/Old, Cold/Hot\n",
    "- They are stronger with linear relationships\n",
    "- They work only with numbers (All your data need to be numerical)\n",
    "- By default, logistic regression cannot be used for classification tasks that have more than two targets"
   ]
  },
  {
   "cell_type": "code",
   "execution_count": 68,
   "id": "3ac03516",
   "metadata": {},
   "outputs": [],
   "source": [
    "#import warnings\n",
    "#warnings.simplefilter('ignore')\n",
    "import pandas as pd\n",
    "import numpy as np"
   ]
  },
  {
   "cell_type": "code",
   "execution_count": 69,
   "id": "7df663d6",
   "metadata": {},
   "outputs": [
    {
     "data": {
      "text/html": [
       "<div>\n",
       "<style scoped>\n",
       "    .dataframe tbody tr th:only-of-type {\n",
       "        vertical-align: middle;\n",
       "    }\n",
       "\n",
       "    .dataframe tbody tr th {\n",
       "        vertical-align: top;\n",
       "    }\n",
       "\n",
       "    .dataframe thead th {\n",
       "        text-align: right;\n",
       "    }\n",
       "</style>\n",
       "<table border=\"1\" class=\"dataframe\">\n",
       "  <thead>\n",
       "    <tr style=\"text-align: right;\">\n",
       "      <th></th>\n",
       "      <th>koi_disposition</th>\n",
       "      <th>koi_fpflag_nt</th>\n",
       "      <th>koi_fpflag_ss</th>\n",
       "      <th>koi_fpflag_co</th>\n",
       "      <th>koi_fpflag_ec</th>\n",
       "      <th>koi_period</th>\n",
       "      <th>koi_period_err1</th>\n",
       "      <th>koi_period_err2</th>\n",
       "      <th>koi_time0bk</th>\n",
       "      <th>koi_time0bk_err1</th>\n",
       "      <th>...</th>\n",
       "      <th>koi_steff_err2</th>\n",
       "      <th>koi_slogg</th>\n",
       "      <th>koi_slogg_err1</th>\n",
       "      <th>koi_slogg_err2</th>\n",
       "      <th>koi_srad</th>\n",
       "      <th>koi_srad_err1</th>\n",
       "      <th>koi_srad_err2</th>\n",
       "      <th>ra</th>\n",
       "      <th>dec</th>\n",
       "      <th>koi_kepmag</th>\n",
       "    </tr>\n",
       "  </thead>\n",
       "  <tbody>\n",
       "    <tr>\n",
       "      <th>0</th>\n",
       "      <td>CONFIRMED</td>\n",
       "      <td>0</td>\n",
       "      <td>0</td>\n",
       "      <td>0</td>\n",
       "      <td>0</td>\n",
       "      <td>54.418383</td>\n",
       "      <td>2.479000e-04</td>\n",
       "      <td>-2.479000e-04</td>\n",
       "      <td>162.513840</td>\n",
       "      <td>0.003520</td>\n",
       "      <td>...</td>\n",
       "      <td>-81</td>\n",
       "      <td>4.467</td>\n",
       "      <td>0.064</td>\n",
       "      <td>-0.096</td>\n",
       "      <td>0.927</td>\n",
       "      <td>0.105</td>\n",
       "      <td>-0.061</td>\n",
       "      <td>291.93423</td>\n",
       "      <td>48.141651</td>\n",
       "      <td>15.347</td>\n",
       "    </tr>\n",
       "    <tr>\n",
       "      <th>1</th>\n",
       "      <td>FALSE POSITIVE</td>\n",
       "      <td>0</td>\n",
       "      <td>1</td>\n",
       "      <td>0</td>\n",
       "      <td>0</td>\n",
       "      <td>19.899140</td>\n",
       "      <td>1.490000e-05</td>\n",
       "      <td>-1.490000e-05</td>\n",
       "      <td>175.850252</td>\n",
       "      <td>0.000581</td>\n",
       "      <td>...</td>\n",
       "      <td>-176</td>\n",
       "      <td>4.544</td>\n",
       "      <td>0.044</td>\n",
       "      <td>-0.176</td>\n",
       "      <td>0.868</td>\n",
       "      <td>0.233</td>\n",
       "      <td>-0.078</td>\n",
       "      <td>297.00482</td>\n",
       "      <td>48.134129</td>\n",
       "      <td>15.436</td>\n",
       "    </tr>\n",
       "    <tr>\n",
       "      <th>2</th>\n",
       "      <td>FALSE POSITIVE</td>\n",
       "      <td>0</td>\n",
       "      <td>1</td>\n",
       "      <td>0</td>\n",
       "      <td>0</td>\n",
       "      <td>1.736952</td>\n",
       "      <td>2.630000e-07</td>\n",
       "      <td>-2.630000e-07</td>\n",
       "      <td>170.307565</td>\n",
       "      <td>0.000115</td>\n",
       "      <td>...</td>\n",
       "      <td>-174</td>\n",
       "      <td>4.564</td>\n",
       "      <td>0.053</td>\n",
       "      <td>-0.168</td>\n",
       "      <td>0.791</td>\n",
       "      <td>0.201</td>\n",
       "      <td>-0.067</td>\n",
       "      <td>285.53461</td>\n",
       "      <td>48.285210</td>\n",
       "      <td>15.597</td>\n",
       "    </tr>\n",
       "    <tr>\n",
       "      <th>3</th>\n",
       "      <td>CONFIRMED</td>\n",
       "      <td>0</td>\n",
       "      <td>0</td>\n",
       "      <td>0</td>\n",
       "      <td>0</td>\n",
       "      <td>2.525592</td>\n",
       "      <td>3.760000e-06</td>\n",
       "      <td>-3.760000e-06</td>\n",
       "      <td>171.595550</td>\n",
       "      <td>0.001130</td>\n",
       "      <td>...</td>\n",
       "      <td>-211</td>\n",
       "      <td>4.438</td>\n",
       "      <td>0.070</td>\n",
       "      <td>-0.210</td>\n",
       "      <td>1.046</td>\n",
       "      <td>0.334</td>\n",
       "      <td>-0.133</td>\n",
       "      <td>288.75488</td>\n",
       "      <td>48.226200</td>\n",
       "      <td>15.509</td>\n",
       "    </tr>\n",
       "    <tr>\n",
       "      <th>4</th>\n",
       "      <td>CONFIRMED</td>\n",
       "      <td>0</td>\n",
       "      <td>0</td>\n",
       "      <td>0</td>\n",
       "      <td>0</td>\n",
       "      <td>4.134435</td>\n",
       "      <td>1.050000e-05</td>\n",
       "      <td>-1.050000e-05</td>\n",
       "      <td>172.979370</td>\n",
       "      <td>0.001900</td>\n",
       "      <td>...</td>\n",
       "      <td>-232</td>\n",
       "      <td>4.486</td>\n",
       "      <td>0.054</td>\n",
       "      <td>-0.229</td>\n",
       "      <td>0.972</td>\n",
       "      <td>0.315</td>\n",
       "      <td>-0.105</td>\n",
       "      <td>296.28613</td>\n",
       "      <td>48.224670</td>\n",
       "      <td>15.714</td>\n",
       "    </tr>\n",
       "  </tbody>\n",
       "</table>\n",
       "<p>5 rows × 41 columns</p>\n",
       "</div>"
      ],
      "text/plain": [
       "  koi_disposition  koi_fpflag_nt  koi_fpflag_ss  koi_fpflag_co  koi_fpflag_ec  \\\n",
       "0       CONFIRMED              0              0              0              0   \n",
       "1  FALSE POSITIVE              0              1              0              0   \n",
       "2  FALSE POSITIVE              0              1              0              0   \n",
       "3       CONFIRMED              0              0              0              0   \n",
       "4       CONFIRMED              0              0              0              0   \n",
       "\n",
       "   koi_period  koi_period_err1  koi_period_err2  koi_time0bk  \\\n",
       "0   54.418383     2.479000e-04    -2.479000e-04   162.513840   \n",
       "1   19.899140     1.490000e-05    -1.490000e-05   175.850252   \n",
       "2    1.736952     2.630000e-07    -2.630000e-07   170.307565   \n",
       "3    2.525592     3.760000e-06    -3.760000e-06   171.595550   \n",
       "4    4.134435     1.050000e-05    -1.050000e-05   172.979370   \n",
       "\n",
       "   koi_time0bk_err1  ...  koi_steff_err2  koi_slogg  koi_slogg_err1  \\\n",
       "0          0.003520  ...             -81      4.467           0.064   \n",
       "1          0.000581  ...            -176      4.544           0.044   \n",
       "2          0.000115  ...            -174      4.564           0.053   \n",
       "3          0.001130  ...            -211      4.438           0.070   \n",
       "4          0.001900  ...            -232      4.486           0.054   \n",
       "\n",
       "   koi_slogg_err2  koi_srad  koi_srad_err1  koi_srad_err2         ra  \\\n",
       "0          -0.096     0.927          0.105         -0.061  291.93423   \n",
       "1          -0.176     0.868          0.233         -0.078  297.00482   \n",
       "2          -0.168     0.791          0.201         -0.067  285.53461   \n",
       "3          -0.210     1.046          0.334         -0.133  288.75488   \n",
       "4          -0.229     0.972          0.315         -0.105  296.28613   \n",
       "\n",
       "         dec  koi_kepmag  \n",
       "0  48.141651      15.347  \n",
       "1  48.134129      15.436  \n",
       "2  48.285210      15.597  \n",
       "3  48.226200      15.509  \n",
       "4  48.224670      15.714  \n",
       "\n",
       "[5 rows x 41 columns]"
      ]
     },
     "execution_count": 69,
     "metadata": {},
     "output_type": "execute_result"
    }
   ],
   "source": [
    "kepler_df = pd.read_csv('../../data/exoplanet_data.csv')\n",
    "kepler_df.head()"
   ]
  },
  {
   "cell_type": "code",
   "execution_count": 70,
   "id": "d93a6541",
   "metadata": {},
   "outputs": [
    {
     "name": "stdout",
     "output_type": "stream",
     "text": [
      "<class 'pandas.core.frame.DataFrame'>\n",
      "RangeIndex: 6991 entries, 0 to 6990\n",
      "Data columns (total 41 columns):\n",
      " #   Column             Non-Null Count  Dtype  \n",
      "---  ------             --------------  -----  \n",
      " 0   koi_disposition    6991 non-null   object \n",
      " 1   koi_fpflag_nt      6991 non-null   int64  \n",
      " 2   koi_fpflag_ss      6991 non-null   int64  \n",
      " 3   koi_fpflag_co      6991 non-null   int64  \n",
      " 4   koi_fpflag_ec      6991 non-null   int64  \n",
      " 5   koi_period         6991 non-null   float64\n",
      " 6   koi_period_err1    6991 non-null   float64\n",
      " 7   koi_period_err2    6991 non-null   float64\n",
      " 8   koi_time0bk        6991 non-null   float64\n",
      " 9   koi_time0bk_err1   6991 non-null   float64\n",
      " 10  koi_time0bk_err2   6991 non-null   float64\n",
      " 11  koi_impact         6991 non-null   float64\n",
      " 12  koi_impact_err1    6991 non-null   float64\n",
      " 13  koi_impact_err2    6991 non-null   float64\n",
      " 14  koi_duration       6991 non-null   float64\n",
      " 15  koi_duration_err1  6991 non-null   float64\n",
      " 16  koi_duration_err2  6991 non-null   float64\n",
      " 17  koi_depth          6991 non-null   float64\n",
      " 18  koi_depth_err1     6991 non-null   float64\n",
      " 19  koi_depth_err2     6991 non-null   float64\n",
      " 20  koi_prad           6991 non-null   float64\n",
      " 21  koi_prad_err1      6991 non-null   float64\n",
      " 22  koi_prad_err2      6991 non-null   float64\n",
      " 23  koi_teq            6991 non-null   int64  \n",
      " 24  koi_insol          6991 non-null   float64\n",
      " 25  koi_insol_err1     6991 non-null   float64\n",
      " 26  koi_insol_err2     6991 non-null   float64\n",
      " 27  koi_model_snr      6991 non-null   float64\n",
      " 28  koi_tce_plnt_num   6991 non-null   int64  \n",
      " 29  koi_steff          6991 non-null   int64  \n",
      " 30  koi_steff_err1     6991 non-null   int64  \n",
      " 31  koi_steff_err2     6991 non-null   int64  \n",
      " 32  koi_slogg          6991 non-null   float64\n",
      " 33  koi_slogg_err1     6991 non-null   float64\n",
      " 34  koi_slogg_err2     6991 non-null   float64\n",
      " 35  koi_srad           6991 non-null   float64\n",
      " 36  koi_srad_err1      6991 non-null   float64\n",
      " 37  koi_srad_err2      6991 non-null   float64\n",
      " 38  ra                 6991 non-null   float64\n",
      " 39  dec                6991 non-null   float64\n",
      " 40  koi_kepmag         6991 non-null   float64\n",
      "dtypes: float64(31), int64(9), object(1)\n",
      "memory usage: 2.2+ MB\n"
     ]
    }
   ],
   "source": [
    "kepler_df.info()"
   ]
  },
  {
   "cell_type": "code",
   "execution_count": 71,
   "id": "46a4c0f5",
   "metadata": {},
   "outputs": [
    {
     "name": "stdout",
     "output_type": "stream",
     "text": [
      "The dataframe has a length of 41 columns.\n",
      "There are 3 outcomes/predictions/targets: {'CANDIDATE', 'CONFIRMED', 'FALSE POSITIVE'}\n"
     ]
    }
   ],
   "source": [
    "print(f\"The dataframe has a length of {len(kepler_df.columns)} columns.\")\n",
    "print(f\"There are 3 outcomes/predictions/targets: {set(kepler_df['koi_disposition'])}\")"
   ]
  },
  {
   "cell_type": "code",
   "execution_count": 72,
   "id": "ed6c7e3d",
   "metadata": {},
   "outputs": [],
   "source": [
    "kepler_df['koi_disposition'] = kepler_df['koi_disposition'].replace({'CONFIRMED': 0, 'FALSE POSITIVE': 1, 'CANDIDATE': 2})"
   ]
  },
  {
   "cell_type": "code",
   "execution_count": 73,
   "id": "9fa977eb",
   "metadata": {},
   "outputs": [
    {
     "data": {
      "text/plain": [
       "koi_disposition      1.000000\n",
       "koi_fpflag_nt        0.000416\n",
       "koi_fpflag_ss        0.013503\n",
       "koi_fpflag_co        0.008531\n",
       "koi_fpflag_ec        0.008041\n",
       "koi_period           0.124647\n",
       "koi_period_err1      0.099048\n",
       "koi_period_err2     -0.099048\n",
       "koi_time0bk          0.070445\n",
       "koi_time0bk_err1     0.147719\n",
       "koi_time0bk_err2    -0.147719\n",
       "koi_impact           0.010607\n",
       "koi_impact_err1      0.058572\n",
       "koi_impact_err2     -0.013980\n",
       "koi_duration         0.029554\n",
       "koi_duration_err1    0.156587\n",
       "koi_duration_err2   -0.156587\n",
       "koi_depth            0.008694\n",
       "koi_depth_err1       0.001797\n",
       "koi_depth_err2      -0.001797\n",
       "koi_prad             0.001485\n",
       "koi_prad_err1        0.003135\n",
       "koi_prad_err2       -0.000998\n",
       "koi_teq              0.021275\n",
       "koi_insol            0.012070\n",
       "koi_insol_err1       0.014604\n",
       "koi_insol_err2      -0.014159\n",
       "koi_model_snr       -0.016351\n",
       "koi_tce_plnt_num    -0.095550\n",
       "koi_steff            0.071048\n",
       "koi_steff_err1       0.173227\n",
       "koi_steff_err2      -0.148902\n",
       "koi_slogg           -0.071437\n",
       "koi_slogg_err1       0.068356\n",
       "koi_slogg_err2      -0.165136\n",
       "koi_srad             0.035999\n",
       "koi_srad_err1        0.069335\n",
       "koi_srad_err2       -0.036944\n",
       "ra                   0.063848\n",
       "dec                 -0.045244\n",
       "koi_kepmag           0.004264\n",
       "Name: koi_disposition, dtype: float64"
      ]
     },
     "execution_count": 73,
     "metadata": {},
     "output_type": "execute_result"
    }
   ],
   "source": [
    "correlation = kepler_df.corr()\n",
    "correlation['koi_disposition']"
   ]
  },
  {
   "cell_type": "code",
   "execution_count": 74,
   "id": "f364e9d4",
   "metadata": {},
   "outputs": [
    {
     "data": {
      "application/vnd.plotly.v1+json": {
       "config": {
        "plotlyServerURL": "https://plot.ly"
       },
       "data": [
        {
         "colorscale": [
          [
           0,
           "rgb(0,0,255)"
          ],
          [
           1,
           "rgb(255,0,0)"
          ]
         ],
         "text": [
          [
           1,
           0.0004,
           0.0135,
           0.0085,
           0.008,
           0.1246,
           0.099,
           -0.099,
           0.0704,
           0.1477
          ],
          [
           0.0004,
           1,
           -0.2411,
           0.0031,
           0.0508,
           0.4087,
           0.3532,
           -0.3532,
           0.2494,
           0.2507
          ],
          [
           0.0135,
           -0.2411,
           1,
           0.1445,
           0.1017,
           -0.156,
           -0.1342,
           0.1342,
           -0.1115,
           -0.177
          ],
          [
           0.0085,
           0.0031,
           0.1445,
           1,
           0.5383,
           -0.1648,
           -0.0844,
           0.0844,
           -0.1215,
           -0.0231
          ],
          [
           0.008,
           0.0508,
           0.1017,
           0.5383,
           1,
           -0.1389,
           -0.0799,
           0.0799,
           -0.0998,
           0.0136
          ],
          [
           0.1246,
           0.4087,
           -0.156,
           -0.1648,
           -0.1389,
           1,
           0.6748,
           -0.6748,
           0.6552,
           0.2725
          ],
          [
           0.099,
           0.3532,
           -0.1342,
           -0.0844,
           -0.0799,
           0.6748,
           1,
           -1,
           0.4696,
           0.472
          ],
          [
           -0.099,
           -0.3532,
           0.1342,
           0.0844,
           0.0799,
           -0.6748,
           -1,
           1,
           -0.4696,
           -0.472
          ],
          [
           0.0704,
           0.2494,
           -0.1115,
           -0.1215,
           -0.0998,
           0.6552,
           0.4696,
           -0.4696,
           1,
           0.1628
          ],
          [
           0.1477,
           0.2507,
           -0.177,
           -0.0231,
           0.0136,
           0.2725,
           0.472,
           -0.472,
           0.1628,
           1
          ]
         ],
         "textfont": {
          "size": 12
         },
         "texttemplate": "%{text}",
         "type": "heatmap",
         "x": [
          "koi_disposition",
          "koi_fpflag_nt",
          "koi_fpflag_ss",
          "koi_fpflag_co",
          "koi_fpflag_ec",
          "koi_period",
          "koi_period_err1",
          "koi_period_err2",
          "koi_time0bk",
          "koi_time0bk_err1"
         ],
         "y": [
          "koi_disposition",
          "koi_fpflag_nt",
          "koi_fpflag_ss",
          "koi_fpflag_co",
          "koi_fpflag_ec",
          "koi_period",
          "koi_period_err1",
          "koi_period_err2",
          "koi_time0bk",
          "koi_time0bk_err1"
         ],
         "z": [
          [
           1,
           0,
           0.014,
           0.009,
           0.008,
           0.125,
           0.099,
           -0.099,
           0.07,
           0.148
          ],
          [
           0,
           1,
           -0.241,
           0.003,
           0.051,
           0.409,
           0.353,
           -0.353,
           0.249,
           0.251
          ],
          [
           0.014,
           -0.241,
           1,
           0.145,
           0.102,
           -0.156,
           -0.134,
           0.134,
           -0.111,
           -0.177
          ],
          [
           0.009,
           0.003,
           0.145,
           1,
           0.538,
           -0.165,
           -0.084,
           0.084,
           -0.121,
           -0.023
          ],
          [
           0.008,
           0.051,
           0.102,
           0.538,
           1,
           -0.139,
           -0.08,
           0.08,
           -0.1,
           0.014
          ],
          [
           0.125,
           0.409,
           -0.156,
           -0.165,
           -0.139,
           1,
           0.675,
           -0.675,
           0.655,
           0.273
          ],
          [
           0.099,
           0.353,
           -0.134,
           -0.084,
           -0.08,
           0.675,
           1,
           -1,
           0.47,
           0.472
          ],
          [
           -0.099,
           -0.353,
           0.134,
           0.084,
           0.08,
           -0.675,
           -1,
           1,
           -0.47,
           -0.472
          ],
          [
           0.07,
           0.249,
           -0.111,
           -0.121,
           -0.1,
           0.655,
           0.47,
           -0.47,
           1,
           0.163
          ],
          [
           0.148,
           0.251,
           -0.177,
           -0.023,
           0.014,
           0.273,
           0.472,
           -0.472,
           0.163,
           1
          ]
         ]
        }
       ],
       "layout": {
        "template": {
         "data": {
          "bar": [
           {
            "error_x": {
             "color": "#2a3f5f"
            },
            "error_y": {
             "color": "#2a3f5f"
            },
            "marker": {
             "line": {
              "color": "#E5ECF6",
              "width": 0.5
             },
             "pattern": {
              "fillmode": "overlay",
              "size": 10,
              "solidity": 0.2
             }
            },
            "type": "bar"
           }
          ],
          "barpolar": [
           {
            "marker": {
             "line": {
              "color": "#E5ECF6",
              "width": 0.5
             },
             "pattern": {
              "fillmode": "overlay",
              "size": 10,
              "solidity": 0.2
             }
            },
            "type": "barpolar"
           }
          ],
          "carpet": [
           {
            "aaxis": {
             "endlinecolor": "#2a3f5f",
             "gridcolor": "white",
             "linecolor": "white",
             "minorgridcolor": "white",
             "startlinecolor": "#2a3f5f"
            },
            "baxis": {
             "endlinecolor": "#2a3f5f",
             "gridcolor": "white",
             "linecolor": "white",
             "minorgridcolor": "white",
             "startlinecolor": "#2a3f5f"
            },
            "type": "carpet"
           }
          ],
          "choropleth": [
           {
            "colorbar": {
             "outlinewidth": 0,
             "ticks": ""
            },
            "type": "choropleth"
           }
          ],
          "contour": [
           {
            "colorbar": {
             "outlinewidth": 0,
             "ticks": ""
            },
            "colorscale": [
             [
              0,
              "#0d0887"
             ],
             [
              0.1111111111111111,
              "#46039f"
             ],
             [
              0.2222222222222222,
              "#7201a8"
             ],
             [
              0.3333333333333333,
              "#9c179e"
             ],
             [
              0.4444444444444444,
              "#bd3786"
             ],
             [
              0.5555555555555556,
              "#d8576b"
             ],
             [
              0.6666666666666666,
              "#ed7953"
             ],
             [
              0.7777777777777778,
              "#fb9f3a"
             ],
             [
              0.8888888888888888,
              "#fdca26"
             ],
             [
              1,
              "#f0f921"
             ]
            ],
            "type": "contour"
           }
          ],
          "contourcarpet": [
           {
            "colorbar": {
             "outlinewidth": 0,
             "ticks": ""
            },
            "type": "contourcarpet"
           }
          ],
          "heatmap": [
           {
            "colorbar": {
             "outlinewidth": 0,
             "ticks": ""
            },
            "colorscale": [
             [
              0,
              "#0d0887"
             ],
             [
              0.1111111111111111,
              "#46039f"
             ],
             [
              0.2222222222222222,
              "#7201a8"
             ],
             [
              0.3333333333333333,
              "#9c179e"
             ],
             [
              0.4444444444444444,
              "#bd3786"
             ],
             [
              0.5555555555555556,
              "#d8576b"
             ],
             [
              0.6666666666666666,
              "#ed7953"
             ],
             [
              0.7777777777777778,
              "#fb9f3a"
             ],
             [
              0.8888888888888888,
              "#fdca26"
             ],
             [
              1,
              "#f0f921"
             ]
            ],
            "type": "heatmap"
           }
          ],
          "heatmapgl": [
           {
            "colorbar": {
             "outlinewidth": 0,
             "ticks": ""
            },
            "colorscale": [
             [
              0,
              "#0d0887"
             ],
             [
              0.1111111111111111,
              "#46039f"
             ],
             [
              0.2222222222222222,
              "#7201a8"
             ],
             [
              0.3333333333333333,
              "#9c179e"
             ],
             [
              0.4444444444444444,
              "#bd3786"
             ],
             [
              0.5555555555555556,
              "#d8576b"
             ],
             [
              0.6666666666666666,
              "#ed7953"
             ],
             [
              0.7777777777777778,
              "#fb9f3a"
             ],
             [
              0.8888888888888888,
              "#fdca26"
             ],
             [
              1,
              "#f0f921"
             ]
            ],
            "type": "heatmapgl"
           }
          ],
          "histogram": [
           {
            "marker": {
             "pattern": {
              "fillmode": "overlay",
              "size": 10,
              "solidity": 0.2
             }
            },
            "type": "histogram"
           }
          ],
          "histogram2d": [
           {
            "colorbar": {
             "outlinewidth": 0,
             "ticks": ""
            },
            "colorscale": [
             [
              0,
              "#0d0887"
             ],
             [
              0.1111111111111111,
              "#46039f"
             ],
             [
              0.2222222222222222,
              "#7201a8"
             ],
             [
              0.3333333333333333,
              "#9c179e"
             ],
             [
              0.4444444444444444,
              "#bd3786"
             ],
             [
              0.5555555555555556,
              "#d8576b"
             ],
             [
              0.6666666666666666,
              "#ed7953"
             ],
             [
              0.7777777777777778,
              "#fb9f3a"
             ],
             [
              0.8888888888888888,
              "#fdca26"
             ],
             [
              1,
              "#f0f921"
             ]
            ],
            "type": "histogram2d"
           }
          ],
          "histogram2dcontour": [
           {
            "colorbar": {
             "outlinewidth": 0,
             "ticks": ""
            },
            "colorscale": [
             [
              0,
              "#0d0887"
             ],
             [
              0.1111111111111111,
              "#46039f"
             ],
             [
              0.2222222222222222,
              "#7201a8"
             ],
             [
              0.3333333333333333,
              "#9c179e"
             ],
             [
              0.4444444444444444,
              "#bd3786"
             ],
             [
              0.5555555555555556,
              "#d8576b"
             ],
             [
              0.6666666666666666,
              "#ed7953"
             ],
             [
              0.7777777777777778,
              "#fb9f3a"
             ],
             [
              0.8888888888888888,
              "#fdca26"
             ],
             [
              1,
              "#f0f921"
             ]
            ],
            "type": "histogram2dcontour"
           }
          ],
          "mesh3d": [
           {
            "colorbar": {
             "outlinewidth": 0,
             "ticks": ""
            },
            "type": "mesh3d"
           }
          ],
          "parcoords": [
           {
            "line": {
             "colorbar": {
              "outlinewidth": 0,
              "ticks": ""
             }
            },
            "type": "parcoords"
           }
          ],
          "pie": [
           {
            "automargin": true,
            "type": "pie"
           }
          ],
          "scatter": [
           {
            "marker": {
             "colorbar": {
              "outlinewidth": 0,
              "ticks": ""
             }
            },
            "type": "scatter"
           }
          ],
          "scatter3d": [
           {
            "line": {
             "colorbar": {
              "outlinewidth": 0,
              "ticks": ""
             }
            },
            "marker": {
             "colorbar": {
              "outlinewidth": 0,
              "ticks": ""
             }
            },
            "type": "scatter3d"
           }
          ],
          "scattercarpet": [
           {
            "marker": {
             "colorbar": {
              "outlinewidth": 0,
              "ticks": ""
             }
            },
            "type": "scattercarpet"
           }
          ],
          "scattergeo": [
           {
            "marker": {
             "colorbar": {
              "outlinewidth": 0,
              "ticks": ""
             }
            },
            "type": "scattergeo"
           }
          ],
          "scattergl": [
           {
            "marker": {
             "colorbar": {
              "outlinewidth": 0,
              "ticks": ""
             }
            },
            "type": "scattergl"
           }
          ],
          "scattermapbox": [
           {
            "marker": {
             "colorbar": {
              "outlinewidth": 0,
              "ticks": ""
             }
            },
            "type": "scattermapbox"
           }
          ],
          "scatterpolar": [
           {
            "marker": {
             "colorbar": {
              "outlinewidth": 0,
              "ticks": ""
             }
            },
            "type": "scatterpolar"
           }
          ],
          "scatterpolargl": [
           {
            "marker": {
             "colorbar": {
              "outlinewidth": 0,
              "ticks": ""
             }
            },
            "type": "scatterpolargl"
           }
          ],
          "scatterternary": [
           {
            "marker": {
             "colorbar": {
              "outlinewidth": 0,
              "ticks": ""
             }
            },
            "type": "scatterternary"
           }
          ],
          "surface": [
           {
            "colorbar": {
             "outlinewidth": 0,
             "ticks": ""
            },
            "colorscale": [
             [
              0,
              "#0d0887"
             ],
             [
              0.1111111111111111,
              "#46039f"
             ],
             [
              0.2222222222222222,
              "#7201a8"
             ],
             [
              0.3333333333333333,
              "#9c179e"
             ],
             [
              0.4444444444444444,
              "#bd3786"
             ],
             [
              0.5555555555555556,
              "#d8576b"
             ],
             [
              0.6666666666666666,
              "#ed7953"
             ],
             [
              0.7777777777777778,
              "#fb9f3a"
             ],
             [
              0.8888888888888888,
              "#fdca26"
             ],
             [
              1,
              "#f0f921"
             ]
            ],
            "type": "surface"
           }
          ],
          "table": [
           {
            "cells": {
             "fill": {
              "color": "#EBF0F8"
             },
             "line": {
              "color": "white"
             }
            },
            "header": {
             "fill": {
              "color": "#C8D4E3"
             },
             "line": {
              "color": "white"
             }
            },
            "type": "table"
           }
          ]
         },
         "layout": {
          "annotationdefaults": {
           "arrowcolor": "#2a3f5f",
           "arrowhead": 0,
           "arrowwidth": 1
          },
          "autotypenumbers": "strict",
          "coloraxis": {
           "colorbar": {
            "outlinewidth": 0,
            "ticks": ""
           }
          },
          "colorscale": {
           "diverging": [
            [
             0,
             "#8e0152"
            ],
            [
             0.1,
             "#c51b7d"
            ],
            [
             0.2,
             "#de77ae"
            ],
            [
             0.3,
             "#f1b6da"
            ],
            [
             0.4,
             "#fde0ef"
            ],
            [
             0.5,
             "#f7f7f7"
            ],
            [
             0.6,
             "#e6f5d0"
            ],
            [
             0.7,
             "#b8e186"
            ],
            [
             0.8,
             "#7fbc41"
            ],
            [
             0.9,
             "#4d9221"
            ],
            [
             1,
             "#276419"
            ]
           ],
           "sequential": [
            [
             0,
             "#0d0887"
            ],
            [
             0.1111111111111111,
             "#46039f"
            ],
            [
             0.2222222222222222,
             "#7201a8"
            ],
            [
             0.3333333333333333,
             "#9c179e"
            ],
            [
             0.4444444444444444,
             "#bd3786"
            ],
            [
             0.5555555555555556,
             "#d8576b"
            ],
            [
             0.6666666666666666,
             "#ed7953"
            ],
            [
             0.7777777777777778,
             "#fb9f3a"
            ],
            [
             0.8888888888888888,
             "#fdca26"
            ],
            [
             1,
             "#f0f921"
            ]
           ],
           "sequentialminus": [
            [
             0,
             "#0d0887"
            ],
            [
             0.1111111111111111,
             "#46039f"
            ],
            [
             0.2222222222222222,
             "#7201a8"
            ],
            [
             0.3333333333333333,
             "#9c179e"
            ],
            [
             0.4444444444444444,
             "#bd3786"
            ],
            [
             0.5555555555555556,
             "#d8576b"
            ],
            [
             0.6666666666666666,
             "#ed7953"
            ],
            [
             0.7777777777777778,
             "#fb9f3a"
            ],
            [
             0.8888888888888888,
             "#fdca26"
            ],
            [
             1,
             "#f0f921"
            ]
           ]
          },
          "colorway": [
           "#636efa",
           "#EF553B",
           "#00cc96",
           "#ab63fa",
           "#FFA15A",
           "#19d3f3",
           "#FF6692",
           "#B6E880",
           "#FF97FF",
           "#FECB52"
          ],
          "font": {
           "color": "#2a3f5f"
          },
          "geo": {
           "bgcolor": "white",
           "lakecolor": "white",
           "landcolor": "#E5ECF6",
           "showlakes": true,
           "showland": true,
           "subunitcolor": "white"
          },
          "hoverlabel": {
           "align": "left"
          },
          "hovermode": "closest",
          "mapbox": {
           "style": "light"
          },
          "paper_bgcolor": "white",
          "plot_bgcolor": "#E5ECF6",
          "polar": {
           "angularaxis": {
            "gridcolor": "white",
            "linecolor": "white",
            "ticks": ""
           },
           "bgcolor": "#E5ECF6",
           "radialaxis": {
            "gridcolor": "white",
            "linecolor": "white",
            "ticks": ""
           }
          },
          "scene": {
           "xaxis": {
            "backgroundcolor": "#E5ECF6",
            "gridcolor": "white",
            "gridwidth": 2,
            "linecolor": "white",
            "showbackground": true,
            "ticks": "",
            "zerolinecolor": "white"
           },
           "yaxis": {
            "backgroundcolor": "#E5ECF6",
            "gridcolor": "white",
            "gridwidth": 2,
            "linecolor": "white",
            "showbackground": true,
            "ticks": "",
            "zerolinecolor": "white"
           },
           "zaxis": {
            "backgroundcolor": "#E5ECF6",
            "gridcolor": "white",
            "gridwidth": 2,
            "linecolor": "white",
            "showbackground": true,
            "ticks": "",
            "zerolinecolor": "white"
           }
          },
          "shapedefaults": {
           "line": {
            "color": "#2a3f5f"
           }
          },
          "ternary": {
           "aaxis": {
            "gridcolor": "white",
            "linecolor": "white",
            "ticks": ""
           },
           "baxis": {
            "gridcolor": "white",
            "linecolor": "white",
            "ticks": ""
           },
           "bgcolor": "#E5ECF6",
           "caxis": {
            "gridcolor": "white",
            "linecolor": "white",
            "ticks": ""
           }
          },
          "title": {
           "x": 0.05
          },
          "xaxis": {
           "automargin": true,
           "gridcolor": "white",
           "linecolor": "white",
           "ticks": "",
           "title": {
            "standoff": 15
           },
           "zerolinecolor": "white",
           "zerolinewidth": 2
          },
          "yaxis": {
           "automargin": true,
           "gridcolor": "white",
           "linecolor": "white",
           "ticks": "",
           "title": {
            "standoff": 15
           },
           "zerolinecolor": "white",
           "zerolinewidth": 2
          }
         }
        }
       }
      },
      "text/html": [
       "<div>                            <div id=\"c804eaee-c6d6-4789-862b-aeb11656d2b8\" class=\"plotly-graph-div\" style=\"height:525px; width:100%;\"></div>            <script type=\"text/javascript\">                require([\"plotly\"], function(Plotly) {                    window.PLOTLYENV=window.PLOTLYENV || {};                                    if (document.getElementById(\"c804eaee-c6d6-4789-862b-aeb11656d2b8\")) {                    Plotly.newPlot(                        \"c804eaee-c6d6-4789-862b-aeb11656d2b8\",                        [{\"colorscale\":[[0.0,\"rgb(0,0,255)\"],[1.0,\"rgb(255,0,0)\"]],\"text\":[[1.0,0.0004,0.0135,0.0085,0.008,0.1246,0.099,-0.099,0.0704,0.1477],[0.0004,1.0,-0.2411,0.0031,0.0508,0.4087,0.3532,-0.3532,0.2494,0.2507],[0.0135,-0.2411,1.0,0.1445,0.1017,-0.156,-0.1342,0.1342,-0.1115,-0.177],[0.0085,0.0031,0.1445,1.0,0.5383,-0.1648,-0.0844,0.0844,-0.1215,-0.0231],[0.008,0.0508,0.1017,0.5383,1.0,-0.1389,-0.0799,0.0799,-0.0998,0.0136],[0.1246,0.4087,-0.156,-0.1648,-0.1389,1.0,0.6748,-0.6748,0.6552,0.2725],[0.099,0.3532,-0.1342,-0.0844,-0.0799,0.6748,1.0,-1.0,0.4696,0.472],[-0.099,-0.3532,0.1342,0.0844,0.0799,-0.6748,-1.0,1.0,-0.4696,-0.472],[0.0704,0.2494,-0.1115,-0.1215,-0.0998,0.6552,0.4696,-0.4696,1.0,0.1628],[0.1477,0.2507,-0.177,-0.0231,0.0136,0.2725,0.472,-0.472,0.1628,1.0]],\"textfont\":{\"size\":12},\"texttemplate\":\"%{text}\",\"x\":[\"koi_disposition\",\"koi_fpflag_nt\",\"koi_fpflag_ss\",\"koi_fpflag_co\",\"koi_fpflag_ec\",\"koi_period\",\"koi_period_err1\",\"koi_period_err2\",\"koi_time0bk\",\"koi_time0bk_err1\"],\"y\":[\"koi_disposition\",\"koi_fpflag_nt\",\"koi_fpflag_ss\",\"koi_fpflag_co\",\"koi_fpflag_ec\",\"koi_period\",\"koi_period_err1\",\"koi_period_err2\",\"koi_time0bk\",\"koi_time0bk_err1\"],\"z\":[[1.0,0.0,0.014,0.009,0.008,0.125,0.099,-0.099,0.07,0.148],[0.0,1.0,-0.241,0.003,0.051,0.409,0.353,-0.353,0.249,0.251],[0.014,-0.241,1.0,0.145,0.102,-0.156,-0.134,0.134,-0.111,-0.177],[0.009,0.003,0.145,1.0,0.538,-0.165,-0.084,0.084,-0.121,-0.023],[0.008,0.051,0.102,0.538,1.0,-0.139,-0.08,0.08,-0.1,0.014],[0.125,0.409,-0.156,-0.165,-0.139,1.0,0.675,-0.675,0.655,0.273],[0.099,0.353,-0.134,-0.084,-0.08,0.675,1.0,-1.0,0.47,0.472],[-0.099,-0.353,0.134,0.084,0.08,-0.675,-1.0,1.0,-0.47,-0.472],[0.07,0.249,-0.111,-0.121,-0.1,0.655,0.47,-0.47,1.0,0.163],[0.148,0.251,-0.177,-0.023,0.014,0.273,0.472,-0.472,0.163,1.0]],\"type\":\"heatmap\"}],                        {\"template\":{\"data\":{\"bar\":[{\"error_x\":{\"color\":\"#2a3f5f\"},\"error_y\":{\"color\":\"#2a3f5f\"},\"marker\":{\"line\":{\"color\":\"#E5ECF6\",\"width\":0.5},\"pattern\":{\"fillmode\":\"overlay\",\"size\":10,\"solidity\":0.2}},\"type\":\"bar\"}],\"barpolar\":[{\"marker\":{\"line\":{\"color\":\"#E5ECF6\",\"width\":0.5},\"pattern\":{\"fillmode\":\"overlay\",\"size\":10,\"solidity\":0.2}},\"type\":\"barpolar\"}],\"carpet\":[{\"aaxis\":{\"endlinecolor\":\"#2a3f5f\",\"gridcolor\":\"white\",\"linecolor\":\"white\",\"minorgridcolor\":\"white\",\"startlinecolor\":\"#2a3f5f\"},\"baxis\":{\"endlinecolor\":\"#2a3f5f\",\"gridcolor\":\"white\",\"linecolor\":\"white\",\"minorgridcolor\":\"white\",\"startlinecolor\":\"#2a3f5f\"},\"type\":\"carpet\"}],\"choropleth\":[{\"colorbar\":{\"outlinewidth\":0,\"ticks\":\"\"},\"type\":\"choropleth\"}],\"contour\":[{\"colorbar\":{\"outlinewidth\":0,\"ticks\":\"\"},\"colorscale\":[[0.0,\"#0d0887\"],[0.1111111111111111,\"#46039f\"],[0.2222222222222222,\"#7201a8\"],[0.3333333333333333,\"#9c179e\"],[0.4444444444444444,\"#bd3786\"],[0.5555555555555556,\"#d8576b\"],[0.6666666666666666,\"#ed7953\"],[0.7777777777777778,\"#fb9f3a\"],[0.8888888888888888,\"#fdca26\"],[1.0,\"#f0f921\"]],\"type\":\"contour\"}],\"contourcarpet\":[{\"colorbar\":{\"outlinewidth\":0,\"ticks\":\"\"},\"type\":\"contourcarpet\"}],\"heatmap\":[{\"colorbar\":{\"outlinewidth\":0,\"ticks\":\"\"},\"colorscale\":[[0.0,\"#0d0887\"],[0.1111111111111111,\"#46039f\"],[0.2222222222222222,\"#7201a8\"],[0.3333333333333333,\"#9c179e\"],[0.4444444444444444,\"#bd3786\"],[0.5555555555555556,\"#d8576b\"],[0.6666666666666666,\"#ed7953\"],[0.7777777777777778,\"#fb9f3a\"],[0.8888888888888888,\"#fdca26\"],[1.0,\"#f0f921\"]],\"type\":\"heatmap\"}],\"heatmapgl\":[{\"colorbar\":{\"outlinewidth\":0,\"ticks\":\"\"},\"colorscale\":[[0.0,\"#0d0887\"],[0.1111111111111111,\"#46039f\"],[0.2222222222222222,\"#7201a8\"],[0.3333333333333333,\"#9c179e\"],[0.4444444444444444,\"#bd3786\"],[0.5555555555555556,\"#d8576b\"],[0.6666666666666666,\"#ed7953\"],[0.7777777777777778,\"#fb9f3a\"],[0.8888888888888888,\"#fdca26\"],[1.0,\"#f0f921\"]],\"type\":\"heatmapgl\"}],\"histogram\":[{\"marker\":{\"pattern\":{\"fillmode\":\"overlay\",\"size\":10,\"solidity\":0.2}},\"type\":\"histogram\"}],\"histogram2d\":[{\"colorbar\":{\"outlinewidth\":0,\"ticks\":\"\"},\"colorscale\":[[0.0,\"#0d0887\"],[0.1111111111111111,\"#46039f\"],[0.2222222222222222,\"#7201a8\"],[0.3333333333333333,\"#9c179e\"],[0.4444444444444444,\"#bd3786\"],[0.5555555555555556,\"#d8576b\"],[0.6666666666666666,\"#ed7953\"],[0.7777777777777778,\"#fb9f3a\"],[0.8888888888888888,\"#fdca26\"],[1.0,\"#f0f921\"]],\"type\":\"histogram2d\"}],\"histogram2dcontour\":[{\"colorbar\":{\"outlinewidth\":0,\"ticks\":\"\"},\"colorscale\":[[0.0,\"#0d0887\"],[0.1111111111111111,\"#46039f\"],[0.2222222222222222,\"#7201a8\"],[0.3333333333333333,\"#9c179e\"],[0.4444444444444444,\"#bd3786\"],[0.5555555555555556,\"#d8576b\"],[0.6666666666666666,\"#ed7953\"],[0.7777777777777778,\"#fb9f3a\"],[0.8888888888888888,\"#fdca26\"],[1.0,\"#f0f921\"]],\"type\":\"histogram2dcontour\"}],\"mesh3d\":[{\"colorbar\":{\"outlinewidth\":0,\"ticks\":\"\"},\"type\":\"mesh3d\"}],\"parcoords\":[{\"line\":{\"colorbar\":{\"outlinewidth\":0,\"ticks\":\"\"}},\"type\":\"parcoords\"}],\"pie\":[{\"automargin\":true,\"type\":\"pie\"}],\"scatter\":[{\"marker\":{\"colorbar\":{\"outlinewidth\":0,\"ticks\":\"\"}},\"type\":\"scatter\"}],\"scatter3d\":[{\"line\":{\"colorbar\":{\"outlinewidth\":0,\"ticks\":\"\"}},\"marker\":{\"colorbar\":{\"outlinewidth\":0,\"ticks\":\"\"}},\"type\":\"scatter3d\"}],\"scattercarpet\":[{\"marker\":{\"colorbar\":{\"outlinewidth\":0,\"ticks\":\"\"}},\"type\":\"scattercarpet\"}],\"scattergeo\":[{\"marker\":{\"colorbar\":{\"outlinewidth\":0,\"ticks\":\"\"}},\"type\":\"scattergeo\"}],\"scattergl\":[{\"marker\":{\"colorbar\":{\"outlinewidth\":0,\"ticks\":\"\"}},\"type\":\"scattergl\"}],\"scattermapbox\":[{\"marker\":{\"colorbar\":{\"outlinewidth\":0,\"ticks\":\"\"}},\"type\":\"scattermapbox\"}],\"scatterpolar\":[{\"marker\":{\"colorbar\":{\"outlinewidth\":0,\"ticks\":\"\"}},\"type\":\"scatterpolar\"}],\"scatterpolargl\":[{\"marker\":{\"colorbar\":{\"outlinewidth\":0,\"ticks\":\"\"}},\"type\":\"scatterpolargl\"}],\"scatterternary\":[{\"marker\":{\"colorbar\":{\"outlinewidth\":0,\"ticks\":\"\"}},\"type\":\"scatterternary\"}],\"surface\":[{\"colorbar\":{\"outlinewidth\":0,\"ticks\":\"\"},\"colorscale\":[[0.0,\"#0d0887\"],[0.1111111111111111,\"#46039f\"],[0.2222222222222222,\"#7201a8\"],[0.3333333333333333,\"#9c179e\"],[0.4444444444444444,\"#bd3786\"],[0.5555555555555556,\"#d8576b\"],[0.6666666666666666,\"#ed7953\"],[0.7777777777777778,\"#fb9f3a\"],[0.8888888888888888,\"#fdca26\"],[1.0,\"#f0f921\"]],\"type\":\"surface\"}],\"table\":[{\"cells\":{\"fill\":{\"color\":\"#EBF0F8\"},\"line\":{\"color\":\"white\"}},\"header\":{\"fill\":{\"color\":\"#C8D4E3\"},\"line\":{\"color\":\"white\"}},\"type\":\"table\"}]},\"layout\":{\"annotationdefaults\":{\"arrowcolor\":\"#2a3f5f\",\"arrowhead\":0,\"arrowwidth\":1},\"autotypenumbers\":\"strict\",\"coloraxis\":{\"colorbar\":{\"outlinewidth\":0,\"ticks\":\"\"}},\"colorscale\":{\"diverging\":[[0,\"#8e0152\"],[0.1,\"#c51b7d\"],[0.2,\"#de77ae\"],[0.3,\"#f1b6da\"],[0.4,\"#fde0ef\"],[0.5,\"#f7f7f7\"],[0.6,\"#e6f5d0\"],[0.7,\"#b8e186\"],[0.8,\"#7fbc41\"],[0.9,\"#4d9221\"],[1,\"#276419\"]],\"sequential\":[[0.0,\"#0d0887\"],[0.1111111111111111,\"#46039f\"],[0.2222222222222222,\"#7201a8\"],[0.3333333333333333,\"#9c179e\"],[0.4444444444444444,\"#bd3786\"],[0.5555555555555556,\"#d8576b\"],[0.6666666666666666,\"#ed7953\"],[0.7777777777777778,\"#fb9f3a\"],[0.8888888888888888,\"#fdca26\"],[1.0,\"#f0f921\"]],\"sequentialminus\":[[0.0,\"#0d0887\"],[0.1111111111111111,\"#46039f\"],[0.2222222222222222,\"#7201a8\"],[0.3333333333333333,\"#9c179e\"],[0.4444444444444444,\"#bd3786\"],[0.5555555555555556,\"#d8576b\"],[0.6666666666666666,\"#ed7953\"],[0.7777777777777778,\"#fb9f3a\"],[0.8888888888888888,\"#fdca26\"],[1.0,\"#f0f921\"]]},\"colorway\":[\"#636efa\",\"#EF553B\",\"#00cc96\",\"#ab63fa\",\"#FFA15A\",\"#19d3f3\",\"#FF6692\",\"#B6E880\",\"#FF97FF\",\"#FECB52\"],\"font\":{\"color\":\"#2a3f5f\"},\"geo\":{\"bgcolor\":\"white\",\"lakecolor\":\"white\",\"landcolor\":\"#E5ECF6\",\"showlakes\":true,\"showland\":true,\"subunitcolor\":\"white\"},\"hoverlabel\":{\"align\":\"left\"},\"hovermode\":\"closest\",\"mapbox\":{\"style\":\"light\"},\"paper_bgcolor\":\"white\",\"plot_bgcolor\":\"#E5ECF6\",\"polar\":{\"angularaxis\":{\"gridcolor\":\"white\",\"linecolor\":\"white\",\"ticks\":\"\"},\"bgcolor\":\"#E5ECF6\",\"radialaxis\":{\"gridcolor\":\"white\",\"linecolor\":\"white\",\"ticks\":\"\"}},\"scene\":{\"xaxis\":{\"backgroundcolor\":\"#E5ECF6\",\"gridcolor\":\"white\",\"gridwidth\":2,\"linecolor\":\"white\",\"showbackground\":true,\"ticks\":\"\",\"zerolinecolor\":\"white\"},\"yaxis\":{\"backgroundcolor\":\"#E5ECF6\",\"gridcolor\":\"white\",\"gridwidth\":2,\"linecolor\":\"white\",\"showbackground\":true,\"ticks\":\"\",\"zerolinecolor\":\"white\"},\"zaxis\":{\"backgroundcolor\":\"#E5ECF6\",\"gridcolor\":\"white\",\"gridwidth\":2,\"linecolor\":\"white\",\"showbackground\":true,\"ticks\":\"\",\"zerolinecolor\":\"white\"}},\"shapedefaults\":{\"line\":{\"color\":\"#2a3f5f\"}},\"ternary\":{\"aaxis\":{\"gridcolor\":\"white\",\"linecolor\":\"white\",\"ticks\":\"\"},\"baxis\":{\"gridcolor\":\"white\",\"linecolor\":\"white\",\"ticks\":\"\"},\"bgcolor\":\"#E5ECF6\",\"caxis\":{\"gridcolor\":\"white\",\"linecolor\":\"white\",\"ticks\":\"\"}},\"title\":{\"x\":0.05},\"xaxis\":{\"automargin\":true,\"gridcolor\":\"white\",\"linecolor\":\"white\",\"ticks\":\"\",\"title\":{\"standoff\":15},\"zerolinecolor\":\"white\",\"zerolinewidth\":2},\"yaxis\":{\"automargin\":true,\"gridcolor\":\"white\",\"linecolor\":\"white\",\"ticks\":\"\",\"title\":{\"standoff\":15},\"zerolinecolor\":\"white\",\"zerolinewidth\":2}}}},                        {\"responsive\": true}                    ).then(function(){\n",
       "                            \n",
       "var gd = document.getElementById('c804eaee-c6d6-4789-862b-aeb11656d2b8');\n",
       "var x = new MutationObserver(function (mutations, observer) {{\n",
       "        var display = window.getComputedStyle(gd).display;\n",
       "        if (!display || display === 'none') {{\n",
       "            console.log([gd, 'removed!']);\n",
       "            Plotly.purge(gd);\n",
       "            observer.disconnect();\n",
       "        }}\n",
       "}});\n",
       "\n",
       "// Listen for the removal of the full notebook cells\n",
       "var notebookContainer = gd.closest('#notebook-container');\n",
       "if (notebookContainer) {{\n",
       "    x.observe(notebookContainer, {childList: true});\n",
       "}}\n",
       "\n",
       "// Listen for the clearing of the current output cell\n",
       "var outputEl = gd.closest('.output');\n",
       "if (outputEl) {{\n",
       "    x.observe(outputEl, {childList: true});\n",
       "}}\n",
       "\n",
       "                        })                };                });            </script>        </div>"
      ]
     },
     "metadata": {},
     "output_type": "display_data"
    }
   ],
   "source": [
    "import plotly\n",
    "import plotly.graph_objs as go\n",
    "import plotly.figure_factory as figfac\n",
    "from plotly.offline import iplot\n",
    "\n",
    "fig = go.Figure(data=go.Heatmap(z = correlation.iloc[:10, :10].round(3).values.tolist(),\n",
    "                                x=correlation.iloc[:10, :10].columns.to_list(),\n",
    "                                y = correlation.iloc[:10, :10].index.to_list(),\n",
    "                                colorscale= 'bluered',\n",
    "                                text=correlation.iloc[:10, :10].round(4).values,\n",
    "                                texttemplate=\"%{text}\",\n",
    "                                textfont={\"size\":12}))\n",
    "fig.show()"
   ]
  },
  {
   "cell_type": "code",
   "execution_count": 75,
   "id": "15eaf70f",
   "metadata": {},
   "outputs": [
    {
     "data": {
      "application/vnd.plotly.v1+json": {
       "config": {
        "linkText": "Export to plot.ly",
        "plotlyServerURL": "https://plot.ly",
        "showLink": false
       },
       "data": [
        {
         "colorscale": [
          [
           0,
           "rgb(0,0,255)"
          ],
          [
           1,
           "rgb(255,0,0)"
          ]
         ],
         "reversescale": false,
         "showscale": false,
         "type": "heatmap",
         "x": [
          "koi_disposition",
          "koi_fpflag_nt",
          "koi_fpflag_ss",
          "koi_fpflag_co",
          "koi_fpflag_ec",
          "koi_period",
          "koi_period_err1",
          "koi_period_err2",
          "koi_time0bk",
          "koi_time0bk_err1"
         ],
         "y": [
          "koi_disposition",
          "koi_fpflag_nt",
          "koi_fpflag_ss",
          "koi_fpflag_co",
          "koi_fpflag_ec",
          "koi_period",
          "koi_period_err1",
          "koi_period_err2",
          "koi_time0bk",
          "koi_time0bk_err1"
         ],
         "z": [
          [
           1,
           0,
           0.014,
           0.009,
           0.008,
           0.125,
           0.099,
           -0.099,
           0.07,
           0.148
          ],
          [
           0,
           1,
           -0.241,
           0.003,
           0.051,
           0.409,
           0.353,
           -0.353,
           0.249,
           0.251
          ],
          [
           0.014,
           -0.241,
           1,
           0.145,
           0.102,
           -0.156,
           -0.134,
           0.134,
           -0.111,
           -0.177
          ],
          [
           0.009,
           0.003,
           0.145,
           1,
           0.538,
           -0.165,
           -0.084,
           0.084,
           -0.121,
           -0.023
          ],
          [
           0.008,
           0.051,
           0.102,
           0.538,
           1,
           -0.139,
           -0.08,
           0.08,
           -0.1,
           0.014
          ],
          [
           0.125,
           0.409,
           -0.156,
           -0.165,
           -0.139,
           1,
           0.675,
           -0.675,
           0.655,
           0.273
          ],
          [
           0.099,
           0.353,
           -0.134,
           -0.084,
           -0.08,
           0.675,
           1,
           -1,
           0.47,
           0.472
          ],
          [
           -0.099,
           -0.353,
           0.134,
           0.084,
           0.08,
           -0.675,
           -1,
           1,
           -0.47,
           -0.472
          ],
          [
           0.07,
           0.249,
           -0.111,
           -0.121,
           -0.1,
           0.655,
           0.47,
           -0.47,
           1,
           0.163
          ],
          [
           0.148,
           0.251,
           -0.177,
           -0.023,
           0.014,
           0.273,
           0.472,
           -0.472,
           0.163,
           1
          ]
         ]
        }
       ],
       "layout": {
        "annotations": [
         {
          "font": {
           "color": "#FFFFFF"
          },
          "showarrow": false,
          "text": "1.0",
          "x": "koi_disposition",
          "xref": "x",
          "y": "koi_disposition",
          "yref": "y"
         },
         {
          "font": {
           "color": "#FFFFFF"
          },
          "showarrow": false,
          "text": "0.0004",
          "x": "koi_fpflag_nt",
          "xref": "x",
          "y": "koi_disposition",
          "yref": "y"
         },
         {
          "font": {
           "color": "#FFFFFF"
          },
          "showarrow": false,
          "text": "0.0135",
          "x": "koi_fpflag_ss",
          "xref": "x",
          "y": "koi_disposition",
          "yref": "y"
         },
         {
          "font": {
           "color": "#FFFFFF"
          },
          "showarrow": false,
          "text": "0.0085",
          "x": "koi_fpflag_co",
          "xref": "x",
          "y": "koi_disposition",
          "yref": "y"
         },
         {
          "font": {
           "color": "#FFFFFF"
          },
          "showarrow": false,
          "text": "0.008",
          "x": "koi_fpflag_ec",
          "xref": "x",
          "y": "koi_disposition",
          "yref": "y"
         },
         {
          "font": {
           "color": "#FFFFFF"
          },
          "showarrow": false,
          "text": "0.1246",
          "x": "koi_period",
          "xref": "x",
          "y": "koi_disposition",
          "yref": "y"
         },
         {
          "font": {
           "color": "#FFFFFF"
          },
          "showarrow": false,
          "text": "0.099",
          "x": "koi_period_err1",
          "xref": "x",
          "y": "koi_disposition",
          "yref": "y"
         },
         {
          "font": {
           "color": "#FFFFFF"
          },
          "showarrow": false,
          "text": "-0.099",
          "x": "koi_period_err2",
          "xref": "x",
          "y": "koi_disposition",
          "yref": "y"
         },
         {
          "font": {
           "color": "#FFFFFF"
          },
          "showarrow": false,
          "text": "0.0704",
          "x": "koi_time0bk",
          "xref": "x",
          "y": "koi_disposition",
          "yref": "y"
         },
         {
          "font": {
           "color": "#FFFFFF"
          },
          "showarrow": false,
          "text": "0.1477",
          "x": "koi_time0bk_err1",
          "xref": "x",
          "y": "koi_disposition",
          "yref": "y"
         },
         {
          "font": {
           "color": "#FFFFFF"
          },
          "showarrow": false,
          "text": "0.0004",
          "x": "koi_disposition",
          "xref": "x",
          "y": "koi_fpflag_nt",
          "yref": "y"
         },
         {
          "font": {
           "color": "#FFFFFF"
          },
          "showarrow": false,
          "text": "1.0",
          "x": "koi_fpflag_nt",
          "xref": "x",
          "y": "koi_fpflag_nt",
          "yref": "y"
         },
         {
          "font": {
           "color": "#FFFFFF"
          },
          "showarrow": false,
          "text": "-0.2411",
          "x": "koi_fpflag_ss",
          "xref": "x",
          "y": "koi_fpflag_nt",
          "yref": "y"
         },
         {
          "font": {
           "color": "#FFFFFF"
          },
          "showarrow": false,
          "text": "0.0031",
          "x": "koi_fpflag_co",
          "xref": "x",
          "y": "koi_fpflag_nt",
          "yref": "y"
         },
         {
          "font": {
           "color": "#FFFFFF"
          },
          "showarrow": false,
          "text": "0.0508",
          "x": "koi_fpflag_ec",
          "xref": "x",
          "y": "koi_fpflag_nt",
          "yref": "y"
         },
         {
          "font": {
           "color": "#FFFFFF"
          },
          "showarrow": false,
          "text": "0.4087",
          "x": "koi_period",
          "xref": "x",
          "y": "koi_fpflag_nt",
          "yref": "y"
         },
         {
          "font": {
           "color": "#FFFFFF"
          },
          "showarrow": false,
          "text": "0.3532",
          "x": "koi_period_err1",
          "xref": "x",
          "y": "koi_fpflag_nt",
          "yref": "y"
         },
         {
          "font": {
           "color": "#FFFFFF"
          },
          "showarrow": false,
          "text": "-0.3532",
          "x": "koi_period_err2",
          "xref": "x",
          "y": "koi_fpflag_nt",
          "yref": "y"
         },
         {
          "font": {
           "color": "#FFFFFF"
          },
          "showarrow": false,
          "text": "0.2494",
          "x": "koi_time0bk",
          "xref": "x",
          "y": "koi_fpflag_nt",
          "yref": "y"
         },
         {
          "font": {
           "color": "#FFFFFF"
          },
          "showarrow": false,
          "text": "0.2507",
          "x": "koi_time0bk_err1",
          "xref": "x",
          "y": "koi_fpflag_nt",
          "yref": "y"
         },
         {
          "font": {
           "color": "#FFFFFF"
          },
          "showarrow": false,
          "text": "0.0135",
          "x": "koi_disposition",
          "xref": "x",
          "y": "koi_fpflag_ss",
          "yref": "y"
         },
         {
          "font": {
           "color": "#FFFFFF"
          },
          "showarrow": false,
          "text": "-0.2411",
          "x": "koi_fpflag_nt",
          "xref": "x",
          "y": "koi_fpflag_ss",
          "yref": "y"
         },
         {
          "font": {
           "color": "#FFFFFF"
          },
          "showarrow": false,
          "text": "1.0",
          "x": "koi_fpflag_ss",
          "xref": "x",
          "y": "koi_fpflag_ss",
          "yref": "y"
         },
         {
          "font": {
           "color": "#FFFFFF"
          },
          "showarrow": false,
          "text": "0.1445",
          "x": "koi_fpflag_co",
          "xref": "x",
          "y": "koi_fpflag_ss",
          "yref": "y"
         },
         {
          "font": {
           "color": "#FFFFFF"
          },
          "showarrow": false,
          "text": "0.1017",
          "x": "koi_fpflag_ec",
          "xref": "x",
          "y": "koi_fpflag_ss",
          "yref": "y"
         },
         {
          "font": {
           "color": "#FFFFFF"
          },
          "showarrow": false,
          "text": "-0.156",
          "x": "koi_period",
          "xref": "x",
          "y": "koi_fpflag_ss",
          "yref": "y"
         },
         {
          "font": {
           "color": "#FFFFFF"
          },
          "showarrow": false,
          "text": "-0.1342",
          "x": "koi_period_err1",
          "xref": "x",
          "y": "koi_fpflag_ss",
          "yref": "y"
         },
         {
          "font": {
           "color": "#FFFFFF"
          },
          "showarrow": false,
          "text": "0.1342",
          "x": "koi_period_err2",
          "xref": "x",
          "y": "koi_fpflag_ss",
          "yref": "y"
         },
         {
          "font": {
           "color": "#FFFFFF"
          },
          "showarrow": false,
          "text": "-0.1115",
          "x": "koi_time0bk",
          "xref": "x",
          "y": "koi_fpflag_ss",
          "yref": "y"
         },
         {
          "font": {
           "color": "#FFFFFF"
          },
          "showarrow": false,
          "text": "-0.177",
          "x": "koi_time0bk_err1",
          "xref": "x",
          "y": "koi_fpflag_ss",
          "yref": "y"
         },
         {
          "font": {
           "color": "#FFFFFF"
          },
          "showarrow": false,
          "text": "0.0085",
          "x": "koi_disposition",
          "xref": "x",
          "y": "koi_fpflag_co",
          "yref": "y"
         },
         {
          "font": {
           "color": "#FFFFFF"
          },
          "showarrow": false,
          "text": "0.0031",
          "x": "koi_fpflag_nt",
          "xref": "x",
          "y": "koi_fpflag_co",
          "yref": "y"
         },
         {
          "font": {
           "color": "#FFFFFF"
          },
          "showarrow": false,
          "text": "0.1445",
          "x": "koi_fpflag_ss",
          "xref": "x",
          "y": "koi_fpflag_co",
          "yref": "y"
         },
         {
          "font": {
           "color": "#FFFFFF"
          },
          "showarrow": false,
          "text": "1.0",
          "x": "koi_fpflag_co",
          "xref": "x",
          "y": "koi_fpflag_co",
          "yref": "y"
         },
         {
          "font": {
           "color": "#FFFFFF"
          },
          "showarrow": false,
          "text": "0.5383",
          "x": "koi_fpflag_ec",
          "xref": "x",
          "y": "koi_fpflag_co",
          "yref": "y"
         },
         {
          "font": {
           "color": "#FFFFFF"
          },
          "showarrow": false,
          "text": "-0.1648",
          "x": "koi_period",
          "xref": "x",
          "y": "koi_fpflag_co",
          "yref": "y"
         },
         {
          "font": {
           "color": "#FFFFFF"
          },
          "showarrow": false,
          "text": "-0.0844",
          "x": "koi_period_err1",
          "xref": "x",
          "y": "koi_fpflag_co",
          "yref": "y"
         },
         {
          "font": {
           "color": "#FFFFFF"
          },
          "showarrow": false,
          "text": "0.0844",
          "x": "koi_period_err2",
          "xref": "x",
          "y": "koi_fpflag_co",
          "yref": "y"
         },
         {
          "font": {
           "color": "#FFFFFF"
          },
          "showarrow": false,
          "text": "-0.1215",
          "x": "koi_time0bk",
          "xref": "x",
          "y": "koi_fpflag_co",
          "yref": "y"
         },
         {
          "font": {
           "color": "#FFFFFF"
          },
          "showarrow": false,
          "text": "-0.0231",
          "x": "koi_time0bk_err1",
          "xref": "x",
          "y": "koi_fpflag_co",
          "yref": "y"
         },
         {
          "font": {
           "color": "#FFFFFF"
          },
          "showarrow": false,
          "text": "0.008",
          "x": "koi_disposition",
          "xref": "x",
          "y": "koi_fpflag_ec",
          "yref": "y"
         },
         {
          "font": {
           "color": "#FFFFFF"
          },
          "showarrow": false,
          "text": "0.0508",
          "x": "koi_fpflag_nt",
          "xref": "x",
          "y": "koi_fpflag_ec",
          "yref": "y"
         },
         {
          "font": {
           "color": "#FFFFFF"
          },
          "showarrow": false,
          "text": "0.1017",
          "x": "koi_fpflag_ss",
          "xref": "x",
          "y": "koi_fpflag_ec",
          "yref": "y"
         },
         {
          "font": {
           "color": "#FFFFFF"
          },
          "showarrow": false,
          "text": "0.5383",
          "x": "koi_fpflag_co",
          "xref": "x",
          "y": "koi_fpflag_ec",
          "yref": "y"
         },
         {
          "font": {
           "color": "#FFFFFF"
          },
          "showarrow": false,
          "text": "1.0",
          "x": "koi_fpflag_ec",
          "xref": "x",
          "y": "koi_fpflag_ec",
          "yref": "y"
         },
         {
          "font": {
           "color": "#FFFFFF"
          },
          "showarrow": false,
          "text": "-0.1389",
          "x": "koi_period",
          "xref": "x",
          "y": "koi_fpflag_ec",
          "yref": "y"
         },
         {
          "font": {
           "color": "#FFFFFF"
          },
          "showarrow": false,
          "text": "-0.0799",
          "x": "koi_period_err1",
          "xref": "x",
          "y": "koi_fpflag_ec",
          "yref": "y"
         },
         {
          "font": {
           "color": "#FFFFFF"
          },
          "showarrow": false,
          "text": "0.0799",
          "x": "koi_period_err2",
          "xref": "x",
          "y": "koi_fpflag_ec",
          "yref": "y"
         },
         {
          "font": {
           "color": "#FFFFFF"
          },
          "showarrow": false,
          "text": "-0.0998",
          "x": "koi_time0bk",
          "xref": "x",
          "y": "koi_fpflag_ec",
          "yref": "y"
         },
         {
          "font": {
           "color": "#FFFFFF"
          },
          "showarrow": false,
          "text": "0.0136",
          "x": "koi_time0bk_err1",
          "xref": "x",
          "y": "koi_fpflag_ec",
          "yref": "y"
         },
         {
          "font": {
           "color": "#FFFFFF"
          },
          "showarrow": false,
          "text": "0.1246",
          "x": "koi_disposition",
          "xref": "x",
          "y": "koi_period",
          "yref": "y"
         },
         {
          "font": {
           "color": "#FFFFFF"
          },
          "showarrow": false,
          "text": "0.4087",
          "x": "koi_fpflag_nt",
          "xref": "x",
          "y": "koi_period",
          "yref": "y"
         },
         {
          "font": {
           "color": "#FFFFFF"
          },
          "showarrow": false,
          "text": "-0.156",
          "x": "koi_fpflag_ss",
          "xref": "x",
          "y": "koi_period",
          "yref": "y"
         },
         {
          "font": {
           "color": "#FFFFFF"
          },
          "showarrow": false,
          "text": "-0.1648",
          "x": "koi_fpflag_co",
          "xref": "x",
          "y": "koi_period",
          "yref": "y"
         },
         {
          "font": {
           "color": "#FFFFFF"
          },
          "showarrow": false,
          "text": "-0.1389",
          "x": "koi_fpflag_ec",
          "xref": "x",
          "y": "koi_period",
          "yref": "y"
         },
         {
          "font": {
           "color": "#FFFFFF"
          },
          "showarrow": false,
          "text": "1.0",
          "x": "koi_period",
          "xref": "x",
          "y": "koi_period",
          "yref": "y"
         },
         {
          "font": {
           "color": "#FFFFFF"
          },
          "showarrow": false,
          "text": "0.6748",
          "x": "koi_period_err1",
          "xref": "x",
          "y": "koi_period",
          "yref": "y"
         },
         {
          "font": {
           "color": "#FFFFFF"
          },
          "showarrow": false,
          "text": "-0.6748",
          "x": "koi_period_err2",
          "xref": "x",
          "y": "koi_period",
          "yref": "y"
         },
         {
          "font": {
           "color": "#FFFFFF"
          },
          "showarrow": false,
          "text": "0.6552",
          "x": "koi_time0bk",
          "xref": "x",
          "y": "koi_period",
          "yref": "y"
         },
         {
          "font": {
           "color": "#FFFFFF"
          },
          "showarrow": false,
          "text": "0.2725",
          "x": "koi_time0bk_err1",
          "xref": "x",
          "y": "koi_period",
          "yref": "y"
         },
         {
          "font": {
           "color": "#FFFFFF"
          },
          "showarrow": false,
          "text": "0.099",
          "x": "koi_disposition",
          "xref": "x",
          "y": "koi_period_err1",
          "yref": "y"
         },
         {
          "font": {
           "color": "#FFFFFF"
          },
          "showarrow": false,
          "text": "0.3532",
          "x": "koi_fpflag_nt",
          "xref": "x",
          "y": "koi_period_err1",
          "yref": "y"
         },
         {
          "font": {
           "color": "#FFFFFF"
          },
          "showarrow": false,
          "text": "-0.1342",
          "x": "koi_fpflag_ss",
          "xref": "x",
          "y": "koi_period_err1",
          "yref": "y"
         },
         {
          "font": {
           "color": "#FFFFFF"
          },
          "showarrow": false,
          "text": "-0.0844",
          "x": "koi_fpflag_co",
          "xref": "x",
          "y": "koi_period_err1",
          "yref": "y"
         },
         {
          "font": {
           "color": "#FFFFFF"
          },
          "showarrow": false,
          "text": "-0.0799",
          "x": "koi_fpflag_ec",
          "xref": "x",
          "y": "koi_period_err1",
          "yref": "y"
         },
         {
          "font": {
           "color": "#FFFFFF"
          },
          "showarrow": false,
          "text": "0.6748",
          "x": "koi_period",
          "xref": "x",
          "y": "koi_period_err1",
          "yref": "y"
         },
         {
          "font": {
           "color": "#FFFFFF"
          },
          "showarrow": false,
          "text": "1.0",
          "x": "koi_period_err1",
          "xref": "x",
          "y": "koi_period_err1",
          "yref": "y"
         },
         {
          "font": {
           "color": "#FFFFFF"
          },
          "showarrow": false,
          "text": "-1.0",
          "x": "koi_period_err2",
          "xref": "x",
          "y": "koi_period_err1",
          "yref": "y"
         },
         {
          "font": {
           "color": "#FFFFFF"
          },
          "showarrow": false,
          "text": "0.4696",
          "x": "koi_time0bk",
          "xref": "x",
          "y": "koi_period_err1",
          "yref": "y"
         },
         {
          "font": {
           "color": "#FFFFFF"
          },
          "showarrow": false,
          "text": "0.472",
          "x": "koi_time0bk_err1",
          "xref": "x",
          "y": "koi_period_err1",
          "yref": "y"
         },
         {
          "font": {
           "color": "#FFFFFF"
          },
          "showarrow": false,
          "text": "-0.099",
          "x": "koi_disposition",
          "xref": "x",
          "y": "koi_period_err2",
          "yref": "y"
         },
         {
          "font": {
           "color": "#FFFFFF"
          },
          "showarrow": false,
          "text": "-0.3532",
          "x": "koi_fpflag_nt",
          "xref": "x",
          "y": "koi_period_err2",
          "yref": "y"
         },
         {
          "font": {
           "color": "#FFFFFF"
          },
          "showarrow": false,
          "text": "0.1342",
          "x": "koi_fpflag_ss",
          "xref": "x",
          "y": "koi_period_err2",
          "yref": "y"
         },
         {
          "font": {
           "color": "#FFFFFF"
          },
          "showarrow": false,
          "text": "0.0844",
          "x": "koi_fpflag_co",
          "xref": "x",
          "y": "koi_period_err2",
          "yref": "y"
         },
         {
          "font": {
           "color": "#FFFFFF"
          },
          "showarrow": false,
          "text": "0.0799",
          "x": "koi_fpflag_ec",
          "xref": "x",
          "y": "koi_period_err2",
          "yref": "y"
         },
         {
          "font": {
           "color": "#FFFFFF"
          },
          "showarrow": false,
          "text": "-0.6748",
          "x": "koi_period",
          "xref": "x",
          "y": "koi_period_err2",
          "yref": "y"
         },
         {
          "font": {
           "color": "#FFFFFF"
          },
          "showarrow": false,
          "text": "-1.0",
          "x": "koi_period_err1",
          "xref": "x",
          "y": "koi_period_err2",
          "yref": "y"
         },
         {
          "font": {
           "color": "#FFFFFF"
          },
          "showarrow": false,
          "text": "1.0",
          "x": "koi_period_err2",
          "xref": "x",
          "y": "koi_period_err2",
          "yref": "y"
         },
         {
          "font": {
           "color": "#FFFFFF"
          },
          "showarrow": false,
          "text": "-0.4696",
          "x": "koi_time0bk",
          "xref": "x",
          "y": "koi_period_err2",
          "yref": "y"
         },
         {
          "font": {
           "color": "#FFFFFF"
          },
          "showarrow": false,
          "text": "-0.472",
          "x": "koi_time0bk_err1",
          "xref": "x",
          "y": "koi_period_err2",
          "yref": "y"
         },
         {
          "font": {
           "color": "#FFFFFF"
          },
          "showarrow": false,
          "text": "0.0704",
          "x": "koi_disposition",
          "xref": "x",
          "y": "koi_time0bk",
          "yref": "y"
         },
         {
          "font": {
           "color": "#FFFFFF"
          },
          "showarrow": false,
          "text": "0.2494",
          "x": "koi_fpflag_nt",
          "xref": "x",
          "y": "koi_time0bk",
          "yref": "y"
         },
         {
          "font": {
           "color": "#FFFFFF"
          },
          "showarrow": false,
          "text": "-0.1115",
          "x": "koi_fpflag_ss",
          "xref": "x",
          "y": "koi_time0bk",
          "yref": "y"
         },
         {
          "font": {
           "color": "#FFFFFF"
          },
          "showarrow": false,
          "text": "-0.1215",
          "x": "koi_fpflag_co",
          "xref": "x",
          "y": "koi_time0bk",
          "yref": "y"
         },
         {
          "font": {
           "color": "#FFFFFF"
          },
          "showarrow": false,
          "text": "-0.0998",
          "x": "koi_fpflag_ec",
          "xref": "x",
          "y": "koi_time0bk",
          "yref": "y"
         },
         {
          "font": {
           "color": "#FFFFFF"
          },
          "showarrow": false,
          "text": "0.6552",
          "x": "koi_period",
          "xref": "x",
          "y": "koi_time0bk",
          "yref": "y"
         },
         {
          "font": {
           "color": "#FFFFFF"
          },
          "showarrow": false,
          "text": "0.4696",
          "x": "koi_period_err1",
          "xref": "x",
          "y": "koi_time0bk",
          "yref": "y"
         },
         {
          "font": {
           "color": "#FFFFFF"
          },
          "showarrow": false,
          "text": "-0.4696",
          "x": "koi_period_err2",
          "xref": "x",
          "y": "koi_time0bk",
          "yref": "y"
         },
         {
          "font": {
           "color": "#FFFFFF"
          },
          "showarrow": false,
          "text": "1.0",
          "x": "koi_time0bk",
          "xref": "x",
          "y": "koi_time0bk",
          "yref": "y"
         },
         {
          "font": {
           "color": "#FFFFFF"
          },
          "showarrow": false,
          "text": "0.1628",
          "x": "koi_time0bk_err1",
          "xref": "x",
          "y": "koi_time0bk",
          "yref": "y"
         },
         {
          "font": {
           "color": "#FFFFFF"
          },
          "showarrow": false,
          "text": "0.1477",
          "x": "koi_disposition",
          "xref": "x",
          "y": "koi_time0bk_err1",
          "yref": "y"
         },
         {
          "font": {
           "color": "#FFFFFF"
          },
          "showarrow": false,
          "text": "0.2507",
          "x": "koi_fpflag_nt",
          "xref": "x",
          "y": "koi_time0bk_err1",
          "yref": "y"
         },
         {
          "font": {
           "color": "#FFFFFF"
          },
          "showarrow": false,
          "text": "-0.177",
          "x": "koi_fpflag_ss",
          "xref": "x",
          "y": "koi_time0bk_err1",
          "yref": "y"
         },
         {
          "font": {
           "color": "#FFFFFF"
          },
          "showarrow": false,
          "text": "-0.0231",
          "x": "koi_fpflag_co",
          "xref": "x",
          "y": "koi_time0bk_err1",
          "yref": "y"
         },
         {
          "font": {
           "color": "#FFFFFF"
          },
          "showarrow": false,
          "text": "0.0136",
          "x": "koi_fpflag_ec",
          "xref": "x",
          "y": "koi_time0bk_err1",
          "yref": "y"
         },
         {
          "font": {
           "color": "#FFFFFF"
          },
          "showarrow": false,
          "text": "0.2725",
          "x": "koi_period",
          "xref": "x",
          "y": "koi_time0bk_err1",
          "yref": "y"
         },
         {
          "font": {
           "color": "#FFFFFF"
          },
          "showarrow": false,
          "text": "0.472",
          "x": "koi_period_err1",
          "xref": "x",
          "y": "koi_time0bk_err1",
          "yref": "y"
         },
         {
          "font": {
           "color": "#FFFFFF"
          },
          "showarrow": false,
          "text": "-0.472",
          "x": "koi_period_err2",
          "xref": "x",
          "y": "koi_time0bk_err1",
          "yref": "y"
         },
         {
          "font": {
           "color": "#FFFFFF"
          },
          "showarrow": false,
          "text": "0.1628",
          "x": "koi_time0bk",
          "xref": "x",
          "y": "koi_time0bk_err1",
          "yref": "y"
         },
         {
          "font": {
           "color": "#FFFFFF"
          },
          "showarrow": false,
          "text": "1.0",
          "x": "koi_time0bk_err1",
          "xref": "x",
          "y": "koi_time0bk_err1",
          "yref": "y"
         }
        ],
        "template": {
         "data": {
          "bar": [
           {
            "error_x": {
             "color": "#2a3f5f"
            },
            "error_y": {
             "color": "#2a3f5f"
            },
            "marker": {
             "line": {
              "color": "#E5ECF6",
              "width": 0.5
             },
             "pattern": {
              "fillmode": "overlay",
              "size": 10,
              "solidity": 0.2
             }
            },
            "type": "bar"
           }
          ],
          "barpolar": [
           {
            "marker": {
             "line": {
              "color": "#E5ECF6",
              "width": 0.5
             },
             "pattern": {
              "fillmode": "overlay",
              "size": 10,
              "solidity": 0.2
             }
            },
            "type": "barpolar"
           }
          ],
          "carpet": [
           {
            "aaxis": {
             "endlinecolor": "#2a3f5f",
             "gridcolor": "white",
             "linecolor": "white",
             "minorgridcolor": "white",
             "startlinecolor": "#2a3f5f"
            },
            "baxis": {
             "endlinecolor": "#2a3f5f",
             "gridcolor": "white",
             "linecolor": "white",
             "minorgridcolor": "white",
             "startlinecolor": "#2a3f5f"
            },
            "type": "carpet"
           }
          ],
          "choropleth": [
           {
            "colorbar": {
             "outlinewidth": 0,
             "ticks": ""
            },
            "type": "choropleth"
           }
          ],
          "contour": [
           {
            "colorbar": {
             "outlinewidth": 0,
             "ticks": ""
            },
            "colorscale": [
             [
              0,
              "#0d0887"
             ],
             [
              0.1111111111111111,
              "#46039f"
             ],
             [
              0.2222222222222222,
              "#7201a8"
             ],
             [
              0.3333333333333333,
              "#9c179e"
             ],
             [
              0.4444444444444444,
              "#bd3786"
             ],
             [
              0.5555555555555556,
              "#d8576b"
             ],
             [
              0.6666666666666666,
              "#ed7953"
             ],
             [
              0.7777777777777778,
              "#fb9f3a"
             ],
             [
              0.8888888888888888,
              "#fdca26"
             ],
             [
              1,
              "#f0f921"
             ]
            ],
            "type": "contour"
           }
          ],
          "contourcarpet": [
           {
            "colorbar": {
             "outlinewidth": 0,
             "ticks": ""
            },
            "type": "contourcarpet"
           }
          ],
          "heatmap": [
           {
            "colorbar": {
             "outlinewidth": 0,
             "ticks": ""
            },
            "colorscale": [
             [
              0,
              "#0d0887"
             ],
             [
              0.1111111111111111,
              "#46039f"
             ],
             [
              0.2222222222222222,
              "#7201a8"
             ],
             [
              0.3333333333333333,
              "#9c179e"
             ],
             [
              0.4444444444444444,
              "#bd3786"
             ],
             [
              0.5555555555555556,
              "#d8576b"
             ],
             [
              0.6666666666666666,
              "#ed7953"
             ],
             [
              0.7777777777777778,
              "#fb9f3a"
             ],
             [
              0.8888888888888888,
              "#fdca26"
             ],
             [
              1,
              "#f0f921"
             ]
            ],
            "type": "heatmap"
           }
          ],
          "heatmapgl": [
           {
            "colorbar": {
             "outlinewidth": 0,
             "ticks": ""
            },
            "colorscale": [
             [
              0,
              "#0d0887"
             ],
             [
              0.1111111111111111,
              "#46039f"
             ],
             [
              0.2222222222222222,
              "#7201a8"
             ],
             [
              0.3333333333333333,
              "#9c179e"
             ],
             [
              0.4444444444444444,
              "#bd3786"
             ],
             [
              0.5555555555555556,
              "#d8576b"
             ],
             [
              0.6666666666666666,
              "#ed7953"
             ],
             [
              0.7777777777777778,
              "#fb9f3a"
             ],
             [
              0.8888888888888888,
              "#fdca26"
             ],
             [
              1,
              "#f0f921"
             ]
            ],
            "type": "heatmapgl"
           }
          ],
          "histogram": [
           {
            "marker": {
             "pattern": {
              "fillmode": "overlay",
              "size": 10,
              "solidity": 0.2
             }
            },
            "type": "histogram"
           }
          ],
          "histogram2d": [
           {
            "colorbar": {
             "outlinewidth": 0,
             "ticks": ""
            },
            "colorscale": [
             [
              0,
              "#0d0887"
             ],
             [
              0.1111111111111111,
              "#46039f"
             ],
             [
              0.2222222222222222,
              "#7201a8"
             ],
             [
              0.3333333333333333,
              "#9c179e"
             ],
             [
              0.4444444444444444,
              "#bd3786"
             ],
             [
              0.5555555555555556,
              "#d8576b"
             ],
             [
              0.6666666666666666,
              "#ed7953"
             ],
             [
              0.7777777777777778,
              "#fb9f3a"
             ],
             [
              0.8888888888888888,
              "#fdca26"
             ],
             [
              1,
              "#f0f921"
             ]
            ],
            "type": "histogram2d"
           }
          ],
          "histogram2dcontour": [
           {
            "colorbar": {
             "outlinewidth": 0,
             "ticks": ""
            },
            "colorscale": [
             [
              0,
              "#0d0887"
             ],
             [
              0.1111111111111111,
              "#46039f"
             ],
             [
              0.2222222222222222,
              "#7201a8"
             ],
             [
              0.3333333333333333,
              "#9c179e"
             ],
             [
              0.4444444444444444,
              "#bd3786"
             ],
             [
              0.5555555555555556,
              "#d8576b"
             ],
             [
              0.6666666666666666,
              "#ed7953"
             ],
             [
              0.7777777777777778,
              "#fb9f3a"
             ],
             [
              0.8888888888888888,
              "#fdca26"
             ],
             [
              1,
              "#f0f921"
             ]
            ],
            "type": "histogram2dcontour"
           }
          ],
          "mesh3d": [
           {
            "colorbar": {
             "outlinewidth": 0,
             "ticks": ""
            },
            "type": "mesh3d"
           }
          ],
          "parcoords": [
           {
            "line": {
             "colorbar": {
              "outlinewidth": 0,
              "ticks": ""
             }
            },
            "type": "parcoords"
           }
          ],
          "pie": [
           {
            "automargin": true,
            "type": "pie"
           }
          ],
          "scatter": [
           {
            "marker": {
             "colorbar": {
              "outlinewidth": 0,
              "ticks": ""
             }
            },
            "type": "scatter"
           }
          ],
          "scatter3d": [
           {
            "line": {
             "colorbar": {
              "outlinewidth": 0,
              "ticks": ""
             }
            },
            "marker": {
             "colorbar": {
              "outlinewidth": 0,
              "ticks": ""
             }
            },
            "type": "scatter3d"
           }
          ],
          "scattercarpet": [
           {
            "marker": {
             "colorbar": {
              "outlinewidth": 0,
              "ticks": ""
             }
            },
            "type": "scattercarpet"
           }
          ],
          "scattergeo": [
           {
            "marker": {
             "colorbar": {
              "outlinewidth": 0,
              "ticks": ""
             }
            },
            "type": "scattergeo"
           }
          ],
          "scattergl": [
           {
            "marker": {
             "colorbar": {
              "outlinewidth": 0,
              "ticks": ""
             }
            },
            "type": "scattergl"
           }
          ],
          "scattermapbox": [
           {
            "marker": {
             "colorbar": {
              "outlinewidth": 0,
              "ticks": ""
             }
            },
            "type": "scattermapbox"
           }
          ],
          "scatterpolar": [
           {
            "marker": {
             "colorbar": {
              "outlinewidth": 0,
              "ticks": ""
             }
            },
            "type": "scatterpolar"
           }
          ],
          "scatterpolargl": [
           {
            "marker": {
             "colorbar": {
              "outlinewidth": 0,
              "ticks": ""
             }
            },
            "type": "scatterpolargl"
           }
          ],
          "scatterternary": [
           {
            "marker": {
             "colorbar": {
              "outlinewidth": 0,
              "ticks": ""
             }
            },
            "type": "scatterternary"
           }
          ],
          "surface": [
           {
            "colorbar": {
             "outlinewidth": 0,
             "ticks": ""
            },
            "colorscale": [
             [
              0,
              "#0d0887"
             ],
             [
              0.1111111111111111,
              "#46039f"
             ],
             [
              0.2222222222222222,
              "#7201a8"
             ],
             [
              0.3333333333333333,
              "#9c179e"
             ],
             [
              0.4444444444444444,
              "#bd3786"
             ],
             [
              0.5555555555555556,
              "#d8576b"
             ],
             [
              0.6666666666666666,
              "#ed7953"
             ],
             [
              0.7777777777777778,
              "#fb9f3a"
             ],
             [
              0.8888888888888888,
              "#fdca26"
             ],
             [
              1,
              "#f0f921"
             ]
            ],
            "type": "surface"
           }
          ],
          "table": [
           {
            "cells": {
             "fill": {
              "color": "#EBF0F8"
             },
             "line": {
              "color": "white"
             }
            },
            "header": {
             "fill": {
              "color": "#C8D4E3"
             },
             "line": {
              "color": "white"
             }
            },
            "type": "table"
           }
          ]
         },
         "layout": {
          "annotationdefaults": {
           "arrowcolor": "#2a3f5f",
           "arrowhead": 0,
           "arrowwidth": 1
          },
          "autotypenumbers": "strict",
          "coloraxis": {
           "colorbar": {
            "outlinewidth": 0,
            "ticks": ""
           }
          },
          "colorscale": {
           "diverging": [
            [
             0,
             "#8e0152"
            ],
            [
             0.1,
             "#c51b7d"
            ],
            [
             0.2,
             "#de77ae"
            ],
            [
             0.3,
             "#f1b6da"
            ],
            [
             0.4,
             "#fde0ef"
            ],
            [
             0.5,
             "#f7f7f7"
            ],
            [
             0.6,
             "#e6f5d0"
            ],
            [
             0.7,
             "#b8e186"
            ],
            [
             0.8,
             "#7fbc41"
            ],
            [
             0.9,
             "#4d9221"
            ],
            [
             1,
             "#276419"
            ]
           ],
           "sequential": [
            [
             0,
             "#0d0887"
            ],
            [
             0.1111111111111111,
             "#46039f"
            ],
            [
             0.2222222222222222,
             "#7201a8"
            ],
            [
             0.3333333333333333,
             "#9c179e"
            ],
            [
             0.4444444444444444,
             "#bd3786"
            ],
            [
             0.5555555555555556,
             "#d8576b"
            ],
            [
             0.6666666666666666,
             "#ed7953"
            ],
            [
             0.7777777777777778,
             "#fb9f3a"
            ],
            [
             0.8888888888888888,
             "#fdca26"
            ],
            [
             1,
             "#f0f921"
            ]
           ],
           "sequentialminus": [
            [
             0,
             "#0d0887"
            ],
            [
             0.1111111111111111,
             "#46039f"
            ],
            [
             0.2222222222222222,
             "#7201a8"
            ],
            [
             0.3333333333333333,
             "#9c179e"
            ],
            [
             0.4444444444444444,
             "#bd3786"
            ],
            [
             0.5555555555555556,
             "#d8576b"
            ],
            [
             0.6666666666666666,
             "#ed7953"
            ],
            [
             0.7777777777777778,
             "#fb9f3a"
            ],
            [
             0.8888888888888888,
             "#fdca26"
            ],
            [
             1,
             "#f0f921"
            ]
           ]
          },
          "colorway": [
           "#636efa",
           "#EF553B",
           "#00cc96",
           "#ab63fa",
           "#FFA15A",
           "#19d3f3",
           "#FF6692",
           "#B6E880",
           "#FF97FF",
           "#FECB52"
          ],
          "font": {
           "color": "#2a3f5f"
          },
          "geo": {
           "bgcolor": "white",
           "lakecolor": "white",
           "landcolor": "#E5ECF6",
           "showlakes": true,
           "showland": true,
           "subunitcolor": "white"
          },
          "hoverlabel": {
           "align": "left"
          },
          "hovermode": "closest",
          "mapbox": {
           "style": "light"
          },
          "paper_bgcolor": "white",
          "plot_bgcolor": "#E5ECF6",
          "polar": {
           "angularaxis": {
            "gridcolor": "white",
            "linecolor": "white",
            "ticks": ""
           },
           "bgcolor": "#E5ECF6",
           "radialaxis": {
            "gridcolor": "white",
            "linecolor": "white",
            "ticks": ""
           }
          },
          "scene": {
           "xaxis": {
            "backgroundcolor": "#E5ECF6",
            "gridcolor": "white",
            "gridwidth": 2,
            "linecolor": "white",
            "showbackground": true,
            "ticks": "",
            "zerolinecolor": "white"
           },
           "yaxis": {
            "backgroundcolor": "#E5ECF6",
            "gridcolor": "white",
            "gridwidth": 2,
            "linecolor": "white",
            "showbackground": true,
            "ticks": "",
            "zerolinecolor": "white"
           },
           "zaxis": {
            "backgroundcolor": "#E5ECF6",
            "gridcolor": "white",
            "gridwidth": 2,
            "linecolor": "white",
            "showbackground": true,
            "ticks": "",
            "zerolinecolor": "white"
           }
          },
          "shapedefaults": {
           "line": {
            "color": "#2a3f5f"
           }
          },
          "ternary": {
           "aaxis": {
            "gridcolor": "white",
            "linecolor": "white",
            "ticks": ""
           },
           "baxis": {
            "gridcolor": "white",
            "linecolor": "white",
            "ticks": ""
           },
           "bgcolor": "#E5ECF6",
           "caxis": {
            "gridcolor": "white",
            "linecolor": "white",
            "ticks": ""
           }
          },
          "title": {
           "x": 0.05
          },
          "xaxis": {
           "automargin": true,
           "gridcolor": "white",
           "linecolor": "white",
           "ticks": "",
           "title": {
            "standoff": 15
           },
           "zerolinecolor": "white",
           "zerolinewidth": 2
          },
          "yaxis": {
           "automargin": true,
           "gridcolor": "white",
           "linecolor": "white",
           "ticks": "",
           "title": {
            "standoff": 15
           },
           "zerolinecolor": "white",
           "zerolinewidth": 2
          }
         }
        },
        "xaxis": {
         "dtick": 1,
         "gridcolor": "rgb(0, 0, 0)",
         "side": "top",
         "ticks": ""
        },
        "yaxis": {
         "dtick": 1,
         "ticks": "",
         "ticksuffix": "  "
        }
       }
      },
      "text/html": [
       "<div>                            <div id=\"acd2f3d9-b5b4-4dcd-9508-2b62dcd48f65\" class=\"plotly-graph-div\" style=\"height:525px; width:100%;\"></div>            <script type=\"text/javascript\">                require([\"plotly\"], function(Plotly) {                    window.PLOTLYENV=window.PLOTLYENV || {};                                    if (document.getElementById(\"acd2f3d9-b5b4-4dcd-9508-2b62dcd48f65\")) {                    Plotly.newPlot(                        \"acd2f3d9-b5b4-4dcd-9508-2b62dcd48f65\",                        [{\"colorscale\":[[0.0,\"rgb(0,0,255)\"],[1.0,\"rgb(255,0,0)\"]],\"reversescale\":false,\"showscale\":false,\"x\":[\"koi_disposition\",\"koi_fpflag_nt\",\"koi_fpflag_ss\",\"koi_fpflag_co\",\"koi_fpflag_ec\",\"koi_period\",\"koi_period_err1\",\"koi_period_err2\",\"koi_time0bk\",\"koi_time0bk_err1\"],\"y\":[\"koi_disposition\",\"koi_fpflag_nt\",\"koi_fpflag_ss\",\"koi_fpflag_co\",\"koi_fpflag_ec\",\"koi_period\",\"koi_period_err1\",\"koi_period_err2\",\"koi_time0bk\",\"koi_time0bk_err1\"],\"z\":[[1.0,0.0,0.014,0.009,0.008,0.125,0.099,-0.099,0.07,0.148],[0.0,1.0,-0.241,0.003,0.051,0.409,0.353,-0.353,0.249,0.251],[0.014,-0.241,1.0,0.145,0.102,-0.156,-0.134,0.134,-0.111,-0.177],[0.009,0.003,0.145,1.0,0.538,-0.165,-0.084,0.084,-0.121,-0.023],[0.008,0.051,0.102,0.538,1.0,-0.139,-0.08,0.08,-0.1,0.014],[0.125,0.409,-0.156,-0.165,-0.139,1.0,0.675,-0.675,0.655,0.273],[0.099,0.353,-0.134,-0.084,-0.08,0.675,1.0,-1.0,0.47,0.472],[-0.099,-0.353,0.134,0.084,0.08,-0.675,-1.0,1.0,-0.47,-0.472],[0.07,0.249,-0.111,-0.121,-0.1,0.655,0.47,-0.47,1.0,0.163],[0.148,0.251,-0.177,-0.023,0.014,0.273,0.472,-0.472,0.163,1.0]],\"type\":\"heatmap\"}],                        {\"annotations\":[{\"font\":{\"color\":\"#FFFFFF\"},\"showarrow\":false,\"text\":\"1.0\",\"x\":\"koi_disposition\",\"xref\":\"x\",\"y\":\"koi_disposition\",\"yref\":\"y\"},{\"font\":{\"color\":\"#FFFFFF\"},\"showarrow\":false,\"text\":\"0.0004\",\"x\":\"koi_fpflag_nt\",\"xref\":\"x\",\"y\":\"koi_disposition\",\"yref\":\"y\"},{\"font\":{\"color\":\"#FFFFFF\"},\"showarrow\":false,\"text\":\"0.0135\",\"x\":\"koi_fpflag_ss\",\"xref\":\"x\",\"y\":\"koi_disposition\",\"yref\":\"y\"},{\"font\":{\"color\":\"#FFFFFF\"},\"showarrow\":false,\"text\":\"0.0085\",\"x\":\"koi_fpflag_co\",\"xref\":\"x\",\"y\":\"koi_disposition\",\"yref\":\"y\"},{\"font\":{\"color\":\"#FFFFFF\"},\"showarrow\":false,\"text\":\"0.008\",\"x\":\"koi_fpflag_ec\",\"xref\":\"x\",\"y\":\"koi_disposition\",\"yref\":\"y\"},{\"font\":{\"color\":\"#FFFFFF\"},\"showarrow\":false,\"text\":\"0.1246\",\"x\":\"koi_period\",\"xref\":\"x\",\"y\":\"koi_disposition\",\"yref\":\"y\"},{\"font\":{\"color\":\"#FFFFFF\"},\"showarrow\":false,\"text\":\"0.099\",\"x\":\"koi_period_err1\",\"xref\":\"x\",\"y\":\"koi_disposition\",\"yref\":\"y\"},{\"font\":{\"color\":\"#FFFFFF\"},\"showarrow\":false,\"text\":\"-0.099\",\"x\":\"koi_period_err2\",\"xref\":\"x\",\"y\":\"koi_disposition\",\"yref\":\"y\"},{\"font\":{\"color\":\"#FFFFFF\"},\"showarrow\":false,\"text\":\"0.0704\",\"x\":\"koi_time0bk\",\"xref\":\"x\",\"y\":\"koi_disposition\",\"yref\":\"y\"},{\"font\":{\"color\":\"#FFFFFF\"},\"showarrow\":false,\"text\":\"0.1477\",\"x\":\"koi_time0bk_err1\",\"xref\":\"x\",\"y\":\"koi_disposition\",\"yref\":\"y\"},{\"font\":{\"color\":\"#FFFFFF\"},\"showarrow\":false,\"text\":\"0.0004\",\"x\":\"koi_disposition\",\"xref\":\"x\",\"y\":\"koi_fpflag_nt\",\"yref\":\"y\"},{\"font\":{\"color\":\"#FFFFFF\"},\"showarrow\":false,\"text\":\"1.0\",\"x\":\"koi_fpflag_nt\",\"xref\":\"x\",\"y\":\"koi_fpflag_nt\",\"yref\":\"y\"},{\"font\":{\"color\":\"#FFFFFF\"},\"showarrow\":false,\"text\":\"-0.2411\",\"x\":\"koi_fpflag_ss\",\"xref\":\"x\",\"y\":\"koi_fpflag_nt\",\"yref\":\"y\"},{\"font\":{\"color\":\"#FFFFFF\"},\"showarrow\":false,\"text\":\"0.0031\",\"x\":\"koi_fpflag_co\",\"xref\":\"x\",\"y\":\"koi_fpflag_nt\",\"yref\":\"y\"},{\"font\":{\"color\":\"#FFFFFF\"},\"showarrow\":false,\"text\":\"0.0508\",\"x\":\"koi_fpflag_ec\",\"xref\":\"x\",\"y\":\"koi_fpflag_nt\",\"yref\":\"y\"},{\"font\":{\"color\":\"#FFFFFF\"},\"showarrow\":false,\"text\":\"0.4087\",\"x\":\"koi_period\",\"xref\":\"x\",\"y\":\"koi_fpflag_nt\",\"yref\":\"y\"},{\"font\":{\"color\":\"#FFFFFF\"},\"showarrow\":false,\"text\":\"0.3532\",\"x\":\"koi_period_err1\",\"xref\":\"x\",\"y\":\"koi_fpflag_nt\",\"yref\":\"y\"},{\"font\":{\"color\":\"#FFFFFF\"},\"showarrow\":false,\"text\":\"-0.3532\",\"x\":\"koi_period_err2\",\"xref\":\"x\",\"y\":\"koi_fpflag_nt\",\"yref\":\"y\"},{\"font\":{\"color\":\"#FFFFFF\"},\"showarrow\":false,\"text\":\"0.2494\",\"x\":\"koi_time0bk\",\"xref\":\"x\",\"y\":\"koi_fpflag_nt\",\"yref\":\"y\"},{\"font\":{\"color\":\"#FFFFFF\"},\"showarrow\":false,\"text\":\"0.2507\",\"x\":\"koi_time0bk_err1\",\"xref\":\"x\",\"y\":\"koi_fpflag_nt\",\"yref\":\"y\"},{\"font\":{\"color\":\"#FFFFFF\"},\"showarrow\":false,\"text\":\"0.0135\",\"x\":\"koi_disposition\",\"xref\":\"x\",\"y\":\"koi_fpflag_ss\",\"yref\":\"y\"},{\"font\":{\"color\":\"#FFFFFF\"},\"showarrow\":false,\"text\":\"-0.2411\",\"x\":\"koi_fpflag_nt\",\"xref\":\"x\",\"y\":\"koi_fpflag_ss\",\"yref\":\"y\"},{\"font\":{\"color\":\"#FFFFFF\"},\"showarrow\":false,\"text\":\"1.0\",\"x\":\"koi_fpflag_ss\",\"xref\":\"x\",\"y\":\"koi_fpflag_ss\",\"yref\":\"y\"},{\"font\":{\"color\":\"#FFFFFF\"},\"showarrow\":false,\"text\":\"0.1445\",\"x\":\"koi_fpflag_co\",\"xref\":\"x\",\"y\":\"koi_fpflag_ss\",\"yref\":\"y\"},{\"font\":{\"color\":\"#FFFFFF\"},\"showarrow\":false,\"text\":\"0.1017\",\"x\":\"koi_fpflag_ec\",\"xref\":\"x\",\"y\":\"koi_fpflag_ss\",\"yref\":\"y\"},{\"font\":{\"color\":\"#FFFFFF\"},\"showarrow\":false,\"text\":\"-0.156\",\"x\":\"koi_period\",\"xref\":\"x\",\"y\":\"koi_fpflag_ss\",\"yref\":\"y\"},{\"font\":{\"color\":\"#FFFFFF\"},\"showarrow\":false,\"text\":\"-0.1342\",\"x\":\"koi_period_err1\",\"xref\":\"x\",\"y\":\"koi_fpflag_ss\",\"yref\":\"y\"},{\"font\":{\"color\":\"#FFFFFF\"},\"showarrow\":false,\"text\":\"0.1342\",\"x\":\"koi_period_err2\",\"xref\":\"x\",\"y\":\"koi_fpflag_ss\",\"yref\":\"y\"},{\"font\":{\"color\":\"#FFFFFF\"},\"showarrow\":false,\"text\":\"-0.1115\",\"x\":\"koi_time0bk\",\"xref\":\"x\",\"y\":\"koi_fpflag_ss\",\"yref\":\"y\"},{\"font\":{\"color\":\"#FFFFFF\"},\"showarrow\":false,\"text\":\"-0.177\",\"x\":\"koi_time0bk_err1\",\"xref\":\"x\",\"y\":\"koi_fpflag_ss\",\"yref\":\"y\"},{\"font\":{\"color\":\"#FFFFFF\"},\"showarrow\":false,\"text\":\"0.0085\",\"x\":\"koi_disposition\",\"xref\":\"x\",\"y\":\"koi_fpflag_co\",\"yref\":\"y\"},{\"font\":{\"color\":\"#FFFFFF\"},\"showarrow\":false,\"text\":\"0.0031\",\"x\":\"koi_fpflag_nt\",\"xref\":\"x\",\"y\":\"koi_fpflag_co\",\"yref\":\"y\"},{\"font\":{\"color\":\"#FFFFFF\"},\"showarrow\":false,\"text\":\"0.1445\",\"x\":\"koi_fpflag_ss\",\"xref\":\"x\",\"y\":\"koi_fpflag_co\",\"yref\":\"y\"},{\"font\":{\"color\":\"#FFFFFF\"},\"showarrow\":false,\"text\":\"1.0\",\"x\":\"koi_fpflag_co\",\"xref\":\"x\",\"y\":\"koi_fpflag_co\",\"yref\":\"y\"},{\"font\":{\"color\":\"#FFFFFF\"},\"showarrow\":false,\"text\":\"0.5383\",\"x\":\"koi_fpflag_ec\",\"xref\":\"x\",\"y\":\"koi_fpflag_co\",\"yref\":\"y\"},{\"font\":{\"color\":\"#FFFFFF\"},\"showarrow\":false,\"text\":\"-0.1648\",\"x\":\"koi_period\",\"xref\":\"x\",\"y\":\"koi_fpflag_co\",\"yref\":\"y\"},{\"font\":{\"color\":\"#FFFFFF\"},\"showarrow\":false,\"text\":\"-0.0844\",\"x\":\"koi_period_err1\",\"xref\":\"x\",\"y\":\"koi_fpflag_co\",\"yref\":\"y\"},{\"font\":{\"color\":\"#FFFFFF\"},\"showarrow\":false,\"text\":\"0.0844\",\"x\":\"koi_period_err2\",\"xref\":\"x\",\"y\":\"koi_fpflag_co\",\"yref\":\"y\"},{\"font\":{\"color\":\"#FFFFFF\"},\"showarrow\":false,\"text\":\"-0.1215\",\"x\":\"koi_time0bk\",\"xref\":\"x\",\"y\":\"koi_fpflag_co\",\"yref\":\"y\"},{\"font\":{\"color\":\"#FFFFFF\"},\"showarrow\":false,\"text\":\"-0.0231\",\"x\":\"koi_time0bk_err1\",\"xref\":\"x\",\"y\":\"koi_fpflag_co\",\"yref\":\"y\"},{\"font\":{\"color\":\"#FFFFFF\"},\"showarrow\":false,\"text\":\"0.008\",\"x\":\"koi_disposition\",\"xref\":\"x\",\"y\":\"koi_fpflag_ec\",\"yref\":\"y\"},{\"font\":{\"color\":\"#FFFFFF\"},\"showarrow\":false,\"text\":\"0.0508\",\"x\":\"koi_fpflag_nt\",\"xref\":\"x\",\"y\":\"koi_fpflag_ec\",\"yref\":\"y\"},{\"font\":{\"color\":\"#FFFFFF\"},\"showarrow\":false,\"text\":\"0.1017\",\"x\":\"koi_fpflag_ss\",\"xref\":\"x\",\"y\":\"koi_fpflag_ec\",\"yref\":\"y\"},{\"font\":{\"color\":\"#FFFFFF\"},\"showarrow\":false,\"text\":\"0.5383\",\"x\":\"koi_fpflag_co\",\"xref\":\"x\",\"y\":\"koi_fpflag_ec\",\"yref\":\"y\"},{\"font\":{\"color\":\"#FFFFFF\"},\"showarrow\":false,\"text\":\"1.0\",\"x\":\"koi_fpflag_ec\",\"xref\":\"x\",\"y\":\"koi_fpflag_ec\",\"yref\":\"y\"},{\"font\":{\"color\":\"#FFFFFF\"},\"showarrow\":false,\"text\":\"-0.1389\",\"x\":\"koi_period\",\"xref\":\"x\",\"y\":\"koi_fpflag_ec\",\"yref\":\"y\"},{\"font\":{\"color\":\"#FFFFFF\"},\"showarrow\":false,\"text\":\"-0.0799\",\"x\":\"koi_period_err1\",\"xref\":\"x\",\"y\":\"koi_fpflag_ec\",\"yref\":\"y\"},{\"font\":{\"color\":\"#FFFFFF\"},\"showarrow\":false,\"text\":\"0.0799\",\"x\":\"koi_period_err2\",\"xref\":\"x\",\"y\":\"koi_fpflag_ec\",\"yref\":\"y\"},{\"font\":{\"color\":\"#FFFFFF\"},\"showarrow\":false,\"text\":\"-0.0998\",\"x\":\"koi_time0bk\",\"xref\":\"x\",\"y\":\"koi_fpflag_ec\",\"yref\":\"y\"},{\"font\":{\"color\":\"#FFFFFF\"},\"showarrow\":false,\"text\":\"0.0136\",\"x\":\"koi_time0bk_err1\",\"xref\":\"x\",\"y\":\"koi_fpflag_ec\",\"yref\":\"y\"},{\"font\":{\"color\":\"#FFFFFF\"},\"showarrow\":false,\"text\":\"0.1246\",\"x\":\"koi_disposition\",\"xref\":\"x\",\"y\":\"koi_period\",\"yref\":\"y\"},{\"font\":{\"color\":\"#FFFFFF\"},\"showarrow\":false,\"text\":\"0.4087\",\"x\":\"koi_fpflag_nt\",\"xref\":\"x\",\"y\":\"koi_period\",\"yref\":\"y\"},{\"font\":{\"color\":\"#FFFFFF\"},\"showarrow\":false,\"text\":\"-0.156\",\"x\":\"koi_fpflag_ss\",\"xref\":\"x\",\"y\":\"koi_period\",\"yref\":\"y\"},{\"font\":{\"color\":\"#FFFFFF\"},\"showarrow\":false,\"text\":\"-0.1648\",\"x\":\"koi_fpflag_co\",\"xref\":\"x\",\"y\":\"koi_period\",\"yref\":\"y\"},{\"font\":{\"color\":\"#FFFFFF\"},\"showarrow\":false,\"text\":\"-0.1389\",\"x\":\"koi_fpflag_ec\",\"xref\":\"x\",\"y\":\"koi_period\",\"yref\":\"y\"},{\"font\":{\"color\":\"#FFFFFF\"},\"showarrow\":false,\"text\":\"1.0\",\"x\":\"koi_period\",\"xref\":\"x\",\"y\":\"koi_period\",\"yref\":\"y\"},{\"font\":{\"color\":\"#FFFFFF\"},\"showarrow\":false,\"text\":\"0.6748\",\"x\":\"koi_period_err1\",\"xref\":\"x\",\"y\":\"koi_period\",\"yref\":\"y\"},{\"font\":{\"color\":\"#FFFFFF\"},\"showarrow\":false,\"text\":\"-0.6748\",\"x\":\"koi_period_err2\",\"xref\":\"x\",\"y\":\"koi_period\",\"yref\":\"y\"},{\"font\":{\"color\":\"#FFFFFF\"},\"showarrow\":false,\"text\":\"0.6552\",\"x\":\"koi_time0bk\",\"xref\":\"x\",\"y\":\"koi_period\",\"yref\":\"y\"},{\"font\":{\"color\":\"#FFFFFF\"},\"showarrow\":false,\"text\":\"0.2725\",\"x\":\"koi_time0bk_err1\",\"xref\":\"x\",\"y\":\"koi_period\",\"yref\":\"y\"},{\"font\":{\"color\":\"#FFFFFF\"},\"showarrow\":false,\"text\":\"0.099\",\"x\":\"koi_disposition\",\"xref\":\"x\",\"y\":\"koi_period_err1\",\"yref\":\"y\"},{\"font\":{\"color\":\"#FFFFFF\"},\"showarrow\":false,\"text\":\"0.3532\",\"x\":\"koi_fpflag_nt\",\"xref\":\"x\",\"y\":\"koi_period_err1\",\"yref\":\"y\"},{\"font\":{\"color\":\"#FFFFFF\"},\"showarrow\":false,\"text\":\"-0.1342\",\"x\":\"koi_fpflag_ss\",\"xref\":\"x\",\"y\":\"koi_period_err1\",\"yref\":\"y\"},{\"font\":{\"color\":\"#FFFFFF\"},\"showarrow\":false,\"text\":\"-0.0844\",\"x\":\"koi_fpflag_co\",\"xref\":\"x\",\"y\":\"koi_period_err1\",\"yref\":\"y\"},{\"font\":{\"color\":\"#FFFFFF\"},\"showarrow\":false,\"text\":\"-0.0799\",\"x\":\"koi_fpflag_ec\",\"xref\":\"x\",\"y\":\"koi_period_err1\",\"yref\":\"y\"},{\"font\":{\"color\":\"#FFFFFF\"},\"showarrow\":false,\"text\":\"0.6748\",\"x\":\"koi_period\",\"xref\":\"x\",\"y\":\"koi_period_err1\",\"yref\":\"y\"},{\"font\":{\"color\":\"#FFFFFF\"},\"showarrow\":false,\"text\":\"1.0\",\"x\":\"koi_period_err1\",\"xref\":\"x\",\"y\":\"koi_period_err1\",\"yref\":\"y\"},{\"font\":{\"color\":\"#FFFFFF\"},\"showarrow\":false,\"text\":\"-1.0\",\"x\":\"koi_period_err2\",\"xref\":\"x\",\"y\":\"koi_period_err1\",\"yref\":\"y\"},{\"font\":{\"color\":\"#FFFFFF\"},\"showarrow\":false,\"text\":\"0.4696\",\"x\":\"koi_time0bk\",\"xref\":\"x\",\"y\":\"koi_period_err1\",\"yref\":\"y\"},{\"font\":{\"color\":\"#FFFFFF\"},\"showarrow\":false,\"text\":\"0.472\",\"x\":\"koi_time0bk_err1\",\"xref\":\"x\",\"y\":\"koi_period_err1\",\"yref\":\"y\"},{\"font\":{\"color\":\"#FFFFFF\"},\"showarrow\":false,\"text\":\"-0.099\",\"x\":\"koi_disposition\",\"xref\":\"x\",\"y\":\"koi_period_err2\",\"yref\":\"y\"},{\"font\":{\"color\":\"#FFFFFF\"},\"showarrow\":false,\"text\":\"-0.3532\",\"x\":\"koi_fpflag_nt\",\"xref\":\"x\",\"y\":\"koi_period_err2\",\"yref\":\"y\"},{\"font\":{\"color\":\"#FFFFFF\"},\"showarrow\":false,\"text\":\"0.1342\",\"x\":\"koi_fpflag_ss\",\"xref\":\"x\",\"y\":\"koi_period_err2\",\"yref\":\"y\"},{\"font\":{\"color\":\"#FFFFFF\"},\"showarrow\":false,\"text\":\"0.0844\",\"x\":\"koi_fpflag_co\",\"xref\":\"x\",\"y\":\"koi_period_err2\",\"yref\":\"y\"},{\"font\":{\"color\":\"#FFFFFF\"},\"showarrow\":false,\"text\":\"0.0799\",\"x\":\"koi_fpflag_ec\",\"xref\":\"x\",\"y\":\"koi_period_err2\",\"yref\":\"y\"},{\"font\":{\"color\":\"#FFFFFF\"},\"showarrow\":false,\"text\":\"-0.6748\",\"x\":\"koi_period\",\"xref\":\"x\",\"y\":\"koi_period_err2\",\"yref\":\"y\"},{\"font\":{\"color\":\"#FFFFFF\"},\"showarrow\":false,\"text\":\"-1.0\",\"x\":\"koi_period_err1\",\"xref\":\"x\",\"y\":\"koi_period_err2\",\"yref\":\"y\"},{\"font\":{\"color\":\"#FFFFFF\"},\"showarrow\":false,\"text\":\"1.0\",\"x\":\"koi_period_err2\",\"xref\":\"x\",\"y\":\"koi_period_err2\",\"yref\":\"y\"},{\"font\":{\"color\":\"#FFFFFF\"},\"showarrow\":false,\"text\":\"-0.4696\",\"x\":\"koi_time0bk\",\"xref\":\"x\",\"y\":\"koi_period_err2\",\"yref\":\"y\"},{\"font\":{\"color\":\"#FFFFFF\"},\"showarrow\":false,\"text\":\"-0.472\",\"x\":\"koi_time0bk_err1\",\"xref\":\"x\",\"y\":\"koi_period_err2\",\"yref\":\"y\"},{\"font\":{\"color\":\"#FFFFFF\"},\"showarrow\":false,\"text\":\"0.0704\",\"x\":\"koi_disposition\",\"xref\":\"x\",\"y\":\"koi_time0bk\",\"yref\":\"y\"},{\"font\":{\"color\":\"#FFFFFF\"},\"showarrow\":false,\"text\":\"0.2494\",\"x\":\"koi_fpflag_nt\",\"xref\":\"x\",\"y\":\"koi_time0bk\",\"yref\":\"y\"},{\"font\":{\"color\":\"#FFFFFF\"},\"showarrow\":false,\"text\":\"-0.1115\",\"x\":\"koi_fpflag_ss\",\"xref\":\"x\",\"y\":\"koi_time0bk\",\"yref\":\"y\"},{\"font\":{\"color\":\"#FFFFFF\"},\"showarrow\":false,\"text\":\"-0.1215\",\"x\":\"koi_fpflag_co\",\"xref\":\"x\",\"y\":\"koi_time0bk\",\"yref\":\"y\"},{\"font\":{\"color\":\"#FFFFFF\"},\"showarrow\":false,\"text\":\"-0.0998\",\"x\":\"koi_fpflag_ec\",\"xref\":\"x\",\"y\":\"koi_time0bk\",\"yref\":\"y\"},{\"font\":{\"color\":\"#FFFFFF\"},\"showarrow\":false,\"text\":\"0.6552\",\"x\":\"koi_period\",\"xref\":\"x\",\"y\":\"koi_time0bk\",\"yref\":\"y\"},{\"font\":{\"color\":\"#FFFFFF\"},\"showarrow\":false,\"text\":\"0.4696\",\"x\":\"koi_period_err1\",\"xref\":\"x\",\"y\":\"koi_time0bk\",\"yref\":\"y\"},{\"font\":{\"color\":\"#FFFFFF\"},\"showarrow\":false,\"text\":\"-0.4696\",\"x\":\"koi_period_err2\",\"xref\":\"x\",\"y\":\"koi_time0bk\",\"yref\":\"y\"},{\"font\":{\"color\":\"#FFFFFF\"},\"showarrow\":false,\"text\":\"1.0\",\"x\":\"koi_time0bk\",\"xref\":\"x\",\"y\":\"koi_time0bk\",\"yref\":\"y\"},{\"font\":{\"color\":\"#FFFFFF\"},\"showarrow\":false,\"text\":\"0.1628\",\"x\":\"koi_time0bk_err1\",\"xref\":\"x\",\"y\":\"koi_time0bk\",\"yref\":\"y\"},{\"font\":{\"color\":\"#FFFFFF\"},\"showarrow\":false,\"text\":\"0.1477\",\"x\":\"koi_disposition\",\"xref\":\"x\",\"y\":\"koi_time0bk_err1\",\"yref\":\"y\"},{\"font\":{\"color\":\"#FFFFFF\"},\"showarrow\":false,\"text\":\"0.2507\",\"x\":\"koi_fpflag_nt\",\"xref\":\"x\",\"y\":\"koi_time0bk_err1\",\"yref\":\"y\"},{\"font\":{\"color\":\"#FFFFFF\"},\"showarrow\":false,\"text\":\"-0.177\",\"x\":\"koi_fpflag_ss\",\"xref\":\"x\",\"y\":\"koi_time0bk_err1\",\"yref\":\"y\"},{\"font\":{\"color\":\"#FFFFFF\"},\"showarrow\":false,\"text\":\"-0.0231\",\"x\":\"koi_fpflag_co\",\"xref\":\"x\",\"y\":\"koi_time0bk_err1\",\"yref\":\"y\"},{\"font\":{\"color\":\"#FFFFFF\"},\"showarrow\":false,\"text\":\"0.0136\",\"x\":\"koi_fpflag_ec\",\"xref\":\"x\",\"y\":\"koi_time0bk_err1\",\"yref\":\"y\"},{\"font\":{\"color\":\"#FFFFFF\"},\"showarrow\":false,\"text\":\"0.2725\",\"x\":\"koi_period\",\"xref\":\"x\",\"y\":\"koi_time0bk_err1\",\"yref\":\"y\"},{\"font\":{\"color\":\"#FFFFFF\"},\"showarrow\":false,\"text\":\"0.472\",\"x\":\"koi_period_err1\",\"xref\":\"x\",\"y\":\"koi_time0bk_err1\",\"yref\":\"y\"},{\"font\":{\"color\":\"#FFFFFF\"},\"showarrow\":false,\"text\":\"-0.472\",\"x\":\"koi_period_err2\",\"xref\":\"x\",\"y\":\"koi_time0bk_err1\",\"yref\":\"y\"},{\"font\":{\"color\":\"#FFFFFF\"},\"showarrow\":false,\"text\":\"0.1628\",\"x\":\"koi_time0bk\",\"xref\":\"x\",\"y\":\"koi_time0bk_err1\",\"yref\":\"y\"},{\"font\":{\"color\":\"#FFFFFF\"},\"showarrow\":false,\"text\":\"1.0\",\"x\":\"koi_time0bk_err1\",\"xref\":\"x\",\"y\":\"koi_time0bk_err1\",\"yref\":\"y\"}],\"template\":{\"data\":{\"barpolar\":[{\"marker\":{\"line\":{\"color\":\"#E5ECF6\",\"width\":0.5},\"pattern\":{\"fillmode\":\"overlay\",\"size\":10,\"solidity\":0.2}},\"type\":\"barpolar\"}],\"bar\":[{\"error_x\":{\"color\":\"#2a3f5f\"},\"error_y\":{\"color\":\"#2a3f5f\"},\"marker\":{\"line\":{\"color\":\"#E5ECF6\",\"width\":0.5},\"pattern\":{\"fillmode\":\"overlay\",\"size\":10,\"solidity\":0.2}},\"type\":\"bar\"}],\"carpet\":[{\"aaxis\":{\"endlinecolor\":\"#2a3f5f\",\"gridcolor\":\"white\",\"linecolor\":\"white\",\"minorgridcolor\":\"white\",\"startlinecolor\":\"#2a3f5f\"},\"baxis\":{\"endlinecolor\":\"#2a3f5f\",\"gridcolor\":\"white\",\"linecolor\":\"white\",\"minorgridcolor\":\"white\",\"startlinecolor\":\"#2a3f5f\"},\"type\":\"carpet\"}],\"choropleth\":[{\"colorbar\":{\"outlinewidth\":0,\"ticks\":\"\"},\"type\":\"choropleth\"}],\"contourcarpet\":[{\"colorbar\":{\"outlinewidth\":0,\"ticks\":\"\"},\"type\":\"contourcarpet\"}],\"contour\":[{\"colorbar\":{\"outlinewidth\":0,\"ticks\":\"\"},\"colorscale\":[[0.0,\"#0d0887\"],[0.1111111111111111,\"#46039f\"],[0.2222222222222222,\"#7201a8\"],[0.3333333333333333,\"#9c179e\"],[0.4444444444444444,\"#bd3786\"],[0.5555555555555556,\"#d8576b\"],[0.6666666666666666,\"#ed7953\"],[0.7777777777777778,\"#fb9f3a\"],[0.8888888888888888,\"#fdca26\"],[1.0,\"#f0f921\"]],\"type\":\"contour\"}],\"heatmapgl\":[{\"colorbar\":{\"outlinewidth\":0,\"ticks\":\"\"},\"colorscale\":[[0.0,\"#0d0887\"],[0.1111111111111111,\"#46039f\"],[0.2222222222222222,\"#7201a8\"],[0.3333333333333333,\"#9c179e\"],[0.4444444444444444,\"#bd3786\"],[0.5555555555555556,\"#d8576b\"],[0.6666666666666666,\"#ed7953\"],[0.7777777777777778,\"#fb9f3a\"],[0.8888888888888888,\"#fdca26\"],[1.0,\"#f0f921\"]],\"type\":\"heatmapgl\"}],\"heatmap\":[{\"colorbar\":{\"outlinewidth\":0,\"ticks\":\"\"},\"colorscale\":[[0.0,\"#0d0887\"],[0.1111111111111111,\"#46039f\"],[0.2222222222222222,\"#7201a8\"],[0.3333333333333333,\"#9c179e\"],[0.4444444444444444,\"#bd3786\"],[0.5555555555555556,\"#d8576b\"],[0.6666666666666666,\"#ed7953\"],[0.7777777777777778,\"#fb9f3a\"],[0.8888888888888888,\"#fdca26\"],[1.0,\"#f0f921\"]],\"type\":\"heatmap\"}],\"histogram2dcontour\":[{\"colorbar\":{\"outlinewidth\":0,\"ticks\":\"\"},\"colorscale\":[[0.0,\"#0d0887\"],[0.1111111111111111,\"#46039f\"],[0.2222222222222222,\"#7201a8\"],[0.3333333333333333,\"#9c179e\"],[0.4444444444444444,\"#bd3786\"],[0.5555555555555556,\"#d8576b\"],[0.6666666666666666,\"#ed7953\"],[0.7777777777777778,\"#fb9f3a\"],[0.8888888888888888,\"#fdca26\"],[1.0,\"#f0f921\"]],\"type\":\"histogram2dcontour\"}],\"histogram2d\":[{\"colorbar\":{\"outlinewidth\":0,\"ticks\":\"\"},\"colorscale\":[[0.0,\"#0d0887\"],[0.1111111111111111,\"#46039f\"],[0.2222222222222222,\"#7201a8\"],[0.3333333333333333,\"#9c179e\"],[0.4444444444444444,\"#bd3786\"],[0.5555555555555556,\"#d8576b\"],[0.6666666666666666,\"#ed7953\"],[0.7777777777777778,\"#fb9f3a\"],[0.8888888888888888,\"#fdca26\"],[1.0,\"#f0f921\"]],\"type\":\"histogram2d\"}],\"histogram\":[{\"marker\":{\"pattern\":{\"fillmode\":\"overlay\",\"size\":10,\"solidity\":0.2}},\"type\":\"histogram\"}],\"mesh3d\":[{\"colorbar\":{\"outlinewidth\":0,\"ticks\":\"\"},\"type\":\"mesh3d\"}],\"parcoords\":[{\"line\":{\"colorbar\":{\"outlinewidth\":0,\"ticks\":\"\"}},\"type\":\"parcoords\"}],\"pie\":[{\"automargin\":true,\"type\":\"pie\"}],\"scatter3d\":[{\"line\":{\"colorbar\":{\"outlinewidth\":0,\"ticks\":\"\"}},\"marker\":{\"colorbar\":{\"outlinewidth\":0,\"ticks\":\"\"}},\"type\":\"scatter3d\"}],\"scattercarpet\":[{\"marker\":{\"colorbar\":{\"outlinewidth\":0,\"ticks\":\"\"}},\"type\":\"scattercarpet\"}],\"scattergeo\":[{\"marker\":{\"colorbar\":{\"outlinewidth\":0,\"ticks\":\"\"}},\"type\":\"scattergeo\"}],\"scattergl\":[{\"marker\":{\"colorbar\":{\"outlinewidth\":0,\"ticks\":\"\"}},\"type\":\"scattergl\"}],\"scattermapbox\":[{\"marker\":{\"colorbar\":{\"outlinewidth\":0,\"ticks\":\"\"}},\"type\":\"scattermapbox\"}],\"scatterpolargl\":[{\"marker\":{\"colorbar\":{\"outlinewidth\":0,\"ticks\":\"\"}},\"type\":\"scatterpolargl\"}],\"scatterpolar\":[{\"marker\":{\"colorbar\":{\"outlinewidth\":0,\"ticks\":\"\"}},\"type\":\"scatterpolar\"}],\"scatter\":[{\"marker\":{\"colorbar\":{\"outlinewidth\":0,\"ticks\":\"\"}},\"type\":\"scatter\"}],\"scatterternary\":[{\"marker\":{\"colorbar\":{\"outlinewidth\":0,\"ticks\":\"\"}},\"type\":\"scatterternary\"}],\"surface\":[{\"colorbar\":{\"outlinewidth\":0,\"ticks\":\"\"},\"colorscale\":[[0.0,\"#0d0887\"],[0.1111111111111111,\"#46039f\"],[0.2222222222222222,\"#7201a8\"],[0.3333333333333333,\"#9c179e\"],[0.4444444444444444,\"#bd3786\"],[0.5555555555555556,\"#d8576b\"],[0.6666666666666666,\"#ed7953\"],[0.7777777777777778,\"#fb9f3a\"],[0.8888888888888888,\"#fdca26\"],[1.0,\"#f0f921\"]],\"type\":\"surface\"}],\"table\":[{\"cells\":{\"fill\":{\"color\":\"#EBF0F8\"},\"line\":{\"color\":\"white\"}},\"header\":{\"fill\":{\"color\":\"#C8D4E3\"},\"line\":{\"color\":\"white\"}},\"type\":\"table\"}]},\"layout\":{\"annotationdefaults\":{\"arrowcolor\":\"#2a3f5f\",\"arrowhead\":0,\"arrowwidth\":1},\"autotypenumbers\":\"strict\",\"coloraxis\":{\"colorbar\":{\"outlinewidth\":0,\"ticks\":\"\"}},\"colorscale\":{\"diverging\":[[0,\"#8e0152\"],[0.1,\"#c51b7d\"],[0.2,\"#de77ae\"],[0.3,\"#f1b6da\"],[0.4,\"#fde0ef\"],[0.5,\"#f7f7f7\"],[0.6,\"#e6f5d0\"],[0.7,\"#b8e186\"],[0.8,\"#7fbc41\"],[0.9,\"#4d9221\"],[1,\"#276419\"]],\"sequential\":[[0.0,\"#0d0887\"],[0.1111111111111111,\"#46039f\"],[0.2222222222222222,\"#7201a8\"],[0.3333333333333333,\"#9c179e\"],[0.4444444444444444,\"#bd3786\"],[0.5555555555555556,\"#d8576b\"],[0.6666666666666666,\"#ed7953\"],[0.7777777777777778,\"#fb9f3a\"],[0.8888888888888888,\"#fdca26\"],[1.0,\"#f0f921\"]],\"sequentialminus\":[[0.0,\"#0d0887\"],[0.1111111111111111,\"#46039f\"],[0.2222222222222222,\"#7201a8\"],[0.3333333333333333,\"#9c179e\"],[0.4444444444444444,\"#bd3786\"],[0.5555555555555556,\"#d8576b\"],[0.6666666666666666,\"#ed7953\"],[0.7777777777777778,\"#fb9f3a\"],[0.8888888888888888,\"#fdca26\"],[1.0,\"#f0f921\"]]},\"colorway\":[\"#636efa\",\"#EF553B\",\"#00cc96\",\"#ab63fa\",\"#FFA15A\",\"#19d3f3\",\"#FF6692\",\"#B6E880\",\"#FF97FF\",\"#FECB52\"],\"font\":{\"color\":\"#2a3f5f\"},\"geo\":{\"bgcolor\":\"white\",\"lakecolor\":\"white\",\"landcolor\":\"#E5ECF6\",\"showlakes\":true,\"showland\":true,\"subunitcolor\":\"white\"},\"hoverlabel\":{\"align\":\"left\"},\"hovermode\":\"closest\",\"mapbox\":{\"style\":\"light\"},\"paper_bgcolor\":\"white\",\"plot_bgcolor\":\"#E5ECF6\",\"polar\":{\"angularaxis\":{\"gridcolor\":\"white\",\"linecolor\":\"white\",\"ticks\":\"\"},\"bgcolor\":\"#E5ECF6\",\"radialaxis\":{\"gridcolor\":\"white\",\"linecolor\":\"white\",\"ticks\":\"\"}},\"scene\":{\"xaxis\":{\"backgroundcolor\":\"#E5ECF6\",\"gridcolor\":\"white\",\"gridwidth\":2,\"linecolor\":\"white\",\"showbackground\":true,\"ticks\":\"\",\"zerolinecolor\":\"white\"},\"yaxis\":{\"backgroundcolor\":\"#E5ECF6\",\"gridcolor\":\"white\",\"gridwidth\":2,\"linecolor\":\"white\",\"showbackground\":true,\"ticks\":\"\",\"zerolinecolor\":\"white\"},\"zaxis\":{\"backgroundcolor\":\"#E5ECF6\",\"gridcolor\":\"white\",\"gridwidth\":2,\"linecolor\":\"white\",\"showbackground\":true,\"ticks\":\"\",\"zerolinecolor\":\"white\"}},\"shapedefaults\":{\"line\":{\"color\":\"#2a3f5f\"}},\"ternary\":{\"aaxis\":{\"gridcolor\":\"white\",\"linecolor\":\"white\",\"ticks\":\"\"},\"baxis\":{\"gridcolor\":\"white\",\"linecolor\":\"white\",\"ticks\":\"\"},\"bgcolor\":\"#E5ECF6\",\"caxis\":{\"gridcolor\":\"white\",\"linecolor\":\"white\",\"ticks\":\"\"}},\"title\":{\"x\":0.05},\"xaxis\":{\"automargin\":true,\"gridcolor\":\"white\",\"linecolor\":\"white\",\"ticks\":\"\",\"title\":{\"standoff\":15},\"zerolinecolor\":\"white\",\"zerolinewidth\":2},\"yaxis\":{\"automargin\":true,\"gridcolor\":\"white\",\"linecolor\":\"white\",\"ticks\":\"\",\"title\":{\"standoff\":15},\"zerolinecolor\":\"white\",\"zerolinewidth\":2}}},\"xaxis\":{\"dtick\":1,\"gridcolor\":\"rgb(0, 0, 0)\",\"side\":\"top\",\"ticks\":\"\"},\"yaxis\":{\"dtick\":1,\"ticks\":\"\",\"ticksuffix\":\"  \"}},                        {\"responsive\": true}                    ).then(function(){\n",
       "                            \n",
       "var gd = document.getElementById('acd2f3d9-b5b4-4dcd-9508-2b62dcd48f65');\n",
       "var x = new MutationObserver(function (mutations, observer) {{\n",
       "        var display = window.getComputedStyle(gd).display;\n",
       "        if (!display || display === 'none') {{\n",
       "            console.log([gd, 'removed!']);\n",
       "            Plotly.purge(gd);\n",
       "            observer.disconnect();\n",
       "        }}\n",
       "}});\n",
       "\n",
       "// Listen for the removal of the full notebook cells\n",
       "var notebookContainer = gd.closest('#notebook-container');\n",
       "if (notebookContainer) {{\n",
       "    x.observe(notebookContainer, {childList: true});\n",
       "}}\n",
       "\n",
       "// Listen for the clearing of the current output cell\n",
       "var outputEl = gd.closest('.output');\n",
       "if (outputEl) {{\n",
       "    x.observe(outputEl, {childList: true});\n",
       "}}\n",
       "\n",
       "                        })                };                });            </script>        </div>"
      ]
     },
     "metadata": {},
     "output_type": "display_data"
    }
   ],
   "source": [
    "iplot(figfac.create_annotated_heatmap(correlation.iloc[:10, :10].round(3).values, x=correlation.iloc[:10, :10].columns.to_list(), \n",
    "                                  y=correlation.iloc[:10, :10].index.to_list(), annotation_text=correlation.iloc[:10, :10].round(4).values, colorscale= 'bluered'))\n",
    "\n"
   ]
  },
  {
   "cell_type": "code",
   "execution_count": 76,
   "id": "65a8e6c6",
   "metadata": {},
   "outputs": [
    {
     "name": "stdout",
     "output_type": "stream",
     "text": [
      "(6991, 40)\n",
      "(6991,)\n"
     ]
    }
   ],
   "source": [
    "features = kepler_df.drop('koi_disposition', axis = 1)\n",
    "target = kepler_df['koi_disposition']\n",
    "\n",
    "print(features.shape)\n",
    "print(target.shape)"
   ]
  },
  {
   "cell_type": "code",
   "execution_count": 77,
   "id": "0f346531",
   "metadata": {},
   "outputs": [],
   "source": [
    "from sklearn.linear_model import LogisticRegression\n",
    "logreg = LogisticRegression(max_iter = 1000)\n"
   ]
  },
  {
   "cell_type": "code",
   "execution_count": 78,
   "id": "e2f0f736",
   "metadata": {},
   "outputs": [],
   "source": [
    "from sklearn.model_selection import train_test_split\n",
    "X_train, X_test, y_train, y_test = train_test_split(features, target, test_size=0.3, random_state=42)"
   ]
  },
  {
   "cell_type": "code",
   "execution_count": 79,
   "id": "5a2083bf",
   "metadata": {},
   "outputs": [
    {
     "name": "stderr",
     "output_type": "stream",
     "text": [
      "c:\\users\\raulm\\anaconda3\\envs\\pythondata\\lib\\site-packages\\sklearn\\linear_model\\_logistic.py:765: ConvergenceWarning:\n",
      "\n",
      "lbfgs failed to converge (status=1):\n",
      "STOP: TOTAL NO. of ITERATIONS REACHED LIMIT.\n",
      "\n",
      "Increase the number of iterations (max_iter) or scale the data as shown in:\n",
      "    https://scikit-learn.org/stable/modules/preprocessing.html\n",
      "Please also refer to the documentation for alternative solver options:\n",
      "    https://scikit-learn.org/stable/modules/linear_model.html#logistic-regression\n",
      "\n"
     ]
    },
    {
     "data": {
      "text/plain": [
       "LogisticRegression(max_iter=1000)"
      ]
     },
     "execution_count": 79,
     "metadata": {},
     "output_type": "execute_result"
    }
   ],
   "source": [
    "logreg.fit(X_train, y_train)"
   ]
  },
  {
   "cell_type": "code",
   "execution_count": 80,
   "id": "bd7ebe3a",
   "metadata": {},
   "outputs": [
    {
     "name": "stderr",
     "output_type": "stream",
     "text": [
      "c:\\users\\raulm\\anaconda3\\envs\\pythondata\\lib\\site-packages\\sklearn\\linear_model\\_logistic.py:765: ConvergenceWarning:\n",
      "\n",
      "lbfgs failed to converge (status=1):\n",
      "STOP: TOTAL NO. of ITERATIONS REACHED LIMIT.\n",
      "\n",
      "Increase the number of iterations (max_iter) or scale the data as shown in:\n",
      "    https://scikit-learn.org/stable/modules/preprocessing.html\n",
      "Please also refer to the documentation for alternative solver options:\n",
      "    https://scikit-learn.org/stable/modules/linear_model.html#logistic-regression\n",
      "\n",
      "c:\\users\\raulm\\anaconda3\\envs\\pythondata\\lib\\site-packages\\sklearn\\linear_model\\_logistic.py:765: ConvergenceWarning:\n",
      "\n",
      "lbfgs failed to converge (status=1):\n",
      "STOP: TOTAL NO. of ITERATIONS REACHED LIMIT.\n",
      "\n",
      "Increase the number of iterations (max_iter) or scale the data as shown in:\n",
      "    https://scikit-learn.org/stable/modules/preprocessing.html\n",
      "Please also refer to the documentation for alternative solver options:\n",
      "    https://scikit-learn.org/stable/modules/linear_model.html#logistic-regression\n",
      "\n",
      "c:\\users\\raulm\\anaconda3\\envs\\pythondata\\lib\\site-packages\\sklearn\\linear_model\\_logistic.py:765: ConvergenceWarning:\n",
      "\n",
      "lbfgs failed to converge (status=1):\n",
      "STOP: TOTAL NO. of ITERATIONS REACHED LIMIT.\n",
      "\n",
      "Increase the number of iterations (max_iter) or scale the data as shown in:\n",
      "    https://scikit-learn.org/stable/modules/preprocessing.html\n",
      "Please also refer to the documentation for alternative solver options:\n",
      "    https://scikit-learn.org/stable/modules/linear_model.html#logistic-regression\n",
      "\n",
      "c:\\users\\raulm\\anaconda3\\envs\\pythondata\\lib\\site-packages\\sklearn\\linear_model\\_logistic.py:765: ConvergenceWarning:\n",
      "\n",
      "lbfgs failed to converge (status=1):\n",
      "STOP: TOTAL NO. of ITERATIONS REACHED LIMIT.\n",
      "\n",
      "Increase the number of iterations (max_iter) or scale the data as shown in:\n",
      "    https://scikit-learn.org/stable/modules/preprocessing.html\n",
      "Please also refer to the documentation for alternative solver options:\n",
      "    https://scikit-learn.org/stable/modules/linear_model.html#logistic-regression\n",
      "\n",
      "c:\\users\\raulm\\anaconda3\\envs\\pythondata\\lib\\site-packages\\sklearn\\linear_model\\_logistic.py:765: ConvergenceWarning:\n",
      "\n",
      "lbfgs failed to converge (status=1):\n",
      "STOP: TOTAL NO. of ITERATIONS REACHED LIMIT.\n",
      "\n",
      "Increase the number of iterations (max_iter) or scale the data as shown in:\n",
      "    https://scikit-learn.org/stable/modules/preprocessing.html\n",
      "Please also refer to the documentation for alternative solver options:\n",
      "    https://scikit-learn.org/stable/modules/linear_model.html#logistic-regression\n",
      "\n",
      "c:\\users\\raulm\\anaconda3\\envs\\pythondata\\lib\\site-packages\\sklearn\\linear_model\\_logistic.py:765: ConvergenceWarning:\n",
      "\n",
      "lbfgs failed to converge (status=1):\n",
      "STOP: TOTAL NO. of ITERATIONS REACHED LIMIT.\n",
      "\n",
      "Increase the number of iterations (max_iter) or scale the data as shown in:\n",
      "    https://scikit-learn.org/stable/modules/preprocessing.html\n",
      "Please also refer to the documentation for alternative solver options:\n",
      "    https://scikit-learn.org/stable/modules/linear_model.html#logistic-regression\n",
      "\n",
      "c:\\users\\raulm\\anaconda3\\envs\\pythondata\\lib\\site-packages\\sklearn\\linear_model\\_logistic.py:765: ConvergenceWarning:\n",
      "\n",
      "lbfgs failed to converge (status=1):\n",
      "STOP: TOTAL NO. of ITERATIONS REACHED LIMIT.\n",
      "\n",
      "Increase the number of iterations (max_iter) or scale the data as shown in:\n",
      "    https://scikit-learn.org/stable/modules/preprocessing.html\n",
      "Please also refer to the documentation for alternative solver options:\n",
      "    https://scikit-learn.org/stable/modules/linear_model.html#logistic-regression\n",
      "\n",
      "c:\\users\\raulm\\anaconda3\\envs\\pythondata\\lib\\site-packages\\sklearn\\linear_model\\_logistic.py:765: ConvergenceWarning:\n",
      "\n",
      "lbfgs failed to converge (status=1):\n",
      "STOP: TOTAL NO. of ITERATIONS REACHED LIMIT.\n",
      "\n",
      "Increase the number of iterations (max_iter) or scale the data as shown in:\n",
      "    https://scikit-learn.org/stable/modules/preprocessing.html\n",
      "Please also refer to the documentation for alternative solver options:\n",
      "    https://scikit-learn.org/stable/modules/linear_model.html#logistic-regression\n",
      "\n",
      "c:\\users\\raulm\\anaconda3\\envs\\pythondata\\lib\\site-packages\\sklearn\\linear_model\\_logistic.py:765: ConvergenceWarning:\n",
      "\n",
      "lbfgs failed to converge (status=1):\n",
      "STOP: TOTAL NO. of ITERATIONS REACHED LIMIT.\n",
      "\n",
      "Increase the number of iterations (max_iter) or scale the data as shown in:\n",
      "    https://scikit-learn.org/stable/modules/preprocessing.html\n",
      "Please also refer to the documentation for alternative solver options:\n",
      "    https://scikit-learn.org/stable/modules/linear_model.html#logistic-regression\n",
      "\n",
      "c:\\users\\raulm\\anaconda3\\envs\\pythondata\\lib\\site-packages\\sklearn\\linear_model\\_logistic.py:765: ConvergenceWarning:\n",
      "\n",
      "lbfgs failed to converge (status=1):\n",
      "STOP: TOTAL NO. of ITERATIONS REACHED LIMIT.\n",
      "\n",
      "Increase the number of iterations (max_iter) or scale the data as shown in:\n",
      "    https://scikit-learn.org/stable/modules/preprocessing.html\n",
      "Please also refer to the documentation for alternative solver options:\n",
      "    https://scikit-learn.org/stable/modules/linear_model.html#logistic-regression\n",
      "\n",
      "c:\\users\\raulm\\anaconda3\\envs\\pythondata\\lib\\site-packages\\sklearn\\linear_model\\_logistic.py:765: ConvergenceWarning:\n",
      "\n",
      "lbfgs failed to converge (status=1):\n",
      "STOP: TOTAL NO. of ITERATIONS REACHED LIMIT.\n",
      "\n",
      "Increase the number of iterations (max_iter) or scale the data as shown in:\n",
      "    https://scikit-learn.org/stable/modules/preprocessing.html\n",
      "Please also refer to the documentation for alternative solver options:\n",
      "    https://scikit-learn.org/stable/modules/linear_model.html#logistic-regression\n",
      "\n",
      "c:\\users\\raulm\\anaconda3\\envs\\pythondata\\lib\\site-packages\\sklearn\\linear_model\\_logistic.py:765: ConvergenceWarning:\n",
      "\n",
      "lbfgs failed to converge (status=1):\n",
      "STOP: TOTAL NO. of ITERATIONS REACHED LIMIT.\n",
      "\n",
      "Increase the number of iterations (max_iter) or scale the data as shown in:\n",
      "    https://scikit-learn.org/stable/modules/preprocessing.html\n",
      "Please also refer to the documentation for alternative solver options:\n",
      "    https://scikit-learn.org/stable/modules/linear_model.html#logistic-regression\n",
      "\n",
      "c:\\users\\raulm\\anaconda3\\envs\\pythondata\\lib\\site-packages\\sklearn\\linear_model\\_logistic.py:765: ConvergenceWarning:\n",
      "\n",
      "lbfgs failed to converge (status=1):\n",
      "STOP: TOTAL NO. of ITERATIONS REACHED LIMIT.\n",
      "\n",
      "Increase the number of iterations (max_iter) or scale the data as shown in:\n",
      "    https://scikit-learn.org/stable/modules/preprocessing.html\n",
      "Please also refer to the documentation for alternative solver options:\n",
      "    https://scikit-learn.org/stable/modules/linear_model.html#logistic-regression\n",
      "\n",
      "c:\\users\\raulm\\anaconda3\\envs\\pythondata\\lib\\site-packages\\sklearn\\linear_model\\_logistic.py:765: ConvergenceWarning:\n",
      "\n",
      "lbfgs failed to converge (status=1):\n",
      "STOP: TOTAL NO. of ITERATIONS REACHED LIMIT.\n",
      "\n",
      "Increase the number of iterations (max_iter) or scale the data as shown in:\n",
      "    https://scikit-learn.org/stable/modules/preprocessing.html\n",
      "Please also refer to the documentation for alternative solver options:\n",
      "    https://scikit-learn.org/stable/modules/linear_model.html#logistic-regression\n",
      "\n",
      "c:\\users\\raulm\\anaconda3\\envs\\pythondata\\lib\\site-packages\\sklearn\\linear_model\\_logistic.py:765: ConvergenceWarning:\n",
      "\n",
      "lbfgs failed to converge (status=1):\n",
      "STOP: TOTAL NO. of ITERATIONS REACHED LIMIT.\n",
      "\n",
      "Increase the number of iterations (max_iter) or scale the data as shown in:\n",
      "    https://scikit-learn.org/stable/modules/preprocessing.html\n",
      "Please also refer to the documentation for alternative solver options:\n",
      "    https://scikit-learn.org/stable/modules/linear_model.html#logistic-regression\n",
      "\n",
      "c:\\users\\raulm\\anaconda3\\envs\\pythondata\\lib\\site-packages\\sklearn\\linear_model\\_logistic.py:765: ConvergenceWarning:\n",
      "\n",
      "lbfgs failed to converge (status=1):\n",
      "STOP: TOTAL NO. of ITERATIONS REACHED LIMIT.\n",
      "\n",
      "Increase the number of iterations (max_iter) or scale the data as shown in:\n",
      "    https://scikit-learn.org/stable/modules/preprocessing.html\n",
      "Please also refer to the documentation for alternative solver options:\n",
      "    https://scikit-learn.org/stable/modules/linear_model.html#logistic-regression\n",
      "\n",
      "c:\\users\\raulm\\anaconda3\\envs\\pythondata\\lib\\site-packages\\sklearn\\linear_model\\_logistic.py:765: ConvergenceWarning:\n",
      "\n",
      "lbfgs failed to converge (status=1):\n",
      "STOP: TOTAL NO. of ITERATIONS REACHED LIMIT.\n",
      "\n",
      "Increase the number of iterations (max_iter) or scale the data as shown in:\n",
      "    https://scikit-learn.org/stable/modules/preprocessing.html\n",
      "Please also refer to the documentation for alternative solver options:\n",
      "    https://scikit-learn.org/stable/modules/linear_model.html#logistic-regression\n",
      "\n"
     ]
    },
    {
     "name": "stderr",
     "output_type": "stream",
     "text": [
      "c:\\users\\raulm\\anaconda3\\envs\\pythondata\\lib\\site-packages\\sklearn\\linear_model\\_logistic.py:765: ConvergenceWarning:\n",
      "\n",
      "lbfgs failed to converge (status=1):\n",
      "STOP: TOTAL NO. of ITERATIONS REACHED LIMIT.\n",
      "\n",
      "Increase the number of iterations (max_iter) or scale the data as shown in:\n",
      "    https://scikit-learn.org/stable/modules/preprocessing.html\n",
      "Please also refer to the documentation for alternative solver options:\n",
      "    https://scikit-learn.org/stable/modules/linear_model.html#logistic-regression\n",
      "\n",
      "c:\\users\\raulm\\anaconda3\\envs\\pythondata\\lib\\site-packages\\sklearn\\linear_model\\_logistic.py:765: ConvergenceWarning:\n",
      "\n",
      "lbfgs failed to converge (status=1):\n",
      "STOP: TOTAL NO. of ITERATIONS REACHED LIMIT.\n",
      "\n",
      "Increase the number of iterations (max_iter) or scale the data as shown in:\n",
      "    https://scikit-learn.org/stable/modules/preprocessing.html\n",
      "Please also refer to the documentation for alternative solver options:\n",
      "    https://scikit-learn.org/stable/modules/linear_model.html#logistic-regression\n",
      "\n",
      "c:\\users\\raulm\\anaconda3\\envs\\pythondata\\lib\\site-packages\\sklearn\\linear_model\\_logistic.py:765: ConvergenceWarning:\n",
      "\n",
      "lbfgs failed to converge (status=1):\n",
      "STOP: TOTAL NO. of ITERATIONS REACHED LIMIT.\n",
      "\n",
      "Increase the number of iterations (max_iter) or scale the data as shown in:\n",
      "    https://scikit-learn.org/stable/modules/preprocessing.html\n",
      "Please also refer to the documentation for alternative solver options:\n",
      "    https://scikit-learn.org/stable/modules/linear_model.html#logistic-regression\n",
      "\n",
      "c:\\users\\raulm\\anaconda3\\envs\\pythondata\\lib\\site-packages\\sklearn\\linear_model\\_logistic.py:765: ConvergenceWarning:\n",
      "\n",
      "lbfgs failed to converge (status=1):\n",
      "STOP: TOTAL NO. of ITERATIONS REACHED LIMIT.\n",
      "\n",
      "Increase the number of iterations (max_iter) or scale the data as shown in:\n",
      "    https://scikit-learn.org/stable/modules/preprocessing.html\n",
      "Please also refer to the documentation for alternative solver options:\n",
      "    https://scikit-learn.org/stable/modules/linear_model.html#logistic-regression\n",
      "\n",
      "c:\\users\\raulm\\anaconda3\\envs\\pythondata\\lib\\site-packages\\sklearn\\linear_model\\_logistic.py:765: ConvergenceWarning:\n",
      "\n",
      "lbfgs failed to converge (status=1):\n",
      "STOP: TOTAL NO. of ITERATIONS REACHED LIMIT.\n",
      "\n",
      "Increase the number of iterations (max_iter) or scale the data as shown in:\n",
      "    https://scikit-learn.org/stable/modules/preprocessing.html\n",
      "Please also refer to the documentation for alternative solver options:\n",
      "    https://scikit-learn.org/stable/modules/linear_model.html#logistic-regression\n",
      "\n",
      "c:\\users\\raulm\\anaconda3\\envs\\pythondata\\lib\\site-packages\\sklearn\\linear_model\\_logistic.py:765: ConvergenceWarning:\n",
      "\n",
      "lbfgs failed to converge (status=1):\n",
      "STOP: TOTAL NO. of ITERATIONS REACHED LIMIT.\n",
      "\n",
      "Increase the number of iterations (max_iter) or scale the data as shown in:\n",
      "    https://scikit-learn.org/stable/modules/preprocessing.html\n",
      "Please also refer to the documentation for alternative solver options:\n",
      "    https://scikit-learn.org/stable/modules/linear_model.html#logistic-regression\n",
      "\n",
      "c:\\users\\raulm\\anaconda3\\envs\\pythondata\\lib\\site-packages\\sklearn\\linear_model\\_logistic.py:765: ConvergenceWarning:\n",
      "\n",
      "lbfgs failed to converge (status=1):\n",
      "STOP: TOTAL NO. of ITERATIONS REACHED LIMIT.\n",
      "\n",
      "Increase the number of iterations (max_iter) or scale the data as shown in:\n",
      "    https://scikit-learn.org/stable/modules/preprocessing.html\n",
      "Please also refer to the documentation for alternative solver options:\n",
      "    https://scikit-learn.org/stable/modules/linear_model.html#logistic-regression\n",
      "\n",
      "c:\\users\\raulm\\anaconda3\\envs\\pythondata\\lib\\site-packages\\sklearn\\linear_model\\_logistic.py:765: ConvergenceWarning:\n",
      "\n",
      "lbfgs failed to converge (status=1):\n",
      "STOP: TOTAL NO. of ITERATIONS REACHED LIMIT.\n",
      "\n",
      "Increase the number of iterations (max_iter) or scale the data as shown in:\n",
      "    https://scikit-learn.org/stable/modules/preprocessing.html\n",
      "Please also refer to the documentation for alternative solver options:\n",
      "    https://scikit-learn.org/stable/modules/linear_model.html#logistic-regression\n",
      "\n",
      "c:\\users\\raulm\\anaconda3\\envs\\pythondata\\lib\\site-packages\\sklearn\\linear_model\\_logistic.py:765: ConvergenceWarning:\n",
      "\n",
      "lbfgs failed to converge (status=1):\n",
      "STOP: TOTAL NO. of ITERATIONS REACHED LIMIT.\n",
      "\n",
      "Increase the number of iterations (max_iter) or scale the data as shown in:\n",
      "    https://scikit-learn.org/stable/modules/preprocessing.html\n",
      "Please also refer to the documentation for alternative solver options:\n",
      "    https://scikit-learn.org/stable/modules/linear_model.html#logistic-regression\n",
      "\n"
     ]
    }
   ],
   "source": [
    "from sklearn.feature_selection import RFE\n",
    "rfe = RFE(logreg, n_features_to_select=10, step=1)\n",
    "features_selected = rfe.fit(X_train, y_train)"
   ]
  },
  {
   "cell_type": "code",
   "execution_count": 81,
   "id": "7ae9cffc",
   "metadata": {},
   "outputs": [
    {
     "data": {
      "text/html": [
       "<div>\n",
       "<style scoped>\n",
       "    .dataframe tbody tr th:only-of-type {\n",
       "        vertical-align: middle;\n",
       "    }\n",
       "\n",
       "    .dataframe tbody tr th {\n",
       "        vertical-align: top;\n",
       "    }\n",
       "\n",
       "    .dataframe thead th {\n",
       "        text-align: right;\n",
       "    }\n",
       "</style>\n",
       "<table border=\"1\" class=\"dataframe\">\n",
       "  <thead>\n",
       "    <tr style=\"text-align: right;\">\n",
       "      <th></th>\n",
       "      <th>koi_fpflag_nt</th>\n",
       "      <th>koi_fpflag_ss</th>\n",
       "      <th>koi_fpflag_co</th>\n",
       "      <th>koi_fpflag_ec</th>\n",
       "      <th>koi_impact</th>\n",
       "      <th>koi_impact_err2</th>\n",
       "      <th>koi_duration_err1</th>\n",
       "      <th>koi_duration_err2</th>\n",
       "      <th>koi_slogg</th>\n",
       "      <th>koi_srad_err1</th>\n",
       "    </tr>\n",
       "  </thead>\n",
       "  <tbody>\n",
       "    <tr>\n",
       "      <th>0</th>\n",
       "      <td>0</td>\n",
       "      <td>0</td>\n",
       "      <td>0</td>\n",
       "      <td>0</td>\n",
       "      <td>0.586</td>\n",
       "      <td>-0.443</td>\n",
       "      <td>0.11600</td>\n",
       "      <td>-0.11600</td>\n",
       "      <td>4.467</td>\n",
       "      <td>0.105</td>\n",
       "    </tr>\n",
       "    <tr>\n",
       "      <th>1</th>\n",
       "      <td>0</td>\n",
       "      <td>1</td>\n",
       "      <td>0</td>\n",
       "      <td>0</td>\n",
       "      <td>0.969</td>\n",
       "      <td>-0.077</td>\n",
       "      <td>0.03410</td>\n",
       "      <td>-0.03410</td>\n",
       "      <td>4.544</td>\n",
       "      <td>0.233</td>\n",
       "    </tr>\n",
       "    <tr>\n",
       "      <th>2</th>\n",
       "      <td>0</td>\n",
       "      <td>1</td>\n",
       "      <td>0</td>\n",
       "      <td>0</td>\n",
       "      <td>1.276</td>\n",
       "      <td>-0.092</td>\n",
       "      <td>0.00537</td>\n",
       "      <td>-0.00537</td>\n",
       "      <td>4.564</td>\n",
       "      <td>0.201</td>\n",
       "    </tr>\n",
       "    <tr>\n",
       "      <th>3</th>\n",
       "      <td>0</td>\n",
       "      <td>0</td>\n",
       "      <td>0</td>\n",
       "      <td>0</td>\n",
       "      <td>0.701</td>\n",
       "      <td>-0.478</td>\n",
       "      <td>0.04200</td>\n",
       "      <td>-0.04200</td>\n",
       "      <td>4.438</td>\n",
       "      <td>0.334</td>\n",
       "    </tr>\n",
       "    <tr>\n",
       "      <th>4</th>\n",
       "      <td>0</td>\n",
       "      <td>0</td>\n",
       "      <td>0</td>\n",
       "      <td>0</td>\n",
       "      <td>0.762</td>\n",
       "      <td>-0.532</td>\n",
       "      <td>0.06730</td>\n",
       "      <td>-0.06730</td>\n",
       "      <td>4.486</td>\n",
       "      <td>0.315</td>\n",
       "    </tr>\n",
       "  </tbody>\n",
       "</table>\n",
       "</div>"
      ],
      "text/plain": [
       "   koi_fpflag_nt  koi_fpflag_ss  koi_fpflag_co  koi_fpflag_ec  koi_impact  \\\n",
       "0              0              0              0              0       0.586   \n",
       "1              0              1              0              0       0.969   \n",
       "2              0              1              0              0       1.276   \n",
       "3              0              0              0              0       0.701   \n",
       "4              0              0              0              0       0.762   \n",
       "\n",
       "   koi_impact_err2  koi_duration_err1  koi_duration_err2  koi_slogg  \\\n",
       "0           -0.443            0.11600           -0.11600      4.467   \n",
       "1           -0.077            0.03410           -0.03410      4.544   \n",
       "2           -0.092            0.00537           -0.00537      4.564   \n",
       "3           -0.478            0.04200           -0.04200      4.438   \n",
       "4           -0.532            0.06730           -0.06730      4.486   \n",
       "\n",
       "   koi_srad_err1  \n",
       "0          0.105  \n",
       "1          0.233  \n",
       "2          0.201  \n",
       "3          0.334  \n",
       "4          0.315  "
      ]
     },
     "execution_count": 81,
     "metadata": {},
     "output_type": "execute_result"
    }
   ],
   "source": [
    "relevant_features = features.loc[:,features_selected.support_]\n",
    "relevant_features.head()"
   ]
  },
  {
   "cell_type": "code",
   "execution_count": 82,
   "id": "5bca1897",
   "metadata": {},
   "outputs": [
    {
     "data": {
      "text/html": [
       "<div>\n",
       "<style scoped>\n",
       "    .dataframe tbody tr th:only-of-type {\n",
       "        vertical-align: middle;\n",
       "    }\n",
       "\n",
       "    .dataframe tbody tr th {\n",
       "        vertical-align: top;\n",
       "    }\n",
       "\n",
       "    .dataframe thead th {\n",
       "        text-align: right;\n",
       "    }\n",
       "</style>\n",
       "<table border=\"1\" class=\"dataframe\">\n",
       "  <thead>\n",
       "    <tr style=\"text-align: right;\">\n",
       "      <th></th>\n",
       "      <th>koi_disposition</th>\n",
       "      <th>koi_fpflag_nt</th>\n",
       "      <th>koi_fpflag_ss</th>\n",
       "      <th>koi_fpflag_co</th>\n",
       "      <th>koi_fpflag_ec</th>\n",
       "      <th>koi_impact</th>\n",
       "      <th>koi_impact_err2</th>\n",
       "      <th>koi_duration_err1</th>\n",
       "      <th>koi_duration_err2</th>\n",
       "      <th>koi_slogg</th>\n",
       "      <th>koi_srad_err1</th>\n",
       "    </tr>\n",
       "  </thead>\n",
       "  <tbody>\n",
       "    <tr>\n",
       "      <th>0</th>\n",
       "      <td>0</td>\n",
       "      <td>0</td>\n",
       "      <td>0</td>\n",
       "      <td>0</td>\n",
       "      <td>0</td>\n",
       "      <td>0.586</td>\n",
       "      <td>-0.443</td>\n",
       "      <td>0.11600</td>\n",
       "      <td>-0.11600</td>\n",
       "      <td>4.467</td>\n",
       "      <td>0.105</td>\n",
       "    </tr>\n",
       "    <tr>\n",
       "      <th>1</th>\n",
       "      <td>1</td>\n",
       "      <td>0</td>\n",
       "      <td>1</td>\n",
       "      <td>0</td>\n",
       "      <td>0</td>\n",
       "      <td>0.969</td>\n",
       "      <td>-0.077</td>\n",
       "      <td>0.03410</td>\n",
       "      <td>-0.03410</td>\n",
       "      <td>4.544</td>\n",
       "      <td>0.233</td>\n",
       "    </tr>\n",
       "    <tr>\n",
       "      <th>2</th>\n",
       "      <td>1</td>\n",
       "      <td>0</td>\n",
       "      <td>1</td>\n",
       "      <td>0</td>\n",
       "      <td>0</td>\n",
       "      <td>1.276</td>\n",
       "      <td>-0.092</td>\n",
       "      <td>0.00537</td>\n",
       "      <td>-0.00537</td>\n",
       "      <td>4.564</td>\n",
       "      <td>0.201</td>\n",
       "    </tr>\n",
       "    <tr>\n",
       "      <th>3</th>\n",
       "      <td>0</td>\n",
       "      <td>0</td>\n",
       "      <td>0</td>\n",
       "      <td>0</td>\n",
       "      <td>0</td>\n",
       "      <td>0.701</td>\n",
       "      <td>-0.478</td>\n",
       "      <td>0.04200</td>\n",
       "      <td>-0.04200</td>\n",
       "      <td>4.438</td>\n",
       "      <td>0.334</td>\n",
       "    </tr>\n",
       "    <tr>\n",
       "      <th>4</th>\n",
       "      <td>0</td>\n",
       "      <td>0</td>\n",
       "      <td>0</td>\n",
       "      <td>0</td>\n",
       "      <td>0</td>\n",
       "      <td>0.762</td>\n",
       "      <td>-0.532</td>\n",
       "      <td>0.06730</td>\n",
       "      <td>-0.06730</td>\n",
       "      <td>4.486</td>\n",
       "      <td>0.315</td>\n",
       "    </tr>\n",
       "  </tbody>\n",
       "</table>\n",
       "</div>"
      ],
      "text/plain": [
       "   koi_disposition  koi_fpflag_nt  koi_fpflag_ss  koi_fpflag_co  \\\n",
       "0                0              0              0              0   \n",
       "1                1              0              1              0   \n",
       "2                1              0              1              0   \n",
       "3                0              0              0              0   \n",
       "4                0              0              0              0   \n",
       "\n",
       "   koi_fpflag_ec  koi_impact  koi_impact_err2  koi_duration_err1  \\\n",
       "0              0       0.586           -0.443            0.11600   \n",
       "1              0       0.969           -0.077            0.03410   \n",
       "2              0       1.276           -0.092            0.00537   \n",
       "3              0       0.701           -0.478            0.04200   \n",
       "4              0       0.762           -0.532            0.06730   \n",
       "\n",
       "   koi_duration_err2  koi_slogg  koi_srad_err1  \n",
       "0           -0.11600      4.467          0.105  \n",
       "1           -0.03410      4.544          0.233  \n",
       "2           -0.00537      4.564          0.201  \n",
       "3           -0.04200      4.438          0.334  \n",
       "4           -0.06730      4.486          0.315  "
      ]
     },
     "execution_count": 82,
     "metadata": {},
     "output_type": "execute_result"
    }
   ],
   "source": [
    "relevant_corr_df = pd.merge(target, relevant_features, left_index=True, right_index=True)\n",
    "relevant_corr_df.head()"
   ]
  },
  {
   "cell_type": "code",
   "execution_count": 83,
   "id": "6e397509",
   "metadata": {},
   "outputs": [
    {
     "name": "stdout",
     "output_type": "stream",
     "text": [
      "<class 'pandas.core.frame.DataFrame'>\n",
      "RangeIndex: 6991 entries, 0 to 6990\n",
      "Data columns (total 11 columns):\n",
      " #   Column             Non-Null Count  Dtype  \n",
      "---  ------             --------------  -----  \n",
      " 0   koi_disposition    6991 non-null   int64  \n",
      " 1   koi_fpflag_nt      6991 non-null   int64  \n",
      " 2   koi_fpflag_ss      6991 non-null   int64  \n",
      " 3   koi_fpflag_co      6991 non-null   int64  \n",
      " 4   koi_fpflag_ec      6991 non-null   int64  \n",
      " 5   koi_impact         6991 non-null   float64\n",
      " 6   koi_impact_err2    6991 non-null   float64\n",
      " 7   koi_duration_err1  6991 non-null   float64\n",
      " 8   koi_duration_err2  6991 non-null   float64\n",
      " 9   koi_slogg          6991 non-null   float64\n",
      " 10  koi_srad_err1      6991 non-null   float64\n",
      "dtypes: float64(6), int64(5)\n",
      "memory usage: 600.9 KB\n"
     ]
    }
   ],
   "source": [
    "relevant_corr_df.info()"
   ]
  },
  {
   "cell_type": "code",
   "execution_count": 84,
   "id": "d90feaa4",
   "metadata": {},
   "outputs": [
    {
     "data": {
      "text/plain": [
       "koi_disposition      1.000000\n",
       "koi_fpflag_nt        0.000416\n",
       "koi_fpflag_ss        0.013503\n",
       "koi_fpflag_co        0.008531\n",
       "koi_fpflag_ec        0.008041\n",
       "koi_impact           0.010607\n",
       "koi_impact_err2     -0.013980\n",
       "koi_duration_err1    0.156587\n",
       "koi_duration_err2   -0.156587\n",
       "koi_slogg           -0.071437\n",
       "koi_srad_err1        0.069335\n",
       "Name: koi_disposition, dtype: float64"
      ]
     },
     "execution_count": 84,
     "metadata": {},
     "output_type": "execute_result"
    }
   ],
   "source": [
    "rel_correlation = relevant_corr_df.corr()\n",
    "rel_correlation['koi_disposition']"
   ]
  },
  {
   "cell_type": "code",
   "execution_count": 85,
   "id": "06ad6357",
   "metadata": {},
   "outputs": [
    {
     "data": {
      "application/vnd.plotly.v1+json": {
       "config": {
        "plotlyServerURL": "https://plot.ly"
       },
       "data": [
        {
         "colorscale": [
          [
           0,
           "rgb(255,255,217)"
          ],
          [
           0.125,
           "rgb(237,248,177)"
          ],
          [
           0.25,
           "rgb(199,233,180)"
          ],
          [
           0.375,
           "rgb(127,205,187)"
          ],
          [
           0.5,
           "rgb(65,182,196)"
          ],
          [
           0.625,
           "rgb(29,145,192)"
          ],
          [
           0.75,
           "rgb(34,94,168)"
          ],
          [
           0.875,
           "rgb(37,52,148)"
          ],
          [
           1,
           "rgb(8,29,88)"
          ]
         ],
         "text": [
          [
           1,
           0.0004,
           0.0135,
           0.0085,
           0.008,
           0.0106,
           -0.014,
           0.1566,
           -0.1566,
           -0.0714,
           0.0693
          ],
          [
           0.0004,
           1,
           -0.2411,
           0.0031,
           0.0508,
           0.0727,
           -0.059,
           0.3376,
           -0.3376,
           -0.1286,
           0.0981
          ],
          [
           0.0135,
           -0.2411,
           1,
           0.1445,
           0.1017,
           0.042,
           0.0546,
           -0.1817,
           0.1817,
           -0.0534,
           0.0308
          ],
          [
           0.0085,
           0.0031,
           0.1445,
           1,
           0.5383,
           0.0075,
           0.0026,
           -0.005,
           0.005,
           -0.0121,
           0.0292
          ],
          [
           0.008,
           0.0508,
           0.1017,
           0.5383,
           1,
           -0.0049,
           0.0113,
           0.0254,
           -0.0254,
           0.0031,
           0.0301
          ],
          [
           0.0106,
           0.0727,
           0.042,
           0.0075,
           -0.0049,
           1,
           -0.8352,
           0.0216,
           -0.0216,
           -0.0738,
           0.0272
          ],
          [
           -0.014,
           -0.059,
           0.0546,
           0.0026,
           0.0113,
           -0.8352,
           1,
           -0.0459,
           0.0459,
           0.0426,
           -0.0133
          ],
          [
           0.1566,
           0.3376,
           -0.1817,
           -0.005,
           0.0254,
           0.0216,
           -0.0459,
           1,
           -1,
           -0.0539,
           0.0706
          ],
          [
           -0.1566,
           -0.3376,
           0.1817,
           0.005,
           -0.0254,
           -0.0216,
           0.0459,
           -1,
           1,
           0.0539,
           -0.0706
          ],
          [
           -0.0714,
           -0.1286,
           -0.0534,
           -0.0121,
           0.0031,
           -0.0738,
           0.0426,
           -0.0539,
           0.0539,
           1,
           -0.6351
          ],
          [
           0.0693,
           0.0981,
           0.0308,
           0.0292,
           0.0301,
           0.0272,
           -0.0133,
           0.0706,
           -0.0706,
           -0.6351,
           1
          ]
         ],
         "textfont": {
          "size": 12
         },
         "texttemplate": "%{text}",
         "type": "heatmap",
         "x": [
          "koi_disposition",
          "koi_fpflag_nt",
          "koi_fpflag_ss",
          "koi_fpflag_co",
          "koi_fpflag_ec",
          "koi_impact",
          "koi_impact_err2",
          "koi_duration_err1",
          "koi_duration_err2",
          "koi_slogg",
          "koi_srad_err1"
         ],
         "y": [
          "koi_disposition",
          "koi_fpflag_nt",
          "koi_fpflag_ss",
          "koi_fpflag_co",
          "koi_fpflag_ec",
          "koi_impact",
          "koi_impact_err2",
          "koi_duration_err1",
          "koi_duration_err2",
          "koi_slogg",
          "koi_srad_err1"
         ],
         "z": [
          [
           1,
           0,
           0.014,
           0.009,
           0.008,
           0.011,
           -0.014,
           0.157,
           -0.157,
           -0.071,
           0.069
          ],
          [
           0,
           1,
           -0.241,
           0.003,
           0.051,
           0.073,
           -0.059,
           0.338,
           -0.338,
           -0.129,
           0.098
          ],
          [
           0.014,
           -0.241,
           1,
           0.145,
           0.102,
           0.042,
           0.055,
           -0.182,
           0.182,
           -0.053,
           0.031
          ],
          [
           0.009,
           0.003,
           0.145,
           1,
           0.538,
           0.008,
           0.003,
           -0.005,
           0.005,
           -0.012,
           0.029
          ],
          [
           0.008,
           0.051,
           0.102,
           0.538,
           1,
           -0.005,
           0.011,
           0.025,
           -0.025,
           0.003,
           0.03
          ],
          [
           0.011,
           0.073,
           0.042,
           0.008,
           -0.005,
           1,
           -0.835,
           0.022,
           -0.022,
           -0.074,
           0.027
          ],
          [
           -0.014,
           -0.059,
           0.055,
           0.003,
           0.011,
           -0.835,
           1,
           -0.046,
           0.046,
           0.043,
           -0.013
          ],
          [
           0.157,
           0.338,
           -0.182,
           -0.005,
           0.025,
           0.022,
           -0.046,
           1,
           -1,
           -0.054,
           0.071
          ],
          [
           -0.157,
           -0.338,
           0.182,
           0.005,
           -0.025,
           -0.022,
           0.046,
           -1,
           1,
           0.054,
           -0.071
          ],
          [
           -0.071,
           -0.129,
           -0.053,
           -0.012,
           0.003,
           -0.074,
           0.043,
           -0.054,
           0.054,
           1,
           -0.635
          ],
          [
           0.069,
           0.098,
           0.031,
           0.029,
           0.03,
           0.027,
           -0.013,
           0.071,
           -0.071,
           -0.635,
           1
          ]
         ]
        }
       ],
       "layout": {
        "template": {
         "data": {
          "bar": [
           {
            "error_x": {
             "color": "#2a3f5f"
            },
            "error_y": {
             "color": "#2a3f5f"
            },
            "marker": {
             "line": {
              "color": "#E5ECF6",
              "width": 0.5
             },
             "pattern": {
              "fillmode": "overlay",
              "size": 10,
              "solidity": 0.2
             }
            },
            "type": "bar"
           }
          ],
          "barpolar": [
           {
            "marker": {
             "line": {
              "color": "#E5ECF6",
              "width": 0.5
             },
             "pattern": {
              "fillmode": "overlay",
              "size": 10,
              "solidity": 0.2
             }
            },
            "type": "barpolar"
           }
          ],
          "carpet": [
           {
            "aaxis": {
             "endlinecolor": "#2a3f5f",
             "gridcolor": "white",
             "linecolor": "white",
             "minorgridcolor": "white",
             "startlinecolor": "#2a3f5f"
            },
            "baxis": {
             "endlinecolor": "#2a3f5f",
             "gridcolor": "white",
             "linecolor": "white",
             "minorgridcolor": "white",
             "startlinecolor": "#2a3f5f"
            },
            "type": "carpet"
           }
          ],
          "choropleth": [
           {
            "colorbar": {
             "outlinewidth": 0,
             "ticks": ""
            },
            "type": "choropleth"
           }
          ],
          "contour": [
           {
            "colorbar": {
             "outlinewidth": 0,
             "ticks": ""
            },
            "colorscale": [
             [
              0,
              "#0d0887"
             ],
             [
              0.1111111111111111,
              "#46039f"
             ],
             [
              0.2222222222222222,
              "#7201a8"
             ],
             [
              0.3333333333333333,
              "#9c179e"
             ],
             [
              0.4444444444444444,
              "#bd3786"
             ],
             [
              0.5555555555555556,
              "#d8576b"
             ],
             [
              0.6666666666666666,
              "#ed7953"
             ],
             [
              0.7777777777777778,
              "#fb9f3a"
             ],
             [
              0.8888888888888888,
              "#fdca26"
             ],
             [
              1,
              "#f0f921"
             ]
            ],
            "type": "contour"
           }
          ],
          "contourcarpet": [
           {
            "colorbar": {
             "outlinewidth": 0,
             "ticks": ""
            },
            "type": "contourcarpet"
           }
          ],
          "heatmap": [
           {
            "colorbar": {
             "outlinewidth": 0,
             "ticks": ""
            },
            "colorscale": [
             [
              0,
              "#0d0887"
             ],
             [
              0.1111111111111111,
              "#46039f"
             ],
             [
              0.2222222222222222,
              "#7201a8"
             ],
             [
              0.3333333333333333,
              "#9c179e"
             ],
             [
              0.4444444444444444,
              "#bd3786"
             ],
             [
              0.5555555555555556,
              "#d8576b"
             ],
             [
              0.6666666666666666,
              "#ed7953"
             ],
             [
              0.7777777777777778,
              "#fb9f3a"
             ],
             [
              0.8888888888888888,
              "#fdca26"
             ],
             [
              1,
              "#f0f921"
             ]
            ],
            "type": "heatmap"
           }
          ],
          "heatmapgl": [
           {
            "colorbar": {
             "outlinewidth": 0,
             "ticks": ""
            },
            "colorscale": [
             [
              0,
              "#0d0887"
             ],
             [
              0.1111111111111111,
              "#46039f"
             ],
             [
              0.2222222222222222,
              "#7201a8"
             ],
             [
              0.3333333333333333,
              "#9c179e"
             ],
             [
              0.4444444444444444,
              "#bd3786"
             ],
             [
              0.5555555555555556,
              "#d8576b"
             ],
             [
              0.6666666666666666,
              "#ed7953"
             ],
             [
              0.7777777777777778,
              "#fb9f3a"
             ],
             [
              0.8888888888888888,
              "#fdca26"
             ],
             [
              1,
              "#f0f921"
             ]
            ],
            "type": "heatmapgl"
           }
          ],
          "histogram": [
           {
            "marker": {
             "pattern": {
              "fillmode": "overlay",
              "size": 10,
              "solidity": 0.2
             }
            },
            "type": "histogram"
           }
          ],
          "histogram2d": [
           {
            "colorbar": {
             "outlinewidth": 0,
             "ticks": ""
            },
            "colorscale": [
             [
              0,
              "#0d0887"
             ],
             [
              0.1111111111111111,
              "#46039f"
             ],
             [
              0.2222222222222222,
              "#7201a8"
             ],
             [
              0.3333333333333333,
              "#9c179e"
             ],
             [
              0.4444444444444444,
              "#bd3786"
             ],
             [
              0.5555555555555556,
              "#d8576b"
             ],
             [
              0.6666666666666666,
              "#ed7953"
             ],
             [
              0.7777777777777778,
              "#fb9f3a"
             ],
             [
              0.8888888888888888,
              "#fdca26"
             ],
             [
              1,
              "#f0f921"
             ]
            ],
            "type": "histogram2d"
           }
          ],
          "histogram2dcontour": [
           {
            "colorbar": {
             "outlinewidth": 0,
             "ticks": ""
            },
            "colorscale": [
             [
              0,
              "#0d0887"
             ],
             [
              0.1111111111111111,
              "#46039f"
             ],
             [
              0.2222222222222222,
              "#7201a8"
             ],
             [
              0.3333333333333333,
              "#9c179e"
             ],
             [
              0.4444444444444444,
              "#bd3786"
             ],
             [
              0.5555555555555556,
              "#d8576b"
             ],
             [
              0.6666666666666666,
              "#ed7953"
             ],
             [
              0.7777777777777778,
              "#fb9f3a"
             ],
             [
              0.8888888888888888,
              "#fdca26"
             ],
             [
              1,
              "#f0f921"
             ]
            ],
            "type": "histogram2dcontour"
           }
          ],
          "mesh3d": [
           {
            "colorbar": {
             "outlinewidth": 0,
             "ticks": ""
            },
            "type": "mesh3d"
           }
          ],
          "parcoords": [
           {
            "line": {
             "colorbar": {
              "outlinewidth": 0,
              "ticks": ""
             }
            },
            "type": "parcoords"
           }
          ],
          "pie": [
           {
            "automargin": true,
            "type": "pie"
           }
          ],
          "scatter": [
           {
            "marker": {
             "colorbar": {
              "outlinewidth": 0,
              "ticks": ""
             }
            },
            "type": "scatter"
           }
          ],
          "scatter3d": [
           {
            "line": {
             "colorbar": {
              "outlinewidth": 0,
              "ticks": ""
             }
            },
            "marker": {
             "colorbar": {
              "outlinewidth": 0,
              "ticks": ""
             }
            },
            "type": "scatter3d"
           }
          ],
          "scattercarpet": [
           {
            "marker": {
             "colorbar": {
              "outlinewidth": 0,
              "ticks": ""
             }
            },
            "type": "scattercarpet"
           }
          ],
          "scattergeo": [
           {
            "marker": {
             "colorbar": {
              "outlinewidth": 0,
              "ticks": ""
             }
            },
            "type": "scattergeo"
           }
          ],
          "scattergl": [
           {
            "marker": {
             "colorbar": {
              "outlinewidth": 0,
              "ticks": ""
             }
            },
            "type": "scattergl"
           }
          ],
          "scattermapbox": [
           {
            "marker": {
             "colorbar": {
              "outlinewidth": 0,
              "ticks": ""
             }
            },
            "type": "scattermapbox"
           }
          ],
          "scatterpolar": [
           {
            "marker": {
             "colorbar": {
              "outlinewidth": 0,
              "ticks": ""
             }
            },
            "type": "scatterpolar"
           }
          ],
          "scatterpolargl": [
           {
            "marker": {
             "colorbar": {
              "outlinewidth": 0,
              "ticks": ""
             }
            },
            "type": "scatterpolargl"
           }
          ],
          "scatterternary": [
           {
            "marker": {
             "colorbar": {
              "outlinewidth": 0,
              "ticks": ""
             }
            },
            "type": "scatterternary"
           }
          ],
          "surface": [
           {
            "colorbar": {
             "outlinewidth": 0,
             "ticks": ""
            },
            "colorscale": [
             [
              0,
              "#0d0887"
             ],
             [
              0.1111111111111111,
              "#46039f"
             ],
             [
              0.2222222222222222,
              "#7201a8"
             ],
             [
              0.3333333333333333,
              "#9c179e"
             ],
             [
              0.4444444444444444,
              "#bd3786"
             ],
             [
              0.5555555555555556,
              "#d8576b"
             ],
             [
              0.6666666666666666,
              "#ed7953"
             ],
             [
              0.7777777777777778,
              "#fb9f3a"
             ],
             [
              0.8888888888888888,
              "#fdca26"
             ],
             [
              1,
              "#f0f921"
             ]
            ],
            "type": "surface"
           }
          ],
          "table": [
           {
            "cells": {
             "fill": {
              "color": "#EBF0F8"
             },
             "line": {
              "color": "white"
             }
            },
            "header": {
             "fill": {
              "color": "#C8D4E3"
             },
             "line": {
              "color": "white"
             }
            },
            "type": "table"
           }
          ]
         },
         "layout": {
          "annotationdefaults": {
           "arrowcolor": "#2a3f5f",
           "arrowhead": 0,
           "arrowwidth": 1
          },
          "autotypenumbers": "strict",
          "coloraxis": {
           "colorbar": {
            "outlinewidth": 0,
            "ticks": ""
           }
          },
          "colorscale": {
           "diverging": [
            [
             0,
             "#8e0152"
            ],
            [
             0.1,
             "#c51b7d"
            ],
            [
             0.2,
             "#de77ae"
            ],
            [
             0.3,
             "#f1b6da"
            ],
            [
             0.4,
             "#fde0ef"
            ],
            [
             0.5,
             "#f7f7f7"
            ],
            [
             0.6,
             "#e6f5d0"
            ],
            [
             0.7,
             "#b8e186"
            ],
            [
             0.8,
             "#7fbc41"
            ],
            [
             0.9,
             "#4d9221"
            ],
            [
             1,
             "#276419"
            ]
           ],
           "sequential": [
            [
             0,
             "#0d0887"
            ],
            [
             0.1111111111111111,
             "#46039f"
            ],
            [
             0.2222222222222222,
             "#7201a8"
            ],
            [
             0.3333333333333333,
             "#9c179e"
            ],
            [
             0.4444444444444444,
             "#bd3786"
            ],
            [
             0.5555555555555556,
             "#d8576b"
            ],
            [
             0.6666666666666666,
             "#ed7953"
            ],
            [
             0.7777777777777778,
             "#fb9f3a"
            ],
            [
             0.8888888888888888,
             "#fdca26"
            ],
            [
             1,
             "#f0f921"
            ]
           ],
           "sequentialminus": [
            [
             0,
             "#0d0887"
            ],
            [
             0.1111111111111111,
             "#46039f"
            ],
            [
             0.2222222222222222,
             "#7201a8"
            ],
            [
             0.3333333333333333,
             "#9c179e"
            ],
            [
             0.4444444444444444,
             "#bd3786"
            ],
            [
             0.5555555555555556,
             "#d8576b"
            ],
            [
             0.6666666666666666,
             "#ed7953"
            ],
            [
             0.7777777777777778,
             "#fb9f3a"
            ],
            [
             0.8888888888888888,
             "#fdca26"
            ],
            [
             1,
             "#f0f921"
            ]
           ]
          },
          "colorway": [
           "#636efa",
           "#EF553B",
           "#00cc96",
           "#ab63fa",
           "#FFA15A",
           "#19d3f3",
           "#FF6692",
           "#B6E880",
           "#FF97FF",
           "#FECB52"
          ],
          "font": {
           "color": "#2a3f5f"
          },
          "geo": {
           "bgcolor": "white",
           "lakecolor": "white",
           "landcolor": "#E5ECF6",
           "showlakes": true,
           "showland": true,
           "subunitcolor": "white"
          },
          "hoverlabel": {
           "align": "left"
          },
          "hovermode": "closest",
          "mapbox": {
           "style": "light"
          },
          "paper_bgcolor": "white",
          "plot_bgcolor": "#E5ECF6",
          "polar": {
           "angularaxis": {
            "gridcolor": "white",
            "linecolor": "white",
            "ticks": ""
           },
           "bgcolor": "#E5ECF6",
           "radialaxis": {
            "gridcolor": "white",
            "linecolor": "white",
            "ticks": ""
           }
          },
          "scene": {
           "xaxis": {
            "backgroundcolor": "#E5ECF6",
            "gridcolor": "white",
            "gridwidth": 2,
            "linecolor": "white",
            "showbackground": true,
            "ticks": "",
            "zerolinecolor": "white"
           },
           "yaxis": {
            "backgroundcolor": "#E5ECF6",
            "gridcolor": "white",
            "gridwidth": 2,
            "linecolor": "white",
            "showbackground": true,
            "ticks": "",
            "zerolinecolor": "white"
           },
           "zaxis": {
            "backgroundcolor": "#E5ECF6",
            "gridcolor": "white",
            "gridwidth": 2,
            "linecolor": "white",
            "showbackground": true,
            "ticks": "",
            "zerolinecolor": "white"
           }
          },
          "shapedefaults": {
           "line": {
            "color": "#2a3f5f"
           }
          },
          "ternary": {
           "aaxis": {
            "gridcolor": "white",
            "linecolor": "white",
            "ticks": ""
           },
           "baxis": {
            "gridcolor": "white",
            "linecolor": "white",
            "ticks": ""
           },
           "bgcolor": "#E5ECF6",
           "caxis": {
            "gridcolor": "white",
            "linecolor": "white",
            "ticks": ""
           }
          },
          "title": {
           "x": 0.05
          },
          "xaxis": {
           "automargin": true,
           "gridcolor": "white",
           "linecolor": "white",
           "ticks": "",
           "title": {
            "standoff": 15
           },
           "zerolinecolor": "white",
           "zerolinewidth": 2
          },
          "yaxis": {
           "automargin": true,
           "gridcolor": "white",
           "linecolor": "white",
           "ticks": "",
           "title": {
            "standoff": 15
           },
           "zerolinecolor": "white",
           "zerolinewidth": 2
          }
         }
        }
       }
      },
      "text/html": [
       "<div>                            <div id=\"be6408f5-6e63-46e5-a544-8f3e04e88b70\" class=\"plotly-graph-div\" style=\"height:525px; width:100%;\"></div>            <script type=\"text/javascript\">                require([\"plotly\"], function(Plotly) {                    window.PLOTLYENV=window.PLOTLYENV || {};                                    if (document.getElementById(\"be6408f5-6e63-46e5-a544-8f3e04e88b70\")) {                    Plotly.newPlot(                        \"be6408f5-6e63-46e5-a544-8f3e04e88b70\",                        [{\"colorscale\":[[0.0,\"rgb(255,255,217)\"],[0.125,\"rgb(237,248,177)\"],[0.25,\"rgb(199,233,180)\"],[0.375,\"rgb(127,205,187)\"],[0.5,\"rgb(65,182,196)\"],[0.625,\"rgb(29,145,192)\"],[0.75,\"rgb(34,94,168)\"],[0.875,\"rgb(37,52,148)\"],[1.0,\"rgb(8,29,88)\"]],\"text\":[[1.0,0.0004,0.0135,0.0085,0.008,0.0106,-0.014,0.1566,-0.1566,-0.0714,0.0693],[0.0004,1.0,-0.2411,0.0031,0.0508,0.0727,-0.059,0.3376,-0.3376,-0.1286,0.0981],[0.0135,-0.2411,1.0,0.1445,0.1017,0.042,0.0546,-0.1817,0.1817,-0.0534,0.0308],[0.0085,0.0031,0.1445,1.0,0.5383,0.0075,0.0026,-0.005,0.005,-0.0121,0.0292],[0.008,0.0508,0.1017,0.5383,1.0,-0.0049,0.0113,0.0254,-0.0254,0.0031,0.0301],[0.0106,0.0727,0.042,0.0075,-0.0049,1.0,-0.8352,0.0216,-0.0216,-0.0738,0.0272],[-0.014,-0.059,0.0546,0.0026,0.0113,-0.8352,1.0,-0.0459,0.0459,0.0426,-0.0133],[0.1566,0.3376,-0.1817,-0.005,0.0254,0.0216,-0.0459,1.0,-1.0,-0.0539,0.0706],[-0.1566,-0.3376,0.1817,0.005,-0.0254,-0.0216,0.0459,-1.0,1.0,0.0539,-0.0706],[-0.0714,-0.1286,-0.0534,-0.0121,0.0031,-0.0738,0.0426,-0.0539,0.0539,1.0,-0.6351],[0.0693,0.0981,0.0308,0.0292,0.0301,0.0272,-0.0133,0.0706,-0.0706,-0.6351,1.0]],\"textfont\":{\"size\":12},\"texttemplate\":\"%{text}\",\"x\":[\"koi_disposition\",\"koi_fpflag_nt\",\"koi_fpflag_ss\",\"koi_fpflag_co\",\"koi_fpflag_ec\",\"koi_impact\",\"koi_impact_err2\",\"koi_duration_err1\",\"koi_duration_err2\",\"koi_slogg\",\"koi_srad_err1\"],\"y\":[\"koi_disposition\",\"koi_fpflag_nt\",\"koi_fpflag_ss\",\"koi_fpflag_co\",\"koi_fpflag_ec\",\"koi_impact\",\"koi_impact_err2\",\"koi_duration_err1\",\"koi_duration_err2\",\"koi_slogg\",\"koi_srad_err1\"],\"z\":[[1.0,0.0,0.014,0.009,0.008,0.011,-0.014,0.157,-0.157,-0.071,0.069],[0.0,1.0,-0.241,0.003,0.051,0.073,-0.059,0.338,-0.338,-0.129,0.098],[0.014,-0.241,1.0,0.145,0.102,0.042,0.055,-0.182,0.182,-0.053,0.031],[0.009,0.003,0.145,1.0,0.538,0.008,0.003,-0.005,0.005,-0.012,0.029],[0.008,0.051,0.102,0.538,1.0,-0.005,0.011,0.025,-0.025,0.003,0.03],[0.011,0.073,0.042,0.008,-0.005,1.0,-0.835,0.022,-0.022,-0.074,0.027],[-0.014,-0.059,0.055,0.003,0.011,-0.835,1.0,-0.046,0.046,0.043,-0.013],[0.157,0.338,-0.182,-0.005,0.025,0.022,-0.046,1.0,-1.0,-0.054,0.071],[-0.157,-0.338,0.182,0.005,-0.025,-0.022,0.046,-1.0,1.0,0.054,-0.071],[-0.071,-0.129,-0.053,-0.012,0.003,-0.074,0.043,-0.054,0.054,1.0,-0.635],[0.069,0.098,0.031,0.029,0.03,0.027,-0.013,0.071,-0.071,-0.635,1.0]],\"type\":\"heatmap\"}],                        {\"template\":{\"data\":{\"bar\":[{\"error_x\":{\"color\":\"#2a3f5f\"},\"error_y\":{\"color\":\"#2a3f5f\"},\"marker\":{\"line\":{\"color\":\"#E5ECF6\",\"width\":0.5},\"pattern\":{\"fillmode\":\"overlay\",\"size\":10,\"solidity\":0.2}},\"type\":\"bar\"}],\"barpolar\":[{\"marker\":{\"line\":{\"color\":\"#E5ECF6\",\"width\":0.5},\"pattern\":{\"fillmode\":\"overlay\",\"size\":10,\"solidity\":0.2}},\"type\":\"barpolar\"}],\"carpet\":[{\"aaxis\":{\"endlinecolor\":\"#2a3f5f\",\"gridcolor\":\"white\",\"linecolor\":\"white\",\"minorgridcolor\":\"white\",\"startlinecolor\":\"#2a3f5f\"},\"baxis\":{\"endlinecolor\":\"#2a3f5f\",\"gridcolor\":\"white\",\"linecolor\":\"white\",\"minorgridcolor\":\"white\",\"startlinecolor\":\"#2a3f5f\"},\"type\":\"carpet\"}],\"choropleth\":[{\"colorbar\":{\"outlinewidth\":0,\"ticks\":\"\"},\"type\":\"choropleth\"}],\"contour\":[{\"colorbar\":{\"outlinewidth\":0,\"ticks\":\"\"},\"colorscale\":[[0.0,\"#0d0887\"],[0.1111111111111111,\"#46039f\"],[0.2222222222222222,\"#7201a8\"],[0.3333333333333333,\"#9c179e\"],[0.4444444444444444,\"#bd3786\"],[0.5555555555555556,\"#d8576b\"],[0.6666666666666666,\"#ed7953\"],[0.7777777777777778,\"#fb9f3a\"],[0.8888888888888888,\"#fdca26\"],[1.0,\"#f0f921\"]],\"type\":\"contour\"}],\"contourcarpet\":[{\"colorbar\":{\"outlinewidth\":0,\"ticks\":\"\"},\"type\":\"contourcarpet\"}],\"heatmap\":[{\"colorbar\":{\"outlinewidth\":0,\"ticks\":\"\"},\"colorscale\":[[0.0,\"#0d0887\"],[0.1111111111111111,\"#46039f\"],[0.2222222222222222,\"#7201a8\"],[0.3333333333333333,\"#9c179e\"],[0.4444444444444444,\"#bd3786\"],[0.5555555555555556,\"#d8576b\"],[0.6666666666666666,\"#ed7953\"],[0.7777777777777778,\"#fb9f3a\"],[0.8888888888888888,\"#fdca26\"],[1.0,\"#f0f921\"]],\"type\":\"heatmap\"}],\"heatmapgl\":[{\"colorbar\":{\"outlinewidth\":0,\"ticks\":\"\"},\"colorscale\":[[0.0,\"#0d0887\"],[0.1111111111111111,\"#46039f\"],[0.2222222222222222,\"#7201a8\"],[0.3333333333333333,\"#9c179e\"],[0.4444444444444444,\"#bd3786\"],[0.5555555555555556,\"#d8576b\"],[0.6666666666666666,\"#ed7953\"],[0.7777777777777778,\"#fb9f3a\"],[0.8888888888888888,\"#fdca26\"],[1.0,\"#f0f921\"]],\"type\":\"heatmapgl\"}],\"histogram\":[{\"marker\":{\"pattern\":{\"fillmode\":\"overlay\",\"size\":10,\"solidity\":0.2}},\"type\":\"histogram\"}],\"histogram2d\":[{\"colorbar\":{\"outlinewidth\":0,\"ticks\":\"\"},\"colorscale\":[[0.0,\"#0d0887\"],[0.1111111111111111,\"#46039f\"],[0.2222222222222222,\"#7201a8\"],[0.3333333333333333,\"#9c179e\"],[0.4444444444444444,\"#bd3786\"],[0.5555555555555556,\"#d8576b\"],[0.6666666666666666,\"#ed7953\"],[0.7777777777777778,\"#fb9f3a\"],[0.8888888888888888,\"#fdca26\"],[1.0,\"#f0f921\"]],\"type\":\"histogram2d\"}],\"histogram2dcontour\":[{\"colorbar\":{\"outlinewidth\":0,\"ticks\":\"\"},\"colorscale\":[[0.0,\"#0d0887\"],[0.1111111111111111,\"#46039f\"],[0.2222222222222222,\"#7201a8\"],[0.3333333333333333,\"#9c179e\"],[0.4444444444444444,\"#bd3786\"],[0.5555555555555556,\"#d8576b\"],[0.6666666666666666,\"#ed7953\"],[0.7777777777777778,\"#fb9f3a\"],[0.8888888888888888,\"#fdca26\"],[1.0,\"#f0f921\"]],\"type\":\"histogram2dcontour\"}],\"mesh3d\":[{\"colorbar\":{\"outlinewidth\":0,\"ticks\":\"\"},\"type\":\"mesh3d\"}],\"parcoords\":[{\"line\":{\"colorbar\":{\"outlinewidth\":0,\"ticks\":\"\"}},\"type\":\"parcoords\"}],\"pie\":[{\"automargin\":true,\"type\":\"pie\"}],\"scatter\":[{\"marker\":{\"colorbar\":{\"outlinewidth\":0,\"ticks\":\"\"}},\"type\":\"scatter\"}],\"scatter3d\":[{\"line\":{\"colorbar\":{\"outlinewidth\":0,\"ticks\":\"\"}},\"marker\":{\"colorbar\":{\"outlinewidth\":0,\"ticks\":\"\"}},\"type\":\"scatter3d\"}],\"scattercarpet\":[{\"marker\":{\"colorbar\":{\"outlinewidth\":0,\"ticks\":\"\"}},\"type\":\"scattercarpet\"}],\"scattergeo\":[{\"marker\":{\"colorbar\":{\"outlinewidth\":0,\"ticks\":\"\"}},\"type\":\"scattergeo\"}],\"scattergl\":[{\"marker\":{\"colorbar\":{\"outlinewidth\":0,\"ticks\":\"\"}},\"type\":\"scattergl\"}],\"scattermapbox\":[{\"marker\":{\"colorbar\":{\"outlinewidth\":0,\"ticks\":\"\"}},\"type\":\"scattermapbox\"}],\"scatterpolar\":[{\"marker\":{\"colorbar\":{\"outlinewidth\":0,\"ticks\":\"\"}},\"type\":\"scatterpolar\"}],\"scatterpolargl\":[{\"marker\":{\"colorbar\":{\"outlinewidth\":0,\"ticks\":\"\"}},\"type\":\"scatterpolargl\"}],\"scatterternary\":[{\"marker\":{\"colorbar\":{\"outlinewidth\":0,\"ticks\":\"\"}},\"type\":\"scatterternary\"}],\"surface\":[{\"colorbar\":{\"outlinewidth\":0,\"ticks\":\"\"},\"colorscale\":[[0.0,\"#0d0887\"],[0.1111111111111111,\"#46039f\"],[0.2222222222222222,\"#7201a8\"],[0.3333333333333333,\"#9c179e\"],[0.4444444444444444,\"#bd3786\"],[0.5555555555555556,\"#d8576b\"],[0.6666666666666666,\"#ed7953\"],[0.7777777777777778,\"#fb9f3a\"],[0.8888888888888888,\"#fdca26\"],[1.0,\"#f0f921\"]],\"type\":\"surface\"}],\"table\":[{\"cells\":{\"fill\":{\"color\":\"#EBF0F8\"},\"line\":{\"color\":\"white\"}},\"header\":{\"fill\":{\"color\":\"#C8D4E3\"},\"line\":{\"color\":\"white\"}},\"type\":\"table\"}]},\"layout\":{\"annotationdefaults\":{\"arrowcolor\":\"#2a3f5f\",\"arrowhead\":0,\"arrowwidth\":1},\"autotypenumbers\":\"strict\",\"coloraxis\":{\"colorbar\":{\"outlinewidth\":0,\"ticks\":\"\"}},\"colorscale\":{\"diverging\":[[0,\"#8e0152\"],[0.1,\"#c51b7d\"],[0.2,\"#de77ae\"],[0.3,\"#f1b6da\"],[0.4,\"#fde0ef\"],[0.5,\"#f7f7f7\"],[0.6,\"#e6f5d0\"],[0.7,\"#b8e186\"],[0.8,\"#7fbc41\"],[0.9,\"#4d9221\"],[1,\"#276419\"]],\"sequential\":[[0.0,\"#0d0887\"],[0.1111111111111111,\"#46039f\"],[0.2222222222222222,\"#7201a8\"],[0.3333333333333333,\"#9c179e\"],[0.4444444444444444,\"#bd3786\"],[0.5555555555555556,\"#d8576b\"],[0.6666666666666666,\"#ed7953\"],[0.7777777777777778,\"#fb9f3a\"],[0.8888888888888888,\"#fdca26\"],[1.0,\"#f0f921\"]],\"sequentialminus\":[[0.0,\"#0d0887\"],[0.1111111111111111,\"#46039f\"],[0.2222222222222222,\"#7201a8\"],[0.3333333333333333,\"#9c179e\"],[0.4444444444444444,\"#bd3786\"],[0.5555555555555556,\"#d8576b\"],[0.6666666666666666,\"#ed7953\"],[0.7777777777777778,\"#fb9f3a\"],[0.8888888888888888,\"#fdca26\"],[1.0,\"#f0f921\"]]},\"colorway\":[\"#636efa\",\"#EF553B\",\"#00cc96\",\"#ab63fa\",\"#FFA15A\",\"#19d3f3\",\"#FF6692\",\"#B6E880\",\"#FF97FF\",\"#FECB52\"],\"font\":{\"color\":\"#2a3f5f\"},\"geo\":{\"bgcolor\":\"white\",\"lakecolor\":\"white\",\"landcolor\":\"#E5ECF6\",\"showlakes\":true,\"showland\":true,\"subunitcolor\":\"white\"},\"hoverlabel\":{\"align\":\"left\"},\"hovermode\":\"closest\",\"mapbox\":{\"style\":\"light\"},\"paper_bgcolor\":\"white\",\"plot_bgcolor\":\"#E5ECF6\",\"polar\":{\"angularaxis\":{\"gridcolor\":\"white\",\"linecolor\":\"white\",\"ticks\":\"\"},\"bgcolor\":\"#E5ECF6\",\"radialaxis\":{\"gridcolor\":\"white\",\"linecolor\":\"white\",\"ticks\":\"\"}},\"scene\":{\"xaxis\":{\"backgroundcolor\":\"#E5ECF6\",\"gridcolor\":\"white\",\"gridwidth\":2,\"linecolor\":\"white\",\"showbackground\":true,\"ticks\":\"\",\"zerolinecolor\":\"white\"},\"yaxis\":{\"backgroundcolor\":\"#E5ECF6\",\"gridcolor\":\"white\",\"gridwidth\":2,\"linecolor\":\"white\",\"showbackground\":true,\"ticks\":\"\",\"zerolinecolor\":\"white\"},\"zaxis\":{\"backgroundcolor\":\"#E5ECF6\",\"gridcolor\":\"white\",\"gridwidth\":2,\"linecolor\":\"white\",\"showbackground\":true,\"ticks\":\"\",\"zerolinecolor\":\"white\"}},\"shapedefaults\":{\"line\":{\"color\":\"#2a3f5f\"}},\"ternary\":{\"aaxis\":{\"gridcolor\":\"white\",\"linecolor\":\"white\",\"ticks\":\"\"},\"baxis\":{\"gridcolor\":\"white\",\"linecolor\":\"white\",\"ticks\":\"\"},\"bgcolor\":\"#E5ECF6\",\"caxis\":{\"gridcolor\":\"white\",\"linecolor\":\"white\",\"ticks\":\"\"}},\"title\":{\"x\":0.05},\"xaxis\":{\"automargin\":true,\"gridcolor\":\"white\",\"linecolor\":\"white\",\"ticks\":\"\",\"title\":{\"standoff\":15},\"zerolinecolor\":\"white\",\"zerolinewidth\":2},\"yaxis\":{\"automargin\":true,\"gridcolor\":\"white\",\"linecolor\":\"white\",\"ticks\":\"\",\"title\":{\"standoff\":15},\"zerolinecolor\":\"white\",\"zerolinewidth\":2}}}},                        {\"responsive\": true}                    ).then(function(){\n",
       "                            \n",
       "var gd = document.getElementById('be6408f5-6e63-46e5-a544-8f3e04e88b70');\n",
       "var x = new MutationObserver(function (mutations, observer) {{\n",
       "        var display = window.getComputedStyle(gd).display;\n",
       "        if (!display || display === 'none') {{\n",
       "            console.log([gd, 'removed!']);\n",
       "            Plotly.purge(gd);\n",
       "            observer.disconnect();\n",
       "        }}\n",
       "}});\n",
       "\n",
       "// Listen for the removal of the full notebook cells\n",
       "var notebookContainer = gd.closest('#notebook-container');\n",
       "if (notebookContainer) {{\n",
       "    x.observe(notebookContainer, {childList: true});\n",
       "}}\n",
       "\n",
       "// Listen for the clearing of the current output cell\n",
       "var outputEl = gd.closest('.output');\n",
       "if (outputEl) {{\n",
       "    x.observe(outputEl, {childList: true});\n",
       "}}\n",
       "\n",
       "                        })                };                });            </script>        </div>"
      ]
     },
     "metadata": {},
     "output_type": "display_data"
    }
   ],
   "source": [
    "fig = go.Figure(data=go.Heatmap(z = rel_correlation.round(3).values.tolist(),\n",
    "                                x = rel_correlation.columns.to_list(),\n",
    "                                y = rel_correlation.index.to_list(),\n",
    "                                colorscale = 'ylgnbu',\n",
    "                                text = rel_correlation.round(4).values,\n",
    "                                texttemplate = \"%{text}\",\n",
    "                                textfont = {\"size\":12}))\n",
    "fig.show()"
   ]
  },
  {
   "cell_type": "code",
   "execution_count": 86,
   "id": "28eb9766",
   "metadata": {
    "scrolled": false
   },
   "outputs": [
    {
     "data": {
      "application/vnd.plotly.v1+json": {
       "config": {
        "linkText": "Export to plot.ly",
        "plotlyServerURL": "https://plot.ly",
        "showLink": false
       },
       "data": [
        {
         "colorscale": [
          [
           0,
           "rgb(255,255,217)"
          ],
          [
           0.125,
           "rgb(237,248,177)"
          ],
          [
           0.25,
           "rgb(199,233,180)"
          ],
          [
           0.375,
           "rgb(127,205,187)"
          ],
          [
           0.5,
           "rgb(65,182,196)"
          ],
          [
           0.625,
           "rgb(29,145,192)"
          ],
          [
           0.75,
           "rgb(34,94,168)"
          ],
          [
           0.875,
           "rgb(37,52,148)"
          ],
          [
           1,
           "rgb(8,29,88)"
          ]
         ],
         "reversescale": false,
         "showscale": false,
         "type": "heatmap",
         "x": [
          "koi_disposition",
          "koi_fpflag_nt",
          "koi_fpflag_ss",
          "koi_fpflag_co",
          "koi_fpflag_ec",
          "koi_impact",
          "koi_impact_err2",
          "koi_duration_err1",
          "koi_duration_err2",
          "koi_slogg",
          "koi_srad_err1"
         ],
         "y": [
          "koi_disposition",
          "koi_fpflag_nt",
          "koi_fpflag_ss",
          "koi_fpflag_co",
          "koi_fpflag_ec",
          "koi_impact",
          "koi_impact_err2",
          "koi_duration_err1",
          "koi_duration_err2",
          "koi_slogg",
          "koi_srad_err1"
         ],
         "z": [
          [
           1,
           0,
           0.014,
           0.009,
           0.008,
           0.011,
           -0.014,
           0.157,
           -0.157,
           -0.071,
           0.069
          ],
          [
           0,
           1,
           -0.241,
           0.003,
           0.051,
           0.073,
           -0.059,
           0.338,
           -0.338,
           -0.129,
           0.098
          ],
          [
           0.014,
           -0.241,
           1,
           0.145,
           0.102,
           0.042,
           0.055,
           -0.182,
           0.182,
           -0.053,
           0.031
          ],
          [
           0.009,
           0.003,
           0.145,
           1,
           0.538,
           0.008,
           0.003,
           -0.005,
           0.005,
           -0.012,
           0.029
          ],
          [
           0.008,
           0.051,
           0.102,
           0.538,
           1,
           -0.005,
           0.011,
           0.025,
           -0.025,
           0.003,
           0.03
          ],
          [
           0.011,
           0.073,
           0.042,
           0.008,
           -0.005,
           1,
           -0.835,
           0.022,
           -0.022,
           -0.074,
           0.027
          ],
          [
           -0.014,
           -0.059,
           0.055,
           0.003,
           0.011,
           -0.835,
           1,
           -0.046,
           0.046,
           0.043,
           -0.013
          ],
          [
           0.157,
           0.338,
           -0.182,
           -0.005,
           0.025,
           0.022,
           -0.046,
           1,
           -1,
           -0.054,
           0.071
          ],
          [
           -0.157,
           -0.338,
           0.182,
           0.005,
           -0.025,
           -0.022,
           0.046,
           -1,
           1,
           0.054,
           -0.071
          ],
          [
           -0.071,
           -0.129,
           -0.053,
           -0.012,
           0.003,
           -0.074,
           0.043,
           -0.054,
           0.054,
           1,
           -0.635
          ],
          [
           0.069,
           0.098,
           0.031,
           0.029,
           0.03,
           0.027,
           -0.013,
           0.071,
           -0.071,
           -0.635,
           1
          ]
         ]
        }
       ],
       "layout": {
        "annotations": [
         {
          "font": {
           "color": "#FFFFFF"
          },
          "showarrow": false,
          "text": "1.0",
          "x": "koi_disposition",
          "xref": "x",
          "y": "koi_disposition",
          "yref": "y"
         },
         {
          "font": {
           "color": "#FFFFFF"
          },
          "showarrow": false,
          "text": "0.0004",
          "x": "koi_fpflag_nt",
          "xref": "x",
          "y": "koi_disposition",
          "yref": "y"
         },
         {
          "font": {
           "color": "#FFFFFF"
          },
          "showarrow": false,
          "text": "0.0135",
          "x": "koi_fpflag_ss",
          "xref": "x",
          "y": "koi_disposition",
          "yref": "y"
         },
         {
          "font": {
           "color": "#FFFFFF"
          },
          "showarrow": false,
          "text": "0.0085",
          "x": "koi_fpflag_co",
          "xref": "x",
          "y": "koi_disposition",
          "yref": "y"
         },
         {
          "font": {
           "color": "#FFFFFF"
          },
          "showarrow": false,
          "text": "0.008",
          "x": "koi_fpflag_ec",
          "xref": "x",
          "y": "koi_disposition",
          "yref": "y"
         },
         {
          "font": {
           "color": "#FFFFFF"
          },
          "showarrow": false,
          "text": "0.0106",
          "x": "koi_impact",
          "xref": "x",
          "y": "koi_disposition",
          "yref": "y"
         },
         {
          "font": {
           "color": "#000000"
          },
          "showarrow": false,
          "text": "-0.014",
          "x": "koi_impact_err2",
          "xref": "x",
          "y": "koi_disposition",
          "yref": "y"
         },
         {
          "font": {
           "color": "#FFFFFF"
          },
          "showarrow": false,
          "text": "0.1566",
          "x": "koi_duration_err1",
          "xref": "x",
          "y": "koi_disposition",
          "yref": "y"
         },
         {
          "font": {
           "color": "#000000"
          },
          "showarrow": false,
          "text": "-0.1566",
          "x": "koi_duration_err2",
          "xref": "x",
          "y": "koi_disposition",
          "yref": "y"
         },
         {
          "font": {
           "color": "#000000"
          },
          "showarrow": false,
          "text": "-0.0714",
          "x": "koi_slogg",
          "xref": "x",
          "y": "koi_disposition",
          "yref": "y"
         },
         {
          "font": {
           "color": "#FFFFFF"
          },
          "showarrow": false,
          "text": "0.0693",
          "x": "koi_srad_err1",
          "xref": "x",
          "y": "koi_disposition",
          "yref": "y"
         },
         {
          "font": {
           "color": "#FFFFFF"
          },
          "showarrow": false,
          "text": "0.0004",
          "x": "koi_disposition",
          "xref": "x",
          "y": "koi_fpflag_nt",
          "yref": "y"
         },
         {
          "font": {
           "color": "#FFFFFF"
          },
          "showarrow": false,
          "text": "1.0",
          "x": "koi_fpflag_nt",
          "xref": "x",
          "y": "koi_fpflag_nt",
          "yref": "y"
         },
         {
          "font": {
           "color": "#000000"
          },
          "showarrow": false,
          "text": "-0.2411",
          "x": "koi_fpflag_ss",
          "xref": "x",
          "y": "koi_fpflag_nt",
          "yref": "y"
         },
         {
          "font": {
           "color": "#FFFFFF"
          },
          "showarrow": false,
          "text": "0.0031",
          "x": "koi_fpflag_co",
          "xref": "x",
          "y": "koi_fpflag_nt",
          "yref": "y"
         },
         {
          "font": {
           "color": "#FFFFFF"
          },
          "showarrow": false,
          "text": "0.0508",
          "x": "koi_fpflag_ec",
          "xref": "x",
          "y": "koi_fpflag_nt",
          "yref": "y"
         },
         {
          "font": {
           "color": "#FFFFFF"
          },
          "showarrow": false,
          "text": "0.0727",
          "x": "koi_impact",
          "xref": "x",
          "y": "koi_fpflag_nt",
          "yref": "y"
         },
         {
          "font": {
           "color": "#000000"
          },
          "showarrow": false,
          "text": "-0.059",
          "x": "koi_impact_err2",
          "xref": "x",
          "y": "koi_fpflag_nt",
          "yref": "y"
         },
         {
          "font": {
           "color": "#FFFFFF"
          },
          "showarrow": false,
          "text": "0.3376",
          "x": "koi_duration_err1",
          "xref": "x",
          "y": "koi_fpflag_nt",
          "yref": "y"
         },
         {
          "font": {
           "color": "#000000"
          },
          "showarrow": false,
          "text": "-0.3376",
          "x": "koi_duration_err2",
          "xref": "x",
          "y": "koi_fpflag_nt",
          "yref": "y"
         },
         {
          "font": {
           "color": "#000000"
          },
          "showarrow": false,
          "text": "-0.1286",
          "x": "koi_slogg",
          "xref": "x",
          "y": "koi_fpflag_nt",
          "yref": "y"
         },
         {
          "font": {
           "color": "#FFFFFF"
          },
          "showarrow": false,
          "text": "0.0981",
          "x": "koi_srad_err1",
          "xref": "x",
          "y": "koi_fpflag_nt",
          "yref": "y"
         },
         {
          "font": {
           "color": "#FFFFFF"
          },
          "showarrow": false,
          "text": "0.0135",
          "x": "koi_disposition",
          "xref": "x",
          "y": "koi_fpflag_ss",
          "yref": "y"
         },
         {
          "font": {
           "color": "#000000"
          },
          "showarrow": false,
          "text": "-0.2411",
          "x": "koi_fpflag_nt",
          "xref": "x",
          "y": "koi_fpflag_ss",
          "yref": "y"
         },
         {
          "font": {
           "color": "#FFFFFF"
          },
          "showarrow": false,
          "text": "1.0",
          "x": "koi_fpflag_ss",
          "xref": "x",
          "y": "koi_fpflag_ss",
          "yref": "y"
         },
         {
          "font": {
           "color": "#FFFFFF"
          },
          "showarrow": false,
          "text": "0.1445",
          "x": "koi_fpflag_co",
          "xref": "x",
          "y": "koi_fpflag_ss",
          "yref": "y"
         },
         {
          "font": {
           "color": "#FFFFFF"
          },
          "showarrow": false,
          "text": "0.1017",
          "x": "koi_fpflag_ec",
          "xref": "x",
          "y": "koi_fpflag_ss",
          "yref": "y"
         },
         {
          "font": {
           "color": "#FFFFFF"
          },
          "showarrow": false,
          "text": "0.042",
          "x": "koi_impact",
          "xref": "x",
          "y": "koi_fpflag_ss",
          "yref": "y"
         },
         {
          "font": {
           "color": "#FFFFFF"
          },
          "showarrow": false,
          "text": "0.0546",
          "x": "koi_impact_err2",
          "xref": "x",
          "y": "koi_fpflag_ss",
          "yref": "y"
         },
         {
          "font": {
           "color": "#000000"
          },
          "showarrow": false,
          "text": "-0.1817",
          "x": "koi_duration_err1",
          "xref": "x",
          "y": "koi_fpflag_ss",
          "yref": "y"
         },
         {
          "font": {
           "color": "#FFFFFF"
          },
          "showarrow": false,
          "text": "0.1817",
          "x": "koi_duration_err2",
          "xref": "x",
          "y": "koi_fpflag_ss",
          "yref": "y"
         },
         {
          "font": {
           "color": "#000000"
          },
          "showarrow": false,
          "text": "-0.0534",
          "x": "koi_slogg",
          "xref": "x",
          "y": "koi_fpflag_ss",
          "yref": "y"
         },
         {
          "font": {
           "color": "#FFFFFF"
          },
          "showarrow": false,
          "text": "0.0308",
          "x": "koi_srad_err1",
          "xref": "x",
          "y": "koi_fpflag_ss",
          "yref": "y"
         },
         {
          "font": {
           "color": "#FFFFFF"
          },
          "showarrow": false,
          "text": "0.0085",
          "x": "koi_disposition",
          "xref": "x",
          "y": "koi_fpflag_co",
          "yref": "y"
         },
         {
          "font": {
           "color": "#FFFFFF"
          },
          "showarrow": false,
          "text": "0.0031",
          "x": "koi_fpflag_nt",
          "xref": "x",
          "y": "koi_fpflag_co",
          "yref": "y"
         },
         {
          "font": {
           "color": "#FFFFFF"
          },
          "showarrow": false,
          "text": "0.1445",
          "x": "koi_fpflag_ss",
          "xref": "x",
          "y": "koi_fpflag_co",
          "yref": "y"
         },
         {
          "font": {
           "color": "#FFFFFF"
          },
          "showarrow": false,
          "text": "1.0",
          "x": "koi_fpflag_co",
          "xref": "x",
          "y": "koi_fpflag_co",
          "yref": "y"
         },
         {
          "font": {
           "color": "#FFFFFF"
          },
          "showarrow": false,
          "text": "0.5383",
          "x": "koi_fpflag_ec",
          "xref": "x",
          "y": "koi_fpflag_co",
          "yref": "y"
         },
         {
          "font": {
           "color": "#FFFFFF"
          },
          "showarrow": false,
          "text": "0.0075",
          "x": "koi_impact",
          "xref": "x",
          "y": "koi_fpflag_co",
          "yref": "y"
         },
         {
          "font": {
           "color": "#FFFFFF"
          },
          "showarrow": false,
          "text": "0.0026",
          "x": "koi_impact_err2",
          "xref": "x",
          "y": "koi_fpflag_co",
          "yref": "y"
         },
         {
          "font": {
           "color": "#000000"
          },
          "showarrow": false,
          "text": "-0.005",
          "x": "koi_duration_err1",
          "xref": "x",
          "y": "koi_fpflag_co",
          "yref": "y"
         },
         {
          "font": {
           "color": "#FFFFFF"
          },
          "showarrow": false,
          "text": "0.005",
          "x": "koi_duration_err2",
          "xref": "x",
          "y": "koi_fpflag_co",
          "yref": "y"
         },
         {
          "font": {
           "color": "#000000"
          },
          "showarrow": false,
          "text": "-0.0121",
          "x": "koi_slogg",
          "xref": "x",
          "y": "koi_fpflag_co",
          "yref": "y"
         },
         {
          "font": {
           "color": "#FFFFFF"
          },
          "showarrow": false,
          "text": "0.0292",
          "x": "koi_srad_err1",
          "xref": "x",
          "y": "koi_fpflag_co",
          "yref": "y"
         },
         {
          "font": {
           "color": "#FFFFFF"
          },
          "showarrow": false,
          "text": "0.008",
          "x": "koi_disposition",
          "xref": "x",
          "y": "koi_fpflag_ec",
          "yref": "y"
         },
         {
          "font": {
           "color": "#FFFFFF"
          },
          "showarrow": false,
          "text": "0.0508",
          "x": "koi_fpflag_nt",
          "xref": "x",
          "y": "koi_fpflag_ec",
          "yref": "y"
         },
         {
          "font": {
           "color": "#FFFFFF"
          },
          "showarrow": false,
          "text": "0.1017",
          "x": "koi_fpflag_ss",
          "xref": "x",
          "y": "koi_fpflag_ec",
          "yref": "y"
         },
         {
          "font": {
           "color": "#FFFFFF"
          },
          "showarrow": false,
          "text": "0.5383",
          "x": "koi_fpflag_co",
          "xref": "x",
          "y": "koi_fpflag_ec",
          "yref": "y"
         },
         {
          "font": {
           "color": "#FFFFFF"
          },
          "showarrow": false,
          "text": "1.0",
          "x": "koi_fpflag_ec",
          "xref": "x",
          "y": "koi_fpflag_ec",
          "yref": "y"
         },
         {
          "font": {
           "color": "#000000"
          },
          "showarrow": false,
          "text": "-0.0049",
          "x": "koi_impact",
          "xref": "x",
          "y": "koi_fpflag_ec",
          "yref": "y"
         },
         {
          "font": {
           "color": "#FFFFFF"
          },
          "showarrow": false,
          "text": "0.0113",
          "x": "koi_impact_err2",
          "xref": "x",
          "y": "koi_fpflag_ec",
          "yref": "y"
         },
         {
          "font": {
           "color": "#FFFFFF"
          },
          "showarrow": false,
          "text": "0.0254",
          "x": "koi_duration_err1",
          "xref": "x",
          "y": "koi_fpflag_ec",
          "yref": "y"
         },
         {
          "font": {
           "color": "#000000"
          },
          "showarrow": false,
          "text": "-0.0254",
          "x": "koi_duration_err2",
          "xref": "x",
          "y": "koi_fpflag_ec",
          "yref": "y"
         },
         {
          "font": {
           "color": "#FFFFFF"
          },
          "showarrow": false,
          "text": "0.0031",
          "x": "koi_slogg",
          "xref": "x",
          "y": "koi_fpflag_ec",
          "yref": "y"
         },
         {
          "font": {
           "color": "#FFFFFF"
          },
          "showarrow": false,
          "text": "0.0301",
          "x": "koi_srad_err1",
          "xref": "x",
          "y": "koi_fpflag_ec",
          "yref": "y"
         },
         {
          "font": {
           "color": "#FFFFFF"
          },
          "showarrow": false,
          "text": "0.0106",
          "x": "koi_disposition",
          "xref": "x",
          "y": "koi_impact",
          "yref": "y"
         },
         {
          "font": {
           "color": "#FFFFFF"
          },
          "showarrow": false,
          "text": "0.0727",
          "x": "koi_fpflag_nt",
          "xref": "x",
          "y": "koi_impact",
          "yref": "y"
         },
         {
          "font": {
           "color": "#FFFFFF"
          },
          "showarrow": false,
          "text": "0.042",
          "x": "koi_fpflag_ss",
          "xref": "x",
          "y": "koi_impact",
          "yref": "y"
         },
         {
          "font": {
           "color": "#FFFFFF"
          },
          "showarrow": false,
          "text": "0.0075",
          "x": "koi_fpflag_co",
          "xref": "x",
          "y": "koi_impact",
          "yref": "y"
         },
         {
          "font": {
           "color": "#000000"
          },
          "showarrow": false,
          "text": "-0.0049",
          "x": "koi_fpflag_ec",
          "xref": "x",
          "y": "koi_impact",
          "yref": "y"
         },
         {
          "font": {
           "color": "#FFFFFF"
          },
          "showarrow": false,
          "text": "1.0",
          "x": "koi_impact",
          "xref": "x",
          "y": "koi_impact",
          "yref": "y"
         },
         {
          "font": {
           "color": "#000000"
          },
          "showarrow": false,
          "text": "-0.8352",
          "x": "koi_impact_err2",
          "xref": "x",
          "y": "koi_impact",
          "yref": "y"
         },
         {
          "font": {
           "color": "#FFFFFF"
          },
          "showarrow": false,
          "text": "0.0216",
          "x": "koi_duration_err1",
          "xref": "x",
          "y": "koi_impact",
          "yref": "y"
         },
         {
          "font": {
           "color": "#000000"
          },
          "showarrow": false,
          "text": "-0.0216",
          "x": "koi_duration_err2",
          "xref": "x",
          "y": "koi_impact",
          "yref": "y"
         },
         {
          "font": {
           "color": "#000000"
          },
          "showarrow": false,
          "text": "-0.0738",
          "x": "koi_slogg",
          "xref": "x",
          "y": "koi_impact",
          "yref": "y"
         },
         {
          "font": {
           "color": "#FFFFFF"
          },
          "showarrow": false,
          "text": "0.0272",
          "x": "koi_srad_err1",
          "xref": "x",
          "y": "koi_impact",
          "yref": "y"
         },
         {
          "font": {
           "color": "#000000"
          },
          "showarrow": false,
          "text": "-0.014",
          "x": "koi_disposition",
          "xref": "x",
          "y": "koi_impact_err2",
          "yref": "y"
         },
         {
          "font": {
           "color": "#000000"
          },
          "showarrow": false,
          "text": "-0.059",
          "x": "koi_fpflag_nt",
          "xref": "x",
          "y": "koi_impact_err2",
          "yref": "y"
         },
         {
          "font": {
           "color": "#FFFFFF"
          },
          "showarrow": false,
          "text": "0.0546",
          "x": "koi_fpflag_ss",
          "xref": "x",
          "y": "koi_impact_err2",
          "yref": "y"
         },
         {
          "font": {
           "color": "#FFFFFF"
          },
          "showarrow": false,
          "text": "0.0026",
          "x": "koi_fpflag_co",
          "xref": "x",
          "y": "koi_impact_err2",
          "yref": "y"
         },
         {
          "font": {
           "color": "#FFFFFF"
          },
          "showarrow": false,
          "text": "0.0113",
          "x": "koi_fpflag_ec",
          "xref": "x",
          "y": "koi_impact_err2",
          "yref": "y"
         },
         {
          "font": {
           "color": "#000000"
          },
          "showarrow": false,
          "text": "-0.8352",
          "x": "koi_impact",
          "xref": "x",
          "y": "koi_impact_err2",
          "yref": "y"
         },
         {
          "font": {
           "color": "#FFFFFF"
          },
          "showarrow": false,
          "text": "1.0",
          "x": "koi_impact_err2",
          "xref": "x",
          "y": "koi_impact_err2",
          "yref": "y"
         },
         {
          "font": {
           "color": "#000000"
          },
          "showarrow": false,
          "text": "-0.0459",
          "x": "koi_duration_err1",
          "xref": "x",
          "y": "koi_impact_err2",
          "yref": "y"
         },
         {
          "font": {
           "color": "#FFFFFF"
          },
          "showarrow": false,
          "text": "0.0459",
          "x": "koi_duration_err2",
          "xref": "x",
          "y": "koi_impact_err2",
          "yref": "y"
         },
         {
          "font": {
           "color": "#FFFFFF"
          },
          "showarrow": false,
          "text": "0.0426",
          "x": "koi_slogg",
          "xref": "x",
          "y": "koi_impact_err2",
          "yref": "y"
         },
         {
          "font": {
           "color": "#000000"
          },
          "showarrow": false,
          "text": "-0.0133",
          "x": "koi_srad_err1",
          "xref": "x",
          "y": "koi_impact_err2",
          "yref": "y"
         },
         {
          "font": {
           "color": "#FFFFFF"
          },
          "showarrow": false,
          "text": "0.1566",
          "x": "koi_disposition",
          "xref": "x",
          "y": "koi_duration_err1",
          "yref": "y"
         },
         {
          "font": {
           "color": "#FFFFFF"
          },
          "showarrow": false,
          "text": "0.3376",
          "x": "koi_fpflag_nt",
          "xref": "x",
          "y": "koi_duration_err1",
          "yref": "y"
         },
         {
          "font": {
           "color": "#000000"
          },
          "showarrow": false,
          "text": "-0.1817",
          "x": "koi_fpflag_ss",
          "xref": "x",
          "y": "koi_duration_err1",
          "yref": "y"
         },
         {
          "font": {
           "color": "#000000"
          },
          "showarrow": false,
          "text": "-0.005",
          "x": "koi_fpflag_co",
          "xref": "x",
          "y": "koi_duration_err1",
          "yref": "y"
         },
         {
          "font": {
           "color": "#FFFFFF"
          },
          "showarrow": false,
          "text": "0.0254",
          "x": "koi_fpflag_ec",
          "xref": "x",
          "y": "koi_duration_err1",
          "yref": "y"
         },
         {
          "font": {
           "color": "#FFFFFF"
          },
          "showarrow": false,
          "text": "0.0216",
          "x": "koi_impact",
          "xref": "x",
          "y": "koi_duration_err1",
          "yref": "y"
         },
         {
          "font": {
           "color": "#000000"
          },
          "showarrow": false,
          "text": "-0.0459",
          "x": "koi_impact_err2",
          "xref": "x",
          "y": "koi_duration_err1",
          "yref": "y"
         },
         {
          "font": {
           "color": "#FFFFFF"
          },
          "showarrow": false,
          "text": "1.0",
          "x": "koi_duration_err1",
          "xref": "x",
          "y": "koi_duration_err1",
          "yref": "y"
         },
         {
          "font": {
           "color": "#000000"
          },
          "showarrow": false,
          "text": "-1.0",
          "x": "koi_duration_err2",
          "xref": "x",
          "y": "koi_duration_err1",
          "yref": "y"
         },
         {
          "font": {
           "color": "#000000"
          },
          "showarrow": false,
          "text": "-0.0539",
          "x": "koi_slogg",
          "xref": "x",
          "y": "koi_duration_err1",
          "yref": "y"
         },
         {
          "font": {
           "color": "#FFFFFF"
          },
          "showarrow": false,
          "text": "0.0706",
          "x": "koi_srad_err1",
          "xref": "x",
          "y": "koi_duration_err1",
          "yref": "y"
         },
         {
          "font": {
           "color": "#000000"
          },
          "showarrow": false,
          "text": "-0.1566",
          "x": "koi_disposition",
          "xref": "x",
          "y": "koi_duration_err2",
          "yref": "y"
         },
         {
          "font": {
           "color": "#000000"
          },
          "showarrow": false,
          "text": "-0.3376",
          "x": "koi_fpflag_nt",
          "xref": "x",
          "y": "koi_duration_err2",
          "yref": "y"
         },
         {
          "font": {
           "color": "#FFFFFF"
          },
          "showarrow": false,
          "text": "0.1817",
          "x": "koi_fpflag_ss",
          "xref": "x",
          "y": "koi_duration_err2",
          "yref": "y"
         },
         {
          "font": {
           "color": "#FFFFFF"
          },
          "showarrow": false,
          "text": "0.005",
          "x": "koi_fpflag_co",
          "xref": "x",
          "y": "koi_duration_err2",
          "yref": "y"
         },
         {
          "font": {
           "color": "#000000"
          },
          "showarrow": false,
          "text": "-0.0254",
          "x": "koi_fpflag_ec",
          "xref": "x",
          "y": "koi_duration_err2",
          "yref": "y"
         },
         {
          "font": {
           "color": "#000000"
          },
          "showarrow": false,
          "text": "-0.0216",
          "x": "koi_impact",
          "xref": "x",
          "y": "koi_duration_err2",
          "yref": "y"
         },
         {
          "font": {
           "color": "#FFFFFF"
          },
          "showarrow": false,
          "text": "0.0459",
          "x": "koi_impact_err2",
          "xref": "x",
          "y": "koi_duration_err2",
          "yref": "y"
         },
         {
          "font": {
           "color": "#000000"
          },
          "showarrow": false,
          "text": "-1.0",
          "x": "koi_duration_err1",
          "xref": "x",
          "y": "koi_duration_err2",
          "yref": "y"
         },
         {
          "font": {
           "color": "#FFFFFF"
          },
          "showarrow": false,
          "text": "1.0",
          "x": "koi_duration_err2",
          "xref": "x",
          "y": "koi_duration_err2",
          "yref": "y"
         },
         {
          "font": {
           "color": "#FFFFFF"
          },
          "showarrow": false,
          "text": "0.0539",
          "x": "koi_slogg",
          "xref": "x",
          "y": "koi_duration_err2",
          "yref": "y"
         },
         {
          "font": {
           "color": "#000000"
          },
          "showarrow": false,
          "text": "-0.0706",
          "x": "koi_srad_err1",
          "xref": "x",
          "y": "koi_duration_err2",
          "yref": "y"
         },
         {
          "font": {
           "color": "#000000"
          },
          "showarrow": false,
          "text": "-0.0714",
          "x": "koi_disposition",
          "xref": "x",
          "y": "koi_slogg",
          "yref": "y"
         },
         {
          "font": {
           "color": "#000000"
          },
          "showarrow": false,
          "text": "-0.1286",
          "x": "koi_fpflag_nt",
          "xref": "x",
          "y": "koi_slogg",
          "yref": "y"
         },
         {
          "font": {
           "color": "#000000"
          },
          "showarrow": false,
          "text": "-0.0534",
          "x": "koi_fpflag_ss",
          "xref": "x",
          "y": "koi_slogg",
          "yref": "y"
         },
         {
          "font": {
           "color": "#000000"
          },
          "showarrow": false,
          "text": "-0.0121",
          "x": "koi_fpflag_co",
          "xref": "x",
          "y": "koi_slogg",
          "yref": "y"
         },
         {
          "font": {
           "color": "#FFFFFF"
          },
          "showarrow": false,
          "text": "0.0031",
          "x": "koi_fpflag_ec",
          "xref": "x",
          "y": "koi_slogg",
          "yref": "y"
         },
         {
          "font": {
           "color": "#000000"
          },
          "showarrow": false,
          "text": "-0.0738",
          "x": "koi_impact",
          "xref": "x",
          "y": "koi_slogg",
          "yref": "y"
         },
         {
          "font": {
           "color": "#FFFFFF"
          },
          "showarrow": false,
          "text": "0.0426",
          "x": "koi_impact_err2",
          "xref": "x",
          "y": "koi_slogg",
          "yref": "y"
         },
         {
          "font": {
           "color": "#000000"
          },
          "showarrow": false,
          "text": "-0.0539",
          "x": "koi_duration_err1",
          "xref": "x",
          "y": "koi_slogg",
          "yref": "y"
         },
         {
          "font": {
           "color": "#FFFFFF"
          },
          "showarrow": false,
          "text": "0.0539",
          "x": "koi_duration_err2",
          "xref": "x",
          "y": "koi_slogg",
          "yref": "y"
         },
         {
          "font": {
           "color": "#FFFFFF"
          },
          "showarrow": false,
          "text": "1.0",
          "x": "koi_slogg",
          "xref": "x",
          "y": "koi_slogg",
          "yref": "y"
         },
         {
          "font": {
           "color": "#000000"
          },
          "showarrow": false,
          "text": "-0.6351",
          "x": "koi_srad_err1",
          "xref": "x",
          "y": "koi_slogg",
          "yref": "y"
         },
         {
          "font": {
           "color": "#FFFFFF"
          },
          "showarrow": false,
          "text": "0.0693",
          "x": "koi_disposition",
          "xref": "x",
          "y": "koi_srad_err1",
          "yref": "y"
         },
         {
          "font": {
           "color": "#FFFFFF"
          },
          "showarrow": false,
          "text": "0.0981",
          "x": "koi_fpflag_nt",
          "xref": "x",
          "y": "koi_srad_err1",
          "yref": "y"
         },
         {
          "font": {
           "color": "#FFFFFF"
          },
          "showarrow": false,
          "text": "0.0308",
          "x": "koi_fpflag_ss",
          "xref": "x",
          "y": "koi_srad_err1",
          "yref": "y"
         },
         {
          "font": {
           "color": "#FFFFFF"
          },
          "showarrow": false,
          "text": "0.0292",
          "x": "koi_fpflag_co",
          "xref": "x",
          "y": "koi_srad_err1",
          "yref": "y"
         },
         {
          "font": {
           "color": "#FFFFFF"
          },
          "showarrow": false,
          "text": "0.0301",
          "x": "koi_fpflag_ec",
          "xref": "x",
          "y": "koi_srad_err1",
          "yref": "y"
         },
         {
          "font": {
           "color": "#FFFFFF"
          },
          "showarrow": false,
          "text": "0.0272",
          "x": "koi_impact",
          "xref": "x",
          "y": "koi_srad_err1",
          "yref": "y"
         },
         {
          "font": {
           "color": "#000000"
          },
          "showarrow": false,
          "text": "-0.0133",
          "x": "koi_impact_err2",
          "xref": "x",
          "y": "koi_srad_err1",
          "yref": "y"
         },
         {
          "font": {
           "color": "#FFFFFF"
          },
          "showarrow": false,
          "text": "0.0706",
          "x": "koi_duration_err1",
          "xref": "x",
          "y": "koi_srad_err1",
          "yref": "y"
         },
         {
          "font": {
           "color": "#000000"
          },
          "showarrow": false,
          "text": "-0.0706",
          "x": "koi_duration_err2",
          "xref": "x",
          "y": "koi_srad_err1",
          "yref": "y"
         },
         {
          "font": {
           "color": "#000000"
          },
          "showarrow": false,
          "text": "-0.6351",
          "x": "koi_slogg",
          "xref": "x",
          "y": "koi_srad_err1",
          "yref": "y"
         },
         {
          "font": {
           "color": "#FFFFFF"
          },
          "showarrow": false,
          "text": "1.0",
          "x": "koi_srad_err1",
          "xref": "x",
          "y": "koi_srad_err1",
          "yref": "y"
         }
        ],
        "template": {
         "data": {
          "bar": [
           {
            "error_x": {
             "color": "#2a3f5f"
            },
            "error_y": {
             "color": "#2a3f5f"
            },
            "marker": {
             "line": {
              "color": "#E5ECF6",
              "width": 0.5
             },
             "pattern": {
              "fillmode": "overlay",
              "size": 10,
              "solidity": 0.2
             }
            },
            "type": "bar"
           }
          ],
          "barpolar": [
           {
            "marker": {
             "line": {
              "color": "#E5ECF6",
              "width": 0.5
             },
             "pattern": {
              "fillmode": "overlay",
              "size": 10,
              "solidity": 0.2
             }
            },
            "type": "barpolar"
           }
          ],
          "carpet": [
           {
            "aaxis": {
             "endlinecolor": "#2a3f5f",
             "gridcolor": "white",
             "linecolor": "white",
             "minorgridcolor": "white",
             "startlinecolor": "#2a3f5f"
            },
            "baxis": {
             "endlinecolor": "#2a3f5f",
             "gridcolor": "white",
             "linecolor": "white",
             "minorgridcolor": "white",
             "startlinecolor": "#2a3f5f"
            },
            "type": "carpet"
           }
          ],
          "choropleth": [
           {
            "colorbar": {
             "outlinewidth": 0,
             "ticks": ""
            },
            "type": "choropleth"
           }
          ],
          "contour": [
           {
            "colorbar": {
             "outlinewidth": 0,
             "ticks": ""
            },
            "colorscale": [
             [
              0,
              "#0d0887"
             ],
             [
              0.1111111111111111,
              "#46039f"
             ],
             [
              0.2222222222222222,
              "#7201a8"
             ],
             [
              0.3333333333333333,
              "#9c179e"
             ],
             [
              0.4444444444444444,
              "#bd3786"
             ],
             [
              0.5555555555555556,
              "#d8576b"
             ],
             [
              0.6666666666666666,
              "#ed7953"
             ],
             [
              0.7777777777777778,
              "#fb9f3a"
             ],
             [
              0.8888888888888888,
              "#fdca26"
             ],
             [
              1,
              "#f0f921"
             ]
            ],
            "type": "contour"
           }
          ],
          "contourcarpet": [
           {
            "colorbar": {
             "outlinewidth": 0,
             "ticks": ""
            },
            "type": "contourcarpet"
           }
          ],
          "heatmap": [
           {
            "colorbar": {
             "outlinewidth": 0,
             "ticks": ""
            },
            "colorscale": [
             [
              0,
              "#0d0887"
             ],
             [
              0.1111111111111111,
              "#46039f"
             ],
             [
              0.2222222222222222,
              "#7201a8"
             ],
             [
              0.3333333333333333,
              "#9c179e"
             ],
             [
              0.4444444444444444,
              "#bd3786"
             ],
             [
              0.5555555555555556,
              "#d8576b"
             ],
             [
              0.6666666666666666,
              "#ed7953"
             ],
             [
              0.7777777777777778,
              "#fb9f3a"
             ],
             [
              0.8888888888888888,
              "#fdca26"
             ],
             [
              1,
              "#f0f921"
             ]
            ],
            "type": "heatmap"
           }
          ],
          "heatmapgl": [
           {
            "colorbar": {
             "outlinewidth": 0,
             "ticks": ""
            },
            "colorscale": [
             [
              0,
              "#0d0887"
             ],
             [
              0.1111111111111111,
              "#46039f"
             ],
             [
              0.2222222222222222,
              "#7201a8"
             ],
             [
              0.3333333333333333,
              "#9c179e"
             ],
             [
              0.4444444444444444,
              "#bd3786"
             ],
             [
              0.5555555555555556,
              "#d8576b"
             ],
             [
              0.6666666666666666,
              "#ed7953"
             ],
             [
              0.7777777777777778,
              "#fb9f3a"
             ],
             [
              0.8888888888888888,
              "#fdca26"
             ],
             [
              1,
              "#f0f921"
             ]
            ],
            "type": "heatmapgl"
           }
          ],
          "histogram": [
           {
            "marker": {
             "pattern": {
              "fillmode": "overlay",
              "size": 10,
              "solidity": 0.2
             }
            },
            "type": "histogram"
           }
          ],
          "histogram2d": [
           {
            "colorbar": {
             "outlinewidth": 0,
             "ticks": ""
            },
            "colorscale": [
             [
              0,
              "#0d0887"
             ],
             [
              0.1111111111111111,
              "#46039f"
             ],
             [
              0.2222222222222222,
              "#7201a8"
             ],
             [
              0.3333333333333333,
              "#9c179e"
             ],
             [
              0.4444444444444444,
              "#bd3786"
             ],
             [
              0.5555555555555556,
              "#d8576b"
             ],
             [
              0.6666666666666666,
              "#ed7953"
             ],
             [
              0.7777777777777778,
              "#fb9f3a"
             ],
             [
              0.8888888888888888,
              "#fdca26"
             ],
             [
              1,
              "#f0f921"
             ]
            ],
            "type": "histogram2d"
           }
          ],
          "histogram2dcontour": [
           {
            "colorbar": {
             "outlinewidth": 0,
             "ticks": ""
            },
            "colorscale": [
             [
              0,
              "#0d0887"
             ],
             [
              0.1111111111111111,
              "#46039f"
             ],
             [
              0.2222222222222222,
              "#7201a8"
             ],
             [
              0.3333333333333333,
              "#9c179e"
             ],
             [
              0.4444444444444444,
              "#bd3786"
             ],
             [
              0.5555555555555556,
              "#d8576b"
             ],
             [
              0.6666666666666666,
              "#ed7953"
             ],
             [
              0.7777777777777778,
              "#fb9f3a"
             ],
             [
              0.8888888888888888,
              "#fdca26"
             ],
             [
              1,
              "#f0f921"
             ]
            ],
            "type": "histogram2dcontour"
           }
          ],
          "mesh3d": [
           {
            "colorbar": {
             "outlinewidth": 0,
             "ticks": ""
            },
            "type": "mesh3d"
           }
          ],
          "parcoords": [
           {
            "line": {
             "colorbar": {
              "outlinewidth": 0,
              "ticks": ""
             }
            },
            "type": "parcoords"
           }
          ],
          "pie": [
           {
            "automargin": true,
            "type": "pie"
           }
          ],
          "scatter": [
           {
            "marker": {
             "colorbar": {
              "outlinewidth": 0,
              "ticks": ""
             }
            },
            "type": "scatter"
           }
          ],
          "scatter3d": [
           {
            "line": {
             "colorbar": {
              "outlinewidth": 0,
              "ticks": ""
             }
            },
            "marker": {
             "colorbar": {
              "outlinewidth": 0,
              "ticks": ""
             }
            },
            "type": "scatter3d"
           }
          ],
          "scattercarpet": [
           {
            "marker": {
             "colorbar": {
              "outlinewidth": 0,
              "ticks": ""
             }
            },
            "type": "scattercarpet"
           }
          ],
          "scattergeo": [
           {
            "marker": {
             "colorbar": {
              "outlinewidth": 0,
              "ticks": ""
             }
            },
            "type": "scattergeo"
           }
          ],
          "scattergl": [
           {
            "marker": {
             "colorbar": {
              "outlinewidth": 0,
              "ticks": ""
             }
            },
            "type": "scattergl"
           }
          ],
          "scattermapbox": [
           {
            "marker": {
             "colorbar": {
              "outlinewidth": 0,
              "ticks": ""
             }
            },
            "type": "scattermapbox"
           }
          ],
          "scatterpolar": [
           {
            "marker": {
             "colorbar": {
              "outlinewidth": 0,
              "ticks": ""
             }
            },
            "type": "scatterpolar"
           }
          ],
          "scatterpolargl": [
           {
            "marker": {
             "colorbar": {
              "outlinewidth": 0,
              "ticks": ""
             }
            },
            "type": "scatterpolargl"
           }
          ],
          "scatterternary": [
           {
            "marker": {
             "colorbar": {
              "outlinewidth": 0,
              "ticks": ""
             }
            },
            "type": "scatterternary"
           }
          ],
          "surface": [
           {
            "colorbar": {
             "outlinewidth": 0,
             "ticks": ""
            },
            "colorscale": [
             [
              0,
              "#0d0887"
             ],
             [
              0.1111111111111111,
              "#46039f"
             ],
             [
              0.2222222222222222,
              "#7201a8"
             ],
             [
              0.3333333333333333,
              "#9c179e"
             ],
             [
              0.4444444444444444,
              "#bd3786"
             ],
             [
              0.5555555555555556,
              "#d8576b"
             ],
             [
              0.6666666666666666,
              "#ed7953"
             ],
             [
              0.7777777777777778,
              "#fb9f3a"
             ],
             [
              0.8888888888888888,
              "#fdca26"
             ],
             [
              1,
              "#f0f921"
             ]
            ],
            "type": "surface"
           }
          ],
          "table": [
           {
            "cells": {
             "fill": {
              "color": "#EBF0F8"
             },
             "line": {
              "color": "white"
             }
            },
            "header": {
             "fill": {
              "color": "#C8D4E3"
             },
             "line": {
              "color": "white"
             }
            },
            "type": "table"
           }
          ]
         },
         "layout": {
          "annotationdefaults": {
           "arrowcolor": "#2a3f5f",
           "arrowhead": 0,
           "arrowwidth": 1
          },
          "autotypenumbers": "strict",
          "coloraxis": {
           "colorbar": {
            "outlinewidth": 0,
            "ticks": ""
           }
          },
          "colorscale": {
           "diverging": [
            [
             0,
             "#8e0152"
            ],
            [
             0.1,
             "#c51b7d"
            ],
            [
             0.2,
             "#de77ae"
            ],
            [
             0.3,
             "#f1b6da"
            ],
            [
             0.4,
             "#fde0ef"
            ],
            [
             0.5,
             "#f7f7f7"
            ],
            [
             0.6,
             "#e6f5d0"
            ],
            [
             0.7,
             "#b8e186"
            ],
            [
             0.8,
             "#7fbc41"
            ],
            [
             0.9,
             "#4d9221"
            ],
            [
             1,
             "#276419"
            ]
           ],
           "sequential": [
            [
             0,
             "#0d0887"
            ],
            [
             0.1111111111111111,
             "#46039f"
            ],
            [
             0.2222222222222222,
             "#7201a8"
            ],
            [
             0.3333333333333333,
             "#9c179e"
            ],
            [
             0.4444444444444444,
             "#bd3786"
            ],
            [
             0.5555555555555556,
             "#d8576b"
            ],
            [
             0.6666666666666666,
             "#ed7953"
            ],
            [
             0.7777777777777778,
             "#fb9f3a"
            ],
            [
             0.8888888888888888,
             "#fdca26"
            ],
            [
             1,
             "#f0f921"
            ]
           ],
           "sequentialminus": [
            [
             0,
             "#0d0887"
            ],
            [
             0.1111111111111111,
             "#46039f"
            ],
            [
             0.2222222222222222,
             "#7201a8"
            ],
            [
             0.3333333333333333,
             "#9c179e"
            ],
            [
             0.4444444444444444,
             "#bd3786"
            ],
            [
             0.5555555555555556,
             "#d8576b"
            ],
            [
             0.6666666666666666,
             "#ed7953"
            ],
            [
             0.7777777777777778,
             "#fb9f3a"
            ],
            [
             0.8888888888888888,
             "#fdca26"
            ],
            [
             1,
             "#f0f921"
            ]
           ]
          },
          "colorway": [
           "#636efa",
           "#EF553B",
           "#00cc96",
           "#ab63fa",
           "#FFA15A",
           "#19d3f3",
           "#FF6692",
           "#B6E880",
           "#FF97FF",
           "#FECB52"
          ],
          "font": {
           "color": "#2a3f5f"
          },
          "geo": {
           "bgcolor": "white",
           "lakecolor": "white",
           "landcolor": "#E5ECF6",
           "showlakes": true,
           "showland": true,
           "subunitcolor": "white"
          },
          "hoverlabel": {
           "align": "left"
          },
          "hovermode": "closest",
          "mapbox": {
           "style": "light"
          },
          "paper_bgcolor": "white",
          "plot_bgcolor": "#E5ECF6",
          "polar": {
           "angularaxis": {
            "gridcolor": "white",
            "linecolor": "white",
            "ticks": ""
           },
           "bgcolor": "#E5ECF6",
           "radialaxis": {
            "gridcolor": "white",
            "linecolor": "white",
            "ticks": ""
           }
          },
          "scene": {
           "xaxis": {
            "backgroundcolor": "#E5ECF6",
            "gridcolor": "white",
            "gridwidth": 2,
            "linecolor": "white",
            "showbackground": true,
            "ticks": "",
            "zerolinecolor": "white"
           },
           "yaxis": {
            "backgroundcolor": "#E5ECF6",
            "gridcolor": "white",
            "gridwidth": 2,
            "linecolor": "white",
            "showbackground": true,
            "ticks": "",
            "zerolinecolor": "white"
           },
           "zaxis": {
            "backgroundcolor": "#E5ECF6",
            "gridcolor": "white",
            "gridwidth": 2,
            "linecolor": "white",
            "showbackground": true,
            "ticks": "",
            "zerolinecolor": "white"
           }
          },
          "shapedefaults": {
           "line": {
            "color": "#2a3f5f"
           }
          },
          "ternary": {
           "aaxis": {
            "gridcolor": "white",
            "linecolor": "white",
            "ticks": ""
           },
           "baxis": {
            "gridcolor": "white",
            "linecolor": "white",
            "ticks": ""
           },
           "bgcolor": "#E5ECF6",
           "caxis": {
            "gridcolor": "white",
            "linecolor": "white",
            "ticks": ""
           }
          },
          "title": {
           "x": 0.05
          },
          "xaxis": {
           "automargin": true,
           "gridcolor": "white",
           "linecolor": "white",
           "ticks": "",
           "title": {
            "standoff": 15
           },
           "zerolinecolor": "white",
           "zerolinewidth": 2
          },
          "yaxis": {
           "automargin": true,
           "gridcolor": "white",
           "linecolor": "white",
           "ticks": "",
           "title": {
            "standoff": 15
           },
           "zerolinecolor": "white",
           "zerolinewidth": 2
          }
         }
        },
        "xaxis": {
         "dtick": 1,
         "gridcolor": "rgb(0, 0, 0)",
         "side": "top",
         "ticks": ""
        },
        "yaxis": {
         "dtick": 1,
         "ticks": "",
         "ticksuffix": "  "
        }
       }
      },
      "text/html": [
       "<div>                            <div id=\"24e2d6c6-163b-496b-9969-b56a171f523a\" class=\"plotly-graph-div\" style=\"height:525px; width:100%;\"></div>            <script type=\"text/javascript\">                require([\"plotly\"], function(Plotly) {                    window.PLOTLYENV=window.PLOTLYENV || {};                                    if (document.getElementById(\"24e2d6c6-163b-496b-9969-b56a171f523a\")) {                    Plotly.newPlot(                        \"24e2d6c6-163b-496b-9969-b56a171f523a\",                        [{\"colorscale\":[[0.0,\"rgb(255,255,217)\"],[0.125,\"rgb(237,248,177)\"],[0.25,\"rgb(199,233,180)\"],[0.375,\"rgb(127,205,187)\"],[0.5,\"rgb(65,182,196)\"],[0.625,\"rgb(29,145,192)\"],[0.75,\"rgb(34,94,168)\"],[0.875,\"rgb(37,52,148)\"],[1.0,\"rgb(8,29,88)\"]],\"reversescale\":false,\"showscale\":false,\"x\":[\"koi_disposition\",\"koi_fpflag_nt\",\"koi_fpflag_ss\",\"koi_fpflag_co\",\"koi_fpflag_ec\",\"koi_impact\",\"koi_impact_err2\",\"koi_duration_err1\",\"koi_duration_err2\",\"koi_slogg\",\"koi_srad_err1\"],\"y\":[\"koi_disposition\",\"koi_fpflag_nt\",\"koi_fpflag_ss\",\"koi_fpflag_co\",\"koi_fpflag_ec\",\"koi_impact\",\"koi_impact_err2\",\"koi_duration_err1\",\"koi_duration_err2\",\"koi_slogg\",\"koi_srad_err1\"],\"z\":[[1.0,0.0,0.014,0.009,0.008,0.011,-0.014,0.157,-0.157,-0.071,0.069],[0.0,1.0,-0.241,0.003,0.051,0.073,-0.059,0.338,-0.338,-0.129,0.098],[0.014,-0.241,1.0,0.145,0.102,0.042,0.055,-0.182,0.182,-0.053,0.031],[0.009,0.003,0.145,1.0,0.538,0.008,0.003,-0.005,0.005,-0.012,0.029],[0.008,0.051,0.102,0.538,1.0,-0.005,0.011,0.025,-0.025,0.003,0.03],[0.011,0.073,0.042,0.008,-0.005,1.0,-0.835,0.022,-0.022,-0.074,0.027],[-0.014,-0.059,0.055,0.003,0.011,-0.835,1.0,-0.046,0.046,0.043,-0.013],[0.157,0.338,-0.182,-0.005,0.025,0.022,-0.046,1.0,-1.0,-0.054,0.071],[-0.157,-0.338,0.182,0.005,-0.025,-0.022,0.046,-1.0,1.0,0.054,-0.071],[-0.071,-0.129,-0.053,-0.012,0.003,-0.074,0.043,-0.054,0.054,1.0,-0.635],[0.069,0.098,0.031,0.029,0.03,0.027,-0.013,0.071,-0.071,-0.635,1.0]],\"type\":\"heatmap\"}],                        {\"annotations\":[{\"font\":{\"color\":\"#FFFFFF\"},\"showarrow\":false,\"text\":\"1.0\",\"x\":\"koi_disposition\",\"xref\":\"x\",\"y\":\"koi_disposition\",\"yref\":\"y\"},{\"font\":{\"color\":\"#FFFFFF\"},\"showarrow\":false,\"text\":\"0.0004\",\"x\":\"koi_fpflag_nt\",\"xref\":\"x\",\"y\":\"koi_disposition\",\"yref\":\"y\"},{\"font\":{\"color\":\"#FFFFFF\"},\"showarrow\":false,\"text\":\"0.0135\",\"x\":\"koi_fpflag_ss\",\"xref\":\"x\",\"y\":\"koi_disposition\",\"yref\":\"y\"},{\"font\":{\"color\":\"#FFFFFF\"},\"showarrow\":false,\"text\":\"0.0085\",\"x\":\"koi_fpflag_co\",\"xref\":\"x\",\"y\":\"koi_disposition\",\"yref\":\"y\"},{\"font\":{\"color\":\"#FFFFFF\"},\"showarrow\":false,\"text\":\"0.008\",\"x\":\"koi_fpflag_ec\",\"xref\":\"x\",\"y\":\"koi_disposition\",\"yref\":\"y\"},{\"font\":{\"color\":\"#FFFFFF\"},\"showarrow\":false,\"text\":\"0.0106\",\"x\":\"koi_impact\",\"xref\":\"x\",\"y\":\"koi_disposition\",\"yref\":\"y\"},{\"font\":{\"color\":\"#000000\"},\"showarrow\":false,\"text\":\"-0.014\",\"x\":\"koi_impact_err2\",\"xref\":\"x\",\"y\":\"koi_disposition\",\"yref\":\"y\"},{\"font\":{\"color\":\"#FFFFFF\"},\"showarrow\":false,\"text\":\"0.1566\",\"x\":\"koi_duration_err1\",\"xref\":\"x\",\"y\":\"koi_disposition\",\"yref\":\"y\"},{\"font\":{\"color\":\"#000000\"},\"showarrow\":false,\"text\":\"-0.1566\",\"x\":\"koi_duration_err2\",\"xref\":\"x\",\"y\":\"koi_disposition\",\"yref\":\"y\"},{\"font\":{\"color\":\"#000000\"},\"showarrow\":false,\"text\":\"-0.0714\",\"x\":\"koi_slogg\",\"xref\":\"x\",\"y\":\"koi_disposition\",\"yref\":\"y\"},{\"font\":{\"color\":\"#FFFFFF\"},\"showarrow\":false,\"text\":\"0.0693\",\"x\":\"koi_srad_err1\",\"xref\":\"x\",\"y\":\"koi_disposition\",\"yref\":\"y\"},{\"font\":{\"color\":\"#FFFFFF\"},\"showarrow\":false,\"text\":\"0.0004\",\"x\":\"koi_disposition\",\"xref\":\"x\",\"y\":\"koi_fpflag_nt\",\"yref\":\"y\"},{\"font\":{\"color\":\"#FFFFFF\"},\"showarrow\":false,\"text\":\"1.0\",\"x\":\"koi_fpflag_nt\",\"xref\":\"x\",\"y\":\"koi_fpflag_nt\",\"yref\":\"y\"},{\"font\":{\"color\":\"#000000\"},\"showarrow\":false,\"text\":\"-0.2411\",\"x\":\"koi_fpflag_ss\",\"xref\":\"x\",\"y\":\"koi_fpflag_nt\",\"yref\":\"y\"},{\"font\":{\"color\":\"#FFFFFF\"},\"showarrow\":false,\"text\":\"0.0031\",\"x\":\"koi_fpflag_co\",\"xref\":\"x\",\"y\":\"koi_fpflag_nt\",\"yref\":\"y\"},{\"font\":{\"color\":\"#FFFFFF\"},\"showarrow\":false,\"text\":\"0.0508\",\"x\":\"koi_fpflag_ec\",\"xref\":\"x\",\"y\":\"koi_fpflag_nt\",\"yref\":\"y\"},{\"font\":{\"color\":\"#FFFFFF\"},\"showarrow\":false,\"text\":\"0.0727\",\"x\":\"koi_impact\",\"xref\":\"x\",\"y\":\"koi_fpflag_nt\",\"yref\":\"y\"},{\"font\":{\"color\":\"#000000\"},\"showarrow\":false,\"text\":\"-0.059\",\"x\":\"koi_impact_err2\",\"xref\":\"x\",\"y\":\"koi_fpflag_nt\",\"yref\":\"y\"},{\"font\":{\"color\":\"#FFFFFF\"},\"showarrow\":false,\"text\":\"0.3376\",\"x\":\"koi_duration_err1\",\"xref\":\"x\",\"y\":\"koi_fpflag_nt\",\"yref\":\"y\"},{\"font\":{\"color\":\"#000000\"},\"showarrow\":false,\"text\":\"-0.3376\",\"x\":\"koi_duration_err2\",\"xref\":\"x\",\"y\":\"koi_fpflag_nt\",\"yref\":\"y\"},{\"font\":{\"color\":\"#000000\"},\"showarrow\":false,\"text\":\"-0.1286\",\"x\":\"koi_slogg\",\"xref\":\"x\",\"y\":\"koi_fpflag_nt\",\"yref\":\"y\"},{\"font\":{\"color\":\"#FFFFFF\"},\"showarrow\":false,\"text\":\"0.0981\",\"x\":\"koi_srad_err1\",\"xref\":\"x\",\"y\":\"koi_fpflag_nt\",\"yref\":\"y\"},{\"font\":{\"color\":\"#FFFFFF\"},\"showarrow\":false,\"text\":\"0.0135\",\"x\":\"koi_disposition\",\"xref\":\"x\",\"y\":\"koi_fpflag_ss\",\"yref\":\"y\"},{\"font\":{\"color\":\"#000000\"},\"showarrow\":false,\"text\":\"-0.2411\",\"x\":\"koi_fpflag_nt\",\"xref\":\"x\",\"y\":\"koi_fpflag_ss\",\"yref\":\"y\"},{\"font\":{\"color\":\"#FFFFFF\"},\"showarrow\":false,\"text\":\"1.0\",\"x\":\"koi_fpflag_ss\",\"xref\":\"x\",\"y\":\"koi_fpflag_ss\",\"yref\":\"y\"},{\"font\":{\"color\":\"#FFFFFF\"},\"showarrow\":false,\"text\":\"0.1445\",\"x\":\"koi_fpflag_co\",\"xref\":\"x\",\"y\":\"koi_fpflag_ss\",\"yref\":\"y\"},{\"font\":{\"color\":\"#FFFFFF\"},\"showarrow\":false,\"text\":\"0.1017\",\"x\":\"koi_fpflag_ec\",\"xref\":\"x\",\"y\":\"koi_fpflag_ss\",\"yref\":\"y\"},{\"font\":{\"color\":\"#FFFFFF\"},\"showarrow\":false,\"text\":\"0.042\",\"x\":\"koi_impact\",\"xref\":\"x\",\"y\":\"koi_fpflag_ss\",\"yref\":\"y\"},{\"font\":{\"color\":\"#FFFFFF\"},\"showarrow\":false,\"text\":\"0.0546\",\"x\":\"koi_impact_err2\",\"xref\":\"x\",\"y\":\"koi_fpflag_ss\",\"yref\":\"y\"},{\"font\":{\"color\":\"#000000\"},\"showarrow\":false,\"text\":\"-0.1817\",\"x\":\"koi_duration_err1\",\"xref\":\"x\",\"y\":\"koi_fpflag_ss\",\"yref\":\"y\"},{\"font\":{\"color\":\"#FFFFFF\"},\"showarrow\":false,\"text\":\"0.1817\",\"x\":\"koi_duration_err2\",\"xref\":\"x\",\"y\":\"koi_fpflag_ss\",\"yref\":\"y\"},{\"font\":{\"color\":\"#000000\"},\"showarrow\":false,\"text\":\"-0.0534\",\"x\":\"koi_slogg\",\"xref\":\"x\",\"y\":\"koi_fpflag_ss\",\"yref\":\"y\"},{\"font\":{\"color\":\"#FFFFFF\"},\"showarrow\":false,\"text\":\"0.0308\",\"x\":\"koi_srad_err1\",\"xref\":\"x\",\"y\":\"koi_fpflag_ss\",\"yref\":\"y\"},{\"font\":{\"color\":\"#FFFFFF\"},\"showarrow\":false,\"text\":\"0.0085\",\"x\":\"koi_disposition\",\"xref\":\"x\",\"y\":\"koi_fpflag_co\",\"yref\":\"y\"},{\"font\":{\"color\":\"#FFFFFF\"},\"showarrow\":false,\"text\":\"0.0031\",\"x\":\"koi_fpflag_nt\",\"xref\":\"x\",\"y\":\"koi_fpflag_co\",\"yref\":\"y\"},{\"font\":{\"color\":\"#FFFFFF\"},\"showarrow\":false,\"text\":\"0.1445\",\"x\":\"koi_fpflag_ss\",\"xref\":\"x\",\"y\":\"koi_fpflag_co\",\"yref\":\"y\"},{\"font\":{\"color\":\"#FFFFFF\"},\"showarrow\":false,\"text\":\"1.0\",\"x\":\"koi_fpflag_co\",\"xref\":\"x\",\"y\":\"koi_fpflag_co\",\"yref\":\"y\"},{\"font\":{\"color\":\"#FFFFFF\"},\"showarrow\":false,\"text\":\"0.5383\",\"x\":\"koi_fpflag_ec\",\"xref\":\"x\",\"y\":\"koi_fpflag_co\",\"yref\":\"y\"},{\"font\":{\"color\":\"#FFFFFF\"},\"showarrow\":false,\"text\":\"0.0075\",\"x\":\"koi_impact\",\"xref\":\"x\",\"y\":\"koi_fpflag_co\",\"yref\":\"y\"},{\"font\":{\"color\":\"#FFFFFF\"},\"showarrow\":false,\"text\":\"0.0026\",\"x\":\"koi_impact_err2\",\"xref\":\"x\",\"y\":\"koi_fpflag_co\",\"yref\":\"y\"},{\"font\":{\"color\":\"#000000\"},\"showarrow\":false,\"text\":\"-0.005\",\"x\":\"koi_duration_err1\",\"xref\":\"x\",\"y\":\"koi_fpflag_co\",\"yref\":\"y\"},{\"font\":{\"color\":\"#FFFFFF\"},\"showarrow\":false,\"text\":\"0.005\",\"x\":\"koi_duration_err2\",\"xref\":\"x\",\"y\":\"koi_fpflag_co\",\"yref\":\"y\"},{\"font\":{\"color\":\"#000000\"},\"showarrow\":false,\"text\":\"-0.0121\",\"x\":\"koi_slogg\",\"xref\":\"x\",\"y\":\"koi_fpflag_co\",\"yref\":\"y\"},{\"font\":{\"color\":\"#FFFFFF\"},\"showarrow\":false,\"text\":\"0.0292\",\"x\":\"koi_srad_err1\",\"xref\":\"x\",\"y\":\"koi_fpflag_co\",\"yref\":\"y\"},{\"font\":{\"color\":\"#FFFFFF\"},\"showarrow\":false,\"text\":\"0.008\",\"x\":\"koi_disposition\",\"xref\":\"x\",\"y\":\"koi_fpflag_ec\",\"yref\":\"y\"},{\"font\":{\"color\":\"#FFFFFF\"},\"showarrow\":false,\"text\":\"0.0508\",\"x\":\"koi_fpflag_nt\",\"xref\":\"x\",\"y\":\"koi_fpflag_ec\",\"yref\":\"y\"},{\"font\":{\"color\":\"#FFFFFF\"},\"showarrow\":false,\"text\":\"0.1017\",\"x\":\"koi_fpflag_ss\",\"xref\":\"x\",\"y\":\"koi_fpflag_ec\",\"yref\":\"y\"},{\"font\":{\"color\":\"#FFFFFF\"},\"showarrow\":false,\"text\":\"0.5383\",\"x\":\"koi_fpflag_co\",\"xref\":\"x\",\"y\":\"koi_fpflag_ec\",\"yref\":\"y\"},{\"font\":{\"color\":\"#FFFFFF\"},\"showarrow\":false,\"text\":\"1.0\",\"x\":\"koi_fpflag_ec\",\"xref\":\"x\",\"y\":\"koi_fpflag_ec\",\"yref\":\"y\"},{\"font\":{\"color\":\"#000000\"},\"showarrow\":false,\"text\":\"-0.0049\",\"x\":\"koi_impact\",\"xref\":\"x\",\"y\":\"koi_fpflag_ec\",\"yref\":\"y\"},{\"font\":{\"color\":\"#FFFFFF\"},\"showarrow\":false,\"text\":\"0.0113\",\"x\":\"koi_impact_err2\",\"xref\":\"x\",\"y\":\"koi_fpflag_ec\",\"yref\":\"y\"},{\"font\":{\"color\":\"#FFFFFF\"},\"showarrow\":false,\"text\":\"0.0254\",\"x\":\"koi_duration_err1\",\"xref\":\"x\",\"y\":\"koi_fpflag_ec\",\"yref\":\"y\"},{\"font\":{\"color\":\"#000000\"},\"showarrow\":false,\"text\":\"-0.0254\",\"x\":\"koi_duration_err2\",\"xref\":\"x\",\"y\":\"koi_fpflag_ec\",\"yref\":\"y\"},{\"font\":{\"color\":\"#FFFFFF\"},\"showarrow\":false,\"text\":\"0.0031\",\"x\":\"koi_slogg\",\"xref\":\"x\",\"y\":\"koi_fpflag_ec\",\"yref\":\"y\"},{\"font\":{\"color\":\"#FFFFFF\"},\"showarrow\":false,\"text\":\"0.0301\",\"x\":\"koi_srad_err1\",\"xref\":\"x\",\"y\":\"koi_fpflag_ec\",\"yref\":\"y\"},{\"font\":{\"color\":\"#FFFFFF\"},\"showarrow\":false,\"text\":\"0.0106\",\"x\":\"koi_disposition\",\"xref\":\"x\",\"y\":\"koi_impact\",\"yref\":\"y\"},{\"font\":{\"color\":\"#FFFFFF\"},\"showarrow\":false,\"text\":\"0.0727\",\"x\":\"koi_fpflag_nt\",\"xref\":\"x\",\"y\":\"koi_impact\",\"yref\":\"y\"},{\"font\":{\"color\":\"#FFFFFF\"},\"showarrow\":false,\"text\":\"0.042\",\"x\":\"koi_fpflag_ss\",\"xref\":\"x\",\"y\":\"koi_impact\",\"yref\":\"y\"},{\"font\":{\"color\":\"#FFFFFF\"},\"showarrow\":false,\"text\":\"0.0075\",\"x\":\"koi_fpflag_co\",\"xref\":\"x\",\"y\":\"koi_impact\",\"yref\":\"y\"},{\"font\":{\"color\":\"#000000\"},\"showarrow\":false,\"text\":\"-0.0049\",\"x\":\"koi_fpflag_ec\",\"xref\":\"x\",\"y\":\"koi_impact\",\"yref\":\"y\"},{\"font\":{\"color\":\"#FFFFFF\"},\"showarrow\":false,\"text\":\"1.0\",\"x\":\"koi_impact\",\"xref\":\"x\",\"y\":\"koi_impact\",\"yref\":\"y\"},{\"font\":{\"color\":\"#000000\"},\"showarrow\":false,\"text\":\"-0.8352\",\"x\":\"koi_impact_err2\",\"xref\":\"x\",\"y\":\"koi_impact\",\"yref\":\"y\"},{\"font\":{\"color\":\"#FFFFFF\"},\"showarrow\":false,\"text\":\"0.0216\",\"x\":\"koi_duration_err1\",\"xref\":\"x\",\"y\":\"koi_impact\",\"yref\":\"y\"},{\"font\":{\"color\":\"#000000\"},\"showarrow\":false,\"text\":\"-0.0216\",\"x\":\"koi_duration_err2\",\"xref\":\"x\",\"y\":\"koi_impact\",\"yref\":\"y\"},{\"font\":{\"color\":\"#000000\"},\"showarrow\":false,\"text\":\"-0.0738\",\"x\":\"koi_slogg\",\"xref\":\"x\",\"y\":\"koi_impact\",\"yref\":\"y\"},{\"font\":{\"color\":\"#FFFFFF\"},\"showarrow\":false,\"text\":\"0.0272\",\"x\":\"koi_srad_err1\",\"xref\":\"x\",\"y\":\"koi_impact\",\"yref\":\"y\"},{\"font\":{\"color\":\"#000000\"},\"showarrow\":false,\"text\":\"-0.014\",\"x\":\"koi_disposition\",\"xref\":\"x\",\"y\":\"koi_impact_err2\",\"yref\":\"y\"},{\"font\":{\"color\":\"#000000\"},\"showarrow\":false,\"text\":\"-0.059\",\"x\":\"koi_fpflag_nt\",\"xref\":\"x\",\"y\":\"koi_impact_err2\",\"yref\":\"y\"},{\"font\":{\"color\":\"#FFFFFF\"},\"showarrow\":false,\"text\":\"0.0546\",\"x\":\"koi_fpflag_ss\",\"xref\":\"x\",\"y\":\"koi_impact_err2\",\"yref\":\"y\"},{\"font\":{\"color\":\"#FFFFFF\"},\"showarrow\":false,\"text\":\"0.0026\",\"x\":\"koi_fpflag_co\",\"xref\":\"x\",\"y\":\"koi_impact_err2\",\"yref\":\"y\"},{\"font\":{\"color\":\"#FFFFFF\"},\"showarrow\":false,\"text\":\"0.0113\",\"x\":\"koi_fpflag_ec\",\"xref\":\"x\",\"y\":\"koi_impact_err2\",\"yref\":\"y\"},{\"font\":{\"color\":\"#000000\"},\"showarrow\":false,\"text\":\"-0.8352\",\"x\":\"koi_impact\",\"xref\":\"x\",\"y\":\"koi_impact_err2\",\"yref\":\"y\"},{\"font\":{\"color\":\"#FFFFFF\"},\"showarrow\":false,\"text\":\"1.0\",\"x\":\"koi_impact_err2\",\"xref\":\"x\",\"y\":\"koi_impact_err2\",\"yref\":\"y\"},{\"font\":{\"color\":\"#000000\"},\"showarrow\":false,\"text\":\"-0.0459\",\"x\":\"koi_duration_err1\",\"xref\":\"x\",\"y\":\"koi_impact_err2\",\"yref\":\"y\"},{\"font\":{\"color\":\"#FFFFFF\"},\"showarrow\":false,\"text\":\"0.0459\",\"x\":\"koi_duration_err2\",\"xref\":\"x\",\"y\":\"koi_impact_err2\",\"yref\":\"y\"},{\"font\":{\"color\":\"#FFFFFF\"},\"showarrow\":false,\"text\":\"0.0426\",\"x\":\"koi_slogg\",\"xref\":\"x\",\"y\":\"koi_impact_err2\",\"yref\":\"y\"},{\"font\":{\"color\":\"#000000\"},\"showarrow\":false,\"text\":\"-0.0133\",\"x\":\"koi_srad_err1\",\"xref\":\"x\",\"y\":\"koi_impact_err2\",\"yref\":\"y\"},{\"font\":{\"color\":\"#FFFFFF\"},\"showarrow\":false,\"text\":\"0.1566\",\"x\":\"koi_disposition\",\"xref\":\"x\",\"y\":\"koi_duration_err1\",\"yref\":\"y\"},{\"font\":{\"color\":\"#FFFFFF\"},\"showarrow\":false,\"text\":\"0.3376\",\"x\":\"koi_fpflag_nt\",\"xref\":\"x\",\"y\":\"koi_duration_err1\",\"yref\":\"y\"},{\"font\":{\"color\":\"#000000\"},\"showarrow\":false,\"text\":\"-0.1817\",\"x\":\"koi_fpflag_ss\",\"xref\":\"x\",\"y\":\"koi_duration_err1\",\"yref\":\"y\"},{\"font\":{\"color\":\"#000000\"},\"showarrow\":false,\"text\":\"-0.005\",\"x\":\"koi_fpflag_co\",\"xref\":\"x\",\"y\":\"koi_duration_err1\",\"yref\":\"y\"},{\"font\":{\"color\":\"#FFFFFF\"},\"showarrow\":false,\"text\":\"0.0254\",\"x\":\"koi_fpflag_ec\",\"xref\":\"x\",\"y\":\"koi_duration_err1\",\"yref\":\"y\"},{\"font\":{\"color\":\"#FFFFFF\"},\"showarrow\":false,\"text\":\"0.0216\",\"x\":\"koi_impact\",\"xref\":\"x\",\"y\":\"koi_duration_err1\",\"yref\":\"y\"},{\"font\":{\"color\":\"#000000\"},\"showarrow\":false,\"text\":\"-0.0459\",\"x\":\"koi_impact_err2\",\"xref\":\"x\",\"y\":\"koi_duration_err1\",\"yref\":\"y\"},{\"font\":{\"color\":\"#FFFFFF\"},\"showarrow\":false,\"text\":\"1.0\",\"x\":\"koi_duration_err1\",\"xref\":\"x\",\"y\":\"koi_duration_err1\",\"yref\":\"y\"},{\"font\":{\"color\":\"#000000\"},\"showarrow\":false,\"text\":\"-1.0\",\"x\":\"koi_duration_err2\",\"xref\":\"x\",\"y\":\"koi_duration_err1\",\"yref\":\"y\"},{\"font\":{\"color\":\"#000000\"},\"showarrow\":false,\"text\":\"-0.0539\",\"x\":\"koi_slogg\",\"xref\":\"x\",\"y\":\"koi_duration_err1\",\"yref\":\"y\"},{\"font\":{\"color\":\"#FFFFFF\"},\"showarrow\":false,\"text\":\"0.0706\",\"x\":\"koi_srad_err1\",\"xref\":\"x\",\"y\":\"koi_duration_err1\",\"yref\":\"y\"},{\"font\":{\"color\":\"#000000\"},\"showarrow\":false,\"text\":\"-0.1566\",\"x\":\"koi_disposition\",\"xref\":\"x\",\"y\":\"koi_duration_err2\",\"yref\":\"y\"},{\"font\":{\"color\":\"#000000\"},\"showarrow\":false,\"text\":\"-0.3376\",\"x\":\"koi_fpflag_nt\",\"xref\":\"x\",\"y\":\"koi_duration_err2\",\"yref\":\"y\"},{\"font\":{\"color\":\"#FFFFFF\"},\"showarrow\":false,\"text\":\"0.1817\",\"x\":\"koi_fpflag_ss\",\"xref\":\"x\",\"y\":\"koi_duration_err2\",\"yref\":\"y\"},{\"font\":{\"color\":\"#FFFFFF\"},\"showarrow\":false,\"text\":\"0.005\",\"x\":\"koi_fpflag_co\",\"xref\":\"x\",\"y\":\"koi_duration_err2\",\"yref\":\"y\"},{\"font\":{\"color\":\"#000000\"},\"showarrow\":false,\"text\":\"-0.0254\",\"x\":\"koi_fpflag_ec\",\"xref\":\"x\",\"y\":\"koi_duration_err2\",\"yref\":\"y\"},{\"font\":{\"color\":\"#000000\"},\"showarrow\":false,\"text\":\"-0.0216\",\"x\":\"koi_impact\",\"xref\":\"x\",\"y\":\"koi_duration_err2\",\"yref\":\"y\"},{\"font\":{\"color\":\"#FFFFFF\"},\"showarrow\":false,\"text\":\"0.0459\",\"x\":\"koi_impact_err2\",\"xref\":\"x\",\"y\":\"koi_duration_err2\",\"yref\":\"y\"},{\"font\":{\"color\":\"#000000\"},\"showarrow\":false,\"text\":\"-1.0\",\"x\":\"koi_duration_err1\",\"xref\":\"x\",\"y\":\"koi_duration_err2\",\"yref\":\"y\"},{\"font\":{\"color\":\"#FFFFFF\"},\"showarrow\":false,\"text\":\"1.0\",\"x\":\"koi_duration_err2\",\"xref\":\"x\",\"y\":\"koi_duration_err2\",\"yref\":\"y\"},{\"font\":{\"color\":\"#FFFFFF\"},\"showarrow\":false,\"text\":\"0.0539\",\"x\":\"koi_slogg\",\"xref\":\"x\",\"y\":\"koi_duration_err2\",\"yref\":\"y\"},{\"font\":{\"color\":\"#000000\"},\"showarrow\":false,\"text\":\"-0.0706\",\"x\":\"koi_srad_err1\",\"xref\":\"x\",\"y\":\"koi_duration_err2\",\"yref\":\"y\"},{\"font\":{\"color\":\"#000000\"},\"showarrow\":false,\"text\":\"-0.0714\",\"x\":\"koi_disposition\",\"xref\":\"x\",\"y\":\"koi_slogg\",\"yref\":\"y\"},{\"font\":{\"color\":\"#000000\"},\"showarrow\":false,\"text\":\"-0.1286\",\"x\":\"koi_fpflag_nt\",\"xref\":\"x\",\"y\":\"koi_slogg\",\"yref\":\"y\"},{\"font\":{\"color\":\"#000000\"},\"showarrow\":false,\"text\":\"-0.0534\",\"x\":\"koi_fpflag_ss\",\"xref\":\"x\",\"y\":\"koi_slogg\",\"yref\":\"y\"},{\"font\":{\"color\":\"#000000\"},\"showarrow\":false,\"text\":\"-0.0121\",\"x\":\"koi_fpflag_co\",\"xref\":\"x\",\"y\":\"koi_slogg\",\"yref\":\"y\"},{\"font\":{\"color\":\"#FFFFFF\"},\"showarrow\":false,\"text\":\"0.0031\",\"x\":\"koi_fpflag_ec\",\"xref\":\"x\",\"y\":\"koi_slogg\",\"yref\":\"y\"},{\"font\":{\"color\":\"#000000\"},\"showarrow\":false,\"text\":\"-0.0738\",\"x\":\"koi_impact\",\"xref\":\"x\",\"y\":\"koi_slogg\",\"yref\":\"y\"},{\"font\":{\"color\":\"#FFFFFF\"},\"showarrow\":false,\"text\":\"0.0426\",\"x\":\"koi_impact_err2\",\"xref\":\"x\",\"y\":\"koi_slogg\",\"yref\":\"y\"},{\"font\":{\"color\":\"#000000\"},\"showarrow\":false,\"text\":\"-0.0539\",\"x\":\"koi_duration_err1\",\"xref\":\"x\",\"y\":\"koi_slogg\",\"yref\":\"y\"},{\"font\":{\"color\":\"#FFFFFF\"},\"showarrow\":false,\"text\":\"0.0539\",\"x\":\"koi_duration_err2\",\"xref\":\"x\",\"y\":\"koi_slogg\",\"yref\":\"y\"},{\"font\":{\"color\":\"#FFFFFF\"},\"showarrow\":false,\"text\":\"1.0\",\"x\":\"koi_slogg\",\"xref\":\"x\",\"y\":\"koi_slogg\",\"yref\":\"y\"},{\"font\":{\"color\":\"#000000\"},\"showarrow\":false,\"text\":\"-0.6351\",\"x\":\"koi_srad_err1\",\"xref\":\"x\",\"y\":\"koi_slogg\",\"yref\":\"y\"},{\"font\":{\"color\":\"#FFFFFF\"},\"showarrow\":false,\"text\":\"0.0693\",\"x\":\"koi_disposition\",\"xref\":\"x\",\"y\":\"koi_srad_err1\",\"yref\":\"y\"},{\"font\":{\"color\":\"#FFFFFF\"},\"showarrow\":false,\"text\":\"0.0981\",\"x\":\"koi_fpflag_nt\",\"xref\":\"x\",\"y\":\"koi_srad_err1\",\"yref\":\"y\"},{\"font\":{\"color\":\"#FFFFFF\"},\"showarrow\":false,\"text\":\"0.0308\",\"x\":\"koi_fpflag_ss\",\"xref\":\"x\",\"y\":\"koi_srad_err1\",\"yref\":\"y\"},{\"font\":{\"color\":\"#FFFFFF\"},\"showarrow\":false,\"text\":\"0.0292\",\"x\":\"koi_fpflag_co\",\"xref\":\"x\",\"y\":\"koi_srad_err1\",\"yref\":\"y\"},{\"font\":{\"color\":\"#FFFFFF\"},\"showarrow\":false,\"text\":\"0.0301\",\"x\":\"koi_fpflag_ec\",\"xref\":\"x\",\"y\":\"koi_srad_err1\",\"yref\":\"y\"},{\"font\":{\"color\":\"#FFFFFF\"},\"showarrow\":false,\"text\":\"0.0272\",\"x\":\"koi_impact\",\"xref\":\"x\",\"y\":\"koi_srad_err1\",\"yref\":\"y\"},{\"font\":{\"color\":\"#000000\"},\"showarrow\":false,\"text\":\"-0.0133\",\"x\":\"koi_impact_err2\",\"xref\":\"x\",\"y\":\"koi_srad_err1\",\"yref\":\"y\"},{\"font\":{\"color\":\"#FFFFFF\"},\"showarrow\":false,\"text\":\"0.0706\",\"x\":\"koi_duration_err1\",\"xref\":\"x\",\"y\":\"koi_srad_err1\",\"yref\":\"y\"},{\"font\":{\"color\":\"#000000\"},\"showarrow\":false,\"text\":\"-0.0706\",\"x\":\"koi_duration_err2\",\"xref\":\"x\",\"y\":\"koi_srad_err1\",\"yref\":\"y\"},{\"font\":{\"color\":\"#000000\"},\"showarrow\":false,\"text\":\"-0.6351\",\"x\":\"koi_slogg\",\"xref\":\"x\",\"y\":\"koi_srad_err1\",\"yref\":\"y\"},{\"font\":{\"color\":\"#FFFFFF\"},\"showarrow\":false,\"text\":\"1.0\",\"x\":\"koi_srad_err1\",\"xref\":\"x\",\"y\":\"koi_srad_err1\",\"yref\":\"y\"}],\"template\":{\"data\":{\"barpolar\":[{\"marker\":{\"line\":{\"color\":\"#E5ECF6\",\"width\":0.5},\"pattern\":{\"fillmode\":\"overlay\",\"size\":10,\"solidity\":0.2}},\"type\":\"barpolar\"}],\"bar\":[{\"error_x\":{\"color\":\"#2a3f5f\"},\"error_y\":{\"color\":\"#2a3f5f\"},\"marker\":{\"line\":{\"color\":\"#E5ECF6\",\"width\":0.5},\"pattern\":{\"fillmode\":\"overlay\",\"size\":10,\"solidity\":0.2}},\"type\":\"bar\"}],\"carpet\":[{\"aaxis\":{\"endlinecolor\":\"#2a3f5f\",\"gridcolor\":\"white\",\"linecolor\":\"white\",\"minorgridcolor\":\"white\",\"startlinecolor\":\"#2a3f5f\"},\"baxis\":{\"endlinecolor\":\"#2a3f5f\",\"gridcolor\":\"white\",\"linecolor\":\"white\",\"minorgridcolor\":\"white\",\"startlinecolor\":\"#2a3f5f\"},\"type\":\"carpet\"}],\"choropleth\":[{\"colorbar\":{\"outlinewidth\":0,\"ticks\":\"\"},\"type\":\"choropleth\"}],\"contourcarpet\":[{\"colorbar\":{\"outlinewidth\":0,\"ticks\":\"\"},\"type\":\"contourcarpet\"}],\"contour\":[{\"colorbar\":{\"outlinewidth\":0,\"ticks\":\"\"},\"colorscale\":[[0.0,\"#0d0887\"],[0.1111111111111111,\"#46039f\"],[0.2222222222222222,\"#7201a8\"],[0.3333333333333333,\"#9c179e\"],[0.4444444444444444,\"#bd3786\"],[0.5555555555555556,\"#d8576b\"],[0.6666666666666666,\"#ed7953\"],[0.7777777777777778,\"#fb9f3a\"],[0.8888888888888888,\"#fdca26\"],[1.0,\"#f0f921\"]],\"type\":\"contour\"}],\"heatmapgl\":[{\"colorbar\":{\"outlinewidth\":0,\"ticks\":\"\"},\"colorscale\":[[0.0,\"#0d0887\"],[0.1111111111111111,\"#46039f\"],[0.2222222222222222,\"#7201a8\"],[0.3333333333333333,\"#9c179e\"],[0.4444444444444444,\"#bd3786\"],[0.5555555555555556,\"#d8576b\"],[0.6666666666666666,\"#ed7953\"],[0.7777777777777778,\"#fb9f3a\"],[0.8888888888888888,\"#fdca26\"],[1.0,\"#f0f921\"]],\"type\":\"heatmapgl\"}],\"heatmap\":[{\"colorbar\":{\"outlinewidth\":0,\"ticks\":\"\"},\"colorscale\":[[0.0,\"#0d0887\"],[0.1111111111111111,\"#46039f\"],[0.2222222222222222,\"#7201a8\"],[0.3333333333333333,\"#9c179e\"],[0.4444444444444444,\"#bd3786\"],[0.5555555555555556,\"#d8576b\"],[0.6666666666666666,\"#ed7953\"],[0.7777777777777778,\"#fb9f3a\"],[0.8888888888888888,\"#fdca26\"],[1.0,\"#f0f921\"]],\"type\":\"heatmap\"}],\"histogram2dcontour\":[{\"colorbar\":{\"outlinewidth\":0,\"ticks\":\"\"},\"colorscale\":[[0.0,\"#0d0887\"],[0.1111111111111111,\"#46039f\"],[0.2222222222222222,\"#7201a8\"],[0.3333333333333333,\"#9c179e\"],[0.4444444444444444,\"#bd3786\"],[0.5555555555555556,\"#d8576b\"],[0.6666666666666666,\"#ed7953\"],[0.7777777777777778,\"#fb9f3a\"],[0.8888888888888888,\"#fdca26\"],[1.0,\"#f0f921\"]],\"type\":\"histogram2dcontour\"}],\"histogram2d\":[{\"colorbar\":{\"outlinewidth\":0,\"ticks\":\"\"},\"colorscale\":[[0.0,\"#0d0887\"],[0.1111111111111111,\"#46039f\"],[0.2222222222222222,\"#7201a8\"],[0.3333333333333333,\"#9c179e\"],[0.4444444444444444,\"#bd3786\"],[0.5555555555555556,\"#d8576b\"],[0.6666666666666666,\"#ed7953\"],[0.7777777777777778,\"#fb9f3a\"],[0.8888888888888888,\"#fdca26\"],[1.0,\"#f0f921\"]],\"type\":\"histogram2d\"}],\"histogram\":[{\"marker\":{\"pattern\":{\"fillmode\":\"overlay\",\"size\":10,\"solidity\":0.2}},\"type\":\"histogram\"}],\"mesh3d\":[{\"colorbar\":{\"outlinewidth\":0,\"ticks\":\"\"},\"type\":\"mesh3d\"}],\"parcoords\":[{\"line\":{\"colorbar\":{\"outlinewidth\":0,\"ticks\":\"\"}},\"type\":\"parcoords\"}],\"pie\":[{\"automargin\":true,\"type\":\"pie\"}],\"scatter3d\":[{\"line\":{\"colorbar\":{\"outlinewidth\":0,\"ticks\":\"\"}},\"marker\":{\"colorbar\":{\"outlinewidth\":0,\"ticks\":\"\"}},\"type\":\"scatter3d\"}],\"scattercarpet\":[{\"marker\":{\"colorbar\":{\"outlinewidth\":0,\"ticks\":\"\"}},\"type\":\"scattercarpet\"}],\"scattergeo\":[{\"marker\":{\"colorbar\":{\"outlinewidth\":0,\"ticks\":\"\"}},\"type\":\"scattergeo\"}],\"scattergl\":[{\"marker\":{\"colorbar\":{\"outlinewidth\":0,\"ticks\":\"\"}},\"type\":\"scattergl\"}],\"scattermapbox\":[{\"marker\":{\"colorbar\":{\"outlinewidth\":0,\"ticks\":\"\"}},\"type\":\"scattermapbox\"}],\"scatterpolargl\":[{\"marker\":{\"colorbar\":{\"outlinewidth\":0,\"ticks\":\"\"}},\"type\":\"scatterpolargl\"}],\"scatterpolar\":[{\"marker\":{\"colorbar\":{\"outlinewidth\":0,\"ticks\":\"\"}},\"type\":\"scatterpolar\"}],\"scatter\":[{\"marker\":{\"colorbar\":{\"outlinewidth\":0,\"ticks\":\"\"}},\"type\":\"scatter\"}],\"scatterternary\":[{\"marker\":{\"colorbar\":{\"outlinewidth\":0,\"ticks\":\"\"}},\"type\":\"scatterternary\"}],\"surface\":[{\"colorbar\":{\"outlinewidth\":0,\"ticks\":\"\"},\"colorscale\":[[0.0,\"#0d0887\"],[0.1111111111111111,\"#46039f\"],[0.2222222222222222,\"#7201a8\"],[0.3333333333333333,\"#9c179e\"],[0.4444444444444444,\"#bd3786\"],[0.5555555555555556,\"#d8576b\"],[0.6666666666666666,\"#ed7953\"],[0.7777777777777778,\"#fb9f3a\"],[0.8888888888888888,\"#fdca26\"],[1.0,\"#f0f921\"]],\"type\":\"surface\"}],\"table\":[{\"cells\":{\"fill\":{\"color\":\"#EBF0F8\"},\"line\":{\"color\":\"white\"}},\"header\":{\"fill\":{\"color\":\"#C8D4E3\"},\"line\":{\"color\":\"white\"}},\"type\":\"table\"}]},\"layout\":{\"annotationdefaults\":{\"arrowcolor\":\"#2a3f5f\",\"arrowhead\":0,\"arrowwidth\":1},\"autotypenumbers\":\"strict\",\"coloraxis\":{\"colorbar\":{\"outlinewidth\":0,\"ticks\":\"\"}},\"colorscale\":{\"diverging\":[[0,\"#8e0152\"],[0.1,\"#c51b7d\"],[0.2,\"#de77ae\"],[0.3,\"#f1b6da\"],[0.4,\"#fde0ef\"],[0.5,\"#f7f7f7\"],[0.6,\"#e6f5d0\"],[0.7,\"#b8e186\"],[0.8,\"#7fbc41\"],[0.9,\"#4d9221\"],[1,\"#276419\"]],\"sequential\":[[0.0,\"#0d0887\"],[0.1111111111111111,\"#46039f\"],[0.2222222222222222,\"#7201a8\"],[0.3333333333333333,\"#9c179e\"],[0.4444444444444444,\"#bd3786\"],[0.5555555555555556,\"#d8576b\"],[0.6666666666666666,\"#ed7953\"],[0.7777777777777778,\"#fb9f3a\"],[0.8888888888888888,\"#fdca26\"],[1.0,\"#f0f921\"]],\"sequentialminus\":[[0.0,\"#0d0887\"],[0.1111111111111111,\"#46039f\"],[0.2222222222222222,\"#7201a8\"],[0.3333333333333333,\"#9c179e\"],[0.4444444444444444,\"#bd3786\"],[0.5555555555555556,\"#d8576b\"],[0.6666666666666666,\"#ed7953\"],[0.7777777777777778,\"#fb9f3a\"],[0.8888888888888888,\"#fdca26\"],[1.0,\"#f0f921\"]]},\"colorway\":[\"#636efa\",\"#EF553B\",\"#00cc96\",\"#ab63fa\",\"#FFA15A\",\"#19d3f3\",\"#FF6692\",\"#B6E880\",\"#FF97FF\",\"#FECB52\"],\"font\":{\"color\":\"#2a3f5f\"},\"geo\":{\"bgcolor\":\"white\",\"lakecolor\":\"white\",\"landcolor\":\"#E5ECF6\",\"showlakes\":true,\"showland\":true,\"subunitcolor\":\"white\"},\"hoverlabel\":{\"align\":\"left\"},\"hovermode\":\"closest\",\"mapbox\":{\"style\":\"light\"},\"paper_bgcolor\":\"white\",\"plot_bgcolor\":\"#E5ECF6\",\"polar\":{\"angularaxis\":{\"gridcolor\":\"white\",\"linecolor\":\"white\",\"ticks\":\"\"},\"bgcolor\":\"#E5ECF6\",\"radialaxis\":{\"gridcolor\":\"white\",\"linecolor\":\"white\",\"ticks\":\"\"}},\"scene\":{\"xaxis\":{\"backgroundcolor\":\"#E5ECF6\",\"gridcolor\":\"white\",\"gridwidth\":2,\"linecolor\":\"white\",\"showbackground\":true,\"ticks\":\"\",\"zerolinecolor\":\"white\"},\"yaxis\":{\"backgroundcolor\":\"#E5ECF6\",\"gridcolor\":\"white\",\"gridwidth\":2,\"linecolor\":\"white\",\"showbackground\":true,\"ticks\":\"\",\"zerolinecolor\":\"white\"},\"zaxis\":{\"backgroundcolor\":\"#E5ECF6\",\"gridcolor\":\"white\",\"gridwidth\":2,\"linecolor\":\"white\",\"showbackground\":true,\"ticks\":\"\",\"zerolinecolor\":\"white\"}},\"shapedefaults\":{\"line\":{\"color\":\"#2a3f5f\"}},\"ternary\":{\"aaxis\":{\"gridcolor\":\"white\",\"linecolor\":\"white\",\"ticks\":\"\"},\"baxis\":{\"gridcolor\":\"white\",\"linecolor\":\"white\",\"ticks\":\"\"},\"bgcolor\":\"#E5ECF6\",\"caxis\":{\"gridcolor\":\"white\",\"linecolor\":\"white\",\"ticks\":\"\"}},\"title\":{\"x\":0.05},\"xaxis\":{\"automargin\":true,\"gridcolor\":\"white\",\"linecolor\":\"white\",\"ticks\":\"\",\"title\":{\"standoff\":15},\"zerolinecolor\":\"white\",\"zerolinewidth\":2},\"yaxis\":{\"automargin\":true,\"gridcolor\":\"white\",\"linecolor\":\"white\",\"ticks\":\"\",\"title\":{\"standoff\":15},\"zerolinecolor\":\"white\",\"zerolinewidth\":2}}},\"xaxis\":{\"dtick\":1,\"gridcolor\":\"rgb(0, 0, 0)\",\"side\":\"top\",\"ticks\":\"\"},\"yaxis\":{\"dtick\":1,\"ticks\":\"\",\"ticksuffix\":\"  \"}},                        {\"responsive\": true}                    ).then(function(){\n",
       "                            \n",
       "var gd = document.getElementById('24e2d6c6-163b-496b-9969-b56a171f523a');\n",
       "var x = new MutationObserver(function (mutations, observer) {{\n",
       "        var display = window.getComputedStyle(gd).display;\n",
       "        if (!display || display === 'none') {{\n",
       "            console.log([gd, 'removed!']);\n",
       "            Plotly.purge(gd);\n",
       "            observer.disconnect();\n",
       "        }}\n",
       "}});\n",
       "\n",
       "// Listen for the removal of the full notebook cells\n",
       "var notebookContainer = gd.closest('#notebook-container');\n",
       "if (notebookContainer) {{\n",
       "    x.observe(notebookContainer, {childList: true});\n",
       "}}\n",
       "\n",
       "// Listen for the clearing of the current output cell\n",
       "var outputEl = gd.closest('.output');\n",
       "if (outputEl) {{\n",
       "    x.observe(outputEl, {childList: true});\n",
       "}}\n",
       "\n",
       "                        })                };                });            </script>        </div>"
      ]
     },
     "metadata": {},
     "output_type": "display_data"
    }
   ],
   "source": [
    "iplot(figfac.create_annotated_heatmap(rel_correlation.round(3).values, x=rel_correlation.columns.to_list(), \n",
    "                                  y=rel_correlation.index.to_list(), annotation_text=rel_correlation.round(4).values, colorscale= 'ylgnbu'))"
   ]
  },
  {
   "cell_type": "code",
   "execution_count": 87,
   "id": "efda1780",
   "metadata": {},
   "outputs": [],
   "source": [
    "from sklearn.preprocessing import MinMaxScaler\n",
    "steps = [('scaler', MinMaxScaler()),\n",
    "         ('logistic_regression', logreg)]"
   ]
  },
  {
   "cell_type": "code",
   "execution_count": 88,
   "id": "d4080bf4",
   "metadata": {},
   "outputs": [],
   "source": [
    "from sklearn.pipeline import Pipeline\n",
    "pipeline = Pipeline(steps)"
   ]
  },
  {
   "cell_type": "code",
   "execution_count": 101,
   "id": "7638094a",
   "metadata": {},
   "outputs": [],
   "source": [
    "c_space = np.logspace(-5, 8, 15)\n",
    "parameters = {'logistic_regression__C':c_space,\n",
    "              'logistic_regression__penalty':['l1','l2'],\n",
    "              'logistic_regression__solver': ['liblinear']}"
   ]
  },
  {
   "cell_type": "code",
   "execution_count": 102,
   "id": "c72b4318",
   "metadata": {},
   "outputs": [],
   "source": [
    "X_train, X_test, y_train, y_test = train_test_split(relevant_features, target, test_size=0.3, random_state=42)"
   ]
  },
  {
   "cell_type": "code",
   "execution_count": 103,
   "id": "78768e08",
   "metadata": {},
   "outputs": [],
   "source": [
    "from sklearn.model_selection import GridSearchCV\n",
    "logreg_cv = GridSearchCV(pipeline, param_grid = parameters, verbose = 3)"
   ]
  },
  {
   "cell_type": "code",
   "execution_count": 104,
   "id": "f72bdf7c",
   "metadata": {
    "scrolled": true
   },
   "outputs": [
    {
     "name": "stdout",
     "output_type": "stream",
     "text": [
      "Fitting 5 folds for each of 30 candidates, totalling 150 fits\n",
      "[CV 1/5] END logistic_regression__C=1e-05, logistic_regression__penalty=l1, logistic_regression__solver=liblinear;, score=0.250 total time=   0.0s\n",
      "[CV 2/5] END logistic_regression__C=1e-05, logistic_regression__penalty=l1, logistic_regression__solver=liblinear;, score=0.250 total time=   0.0s\n",
      "[CV 3/5] END logistic_regression__C=1e-05, logistic_regression__penalty=l1, logistic_regression__solver=liblinear;, score=0.251 total time=   0.0s\n",
      "[CV 4/5] END logistic_regression__C=1e-05, logistic_regression__penalty=l1, logistic_regression__solver=liblinear;, score=0.251 total time=   0.0s\n",
      "[CV 5/5] END logistic_regression__C=1e-05, logistic_regression__penalty=l1, logistic_regression__solver=liblinear;, score=0.251 total time=   0.0s\n",
      "[CV 1/5] END logistic_regression__C=1e-05, logistic_regression__penalty=l2, logistic_regression__solver=liblinear;, score=0.508 total time=   0.0s\n",
      "[CV 2/5] END logistic_regression__C=1e-05, logistic_regression__penalty=l2, logistic_regression__solver=liblinear;, score=0.508 total time=   0.0s\n",
      "[CV 3/5] END logistic_regression__C=1e-05, logistic_regression__penalty=l2, logistic_regression__solver=liblinear;, score=0.507 total time=   0.0s\n",
      "[CV 4/5] END logistic_regression__C=1e-05, logistic_regression__penalty=l2, logistic_regression__solver=liblinear;, score=0.508 total time=   0.0s\n",
      "[CV 5/5] END logistic_regression__C=1e-05, logistic_regression__penalty=l2, logistic_regression__solver=liblinear;, score=0.508 total time=   0.0s\n",
      "[CV 1/5] END logistic_regression__C=8.483428982440725e-05, logistic_regression__penalty=l1, logistic_regression__solver=liblinear;, score=0.250 total time=   0.0s\n",
      "[CV 2/5] END logistic_regression__C=8.483428982440725e-05, logistic_regression__penalty=l1, logistic_regression__solver=liblinear;, score=0.250 total time=   0.0s\n",
      "[CV 3/5] END logistic_regression__C=8.483428982440725e-05, logistic_regression__penalty=l1, logistic_regression__solver=liblinear;, score=0.251 total time=   0.0s\n",
      "[CV 4/5] END logistic_regression__C=8.483428982440725e-05, logistic_regression__penalty=l1, logistic_regression__solver=liblinear;, score=0.251 total time=   0.0s\n",
      "[CV 5/5] END logistic_regression__C=8.483428982440725e-05, logistic_regression__penalty=l1, logistic_regression__solver=liblinear;, score=0.251 total time=   0.0s\n",
      "[CV 1/5] END logistic_regression__C=8.483428982440725e-05, logistic_regression__penalty=l2, logistic_regression__solver=liblinear;, score=0.508 total time=   0.0s\n",
      "[CV 2/5] END logistic_regression__C=8.483428982440725e-05, logistic_regression__penalty=l2, logistic_regression__solver=liblinear;, score=0.508 total time=   0.0s\n",
      "[CV 3/5] END logistic_regression__C=8.483428982440725e-05, logistic_regression__penalty=l2, logistic_regression__solver=liblinear;, score=0.507 total time=   0.0s\n",
      "[CV 4/5] END logistic_regression__C=8.483428982440725e-05, logistic_regression__penalty=l2, logistic_regression__solver=liblinear;, score=0.508 total time=   0.0s\n",
      "[CV 5/5] END logistic_regression__C=8.483428982440725e-05, logistic_regression__penalty=l2, logistic_regression__solver=liblinear;, score=0.508 total time=   0.0s\n",
      "[CV 1/5] END logistic_regression__C=0.0007196856730011522, logistic_regression__penalty=l1, logistic_regression__solver=liblinear;, score=0.250 total time=   0.0s\n",
      "[CV 2/5] END logistic_regression__C=0.0007196856730011522, logistic_regression__penalty=l1, logistic_regression__solver=liblinear;, score=0.250 total time=   0.0s\n",
      "[CV 3/5] END logistic_regression__C=0.0007196856730011522, logistic_regression__penalty=l1, logistic_regression__solver=liblinear;, score=0.251 total time=   0.0s\n",
      "[CV 4/5] END logistic_regression__C=0.0007196856730011522, logistic_regression__penalty=l1, logistic_regression__solver=liblinear;, score=0.251 total time=   0.0s\n",
      "[CV 5/5] END logistic_regression__C=0.0007196856730011522, logistic_regression__penalty=l1, logistic_regression__solver=liblinear;, score=0.251 total time=   0.0s\n",
      "[CV 1/5] END logistic_regression__C=0.0007196856730011522, logistic_regression__penalty=l2, logistic_regression__solver=liblinear;, score=0.508 total time=   0.0s\n",
      "[CV 2/5] END logistic_regression__C=0.0007196856730011522, logistic_regression__penalty=l2, logistic_regression__solver=liblinear;, score=0.508 total time=   0.0s\n",
      "[CV 3/5] END logistic_regression__C=0.0007196856730011522, logistic_regression__penalty=l2, logistic_regression__solver=liblinear;, score=0.507 total time=   0.0s\n",
      "[CV 4/5] END logistic_regression__C=0.0007196856730011522, logistic_regression__penalty=l2, logistic_regression__solver=liblinear;, score=0.508 total time=   0.0s\n",
      "[CV 5/5] END logistic_regression__C=0.0007196856730011522, logistic_regression__penalty=l2, logistic_regression__solver=liblinear;, score=0.508 total time=   0.0s\n",
      "[CV 1/5] END logistic_regression__C=0.006105402296585327, logistic_regression__penalty=l1, logistic_regression__solver=liblinear;, score=0.745 total time=   0.0s\n",
      "[CV 2/5] END logistic_regression__C=0.006105402296585327, logistic_regression__penalty=l1, logistic_regression__solver=liblinear;, score=0.740 total time=   0.0s\n",
      "[CV 3/5] END logistic_regression__C=0.006105402296585327, logistic_regression__penalty=l1, logistic_regression__solver=liblinear;, score=0.752 total time=   0.0s\n",
      "[CV 4/5] END logistic_regression__C=0.006105402296585327, logistic_regression__penalty=l1, logistic_regression__solver=liblinear;, score=0.753 total time=   0.0s\n",
      "[CV 5/5] END logistic_regression__C=0.006105402296585327, logistic_regression__penalty=l1, logistic_regression__solver=liblinear;, score=0.753 total time=   0.0s\n",
      "[CV 1/5] END logistic_regression__C=0.006105402296585327, logistic_regression__penalty=l2, logistic_regression__solver=liblinear;, score=0.763 total time=   0.0s\n",
      "[CV 2/5] END logistic_regression__C=0.006105402296585327, logistic_regression__penalty=l2, logistic_regression__solver=liblinear;, score=0.749 total time=   0.0s\n",
      "[CV 3/5] END logistic_regression__C=0.006105402296585327, logistic_regression__penalty=l2, logistic_regression__solver=liblinear;, score=0.751 total time=   0.0s\n",
      "[CV 4/5] END logistic_regression__C=0.006105402296585327, logistic_regression__penalty=l2, logistic_regression__solver=liblinear;, score=0.753 total time=   0.0s\n",
      "[CV 5/5] END logistic_regression__C=0.006105402296585327, logistic_regression__penalty=l2, logistic_regression__solver=liblinear;, score=0.755 total time=   0.0s\n",
      "[CV 1/5] END logistic_regression__C=0.05179474679231213, logistic_regression__penalty=l1, logistic_regression__solver=liblinear;, score=0.756 total time=   0.0s\n",
      "[CV 2/5] END logistic_regression__C=0.05179474679231213, logistic_regression__penalty=l1, logistic_regression__solver=liblinear;, score=0.748 total time=   0.0s\n",
      "[CV 3/5] END logistic_regression__C=0.05179474679231213, logistic_regression__penalty=l1, logistic_regression__solver=liblinear;, score=0.749 total time=   0.0s\n",
      "[CV 4/5] END logistic_regression__C=0.05179474679231213, logistic_regression__penalty=l1, logistic_regression__solver=liblinear;, score=0.752 total time=   0.0s\n",
      "[CV 5/5] END logistic_regression__C=0.05179474679231213, logistic_regression__penalty=l1, logistic_regression__solver=liblinear;, score=0.753 total time=   0.0s\n",
      "[CV 1/5] END logistic_regression__C=0.05179474679231213, logistic_regression__penalty=l2, logistic_regression__solver=liblinear;, score=0.811 total time=   0.0s\n",
      "[CV 2/5] END logistic_regression__C=0.05179474679231213, logistic_regression__penalty=l2, logistic_regression__solver=liblinear;, score=0.781 total time=   0.0s\n",
      "[CV 3/5] END logistic_regression__C=0.05179474679231213, logistic_regression__penalty=l2, logistic_regression__solver=liblinear;, score=0.783 total time=   0.0s\n",
      "[CV 4/5] END logistic_regression__C=0.05179474679231213, logistic_regression__penalty=l2, logistic_regression__solver=liblinear;, score=0.783 total time=   0.0s\n",
      "[CV 5/5] END logistic_regression__C=0.05179474679231213, logistic_regression__penalty=l2, logistic_regression__solver=liblinear;, score=0.787 total time=   0.0s\n",
      "[CV 1/5] END logistic_regression__C=0.4393970560760795, logistic_regression__penalty=l1, logistic_regression__solver=liblinear;, score=0.873 total time=   0.0s\n",
      "[CV 2/5] END logistic_regression__C=0.4393970560760795, logistic_regression__penalty=l1, logistic_regression__solver=liblinear;, score=0.850 total time=   0.0s\n",
      "[CV 3/5] END logistic_regression__C=0.4393970560760795, logistic_regression__penalty=l1, logistic_regression__solver=liblinear;, score=0.856 total time=   0.0s\n"
     ]
    },
    {
     "name": "stdout",
     "output_type": "stream",
     "text": [
      "[CV 4/5] END logistic_regression__C=0.4393970560760795, logistic_regression__penalty=l1, logistic_regression__solver=liblinear;, score=0.840 total time=   0.0s\n",
      "[CV 5/5] END logistic_regression__C=0.4393970560760795, logistic_regression__penalty=l1, logistic_regression__solver=liblinear;, score=0.853 total time=   0.0s\n",
      "[CV 1/5] END logistic_regression__C=0.4393970560760795, logistic_regression__penalty=l2, logistic_regression__solver=liblinear;, score=0.856 total time=   0.0s\n",
      "[CV 2/5] END logistic_regression__C=0.4393970560760795, logistic_regression__penalty=l2, logistic_regression__solver=liblinear;, score=0.835 total time=   0.0s\n",
      "[CV 3/5] END logistic_regression__C=0.4393970560760795, logistic_regression__penalty=l2, logistic_regression__solver=liblinear;, score=0.827 total time=   0.0s\n",
      "[CV 4/5] END logistic_regression__C=0.4393970560760795, logistic_regression__penalty=l2, logistic_regression__solver=liblinear;, score=0.822 total time=   0.0s\n",
      "[CV 5/5] END logistic_regression__C=0.4393970560760795, logistic_regression__penalty=l2, logistic_regression__solver=liblinear;, score=0.835 total time=   0.0s\n",
      "[CV 1/5] END logistic_regression__C=3.727593720314938, logistic_regression__penalty=l1, logistic_regression__solver=liblinear;, score=0.873 total time=   0.4s\n",
      "[CV 2/5] END logistic_regression__C=3.727593720314938, logistic_regression__penalty=l1, logistic_regression__solver=liblinear;, score=0.859 total time=   0.7s\n",
      "[CV 3/5] END logistic_regression__C=3.727593720314938, logistic_regression__penalty=l1, logistic_regression__solver=liblinear;, score=0.865 total time=   0.4s\n",
      "[CV 4/5] END logistic_regression__C=3.727593720314938, logistic_regression__penalty=l1, logistic_regression__solver=liblinear;, score=0.847 total time=   0.3s\n",
      "[CV 5/5] END logistic_regression__C=3.727593720314938, logistic_regression__penalty=l1, logistic_regression__solver=liblinear;, score=0.853 total time=   0.6s\n",
      "[CV 1/5] END logistic_regression__C=3.727593720314938, logistic_regression__penalty=l2, logistic_regression__solver=liblinear;, score=0.865 total time=   0.0s\n",
      "[CV 2/5] END logistic_regression__C=3.727593720314938, logistic_regression__penalty=l2, logistic_regression__solver=liblinear;, score=0.852 total time=   0.0s\n",
      "[CV 3/5] END logistic_regression__C=3.727593720314938, logistic_regression__penalty=l2, logistic_regression__solver=liblinear;, score=0.853 total time=   0.0s\n",
      "[CV 4/5] END logistic_regression__C=3.727593720314938, logistic_regression__penalty=l2, logistic_regression__solver=liblinear;, score=0.833 total time=   0.0s\n",
      "[CV 5/5] END logistic_regression__C=3.727593720314938, logistic_regression__penalty=l2, logistic_regression__solver=liblinear;, score=0.853 total time=   0.0s\n",
      "[CV 1/5] END logistic_regression__C=31.622776601683793, logistic_regression__penalty=l1, logistic_regression__solver=liblinear;, score=0.875 total time=   6.2s\n",
      "[CV 2/5] END logistic_regression__C=31.622776601683793, logistic_regression__penalty=l1, logistic_regression__solver=liblinear;, score=0.856 total time=   4.3s\n",
      "[CV 3/5] END logistic_regression__C=31.622776601683793, logistic_regression__penalty=l1, logistic_regression__solver=liblinear;, score=0.871 total time=   8.5s\n",
      "[CV 4/5] END logistic_regression__C=31.622776601683793, logistic_regression__penalty=l1, logistic_regression__solver=liblinear;, score=0.843 total time=   7.0s\n",
      "[CV 5/5] END logistic_regression__C=31.622776601683793, logistic_regression__penalty=l1, logistic_regression__solver=liblinear;, score=0.855 total time=   7.6s\n",
      "[CV 1/5] END logistic_regression__C=31.622776601683793, logistic_regression__penalty=l2, logistic_regression__solver=liblinear;, score=0.873 total time=   0.0s\n",
      "[CV 2/5] END logistic_regression__C=31.622776601683793, logistic_regression__penalty=l2, logistic_regression__solver=liblinear;, score=0.859 total time=   0.0s\n",
      "[CV 3/5] END logistic_regression__C=31.622776601683793, logistic_regression__penalty=l2, logistic_regression__solver=liblinear;, score=0.868 total time=   0.0s\n",
      "[CV 4/5] END logistic_regression__C=31.622776601683793, logistic_regression__penalty=l2, logistic_regression__solver=liblinear;, score=0.847 total time=   0.0s\n",
      "[CV 5/5] END logistic_regression__C=31.622776601683793, logistic_regression__penalty=l2, logistic_regression__solver=liblinear;, score=0.854 total time=   0.0s\n",
      "[CV 1/5] END logistic_regression__C=268.2695795279727, logistic_regression__penalty=l1, logistic_regression__solver=liblinear;, score=0.875 total time=   9.4s\n",
      "[CV 2/5] END logistic_regression__C=268.2695795279727, logistic_regression__penalty=l1, logistic_regression__solver=liblinear;, score=0.858 total time=   5.3s\n",
      "[CV 3/5] END logistic_regression__C=268.2695795279727, logistic_regression__penalty=l1, logistic_regression__solver=liblinear;, score=0.872 total time=  12.5s\n",
      "[CV 4/5] END logistic_regression__C=268.2695795279727, logistic_regression__penalty=l1, logistic_regression__solver=liblinear;, score=0.844 total time=   9.2s\n",
      "[CV 5/5] END logistic_regression__C=268.2695795279727, logistic_regression__penalty=l1, logistic_regression__solver=liblinear;, score=0.855 total time=  12.1s\n",
      "[CV 1/5] END logistic_regression__C=268.2695795279727, logistic_regression__penalty=l2, logistic_regression__solver=liblinear;, score=0.875 total time=   0.0s\n",
      "[CV 2/5] END logistic_regression__C=268.2695795279727, logistic_regression__penalty=l2, logistic_regression__solver=liblinear;, score=0.858 total time=   0.0s\n",
      "[CV 3/5] END logistic_regression__C=268.2695795279727, logistic_regression__penalty=l2, logistic_regression__solver=liblinear;, score=0.871 total time=   0.0s\n",
      "[CV 4/5] END logistic_regression__C=268.2695795279727, logistic_regression__penalty=l2, logistic_regression__solver=liblinear;, score=0.846 total time=   0.0s\n",
      "[CV 5/5] END logistic_regression__C=268.2695795279727, logistic_regression__penalty=l2, logistic_regression__solver=liblinear;, score=0.854 total time=   0.0s\n",
      "[CV 1/5] END logistic_regression__C=2275.845926074791, logistic_regression__penalty=l1, logistic_regression__solver=liblinear;, score=0.875 total time=  10.3s\n",
      "[CV 2/5] END logistic_regression__C=2275.845926074791, logistic_regression__penalty=l1, logistic_regression__solver=liblinear;, score=0.858 total time=   5.5s\n",
      "[CV 3/5] END logistic_regression__C=2275.845926074791, logistic_regression__penalty=l1, logistic_regression__solver=liblinear;, score=0.872 total time=  12.8s\n",
      "[CV 4/5] END logistic_regression__C=2275.845926074791, logistic_regression__penalty=l1, logistic_regression__solver=liblinear;, score=0.846 total time=  10.1s\n",
      "[CV 5/5] END logistic_regression__C=2275.845926074791, logistic_regression__penalty=l1, logistic_regression__solver=liblinear;, score=0.855 total time=  13.1s\n",
      "[CV 1/5] END logistic_regression__C=2275.845926074791, logistic_regression__penalty=l2, logistic_regression__solver=liblinear;, score=0.879 total time=   0.0s\n",
      "[CV 2/5] END logistic_regression__C=2275.845926074791, logistic_regression__penalty=l2, logistic_regression__solver=liblinear;, score=0.859 total time=   0.0s\n",
      "[CV 3/5] END logistic_regression__C=2275.845926074791, logistic_regression__penalty=l2, logistic_regression__solver=liblinear;, score=0.872 total time=   0.0s\n",
      "[CV 4/5] END logistic_regression__C=2275.845926074791, logistic_regression__penalty=l2, logistic_regression__solver=liblinear;, score=0.845 total time=   0.0s\n",
      "[CV 5/5] END logistic_regression__C=2275.845926074791, logistic_regression__penalty=l2, logistic_regression__solver=liblinear;, score=0.855 total time=   0.0s\n",
      "[CV 1/5] END logistic_regression__C=19306.977288832535, logistic_regression__penalty=l1, logistic_regression__solver=liblinear;, score=0.875 total time=  10.1s\n",
      "[CV 2/5] END logistic_regression__C=19306.977288832535, logistic_regression__penalty=l1, logistic_regression__solver=liblinear;, score=0.859 total time=   5.7s\n",
      "[CV 3/5] END logistic_regression__C=19306.977288832535, logistic_regression__penalty=l1, logistic_regression__solver=liblinear;, score=0.872 total time=  13.4s\n",
      "[CV 4/5] END logistic_regression__C=19306.977288832535, logistic_regression__penalty=l1, logistic_regression__solver=liblinear;, score=0.846 total time=  10.2s\n",
      "[CV 5/5] END logistic_regression__C=19306.977288832535, logistic_regression__penalty=l1, logistic_regression__solver=liblinear;, score=0.855 total time=  13.1s\n",
      "[CV 1/5] END logistic_regression__C=19306.977288832535, logistic_regression__penalty=l2, logistic_regression__solver=liblinear;, score=0.877 total time=   0.0s\n",
      "[CV 2/5] END logistic_regression__C=19306.977288832535, logistic_regression__penalty=l2, logistic_regression__solver=liblinear;, score=0.858 total time=   0.0s\n",
      "[CV 3/5] END logistic_regression__C=19306.977288832535, logistic_regression__penalty=l2, logistic_regression__solver=liblinear;, score=0.873 total time=   0.0s\n"
     ]
    },
    {
     "name": "stdout",
     "output_type": "stream",
     "text": [
      "[CV 4/5] END logistic_regression__C=19306.977288832535, logistic_regression__penalty=l2, logistic_regression__solver=liblinear;, score=0.847 total time=   0.0s\n",
      "[CV 5/5] END logistic_regression__C=19306.977288832535, logistic_regression__penalty=l2, logistic_regression__solver=liblinear;, score=0.854 total time=   0.0s\n",
      "[CV 1/5] END logistic_regression__C=163789.3706954068, logistic_regression__penalty=l1, logistic_regression__solver=liblinear;, score=0.875 total time=  10.0s\n",
      "[CV 2/5] END logistic_regression__C=163789.3706954068, logistic_regression__penalty=l1, logistic_regression__solver=liblinear;, score=0.859 total time=   5.5s\n",
      "[CV 3/5] END logistic_regression__C=163789.3706954068, logistic_regression__penalty=l1, logistic_regression__solver=liblinear;, score=0.872 total time=  13.1s\n",
      "[CV 4/5] END logistic_regression__C=163789.3706954068, logistic_regression__penalty=l1, logistic_regression__solver=liblinear;, score=0.846 total time=   9.9s\n",
      "[CV 5/5] END logistic_regression__C=163789.3706954068, logistic_regression__penalty=l1, logistic_regression__solver=liblinear;, score=0.855 total time=  13.2s\n",
      "[CV 1/5] END logistic_regression__C=163789.3706954068, logistic_regression__penalty=l2, logistic_regression__solver=liblinear;, score=0.876 total time=   0.0s\n",
      "[CV 2/5] END logistic_regression__C=163789.3706954068, logistic_regression__penalty=l2, logistic_regression__solver=liblinear;, score=0.858 total time=   0.0s\n",
      "[CV 3/5] END logistic_regression__C=163789.3706954068, logistic_regression__penalty=l2, logistic_regression__solver=liblinear;, score=0.873 total time=   0.0s\n",
      "[CV 4/5] END logistic_regression__C=163789.3706954068, logistic_regression__penalty=l2, logistic_regression__solver=liblinear;, score=0.847 total time=   0.0s\n",
      "[CV 5/5] END logistic_regression__C=163789.3706954068, logistic_regression__penalty=l2, logistic_regression__solver=liblinear;, score=0.855 total time=   0.0s\n",
      "[CV 1/5] END logistic_regression__C=1389495.494373136, logistic_regression__penalty=l1, logistic_regression__solver=liblinear;, score=0.875 total time=  10.3s\n",
      "[CV 2/5] END logistic_regression__C=1389495.494373136, logistic_regression__penalty=l1, logistic_regression__solver=liblinear;, score=0.859 total time=   5.6s\n",
      "[CV 3/5] END logistic_regression__C=1389495.494373136, logistic_regression__penalty=l1, logistic_regression__solver=liblinear;, score=0.872 total time=  12.4s\n",
      "[CV 4/5] END logistic_regression__C=1389495.494373136, logistic_regression__penalty=l1, logistic_regression__solver=liblinear;, score=0.846 total time=   5.9s\n",
      "[CV 5/5] END logistic_regression__C=1389495.494373136, logistic_regression__penalty=l1, logistic_regression__solver=liblinear;, score=0.855 total time=   8.3s\n",
      "[CV 1/5] END logistic_regression__C=1389495.494373136, logistic_regression__penalty=l2, logistic_regression__solver=liblinear;, score=0.876 total time=   0.0s\n",
      "[CV 2/5] END logistic_regression__C=1389495.494373136, logistic_regression__penalty=l2, logistic_regression__solver=liblinear;, score=0.858 total time=   0.0s\n",
      "[CV 3/5] END logistic_regression__C=1389495.494373136, logistic_regression__penalty=l2, logistic_regression__solver=liblinear;, score=0.873 total time=   0.0s\n",
      "[CV 4/5] END logistic_regression__C=1389495.494373136, logistic_regression__penalty=l2, logistic_regression__solver=liblinear;, score=0.847 total time=   0.0s\n",
      "[CV 5/5] END logistic_regression__C=1389495.494373136, logistic_regression__penalty=l2, logistic_regression__solver=liblinear;, score=0.855 total time=   0.0s\n",
      "[CV 1/5] END logistic_regression__C=11787686.347935867, logistic_regression__penalty=l1, logistic_regression__solver=liblinear;, score=0.875 total time=   5.7s\n",
      "[CV 2/5] END logistic_regression__C=11787686.347935867, logistic_regression__penalty=l1, logistic_regression__solver=liblinear;, score=0.859 total time=   3.3s\n",
      "[CV 3/5] END logistic_regression__C=11787686.347935867, logistic_regression__penalty=l1, logistic_regression__solver=liblinear;, score=0.872 total time=   7.6s\n",
      "[CV 4/5] END logistic_regression__C=11787686.347935867, logistic_regression__penalty=l1, logistic_regression__solver=liblinear;, score=0.846 total time=   5.9s\n",
      "[CV 5/5] END logistic_regression__C=11787686.347935867, logistic_regression__penalty=l1, logistic_regression__solver=liblinear;, score=0.855 total time=   7.8s\n",
      "[CV 1/5] END logistic_regression__C=11787686.347935867, logistic_regression__penalty=l2, logistic_regression__solver=liblinear;, score=0.876 total time=   0.0s\n",
      "[CV 2/5] END logistic_regression__C=11787686.347935867, logistic_regression__penalty=l2, logistic_regression__solver=liblinear;, score=0.858 total time=   0.0s\n",
      "[CV 3/5] END logistic_regression__C=11787686.347935867, logistic_regression__penalty=l2, logistic_regression__solver=liblinear;, score=0.873 total time=   0.0s\n",
      "[CV 4/5] END logistic_regression__C=11787686.347935867, logistic_regression__penalty=l2, logistic_regression__solver=liblinear;, score=0.847 total time=   0.0s\n",
      "[CV 5/5] END logistic_regression__C=11787686.347935867, logistic_regression__penalty=l2, logistic_regression__solver=liblinear;, score=0.855 total time=   0.0s\n",
      "[CV 1/5] END logistic_regression__C=100000000.0, logistic_regression__penalty=l1, logistic_regression__solver=liblinear;, score=0.875 total time=   5.9s\n",
      "[CV 2/5] END logistic_regression__C=100000000.0, logistic_regression__penalty=l1, logistic_regression__solver=liblinear;, score=0.859 total time=   3.2s\n",
      "[CV 3/5] END logistic_regression__C=100000000.0, logistic_regression__penalty=l1, logistic_regression__solver=liblinear;, score=0.872 total time=   7.6s\n",
      "[CV 4/5] END logistic_regression__C=100000000.0, logistic_regression__penalty=l1, logistic_regression__solver=liblinear;, score=0.846 total time=   5.8s\n",
      "[CV 5/5] END logistic_regression__C=100000000.0, logistic_regression__penalty=l1, logistic_regression__solver=liblinear;, score=0.855 total time=   8.0s\n",
      "[CV 1/5] END logistic_regression__C=100000000.0, logistic_regression__penalty=l2, logistic_regression__solver=liblinear;, score=0.876 total time=   0.0s\n",
      "[CV 2/5] END logistic_regression__C=100000000.0, logistic_regression__penalty=l2, logistic_regression__solver=liblinear;, score=0.858 total time=   0.0s\n",
      "[CV 3/5] END logistic_regression__C=100000000.0, logistic_regression__penalty=l2, logistic_regression__solver=liblinear;, score=0.873 total time=   0.0s\n",
      "[CV 4/5] END logistic_regression__C=100000000.0, logistic_regression__penalty=l2, logistic_regression__solver=liblinear;, score=0.847 total time=   0.0s\n",
      "[CV 5/5] END logistic_regression__C=100000000.0, logistic_regression__penalty=l2, logistic_regression__solver=liblinear;, score=0.855 total time=   0.0s\n"
     ]
    },
    {
     "data": {
      "text/plain": [
       "GridSearchCV(estimator=Pipeline(steps=[('scaler', MinMaxScaler()),\n",
       "                                       ('logistic_regression',\n",
       "                                        LogisticRegression(max_iter=1000))]),\n",
       "             param_grid={'logistic_regression__C': array([1.00000000e-05, 8.48342898e-05, 7.19685673e-04, 6.10540230e-03,\n",
       "       5.17947468e-02, 4.39397056e-01, 3.72759372e+00, 3.16227766e+01,\n",
       "       2.68269580e+02, 2.27584593e+03, 1.93069773e+04, 1.63789371e+05,\n",
       "       1.38949549e+06, 1.17876863e+07, 1.00000000e+08]),\n",
       "                         'logistic_regression__penalty': ['l1', 'l2'],\n",
       "                         'logistic_regression__solver': ['liblinear']},\n",
       "             verbose=3)"
      ]
     },
     "execution_count": 104,
     "metadata": {},
     "output_type": "execute_result"
    }
   ],
   "source": [
    "logreg_cv.fit(X_train, y_train)"
   ]
  },
  {
   "cell_type": "code",
   "execution_count": 105,
   "id": "5d0ea665",
   "metadata": {},
   "outputs": [],
   "source": [
    "predict = logreg_cv.predict(X_test)"
   ]
  },
  {
   "cell_type": "code",
   "execution_count": 109,
   "id": "a8a2414b",
   "metadata": {},
   "outputs": [
    {
     "name": "stdout",
     "output_type": "stream",
     "text": [
      "Accuracy: 0.8517635843660629\n",
      "              precision    recall  f1-score   support\n",
      "\n",
      "           0       0.70      0.83      0.76       574\n",
      "           1       0.98      1.00      0.99      1020\n",
      "           2       0.76      0.59      0.66       504\n",
      "\n",
      "    accuracy                           0.85      2098\n",
      "   macro avg       0.82      0.80      0.80      2098\n",
      "weighted avg       0.85      0.85      0.85      2098\n",
      "\n",
      "Tuned Model Parameters: {'logistic_regression__C': 2275.845926074791, 'logistic_regression__penalty': 'l2', 'logistic_regression__solver': 'liblinear'}\n",
      "[[ 474   12   88]\n",
      " [   0 1017    3]\n",
      " [ 202    6  296]]\n"
     ]
    }
   ],
   "source": [
    "from sklearn.metrics import classification_report, confusion_matrix\n",
    "print(\"Accuracy: {}\".format(logreg_cv.score(X_test, y_test)))\n",
    "print(classification_report(y_test, predict))\n",
    "print(\"Tuned Model Parameters: {}\".format(logreg_cv.best_params_))\n",
    "print(confusion_matrix(y_test, predict))"
   ]
  },
  {
   "cell_type": "code",
   "execution_count": 111,
   "id": "80e17842",
   "metadata": {},
   "outputs": [
    {
     "data": {
      "text/html": [
       "<div>\n",
       "<style scoped>\n",
       "    .dataframe tbody tr th:only-of-type {\n",
       "        vertical-align: middle;\n",
       "    }\n",
       "\n",
       "    .dataframe tbody tr th {\n",
       "        vertical-align: top;\n",
       "    }\n",
       "\n",
       "    .dataframe thead th {\n",
       "        text-align: right;\n",
       "    }\n",
       "</style>\n",
       "<table border=\"1\" class=\"dataframe\">\n",
       "  <thead>\n",
       "    <tr style=\"text-align: right;\">\n",
       "      <th></th>\n",
       "      <th>Prediction</th>\n",
       "      <th>Actual</th>\n",
       "    </tr>\n",
       "  </thead>\n",
       "  <tbody>\n",
       "    <tr>\n",
       "      <th>0</th>\n",
       "      <td>FALSE POSITIVE</td>\n",
       "      <td>FALSE POSITIVE</td>\n",
       "    </tr>\n",
       "    <tr>\n",
       "      <th>1</th>\n",
       "      <td>CANDIDATE</td>\n",
       "      <td>CANDIDATE</td>\n",
       "    </tr>\n",
       "    <tr>\n",
       "      <th>2</th>\n",
       "      <td>FALSE POSITIVE</td>\n",
       "      <td>FALSE POSITIVE</td>\n",
       "    </tr>\n",
       "    <tr>\n",
       "      <th>3</th>\n",
       "      <td>FALSE POSITIVE</td>\n",
       "      <td>FALSE POSITIVE</td>\n",
       "    </tr>\n",
       "    <tr>\n",
       "      <th>4</th>\n",
       "      <td>FALSE POSITIVE</td>\n",
       "      <td>FALSE POSITIVE</td>\n",
       "    </tr>\n",
       "    <tr>\n",
       "      <th>...</th>\n",
       "      <td>...</td>\n",
       "      <td>...</td>\n",
       "    </tr>\n",
       "    <tr>\n",
       "      <th>2093</th>\n",
       "      <td>FALSE POSITIVE</td>\n",
       "      <td>FALSE POSITIVE</td>\n",
       "    </tr>\n",
       "    <tr>\n",
       "      <th>2094</th>\n",
       "      <td>CANDIDATE</td>\n",
       "      <td>CONFIRMED</td>\n",
       "    </tr>\n",
       "    <tr>\n",
       "      <th>2095</th>\n",
       "      <td>CONFIRMED</td>\n",
       "      <td>CANDIDATE</td>\n",
       "    </tr>\n",
       "    <tr>\n",
       "      <th>2096</th>\n",
       "      <td>CONFIRMED</td>\n",
       "      <td>CONFIRMED</td>\n",
       "    </tr>\n",
       "    <tr>\n",
       "      <th>2097</th>\n",
       "      <td>CANDIDATE</td>\n",
       "      <td>CONFIRMED</td>\n",
       "    </tr>\n",
       "  </tbody>\n",
       "</table>\n",
       "<p>2098 rows × 2 columns</p>\n",
       "</div>"
      ],
      "text/plain": [
       "          Prediction          Actual\n",
       "0     FALSE POSITIVE  FALSE POSITIVE\n",
       "1          CANDIDATE       CANDIDATE\n",
       "2     FALSE POSITIVE  FALSE POSITIVE\n",
       "3     FALSE POSITIVE  FALSE POSITIVE\n",
       "4     FALSE POSITIVE  FALSE POSITIVE\n",
       "...              ...             ...\n",
       "2093  FALSE POSITIVE  FALSE POSITIVE\n",
       "2094       CANDIDATE       CONFIRMED\n",
       "2095       CONFIRMED       CANDIDATE\n",
       "2096       CONFIRMED       CONFIRMED\n",
       "2097       CANDIDATE       CONFIRMED\n",
       "\n",
       "[2098 rows x 2 columns]"
      ]
     },
     "execution_count": 111,
     "metadata": {},
     "output_type": "execute_result"
    }
   ],
   "source": [
    "predictor_df = pd.DataFrame({'Prediction':predict, 'Actual':y_test}).reset_index(drop=True)\n",
    "predictor_df[['Prediction', 'Actual']] = predictor_df[['Prediction', 'Actual']].replace({0: 'CONFIRMED', 1: 'FALSE POSITIVE', 2 : 'CANDIDATE'})\n",
    "predictor_df"
   ]
  },
  {
   "cell_type": "code",
   "execution_count": null,
   "id": "841d890e",
   "metadata": {},
   "outputs": [],
   "source": []
  }
 ],
 "metadata": {
  "kernelspec": {
   "display_name": "Python 3",
   "language": "python",
   "name": "python3"
  },
  "language_info": {
   "codemirror_mode": {
    "name": "ipython",
    "version": 3
   },
   "file_extension": ".py",
   "mimetype": "text/x-python",
   "name": "python",
   "nbconvert_exporter": "python",
   "pygments_lexer": "ipython3",
   "version": "3.6.10"
  }
 },
 "nbformat": 4,
 "nbformat_minor": 5
}
