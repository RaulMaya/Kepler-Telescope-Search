{
 "cells": [
  {
   "cell_type": "code",
   "execution_count": 30,
   "id": "3ac03516",
   "metadata": {},
   "outputs": [],
   "source": [
    "import warnings\n",
    "warnings.simplefilter('ignore')\n",
    "import pandas as pd"
   ]
  },
  {
   "cell_type": "code",
   "execution_count": 31,
   "id": "7df663d6",
   "metadata": {},
   "outputs": [
    {
     "data": {
      "text/html": [
       "<div>\n",
       "<style scoped>\n",
       "    .dataframe tbody tr th:only-of-type {\n",
       "        vertical-align: middle;\n",
       "    }\n",
       "\n",
       "    .dataframe tbody tr th {\n",
       "        vertical-align: top;\n",
       "    }\n",
       "\n",
       "    .dataframe thead th {\n",
       "        text-align: right;\n",
       "    }\n",
       "</style>\n",
       "<table border=\"1\" class=\"dataframe\">\n",
       "  <thead>\n",
       "    <tr style=\"text-align: right;\">\n",
       "      <th></th>\n",
       "      <th>koi_disposition</th>\n",
       "      <th>koi_fpflag_nt</th>\n",
       "      <th>koi_fpflag_ss</th>\n",
       "      <th>koi_fpflag_co</th>\n",
       "      <th>koi_fpflag_ec</th>\n",
       "      <th>koi_period</th>\n",
       "      <th>koi_period_err1</th>\n",
       "      <th>koi_period_err2</th>\n",
       "      <th>koi_time0bk</th>\n",
       "      <th>koi_time0bk_err1</th>\n",
       "      <th>...</th>\n",
       "      <th>koi_steff_err2</th>\n",
       "      <th>koi_slogg</th>\n",
       "      <th>koi_slogg_err1</th>\n",
       "      <th>koi_slogg_err2</th>\n",
       "      <th>koi_srad</th>\n",
       "      <th>koi_srad_err1</th>\n",
       "      <th>koi_srad_err2</th>\n",
       "      <th>ra</th>\n",
       "      <th>dec</th>\n",
       "      <th>koi_kepmag</th>\n",
       "    </tr>\n",
       "  </thead>\n",
       "  <tbody>\n",
       "    <tr>\n",
       "      <th>0</th>\n",
       "      <td>CONFIRMED</td>\n",
       "      <td>0</td>\n",
       "      <td>0</td>\n",
       "      <td>0</td>\n",
       "      <td>0</td>\n",
       "      <td>54.418383</td>\n",
       "      <td>2.479000e-04</td>\n",
       "      <td>-2.479000e-04</td>\n",
       "      <td>162.513840</td>\n",
       "      <td>0.003520</td>\n",
       "      <td>...</td>\n",
       "      <td>-81</td>\n",
       "      <td>4.467</td>\n",
       "      <td>0.064</td>\n",
       "      <td>-0.096</td>\n",
       "      <td>0.927</td>\n",
       "      <td>0.105</td>\n",
       "      <td>-0.061</td>\n",
       "      <td>291.93423</td>\n",
       "      <td>48.141651</td>\n",
       "      <td>15.347</td>\n",
       "    </tr>\n",
       "    <tr>\n",
       "      <th>1</th>\n",
       "      <td>FALSE POSITIVE</td>\n",
       "      <td>0</td>\n",
       "      <td>1</td>\n",
       "      <td>0</td>\n",
       "      <td>0</td>\n",
       "      <td>19.899140</td>\n",
       "      <td>1.490000e-05</td>\n",
       "      <td>-1.490000e-05</td>\n",
       "      <td>175.850252</td>\n",
       "      <td>0.000581</td>\n",
       "      <td>...</td>\n",
       "      <td>-176</td>\n",
       "      <td>4.544</td>\n",
       "      <td>0.044</td>\n",
       "      <td>-0.176</td>\n",
       "      <td>0.868</td>\n",
       "      <td>0.233</td>\n",
       "      <td>-0.078</td>\n",
       "      <td>297.00482</td>\n",
       "      <td>48.134129</td>\n",
       "      <td>15.436</td>\n",
       "    </tr>\n",
       "    <tr>\n",
       "      <th>2</th>\n",
       "      <td>FALSE POSITIVE</td>\n",
       "      <td>0</td>\n",
       "      <td>1</td>\n",
       "      <td>0</td>\n",
       "      <td>0</td>\n",
       "      <td>1.736952</td>\n",
       "      <td>2.630000e-07</td>\n",
       "      <td>-2.630000e-07</td>\n",
       "      <td>170.307565</td>\n",
       "      <td>0.000115</td>\n",
       "      <td>...</td>\n",
       "      <td>-174</td>\n",
       "      <td>4.564</td>\n",
       "      <td>0.053</td>\n",
       "      <td>-0.168</td>\n",
       "      <td>0.791</td>\n",
       "      <td>0.201</td>\n",
       "      <td>-0.067</td>\n",
       "      <td>285.53461</td>\n",
       "      <td>48.285210</td>\n",
       "      <td>15.597</td>\n",
       "    </tr>\n",
       "    <tr>\n",
       "      <th>3</th>\n",
       "      <td>CONFIRMED</td>\n",
       "      <td>0</td>\n",
       "      <td>0</td>\n",
       "      <td>0</td>\n",
       "      <td>0</td>\n",
       "      <td>2.525592</td>\n",
       "      <td>3.760000e-06</td>\n",
       "      <td>-3.760000e-06</td>\n",
       "      <td>171.595550</td>\n",
       "      <td>0.001130</td>\n",
       "      <td>...</td>\n",
       "      <td>-211</td>\n",
       "      <td>4.438</td>\n",
       "      <td>0.070</td>\n",
       "      <td>-0.210</td>\n",
       "      <td>1.046</td>\n",
       "      <td>0.334</td>\n",
       "      <td>-0.133</td>\n",
       "      <td>288.75488</td>\n",
       "      <td>48.226200</td>\n",
       "      <td>15.509</td>\n",
       "    </tr>\n",
       "    <tr>\n",
       "      <th>4</th>\n",
       "      <td>CONFIRMED</td>\n",
       "      <td>0</td>\n",
       "      <td>0</td>\n",
       "      <td>0</td>\n",
       "      <td>0</td>\n",
       "      <td>4.134435</td>\n",
       "      <td>1.050000e-05</td>\n",
       "      <td>-1.050000e-05</td>\n",
       "      <td>172.979370</td>\n",
       "      <td>0.001900</td>\n",
       "      <td>...</td>\n",
       "      <td>-232</td>\n",
       "      <td>4.486</td>\n",
       "      <td>0.054</td>\n",
       "      <td>-0.229</td>\n",
       "      <td>0.972</td>\n",
       "      <td>0.315</td>\n",
       "      <td>-0.105</td>\n",
       "      <td>296.28613</td>\n",
       "      <td>48.224670</td>\n",
       "      <td>15.714</td>\n",
       "    </tr>\n",
       "  </tbody>\n",
       "</table>\n",
       "<p>5 rows × 41 columns</p>\n",
       "</div>"
      ],
      "text/plain": [
       "  koi_disposition  koi_fpflag_nt  koi_fpflag_ss  koi_fpflag_co  koi_fpflag_ec  \\\n",
       "0       CONFIRMED              0              0              0              0   \n",
       "1  FALSE POSITIVE              0              1              0              0   \n",
       "2  FALSE POSITIVE              0              1              0              0   \n",
       "3       CONFIRMED              0              0              0              0   \n",
       "4       CONFIRMED              0              0              0              0   \n",
       "\n",
       "   koi_period  koi_period_err1  koi_period_err2  koi_time0bk  \\\n",
       "0   54.418383     2.479000e-04    -2.479000e-04   162.513840   \n",
       "1   19.899140     1.490000e-05    -1.490000e-05   175.850252   \n",
       "2    1.736952     2.630000e-07    -2.630000e-07   170.307565   \n",
       "3    2.525592     3.760000e-06    -3.760000e-06   171.595550   \n",
       "4    4.134435     1.050000e-05    -1.050000e-05   172.979370   \n",
       "\n",
       "   koi_time0bk_err1  ...  koi_steff_err2  koi_slogg  koi_slogg_err1  \\\n",
       "0          0.003520  ...             -81      4.467           0.064   \n",
       "1          0.000581  ...            -176      4.544           0.044   \n",
       "2          0.000115  ...            -174      4.564           0.053   \n",
       "3          0.001130  ...            -211      4.438           0.070   \n",
       "4          0.001900  ...            -232      4.486           0.054   \n",
       "\n",
       "   koi_slogg_err2  koi_srad  koi_srad_err1  koi_srad_err2         ra  \\\n",
       "0          -0.096     0.927          0.105         -0.061  291.93423   \n",
       "1          -0.176     0.868          0.233         -0.078  297.00482   \n",
       "2          -0.168     0.791          0.201         -0.067  285.53461   \n",
       "3          -0.210     1.046          0.334         -0.133  288.75488   \n",
       "4          -0.229     0.972          0.315         -0.105  296.28613   \n",
       "\n",
       "         dec  koi_kepmag  \n",
       "0  48.141651      15.347  \n",
       "1  48.134129      15.436  \n",
       "2  48.285210      15.597  \n",
       "3  48.226200      15.509  \n",
       "4  48.224670      15.714  \n",
       "\n",
       "[5 rows x 41 columns]"
      ]
     },
     "execution_count": 31,
     "metadata": {},
     "output_type": "execute_result"
    }
   ],
   "source": [
    "kepler_df = pd.read_csv('../../data/exoplanet_data.csv')\n",
    "kepler_df.head()"
   ]
  },
  {
   "cell_type": "code",
   "execution_count": 32,
   "id": "d93a6541",
   "metadata": {},
   "outputs": [
    {
     "name": "stdout",
     "output_type": "stream",
     "text": [
      "<class 'pandas.core.frame.DataFrame'>\n",
      "RangeIndex: 6991 entries, 0 to 6990\n",
      "Data columns (total 41 columns):\n",
      " #   Column             Non-Null Count  Dtype  \n",
      "---  ------             --------------  -----  \n",
      " 0   koi_disposition    6991 non-null   object \n",
      " 1   koi_fpflag_nt      6991 non-null   int64  \n",
      " 2   koi_fpflag_ss      6991 non-null   int64  \n",
      " 3   koi_fpflag_co      6991 non-null   int64  \n",
      " 4   koi_fpflag_ec      6991 non-null   int64  \n",
      " 5   koi_period         6991 non-null   float64\n",
      " 6   koi_period_err1    6991 non-null   float64\n",
      " 7   koi_period_err2    6991 non-null   float64\n",
      " 8   koi_time0bk        6991 non-null   float64\n",
      " 9   koi_time0bk_err1   6991 non-null   float64\n",
      " 10  koi_time0bk_err2   6991 non-null   float64\n",
      " 11  koi_impact         6991 non-null   float64\n",
      " 12  koi_impact_err1    6991 non-null   float64\n",
      " 13  koi_impact_err2    6991 non-null   float64\n",
      " 14  koi_duration       6991 non-null   float64\n",
      " 15  koi_duration_err1  6991 non-null   float64\n",
      " 16  koi_duration_err2  6991 non-null   float64\n",
      " 17  koi_depth          6991 non-null   float64\n",
      " 18  koi_depth_err1     6991 non-null   float64\n",
      " 19  koi_depth_err2     6991 non-null   float64\n",
      " 20  koi_prad           6991 non-null   float64\n",
      " 21  koi_prad_err1      6991 non-null   float64\n",
      " 22  koi_prad_err2      6991 non-null   float64\n",
      " 23  koi_teq            6991 non-null   int64  \n",
      " 24  koi_insol          6991 non-null   float64\n",
      " 25  koi_insol_err1     6991 non-null   float64\n",
      " 26  koi_insol_err2     6991 non-null   float64\n",
      " 27  koi_model_snr      6991 non-null   float64\n",
      " 28  koi_tce_plnt_num   6991 non-null   int64  \n",
      " 29  koi_steff          6991 non-null   int64  \n",
      " 30  koi_steff_err1     6991 non-null   int64  \n",
      " 31  koi_steff_err2     6991 non-null   int64  \n",
      " 32  koi_slogg          6991 non-null   float64\n",
      " 33  koi_slogg_err1     6991 non-null   float64\n",
      " 34  koi_slogg_err2     6991 non-null   float64\n",
      " 35  koi_srad           6991 non-null   float64\n",
      " 36  koi_srad_err1      6991 non-null   float64\n",
      " 37  koi_srad_err2      6991 non-null   float64\n",
      " 38  ra                 6991 non-null   float64\n",
      " 39  dec                6991 non-null   float64\n",
      " 40  koi_kepmag         6991 non-null   float64\n",
      "dtypes: float64(31), int64(9), object(1)\n",
      "memory usage: 2.2+ MB\n"
     ]
    }
   ],
   "source": [
    "kepler_df.info()"
   ]
  },
  {
   "cell_type": "code",
   "execution_count": 33,
   "id": "a26b7156",
   "metadata": {},
   "outputs": [
    {
     "name": "stdout",
     "output_type": "stream",
     "text": [
      "The dataframe has a length of 41 columns.\n",
      "There are 3 outcomes/predictions/targets: {'CONFIRMED', 'CANDIDATE', 'FALSE POSITIVE'}\n"
     ]
    }
   ],
   "source": [
    "print(f\"The dataframe has a length of {len(kepler_df.columns)} columns.\")\n",
    "print(f\"There are 3 outcomes/predictions/targets: {set(kepler_df['koi_disposition'])}\")"
   ]
  },
  {
   "cell_type": "code",
   "execution_count": 34,
   "id": "ed6c7e3d",
   "metadata": {},
   "outputs": [],
   "source": [
    "kepler_df['koi_disposition'] = kepler_df['koi_disposition'].replace({'CONFIRMED': 0, 'FALSE POSITIVE': 1, 'CANDIDATE': 2})"
   ]
  },
  {
   "cell_type": "code",
   "execution_count": 35,
   "id": "9fa977eb",
   "metadata": {},
   "outputs": [
    {
     "data": {
      "text/plain": [
       "koi_disposition      1.000000\n",
       "koi_fpflag_nt        0.000416\n",
       "koi_fpflag_ss        0.013503\n",
       "koi_fpflag_co        0.008531\n",
       "koi_fpflag_ec        0.008041\n",
       "koi_period           0.124647\n",
       "koi_period_err1      0.099048\n",
       "koi_period_err2     -0.099048\n",
       "koi_time0bk          0.070445\n",
       "koi_time0bk_err1     0.147719\n",
       "koi_time0bk_err2    -0.147719\n",
       "koi_impact           0.010607\n",
       "koi_impact_err1      0.058572\n",
       "koi_impact_err2     -0.013980\n",
       "koi_duration         0.029554\n",
       "koi_duration_err1    0.156587\n",
       "koi_duration_err2   -0.156587\n",
       "koi_depth            0.008694\n",
       "koi_depth_err1       0.001797\n",
       "koi_depth_err2      -0.001797\n",
       "koi_prad             0.001485\n",
       "koi_prad_err1        0.003135\n",
       "koi_prad_err2       -0.000998\n",
       "koi_teq              0.021275\n",
       "koi_insol            0.012070\n",
       "koi_insol_err1       0.014604\n",
       "koi_insol_err2      -0.014159\n",
       "koi_model_snr       -0.016351\n",
       "koi_tce_plnt_num    -0.095550\n",
       "koi_steff            0.071048\n",
       "koi_steff_err1       0.173227\n",
       "koi_steff_err2      -0.148902\n",
       "koi_slogg           -0.071437\n",
       "koi_slogg_err1       0.068356\n",
       "koi_slogg_err2      -0.165136\n",
       "koi_srad             0.035999\n",
       "koi_srad_err1        0.069335\n",
       "koi_srad_err2       -0.036944\n",
       "ra                   0.063848\n",
       "dec                 -0.045244\n",
       "koi_kepmag           0.004264\n",
       "Name: koi_disposition, dtype: float64"
      ]
     },
     "execution_count": 35,
     "metadata": {},
     "output_type": "execute_result"
    }
   ],
   "source": [
    "correlation = kepler_df.corr()\n",
    "correlation['koi_disposition']"
   ]
  },
  {
   "cell_type": "code",
   "execution_count": 36,
   "id": "15eaf70f",
   "metadata": {},
   "outputs": [
    {
     "data": {
      "application/vnd.plotly.v1+json": {
       "config": {
        "linkText": "Export to plot.ly",
        "plotlyServerURL": "https://plot.ly",
        "showLink": false
       },
       "data": [
        {
         "colorscale": [
          [
           0,
           "rgb(0,0,255)"
          ],
          [
           1,
           "rgb(255,0,0)"
          ]
         ],
         "reversescale": false,
         "showscale": false,
         "type": "heatmap",
         "x": [
          "koi_disposition",
          "koi_fpflag_nt",
          "koi_fpflag_ss",
          "koi_fpflag_co",
          "koi_fpflag_ec",
          "koi_period",
          "koi_period_err1",
          "koi_period_err2",
          "koi_time0bk",
          "koi_time0bk_err1"
         ],
         "y": [
          "koi_disposition",
          "koi_fpflag_nt",
          "koi_fpflag_ss",
          "koi_fpflag_co",
          "koi_fpflag_ec",
          "koi_period",
          "koi_period_err1",
          "koi_period_err2",
          "koi_time0bk",
          "koi_time0bk_err1"
         ],
         "z": [
          [
           1,
           0,
           0.014,
           0.009,
           0.008,
           0.125,
           0.099,
           -0.099,
           0.07,
           0.148
          ],
          [
           0,
           1,
           -0.241,
           0.003,
           0.051,
           0.409,
           0.353,
           -0.353,
           0.249,
           0.251
          ],
          [
           0.014,
           -0.241,
           1,
           0.145,
           0.102,
           -0.156,
           -0.134,
           0.134,
           -0.111,
           -0.177
          ],
          [
           0.009,
           0.003,
           0.145,
           1,
           0.538,
           -0.165,
           -0.084,
           0.084,
           -0.121,
           -0.023
          ],
          [
           0.008,
           0.051,
           0.102,
           0.538,
           1,
           -0.139,
           -0.08,
           0.08,
           -0.1,
           0.014
          ],
          [
           0.125,
           0.409,
           -0.156,
           -0.165,
           -0.139,
           1,
           0.675,
           -0.675,
           0.655,
           0.273
          ],
          [
           0.099,
           0.353,
           -0.134,
           -0.084,
           -0.08,
           0.675,
           1,
           -1,
           0.47,
           0.472
          ],
          [
           -0.099,
           -0.353,
           0.134,
           0.084,
           0.08,
           -0.675,
           -1,
           1,
           -0.47,
           -0.472
          ],
          [
           0.07,
           0.249,
           -0.111,
           -0.121,
           -0.1,
           0.655,
           0.47,
           -0.47,
           1,
           0.163
          ],
          [
           0.148,
           0.251,
           -0.177,
           -0.023,
           0.014,
           0.273,
           0.472,
           -0.472,
           0.163,
           1
          ]
         ]
        }
       ],
       "layout": {
        "annotations": [
         {
          "font": {
           "color": "#FFFFFF"
          },
          "showarrow": false,
          "text": "1.0",
          "x": "koi_disposition",
          "xref": "x",
          "y": "koi_disposition",
          "yref": "y"
         },
         {
          "font": {
           "color": "#FFFFFF"
          },
          "showarrow": false,
          "text": "0.0004",
          "x": "koi_fpflag_nt",
          "xref": "x",
          "y": "koi_disposition",
          "yref": "y"
         },
         {
          "font": {
           "color": "#FFFFFF"
          },
          "showarrow": false,
          "text": "0.0135",
          "x": "koi_fpflag_ss",
          "xref": "x",
          "y": "koi_disposition",
          "yref": "y"
         },
         {
          "font": {
           "color": "#FFFFFF"
          },
          "showarrow": false,
          "text": "0.0085",
          "x": "koi_fpflag_co",
          "xref": "x",
          "y": "koi_disposition",
          "yref": "y"
         },
         {
          "font": {
           "color": "#FFFFFF"
          },
          "showarrow": false,
          "text": "0.008",
          "x": "koi_fpflag_ec",
          "xref": "x",
          "y": "koi_disposition",
          "yref": "y"
         },
         {
          "font": {
           "color": "#FFFFFF"
          },
          "showarrow": false,
          "text": "0.1246",
          "x": "koi_period",
          "xref": "x",
          "y": "koi_disposition",
          "yref": "y"
         },
         {
          "font": {
           "color": "#FFFFFF"
          },
          "showarrow": false,
          "text": "0.099",
          "x": "koi_period_err1",
          "xref": "x",
          "y": "koi_disposition",
          "yref": "y"
         },
         {
          "font": {
           "color": "#FFFFFF"
          },
          "showarrow": false,
          "text": "-0.099",
          "x": "koi_period_err2",
          "xref": "x",
          "y": "koi_disposition",
          "yref": "y"
         },
         {
          "font": {
           "color": "#FFFFFF"
          },
          "showarrow": false,
          "text": "0.0704",
          "x": "koi_time0bk",
          "xref": "x",
          "y": "koi_disposition",
          "yref": "y"
         },
         {
          "font": {
           "color": "#FFFFFF"
          },
          "showarrow": false,
          "text": "0.1477",
          "x": "koi_time0bk_err1",
          "xref": "x",
          "y": "koi_disposition",
          "yref": "y"
         },
         {
          "font": {
           "color": "#FFFFFF"
          },
          "showarrow": false,
          "text": "0.0004",
          "x": "koi_disposition",
          "xref": "x",
          "y": "koi_fpflag_nt",
          "yref": "y"
         },
         {
          "font": {
           "color": "#FFFFFF"
          },
          "showarrow": false,
          "text": "1.0",
          "x": "koi_fpflag_nt",
          "xref": "x",
          "y": "koi_fpflag_nt",
          "yref": "y"
         },
         {
          "font": {
           "color": "#FFFFFF"
          },
          "showarrow": false,
          "text": "-0.2411",
          "x": "koi_fpflag_ss",
          "xref": "x",
          "y": "koi_fpflag_nt",
          "yref": "y"
         },
         {
          "font": {
           "color": "#FFFFFF"
          },
          "showarrow": false,
          "text": "0.0031",
          "x": "koi_fpflag_co",
          "xref": "x",
          "y": "koi_fpflag_nt",
          "yref": "y"
         },
         {
          "font": {
           "color": "#FFFFFF"
          },
          "showarrow": false,
          "text": "0.0508",
          "x": "koi_fpflag_ec",
          "xref": "x",
          "y": "koi_fpflag_nt",
          "yref": "y"
         },
         {
          "font": {
           "color": "#FFFFFF"
          },
          "showarrow": false,
          "text": "0.4087",
          "x": "koi_period",
          "xref": "x",
          "y": "koi_fpflag_nt",
          "yref": "y"
         },
         {
          "font": {
           "color": "#FFFFFF"
          },
          "showarrow": false,
          "text": "0.3532",
          "x": "koi_period_err1",
          "xref": "x",
          "y": "koi_fpflag_nt",
          "yref": "y"
         },
         {
          "font": {
           "color": "#FFFFFF"
          },
          "showarrow": false,
          "text": "-0.3532",
          "x": "koi_period_err2",
          "xref": "x",
          "y": "koi_fpflag_nt",
          "yref": "y"
         },
         {
          "font": {
           "color": "#FFFFFF"
          },
          "showarrow": false,
          "text": "0.2494",
          "x": "koi_time0bk",
          "xref": "x",
          "y": "koi_fpflag_nt",
          "yref": "y"
         },
         {
          "font": {
           "color": "#FFFFFF"
          },
          "showarrow": false,
          "text": "0.2507",
          "x": "koi_time0bk_err1",
          "xref": "x",
          "y": "koi_fpflag_nt",
          "yref": "y"
         },
         {
          "font": {
           "color": "#FFFFFF"
          },
          "showarrow": false,
          "text": "0.0135",
          "x": "koi_disposition",
          "xref": "x",
          "y": "koi_fpflag_ss",
          "yref": "y"
         },
         {
          "font": {
           "color": "#FFFFFF"
          },
          "showarrow": false,
          "text": "-0.2411",
          "x": "koi_fpflag_nt",
          "xref": "x",
          "y": "koi_fpflag_ss",
          "yref": "y"
         },
         {
          "font": {
           "color": "#FFFFFF"
          },
          "showarrow": false,
          "text": "1.0",
          "x": "koi_fpflag_ss",
          "xref": "x",
          "y": "koi_fpflag_ss",
          "yref": "y"
         },
         {
          "font": {
           "color": "#FFFFFF"
          },
          "showarrow": false,
          "text": "0.1445",
          "x": "koi_fpflag_co",
          "xref": "x",
          "y": "koi_fpflag_ss",
          "yref": "y"
         },
         {
          "font": {
           "color": "#FFFFFF"
          },
          "showarrow": false,
          "text": "0.1017",
          "x": "koi_fpflag_ec",
          "xref": "x",
          "y": "koi_fpflag_ss",
          "yref": "y"
         },
         {
          "font": {
           "color": "#FFFFFF"
          },
          "showarrow": false,
          "text": "-0.156",
          "x": "koi_period",
          "xref": "x",
          "y": "koi_fpflag_ss",
          "yref": "y"
         },
         {
          "font": {
           "color": "#FFFFFF"
          },
          "showarrow": false,
          "text": "-0.1342",
          "x": "koi_period_err1",
          "xref": "x",
          "y": "koi_fpflag_ss",
          "yref": "y"
         },
         {
          "font": {
           "color": "#FFFFFF"
          },
          "showarrow": false,
          "text": "0.1342",
          "x": "koi_period_err2",
          "xref": "x",
          "y": "koi_fpflag_ss",
          "yref": "y"
         },
         {
          "font": {
           "color": "#FFFFFF"
          },
          "showarrow": false,
          "text": "-0.1115",
          "x": "koi_time0bk",
          "xref": "x",
          "y": "koi_fpflag_ss",
          "yref": "y"
         },
         {
          "font": {
           "color": "#FFFFFF"
          },
          "showarrow": false,
          "text": "-0.177",
          "x": "koi_time0bk_err1",
          "xref": "x",
          "y": "koi_fpflag_ss",
          "yref": "y"
         },
         {
          "font": {
           "color": "#FFFFFF"
          },
          "showarrow": false,
          "text": "0.0085",
          "x": "koi_disposition",
          "xref": "x",
          "y": "koi_fpflag_co",
          "yref": "y"
         },
         {
          "font": {
           "color": "#FFFFFF"
          },
          "showarrow": false,
          "text": "0.0031",
          "x": "koi_fpflag_nt",
          "xref": "x",
          "y": "koi_fpflag_co",
          "yref": "y"
         },
         {
          "font": {
           "color": "#FFFFFF"
          },
          "showarrow": false,
          "text": "0.1445",
          "x": "koi_fpflag_ss",
          "xref": "x",
          "y": "koi_fpflag_co",
          "yref": "y"
         },
         {
          "font": {
           "color": "#FFFFFF"
          },
          "showarrow": false,
          "text": "1.0",
          "x": "koi_fpflag_co",
          "xref": "x",
          "y": "koi_fpflag_co",
          "yref": "y"
         },
         {
          "font": {
           "color": "#FFFFFF"
          },
          "showarrow": false,
          "text": "0.5383",
          "x": "koi_fpflag_ec",
          "xref": "x",
          "y": "koi_fpflag_co",
          "yref": "y"
         },
         {
          "font": {
           "color": "#FFFFFF"
          },
          "showarrow": false,
          "text": "-0.1648",
          "x": "koi_period",
          "xref": "x",
          "y": "koi_fpflag_co",
          "yref": "y"
         },
         {
          "font": {
           "color": "#FFFFFF"
          },
          "showarrow": false,
          "text": "-0.0844",
          "x": "koi_period_err1",
          "xref": "x",
          "y": "koi_fpflag_co",
          "yref": "y"
         },
         {
          "font": {
           "color": "#FFFFFF"
          },
          "showarrow": false,
          "text": "0.0844",
          "x": "koi_period_err2",
          "xref": "x",
          "y": "koi_fpflag_co",
          "yref": "y"
         },
         {
          "font": {
           "color": "#FFFFFF"
          },
          "showarrow": false,
          "text": "-0.1215",
          "x": "koi_time0bk",
          "xref": "x",
          "y": "koi_fpflag_co",
          "yref": "y"
         },
         {
          "font": {
           "color": "#FFFFFF"
          },
          "showarrow": false,
          "text": "-0.0231",
          "x": "koi_time0bk_err1",
          "xref": "x",
          "y": "koi_fpflag_co",
          "yref": "y"
         },
         {
          "font": {
           "color": "#FFFFFF"
          },
          "showarrow": false,
          "text": "0.008",
          "x": "koi_disposition",
          "xref": "x",
          "y": "koi_fpflag_ec",
          "yref": "y"
         },
         {
          "font": {
           "color": "#FFFFFF"
          },
          "showarrow": false,
          "text": "0.0508",
          "x": "koi_fpflag_nt",
          "xref": "x",
          "y": "koi_fpflag_ec",
          "yref": "y"
         },
         {
          "font": {
           "color": "#FFFFFF"
          },
          "showarrow": false,
          "text": "0.1017",
          "x": "koi_fpflag_ss",
          "xref": "x",
          "y": "koi_fpflag_ec",
          "yref": "y"
         },
         {
          "font": {
           "color": "#FFFFFF"
          },
          "showarrow": false,
          "text": "0.5383",
          "x": "koi_fpflag_co",
          "xref": "x",
          "y": "koi_fpflag_ec",
          "yref": "y"
         },
         {
          "font": {
           "color": "#FFFFFF"
          },
          "showarrow": false,
          "text": "1.0",
          "x": "koi_fpflag_ec",
          "xref": "x",
          "y": "koi_fpflag_ec",
          "yref": "y"
         },
         {
          "font": {
           "color": "#FFFFFF"
          },
          "showarrow": false,
          "text": "-0.1389",
          "x": "koi_period",
          "xref": "x",
          "y": "koi_fpflag_ec",
          "yref": "y"
         },
         {
          "font": {
           "color": "#FFFFFF"
          },
          "showarrow": false,
          "text": "-0.0799",
          "x": "koi_period_err1",
          "xref": "x",
          "y": "koi_fpflag_ec",
          "yref": "y"
         },
         {
          "font": {
           "color": "#FFFFFF"
          },
          "showarrow": false,
          "text": "0.0799",
          "x": "koi_period_err2",
          "xref": "x",
          "y": "koi_fpflag_ec",
          "yref": "y"
         },
         {
          "font": {
           "color": "#FFFFFF"
          },
          "showarrow": false,
          "text": "-0.0998",
          "x": "koi_time0bk",
          "xref": "x",
          "y": "koi_fpflag_ec",
          "yref": "y"
         },
         {
          "font": {
           "color": "#FFFFFF"
          },
          "showarrow": false,
          "text": "0.0136",
          "x": "koi_time0bk_err1",
          "xref": "x",
          "y": "koi_fpflag_ec",
          "yref": "y"
         },
         {
          "font": {
           "color": "#FFFFFF"
          },
          "showarrow": false,
          "text": "0.1246",
          "x": "koi_disposition",
          "xref": "x",
          "y": "koi_period",
          "yref": "y"
         },
         {
          "font": {
           "color": "#FFFFFF"
          },
          "showarrow": false,
          "text": "0.4087",
          "x": "koi_fpflag_nt",
          "xref": "x",
          "y": "koi_period",
          "yref": "y"
         },
         {
          "font": {
           "color": "#FFFFFF"
          },
          "showarrow": false,
          "text": "-0.156",
          "x": "koi_fpflag_ss",
          "xref": "x",
          "y": "koi_period",
          "yref": "y"
         },
         {
          "font": {
           "color": "#FFFFFF"
          },
          "showarrow": false,
          "text": "-0.1648",
          "x": "koi_fpflag_co",
          "xref": "x",
          "y": "koi_period",
          "yref": "y"
         },
         {
          "font": {
           "color": "#FFFFFF"
          },
          "showarrow": false,
          "text": "-0.1389",
          "x": "koi_fpflag_ec",
          "xref": "x",
          "y": "koi_period",
          "yref": "y"
         },
         {
          "font": {
           "color": "#FFFFFF"
          },
          "showarrow": false,
          "text": "1.0",
          "x": "koi_period",
          "xref": "x",
          "y": "koi_period",
          "yref": "y"
         },
         {
          "font": {
           "color": "#FFFFFF"
          },
          "showarrow": false,
          "text": "0.6748",
          "x": "koi_period_err1",
          "xref": "x",
          "y": "koi_period",
          "yref": "y"
         },
         {
          "font": {
           "color": "#FFFFFF"
          },
          "showarrow": false,
          "text": "-0.6748",
          "x": "koi_period_err2",
          "xref": "x",
          "y": "koi_period",
          "yref": "y"
         },
         {
          "font": {
           "color": "#FFFFFF"
          },
          "showarrow": false,
          "text": "0.6552",
          "x": "koi_time0bk",
          "xref": "x",
          "y": "koi_period",
          "yref": "y"
         },
         {
          "font": {
           "color": "#FFFFFF"
          },
          "showarrow": false,
          "text": "0.2725",
          "x": "koi_time0bk_err1",
          "xref": "x",
          "y": "koi_period",
          "yref": "y"
         },
         {
          "font": {
           "color": "#FFFFFF"
          },
          "showarrow": false,
          "text": "0.099",
          "x": "koi_disposition",
          "xref": "x",
          "y": "koi_period_err1",
          "yref": "y"
         },
         {
          "font": {
           "color": "#FFFFFF"
          },
          "showarrow": false,
          "text": "0.3532",
          "x": "koi_fpflag_nt",
          "xref": "x",
          "y": "koi_period_err1",
          "yref": "y"
         },
         {
          "font": {
           "color": "#FFFFFF"
          },
          "showarrow": false,
          "text": "-0.1342",
          "x": "koi_fpflag_ss",
          "xref": "x",
          "y": "koi_period_err1",
          "yref": "y"
         },
         {
          "font": {
           "color": "#FFFFFF"
          },
          "showarrow": false,
          "text": "-0.0844",
          "x": "koi_fpflag_co",
          "xref": "x",
          "y": "koi_period_err1",
          "yref": "y"
         },
         {
          "font": {
           "color": "#FFFFFF"
          },
          "showarrow": false,
          "text": "-0.0799",
          "x": "koi_fpflag_ec",
          "xref": "x",
          "y": "koi_period_err1",
          "yref": "y"
         },
         {
          "font": {
           "color": "#FFFFFF"
          },
          "showarrow": false,
          "text": "0.6748",
          "x": "koi_period",
          "xref": "x",
          "y": "koi_period_err1",
          "yref": "y"
         },
         {
          "font": {
           "color": "#FFFFFF"
          },
          "showarrow": false,
          "text": "1.0",
          "x": "koi_period_err1",
          "xref": "x",
          "y": "koi_period_err1",
          "yref": "y"
         },
         {
          "font": {
           "color": "#FFFFFF"
          },
          "showarrow": false,
          "text": "-1.0",
          "x": "koi_period_err2",
          "xref": "x",
          "y": "koi_period_err1",
          "yref": "y"
         },
         {
          "font": {
           "color": "#FFFFFF"
          },
          "showarrow": false,
          "text": "0.4696",
          "x": "koi_time0bk",
          "xref": "x",
          "y": "koi_period_err1",
          "yref": "y"
         },
         {
          "font": {
           "color": "#FFFFFF"
          },
          "showarrow": false,
          "text": "0.472",
          "x": "koi_time0bk_err1",
          "xref": "x",
          "y": "koi_period_err1",
          "yref": "y"
         },
         {
          "font": {
           "color": "#FFFFFF"
          },
          "showarrow": false,
          "text": "-0.099",
          "x": "koi_disposition",
          "xref": "x",
          "y": "koi_period_err2",
          "yref": "y"
         },
         {
          "font": {
           "color": "#FFFFFF"
          },
          "showarrow": false,
          "text": "-0.3532",
          "x": "koi_fpflag_nt",
          "xref": "x",
          "y": "koi_period_err2",
          "yref": "y"
         },
         {
          "font": {
           "color": "#FFFFFF"
          },
          "showarrow": false,
          "text": "0.1342",
          "x": "koi_fpflag_ss",
          "xref": "x",
          "y": "koi_period_err2",
          "yref": "y"
         },
         {
          "font": {
           "color": "#FFFFFF"
          },
          "showarrow": false,
          "text": "0.0844",
          "x": "koi_fpflag_co",
          "xref": "x",
          "y": "koi_period_err2",
          "yref": "y"
         },
         {
          "font": {
           "color": "#FFFFFF"
          },
          "showarrow": false,
          "text": "0.0799",
          "x": "koi_fpflag_ec",
          "xref": "x",
          "y": "koi_period_err2",
          "yref": "y"
         },
         {
          "font": {
           "color": "#FFFFFF"
          },
          "showarrow": false,
          "text": "-0.6748",
          "x": "koi_period",
          "xref": "x",
          "y": "koi_period_err2",
          "yref": "y"
         },
         {
          "font": {
           "color": "#FFFFFF"
          },
          "showarrow": false,
          "text": "-1.0",
          "x": "koi_period_err1",
          "xref": "x",
          "y": "koi_period_err2",
          "yref": "y"
         },
         {
          "font": {
           "color": "#FFFFFF"
          },
          "showarrow": false,
          "text": "1.0",
          "x": "koi_period_err2",
          "xref": "x",
          "y": "koi_period_err2",
          "yref": "y"
         },
         {
          "font": {
           "color": "#FFFFFF"
          },
          "showarrow": false,
          "text": "-0.4696",
          "x": "koi_time0bk",
          "xref": "x",
          "y": "koi_period_err2",
          "yref": "y"
         },
         {
          "font": {
           "color": "#FFFFFF"
          },
          "showarrow": false,
          "text": "-0.472",
          "x": "koi_time0bk_err1",
          "xref": "x",
          "y": "koi_period_err2",
          "yref": "y"
         },
         {
          "font": {
           "color": "#FFFFFF"
          },
          "showarrow": false,
          "text": "0.0704",
          "x": "koi_disposition",
          "xref": "x",
          "y": "koi_time0bk",
          "yref": "y"
         },
         {
          "font": {
           "color": "#FFFFFF"
          },
          "showarrow": false,
          "text": "0.2494",
          "x": "koi_fpflag_nt",
          "xref": "x",
          "y": "koi_time0bk",
          "yref": "y"
         },
         {
          "font": {
           "color": "#FFFFFF"
          },
          "showarrow": false,
          "text": "-0.1115",
          "x": "koi_fpflag_ss",
          "xref": "x",
          "y": "koi_time0bk",
          "yref": "y"
         },
         {
          "font": {
           "color": "#FFFFFF"
          },
          "showarrow": false,
          "text": "-0.1215",
          "x": "koi_fpflag_co",
          "xref": "x",
          "y": "koi_time0bk",
          "yref": "y"
         },
         {
          "font": {
           "color": "#FFFFFF"
          },
          "showarrow": false,
          "text": "-0.0998",
          "x": "koi_fpflag_ec",
          "xref": "x",
          "y": "koi_time0bk",
          "yref": "y"
         },
         {
          "font": {
           "color": "#FFFFFF"
          },
          "showarrow": false,
          "text": "0.6552",
          "x": "koi_period",
          "xref": "x",
          "y": "koi_time0bk",
          "yref": "y"
         },
         {
          "font": {
           "color": "#FFFFFF"
          },
          "showarrow": false,
          "text": "0.4696",
          "x": "koi_period_err1",
          "xref": "x",
          "y": "koi_time0bk",
          "yref": "y"
         },
         {
          "font": {
           "color": "#FFFFFF"
          },
          "showarrow": false,
          "text": "-0.4696",
          "x": "koi_period_err2",
          "xref": "x",
          "y": "koi_time0bk",
          "yref": "y"
         },
         {
          "font": {
           "color": "#FFFFFF"
          },
          "showarrow": false,
          "text": "1.0",
          "x": "koi_time0bk",
          "xref": "x",
          "y": "koi_time0bk",
          "yref": "y"
         },
         {
          "font": {
           "color": "#FFFFFF"
          },
          "showarrow": false,
          "text": "0.1628",
          "x": "koi_time0bk_err1",
          "xref": "x",
          "y": "koi_time0bk",
          "yref": "y"
         },
         {
          "font": {
           "color": "#FFFFFF"
          },
          "showarrow": false,
          "text": "0.1477",
          "x": "koi_disposition",
          "xref": "x",
          "y": "koi_time0bk_err1",
          "yref": "y"
         },
         {
          "font": {
           "color": "#FFFFFF"
          },
          "showarrow": false,
          "text": "0.2507",
          "x": "koi_fpflag_nt",
          "xref": "x",
          "y": "koi_time0bk_err1",
          "yref": "y"
         },
         {
          "font": {
           "color": "#FFFFFF"
          },
          "showarrow": false,
          "text": "-0.177",
          "x": "koi_fpflag_ss",
          "xref": "x",
          "y": "koi_time0bk_err1",
          "yref": "y"
         },
         {
          "font": {
           "color": "#FFFFFF"
          },
          "showarrow": false,
          "text": "-0.0231",
          "x": "koi_fpflag_co",
          "xref": "x",
          "y": "koi_time0bk_err1",
          "yref": "y"
         },
         {
          "font": {
           "color": "#FFFFFF"
          },
          "showarrow": false,
          "text": "0.0136",
          "x": "koi_fpflag_ec",
          "xref": "x",
          "y": "koi_time0bk_err1",
          "yref": "y"
         },
         {
          "font": {
           "color": "#FFFFFF"
          },
          "showarrow": false,
          "text": "0.2725",
          "x": "koi_period",
          "xref": "x",
          "y": "koi_time0bk_err1",
          "yref": "y"
         },
         {
          "font": {
           "color": "#FFFFFF"
          },
          "showarrow": false,
          "text": "0.472",
          "x": "koi_period_err1",
          "xref": "x",
          "y": "koi_time0bk_err1",
          "yref": "y"
         },
         {
          "font": {
           "color": "#FFFFFF"
          },
          "showarrow": false,
          "text": "-0.472",
          "x": "koi_period_err2",
          "xref": "x",
          "y": "koi_time0bk_err1",
          "yref": "y"
         },
         {
          "font": {
           "color": "#FFFFFF"
          },
          "showarrow": false,
          "text": "0.1628",
          "x": "koi_time0bk",
          "xref": "x",
          "y": "koi_time0bk_err1",
          "yref": "y"
         },
         {
          "font": {
           "color": "#FFFFFF"
          },
          "showarrow": false,
          "text": "1.0",
          "x": "koi_time0bk_err1",
          "xref": "x",
          "y": "koi_time0bk_err1",
          "yref": "y"
         }
        ],
        "template": {
         "data": {
          "bar": [
           {
            "error_x": {
             "color": "#2a3f5f"
            },
            "error_y": {
             "color": "#2a3f5f"
            },
            "marker": {
             "line": {
              "color": "#E5ECF6",
              "width": 0.5
             },
             "pattern": {
              "fillmode": "overlay",
              "size": 10,
              "solidity": 0.2
             }
            },
            "type": "bar"
           }
          ],
          "barpolar": [
           {
            "marker": {
             "line": {
              "color": "#E5ECF6",
              "width": 0.5
             },
             "pattern": {
              "fillmode": "overlay",
              "size": 10,
              "solidity": 0.2
             }
            },
            "type": "barpolar"
           }
          ],
          "carpet": [
           {
            "aaxis": {
             "endlinecolor": "#2a3f5f",
             "gridcolor": "white",
             "linecolor": "white",
             "minorgridcolor": "white",
             "startlinecolor": "#2a3f5f"
            },
            "baxis": {
             "endlinecolor": "#2a3f5f",
             "gridcolor": "white",
             "linecolor": "white",
             "minorgridcolor": "white",
             "startlinecolor": "#2a3f5f"
            },
            "type": "carpet"
           }
          ],
          "choropleth": [
           {
            "colorbar": {
             "outlinewidth": 0,
             "ticks": ""
            },
            "type": "choropleth"
           }
          ],
          "contour": [
           {
            "colorbar": {
             "outlinewidth": 0,
             "ticks": ""
            },
            "colorscale": [
             [
              0,
              "#0d0887"
             ],
             [
              0.1111111111111111,
              "#46039f"
             ],
             [
              0.2222222222222222,
              "#7201a8"
             ],
             [
              0.3333333333333333,
              "#9c179e"
             ],
             [
              0.4444444444444444,
              "#bd3786"
             ],
             [
              0.5555555555555556,
              "#d8576b"
             ],
             [
              0.6666666666666666,
              "#ed7953"
             ],
             [
              0.7777777777777778,
              "#fb9f3a"
             ],
             [
              0.8888888888888888,
              "#fdca26"
             ],
             [
              1,
              "#f0f921"
             ]
            ],
            "type": "contour"
           }
          ],
          "contourcarpet": [
           {
            "colorbar": {
             "outlinewidth": 0,
             "ticks": ""
            },
            "type": "contourcarpet"
           }
          ],
          "heatmap": [
           {
            "colorbar": {
             "outlinewidth": 0,
             "ticks": ""
            },
            "colorscale": [
             [
              0,
              "#0d0887"
             ],
             [
              0.1111111111111111,
              "#46039f"
             ],
             [
              0.2222222222222222,
              "#7201a8"
             ],
             [
              0.3333333333333333,
              "#9c179e"
             ],
             [
              0.4444444444444444,
              "#bd3786"
             ],
             [
              0.5555555555555556,
              "#d8576b"
             ],
             [
              0.6666666666666666,
              "#ed7953"
             ],
             [
              0.7777777777777778,
              "#fb9f3a"
             ],
             [
              0.8888888888888888,
              "#fdca26"
             ],
             [
              1,
              "#f0f921"
             ]
            ],
            "type": "heatmap"
           }
          ],
          "heatmapgl": [
           {
            "colorbar": {
             "outlinewidth": 0,
             "ticks": ""
            },
            "colorscale": [
             [
              0,
              "#0d0887"
             ],
             [
              0.1111111111111111,
              "#46039f"
             ],
             [
              0.2222222222222222,
              "#7201a8"
             ],
             [
              0.3333333333333333,
              "#9c179e"
             ],
             [
              0.4444444444444444,
              "#bd3786"
             ],
             [
              0.5555555555555556,
              "#d8576b"
             ],
             [
              0.6666666666666666,
              "#ed7953"
             ],
             [
              0.7777777777777778,
              "#fb9f3a"
             ],
             [
              0.8888888888888888,
              "#fdca26"
             ],
             [
              1,
              "#f0f921"
             ]
            ],
            "type": "heatmapgl"
           }
          ],
          "histogram": [
           {
            "marker": {
             "pattern": {
              "fillmode": "overlay",
              "size": 10,
              "solidity": 0.2
             }
            },
            "type": "histogram"
           }
          ],
          "histogram2d": [
           {
            "colorbar": {
             "outlinewidth": 0,
             "ticks": ""
            },
            "colorscale": [
             [
              0,
              "#0d0887"
             ],
             [
              0.1111111111111111,
              "#46039f"
             ],
             [
              0.2222222222222222,
              "#7201a8"
             ],
             [
              0.3333333333333333,
              "#9c179e"
             ],
             [
              0.4444444444444444,
              "#bd3786"
             ],
             [
              0.5555555555555556,
              "#d8576b"
             ],
             [
              0.6666666666666666,
              "#ed7953"
             ],
             [
              0.7777777777777778,
              "#fb9f3a"
             ],
             [
              0.8888888888888888,
              "#fdca26"
             ],
             [
              1,
              "#f0f921"
             ]
            ],
            "type": "histogram2d"
           }
          ],
          "histogram2dcontour": [
           {
            "colorbar": {
             "outlinewidth": 0,
             "ticks": ""
            },
            "colorscale": [
             [
              0,
              "#0d0887"
             ],
             [
              0.1111111111111111,
              "#46039f"
             ],
             [
              0.2222222222222222,
              "#7201a8"
             ],
             [
              0.3333333333333333,
              "#9c179e"
             ],
             [
              0.4444444444444444,
              "#bd3786"
             ],
             [
              0.5555555555555556,
              "#d8576b"
             ],
             [
              0.6666666666666666,
              "#ed7953"
             ],
             [
              0.7777777777777778,
              "#fb9f3a"
             ],
             [
              0.8888888888888888,
              "#fdca26"
             ],
             [
              1,
              "#f0f921"
             ]
            ],
            "type": "histogram2dcontour"
           }
          ],
          "mesh3d": [
           {
            "colorbar": {
             "outlinewidth": 0,
             "ticks": ""
            },
            "type": "mesh3d"
           }
          ],
          "parcoords": [
           {
            "line": {
             "colorbar": {
              "outlinewidth": 0,
              "ticks": ""
             }
            },
            "type": "parcoords"
           }
          ],
          "pie": [
           {
            "automargin": true,
            "type": "pie"
           }
          ],
          "scatter": [
           {
            "marker": {
             "colorbar": {
              "outlinewidth": 0,
              "ticks": ""
             }
            },
            "type": "scatter"
           }
          ],
          "scatter3d": [
           {
            "line": {
             "colorbar": {
              "outlinewidth": 0,
              "ticks": ""
             }
            },
            "marker": {
             "colorbar": {
              "outlinewidth": 0,
              "ticks": ""
             }
            },
            "type": "scatter3d"
           }
          ],
          "scattercarpet": [
           {
            "marker": {
             "colorbar": {
              "outlinewidth": 0,
              "ticks": ""
             }
            },
            "type": "scattercarpet"
           }
          ],
          "scattergeo": [
           {
            "marker": {
             "colorbar": {
              "outlinewidth": 0,
              "ticks": ""
             }
            },
            "type": "scattergeo"
           }
          ],
          "scattergl": [
           {
            "marker": {
             "colorbar": {
              "outlinewidth": 0,
              "ticks": ""
             }
            },
            "type": "scattergl"
           }
          ],
          "scattermapbox": [
           {
            "marker": {
             "colorbar": {
              "outlinewidth": 0,
              "ticks": ""
             }
            },
            "type": "scattermapbox"
           }
          ],
          "scatterpolar": [
           {
            "marker": {
             "colorbar": {
              "outlinewidth": 0,
              "ticks": ""
             }
            },
            "type": "scatterpolar"
           }
          ],
          "scatterpolargl": [
           {
            "marker": {
             "colorbar": {
              "outlinewidth": 0,
              "ticks": ""
             }
            },
            "type": "scatterpolargl"
           }
          ],
          "scatterternary": [
           {
            "marker": {
             "colorbar": {
              "outlinewidth": 0,
              "ticks": ""
             }
            },
            "type": "scatterternary"
           }
          ],
          "surface": [
           {
            "colorbar": {
             "outlinewidth": 0,
             "ticks": ""
            },
            "colorscale": [
             [
              0,
              "#0d0887"
             ],
             [
              0.1111111111111111,
              "#46039f"
             ],
             [
              0.2222222222222222,
              "#7201a8"
             ],
             [
              0.3333333333333333,
              "#9c179e"
             ],
             [
              0.4444444444444444,
              "#bd3786"
             ],
             [
              0.5555555555555556,
              "#d8576b"
             ],
             [
              0.6666666666666666,
              "#ed7953"
             ],
             [
              0.7777777777777778,
              "#fb9f3a"
             ],
             [
              0.8888888888888888,
              "#fdca26"
             ],
             [
              1,
              "#f0f921"
             ]
            ],
            "type": "surface"
           }
          ],
          "table": [
           {
            "cells": {
             "fill": {
              "color": "#EBF0F8"
             },
             "line": {
              "color": "white"
             }
            },
            "header": {
             "fill": {
              "color": "#C8D4E3"
             },
             "line": {
              "color": "white"
             }
            },
            "type": "table"
           }
          ]
         },
         "layout": {
          "annotationdefaults": {
           "arrowcolor": "#2a3f5f",
           "arrowhead": 0,
           "arrowwidth": 1
          },
          "autotypenumbers": "strict",
          "coloraxis": {
           "colorbar": {
            "outlinewidth": 0,
            "ticks": ""
           }
          },
          "colorscale": {
           "diverging": [
            [
             0,
             "#8e0152"
            ],
            [
             0.1,
             "#c51b7d"
            ],
            [
             0.2,
             "#de77ae"
            ],
            [
             0.3,
             "#f1b6da"
            ],
            [
             0.4,
             "#fde0ef"
            ],
            [
             0.5,
             "#f7f7f7"
            ],
            [
             0.6,
             "#e6f5d0"
            ],
            [
             0.7,
             "#b8e186"
            ],
            [
             0.8,
             "#7fbc41"
            ],
            [
             0.9,
             "#4d9221"
            ],
            [
             1,
             "#276419"
            ]
           ],
           "sequential": [
            [
             0,
             "#0d0887"
            ],
            [
             0.1111111111111111,
             "#46039f"
            ],
            [
             0.2222222222222222,
             "#7201a8"
            ],
            [
             0.3333333333333333,
             "#9c179e"
            ],
            [
             0.4444444444444444,
             "#bd3786"
            ],
            [
             0.5555555555555556,
             "#d8576b"
            ],
            [
             0.6666666666666666,
             "#ed7953"
            ],
            [
             0.7777777777777778,
             "#fb9f3a"
            ],
            [
             0.8888888888888888,
             "#fdca26"
            ],
            [
             1,
             "#f0f921"
            ]
           ],
           "sequentialminus": [
            [
             0,
             "#0d0887"
            ],
            [
             0.1111111111111111,
             "#46039f"
            ],
            [
             0.2222222222222222,
             "#7201a8"
            ],
            [
             0.3333333333333333,
             "#9c179e"
            ],
            [
             0.4444444444444444,
             "#bd3786"
            ],
            [
             0.5555555555555556,
             "#d8576b"
            ],
            [
             0.6666666666666666,
             "#ed7953"
            ],
            [
             0.7777777777777778,
             "#fb9f3a"
            ],
            [
             0.8888888888888888,
             "#fdca26"
            ],
            [
             1,
             "#f0f921"
            ]
           ]
          },
          "colorway": [
           "#636efa",
           "#EF553B",
           "#00cc96",
           "#ab63fa",
           "#FFA15A",
           "#19d3f3",
           "#FF6692",
           "#B6E880",
           "#FF97FF",
           "#FECB52"
          ],
          "font": {
           "color": "#2a3f5f"
          },
          "geo": {
           "bgcolor": "white",
           "lakecolor": "white",
           "landcolor": "#E5ECF6",
           "showlakes": true,
           "showland": true,
           "subunitcolor": "white"
          },
          "hoverlabel": {
           "align": "left"
          },
          "hovermode": "closest",
          "mapbox": {
           "style": "light"
          },
          "paper_bgcolor": "white",
          "plot_bgcolor": "#E5ECF6",
          "polar": {
           "angularaxis": {
            "gridcolor": "white",
            "linecolor": "white",
            "ticks": ""
           },
           "bgcolor": "#E5ECF6",
           "radialaxis": {
            "gridcolor": "white",
            "linecolor": "white",
            "ticks": ""
           }
          },
          "scene": {
           "xaxis": {
            "backgroundcolor": "#E5ECF6",
            "gridcolor": "white",
            "gridwidth": 2,
            "linecolor": "white",
            "showbackground": true,
            "ticks": "",
            "zerolinecolor": "white"
           },
           "yaxis": {
            "backgroundcolor": "#E5ECF6",
            "gridcolor": "white",
            "gridwidth": 2,
            "linecolor": "white",
            "showbackground": true,
            "ticks": "",
            "zerolinecolor": "white"
           },
           "zaxis": {
            "backgroundcolor": "#E5ECF6",
            "gridcolor": "white",
            "gridwidth": 2,
            "linecolor": "white",
            "showbackground": true,
            "ticks": "",
            "zerolinecolor": "white"
           }
          },
          "shapedefaults": {
           "line": {
            "color": "#2a3f5f"
           }
          },
          "ternary": {
           "aaxis": {
            "gridcolor": "white",
            "linecolor": "white",
            "ticks": ""
           },
           "baxis": {
            "gridcolor": "white",
            "linecolor": "white",
            "ticks": ""
           },
           "bgcolor": "#E5ECF6",
           "caxis": {
            "gridcolor": "white",
            "linecolor": "white",
            "ticks": ""
           }
          },
          "title": {
           "x": 0.05
          },
          "xaxis": {
           "automargin": true,
           "gridcolor": "white",
           "linecolor": "white",
           "ticks": "",
           "title": {
            "standoff": 15
           },
           "zerolinecolor": "white",
           "zerolinewidth": 2
          },
          "yaxis": {
           "automargin": true,
           "gridcolor": "white",
           "linecolor": "white",
           "ticks": "",
           "title": {
            "standoff": 15
           },
           "zerolinecolor": "white",
           "zerolinewidth": 2
          }
         }
        },
        "xaxis": {
         "dtick": 1,
         "gridcolor": "rgb(0, 0, 0)",
         "side": "top",
         "ticks": ""
        },
        "yaxis": {
         "dtick": 1,
         "ticks": "",
         "ticksuffix": "  "
        }
       }
      },
      "text/html": [
       "<div>                            <div id=\"06e6c762-5d75-47dc-8859-ab2dd5b3031e\" class=\"plotly-graph-div\" style=\"height:525px; width:100%;\"></div>            <script type=\"text/javascript\">                require([\"plotly\"], function(Plotly) {                    window.PLOTLYENV=window.PLOTLYENV || {};                                    if (document.getElementById(\"06e6c762-5d75-47dc-8859-ab2dd5b3031e\")) {                    Plotly.newPlot(                        \"06e6c762-5d75-47dc-8859-ab2dd5b3031e\",                        [{\"colorscale\":[[0.0,\"rgb(0,0,255)\"],[1.0,\"rgb(255,0,0)\"]],\"reversescale\":false,\"showscale\":false,\"x\":[\"koi_disposition\",\"koi_fpflag_nt\",\"koi_fpflag_ss\",\"koi_fpflag_co\",\"koi_fpflag_ec\",\"koi_period\",\"koi_period_err1\",\"koi_period_err2\",\"koi_time0bk\",\"koi_time0bk_err1\"],\"y\":[\"koi_disposition\",\"koi_fpflag_nt\",\"koi_fpflag_ss\",\"koi_fpflag_co\",\"koi_fpflag_ec\",\"koi_period\",\"koi_period_err1\",\"koi_period_err2\",\"koi_time0bk\",\"koi_time0bk_err1\"],\"z\":[[1.0,0.0,0.014,0.009,0.008,0.125,0.099,-0.099,0.07,0.148],[0.0,1.0,-0.241,0.003,0.051,0.409,0.353,-0.353,0.249,0.251],[0.014,-0.241,1.0,0.145,0.102,-0.156,-0.134,0.134,-0.111,-0.177],[0.009,0.003,0.145,1.0,0.538,-0.165,-0.084,0.084,-0.121,-0.023],[0.008,0.051,0.102,0.538,1.0,-0.139,-0.08,0.08,-0.1,0.014],[0.125,0.409,-0.156,-0.165,-0.139,1.0,0.675,-0.675,0.655,0.273],[0.099,0.353,-0.134,-0.084,-0.08,0.675,1.0,-1.0,0.47,0.472],[-0.099,-0.353,0.134,0.084,0.08,-0.675,-1.0,1.0,-0.47,-0.472],[0.07,0.249,-0.111,-0.121,-0.1,0.655,0.47,-0.47,1.0,0.163],[0.148,0.251,-0.177,-0.023,0.014,0.273,0.472,-0.472,0.163,1.0]],\"type\":\"heatmap\"}],                        {\"annotations\":[{\"font\":{\"color\":\"#FFFFFF\"},\"showarrow\":false,\"text\":\"1.0\",\"x\":\"koi_disposition\",\"xref\":\"x\",\"y\":\"koi_disposition\",\"yref\":\"y\"},{\"font\":{\"color\":\"#FFFFFF\"},\"showarrow\":false,\"text\":\"0.0004\",\"x\":\"koi_fpflag_nt\",\"xref\":\"x\",\"y\":\"koi_disposition\",\"yref\":\"y\"},{\"font\":{\"color\":\"#FFFFFF\"},\"showarrow\":false,\"text\":\"0.0135\",\"x\":\"koi_fpflag_ss\",\"xref\":\"x\",\"y\":\"koi_disposition\",\"yref\":\"y\"},{\"font\":{\"color\":\"#FFFFFF\"},\"showarrow\":false,\"text\":\"0.0085\",\"x\":\"koi_fpflag_co\",\"xref\":\"x\",\"y\":\"koi_disposition\",\"yref\":\"y\"},{\"font\":{\"color\":\"#FFFFFF\"},\"showarrow\":false,\"text\":\"0.008\",\"x\":\"koi_fpflag_ec\",\"xref\":\"x\",\"y\":\"koi_disposition\",\"yref\":\"y\"},{\"font\":{\"color\":\"#FFFFFF\"},\"showarrow\":false,\"text\":\"0.1246\",\"x\":\"koi_period\",\"xref\":\"x\",\"y\":\"koi_disposition\",\"yref\":\"y\"},{\"font\":{\"color\":\"#FFFFFF\"},\"showarrow\":false,\"text\":\"0.099\",\"x\":\"koi_period_err1\",\"xref\":\"x\",\"y\":\"koi_disposition\",\"yref\":\"y\"},{\"font\":{\"color\":\"#FFFFFF\"},\"showarrow\":false,\"text\":\"-0.099\",\"x\":\"koi_period_err2\",\"xref\":\"x\",\"y\":\"koi_disposition\",\"yref\":\"y\"},{\"font\":{\"color\":\"#FFFFFF\"},\"showarrow\":false,\"text\":\"0.0704\",\"x\":\"koi_time0bk\",\"xref\":\"x\",\"y\":\"koi_disposition\",\"yref\":\"y\"},{\"font\":{\"color\":\"#FFFFFF\"},\"showarrow\":false,\"text\":\"0.1477\",\"x\":\"koi_time0bk_err1\",\"xref\":\"x\",\"y\":\"koi_disposition\",\"yref\":\"y\"},{\"font\":{\"color\":\"#FFFFFF\"},\"showarrow\":false,\"text\":\"0.0004\",\"x\":\"koi_disposition\",\"xref\":\"x\",\"y\":\"koi_fpflag_nt\",\"yref\":\"y\"},{\"font\":{\"color\":\"#FFFFFF\"},\"showarrow\":false,\"text\":\"1.0\",\"x\":\"koi_fpflag_nt\",\"xref\":\"x\",\"y\":\"koi_fpflag_nt\",\"yref\":\"y\"},{\"font\":{\"color\":\"#FFFFFF\"},\"showarrow\":false,\"text\":\"-0.2411\",\"x\":\"koi_fpflag_ss\",\"xref\":\"x\",\"y\":\"koi_fpflag_nt\",\"yref\":\"y\"},{\"font\":{\"color\":\"#FFFFFF\"},\"showarrow\":false,\"text\":\"0.0031\",\"x\":\"koi_fpflag_co\",\"xref\":\"x\",\"y\":\"koi_fpflag_nt\",\"yref\":\"y\"},{\"font\":{\"color\":\"#FFFFFF\"},\"showarrow\":false,\"text\":\"0.0508\",\"x\":\"koi_fpflag_ec\",\"xref\":\"x\",\"y\":\"koi_fpflag_nt\",\"yref\":\"y\"},{\"font\":{\"color\":\"#FFFFFF\"},\"showarrow\":false,\"text\":\"0.4087\",\"x\":\"koi_period\",\"xref\":\"x\",\"y\":\"koi_fpflag_nt\",\"yref\":\"y\"},{\"font\":{\"color\":\"#FFFFFF\"},\"showarrow\":false,\"text\":\"0.3532\",\"x\":\"koi_period_err1\",\"xref\":\"x\",\"y\":\"koi_fpflag_nt\",\"yref\":\"y\"},{\"font\":{\"color\":\"#FFFFFF\"},\"showarrow\":false,\"text\":\"-0.3532\",\"x\":\"koi_period_err2\",\"xref\":\"x\",\"y\":\"koi_fpflag_nt\",\"yref\":\"y\"},{\"font\":{\"color\":\"#FFFFFF\"},\"showarrow\":false,\"text\":\"0.2494\",\"x\":\"koi_time0bk\",\"xref\":\"x\",\"y\":\"koi_fpflag_nt\",\"yref\":\"y\"},{\"font\":{\"color\":\"#FFFFFF\"},\"showarrow\":false,\"text\":\"0.2507\",\"x\":\"koi_time0bk_err1\",\"xref\":\"x\",\"y\":\"koi_fpflag_nt\",\"yref\":\"y\"},{\"font\":{\"color\":\"#FFFFFF\"},\"showarrow\":false,\"text\":\"0.0135\",\"x\":\"koi_disposition\",\"xref\":\"x\",\"y\":\"koi_fpflag_ss\",\"yref\":\"y\"},{\"font\":{\"color\":\"#FFFFFF\"},\"showarrow\":false,\"text\":\"-0.2411\",\"x\":\"koi_fpflag_nt\",\"xref\":\"x\",\"y\":\"koi_fpflag_ss\",\"yref\":\"y\"},{\"font\":{\"color\":\"#FFFFFF\"},\"showarrow\":false,\"text\":\"1.0\",\"x\":\"koi_fpflag_ss\",\"xref\":\"x\",\"y\":\"koi_fpflag_ss\",\"yref\":\"y\"},{\"font\":{\"color\":\"#FFFFFF\"},\"showarrow\":false,\"text\":\"0.1445\",\"x\":\"koi_fpflag_co\",\"xref\":\"x\",\"y\":\"koi_fpflag_ss\",\"yref\":\"y\"},{\"font\":{\"color\":\"#FFFFFF\"},\"showarrow\":false,\"text\":\"0.1017\",\"x\":\"koi_fpflag_ec\",\"xref\":\"x\",\"y\":\"koi_fpflag_ss\",\"yref\":\"y\"},{\"font\":{\"color\":\"#FFFFFF\"},\"showarrow\":false,\"text\":\"-0.156\",\"x\":\"koi_period\",\"xref\":\"x\",\"y\":\"koi_fpflag_ss\",\"yref\":\"y\"},{\"font\":{\"color\":\"#FFFFFF\"},\"showarrow\":false,\"text\":\"-0.1342\",\"x\":\"koi_period_err1\",\"xref\":\"x\",\"y\":\"koi_fpflag_ss\",\"yref\":\"y\"},{\"font\":{\"color\":\"#FFFFFF\"},\"showarrow\":false,\"text\":\"0.1342\",\"x\":\"koi_period_err2\",\"xref\":\"x\",\"y\":\"koi_fpflag_ss\",\"yref\":\"y\"},{\"font\":{\"color\":\"#FFFFFF\"},\"showarrow\":false,\"text\":\"-0.1115\",\"x\":\"koi_time0bk\",\"xref\":\"x\",\"y\":\"koi_fpflag_ss\",\"yref\":\"y\"},{\"font\":{\"color\":\"#FFFFFF\"},\"showarrow\":false,\"text\":\"-0.177\",\"x\":\"koi_time0bk_err1\",\"xref\":\"x\",\"y\":\"koi_fpflag_ss\",\"yref\":\"y\"},{\"font\":{\"color\":\"#FFFFFF\"},\"showarrow\":false,\"text\":\"0.0085\",\"x\":\"koi_disposition\",\"xref\":\"x\",\"y\":\"koi_fpflag_co\",\"yref\":\"y\"},{\"font\":{\"color\":\"#FFFFFF\"},\"showarrow\":false,\"text\":\"0.0031\",\"x\":\"koi_fpflag_nt\",\"xref\":\"x\",\"y\":\"koi_fpflag_co\",\"yref\":\"y\"},{\"font\":{\"color\":\"#FFFFFF\"},\"showarrow\":false,\"text\":\"0.1445\",\"x\":\"koi_fpflag_ss\",\"xref\":\"x\",\"y\":\"koi_fpflag_co\",\"yref\":\"y\"},{\"font\":{\"color\":\"#FFFFFF\"},\"showarrow\":false,\"text\":\"1.0\",\"x\":\"koi_fpflag_co\",\"xref\":\"x\",\"y\":\"koi_fpflag_co\",\"yref\":\"y\"},{\"font\":{\"color\":\"#FFFFFF\"},\"showarrow\":false,\"text\":\"0.5383\",\"x\":\"koi_fpflag_ec\",\"xref\":\"x\",\"y\":\"koi_fpflag_co\",\"yref\":\"y\"},{\"font\":{\"color\":\"#FFFFFF\"},\"showarrow\":false,\"text\":\"-0.1648\",\"x\":\"koi_period\",\"xref\":\"x\",\"y\":\"koi_fpflag_co\",\"yref\":\"y\"},{\"font\":{\"color\":\"#FFFFFF\"},\"showarrow\":false,\"text\":\"-0.0844\",\"x\":\"koi_period_err1\",\"xref\":\"x\",\"y\":\"koi_fpflag_co\",\"yref\":\"y\"},{\"font\":{\"color\":\"#FFFFFF\"},\"showarrow\":false,\"text\":\"0.0844\",\"x\":\"koi_period_err2\",\"xref\":\"x\",\"y\":\"koi_fpflag_co\",\"yref\":\"y\"},{\"font\":{\"color\":\"#FFFFFF\"},\"showarrow\":false,\"text\":\"-0.1215\",\"x\":\"koi_time0bk\",\"xref\":\"x\",\"y\":\"koi_fpflag_co\",\"yref\":\"y\"},{\"font\":{\"color\":\"#FFFFFF\"},\"showarrow\":false,\"text\":\"-0.0231\",\"x\":\"koi_time0bk_err1\",\"xref\":\"x\",\"y\":\"koi_fpflag_co\",\"yref\":\"y\"},{\"font\":{\"color\":\"#FFFFFF\"},\"showarrow\":false,\"text\":\"0.008\",\"x\":\"koi_disposition\",\"xref\":\"x\",\"y\":\"koi_fpflag_ec\",\"yref\":\"y\"},{\"font\":{\"color\":\"#FFFFFF\"},\"showarrow\":false,\"text\":\"0.0508\",\"x\":\"koi_fpflag_nt\",\"xref\":\"x\",\"y\":\"koi_fpflag_ec\",\"yref\":\"y\"},{\"font\":{\"color\":\"#FFFFFF\"},\"showarrow\":false,\"text\":\"0.1017\",\"x\":\"koi_fpflag_ss\",\"xref\":\"x\",\"y\":\"koi_fpflag_ec\",\"yref\":\"y\"},{\"font\":{\"color\":\"#FFFFFF\"},\"showarrow\":false,\"text\":\"0.5383\",\"x\":\"koi_fpflag_co\",\"xref\":\"x\",\"y\":\"koi_fpflag_ec\",\"yref\":\"y\"},{\"font\":{\"color\":\"#FFFFFF\"},\"showarrow\":false,\"text\":\"1.0\",\"x\":\"koi_fpflag_ec\",\"xref\":\"x\",\"y\":\"koi_fpflag_ec\",\"yref\":\"y\"},{\"font\":{\"color\":\"#FFFFFF\"},\"showarrow\":false,\"text\":\"-0.1389\",\"x\":\"koi_period\",\"xref\":\"x\",\"y\":\"koi_fpflag_ec\",\"yref\":\"y\"},{\"font\":{\"color\":\"#FFFFFF\"},\"showarrow\":false,\"text\":\"-0.0799\",\"x\":\"koi_period_err1\",\"xref\":\"x\",\"y\":\"koi_fpflag_ec\",\"yref\":\"y\"},{\"font\":{\"color\":\"#FFFFFF\"},\"showarrow\":false,\"text\":\"0.0799\",\"x\":\"koi_period_err2\",\"xref\":\"x\",\"y\":\"koi_fpflag_ec\",\"yref\":\"y\"},{\"font\":{\"color\":\"#FFFFFF\"},\"showarrow\":false,\"text\":\"-0.0998\",\"x\":\"koi_time0bk\",\"xref\":\"x\",\"y\":\"koi_fpflag_ec\",\"yref\":\"y\"},{\"font\":{\"color\":\"#FFFFFF\"},\"showarrow\":false,\"text\":\"0.0136\",\"x\":\"koi_time0bk_err1\",\"xref\":\"x\",\"y\":\"koi_fpflag_ec\",\"yref\":\"y\"},{\"font\":{\"color\":\"#FFFFFF\"},\"showarrow\":false,\"text\":\"0.1246\",\"x\":\"koi_disposition\",\"xref\":\"x\",\"y\":\"koi_period\",\"yref\":\"y\"},{\"font\":{\"color\":\"#FFFFFF\"},\"showarrow\":false,\"text\":\"0.4087\",\"x\":\"koi_fpflag_nt\",\"xref\":\"x\",\"y\":\"koi_period\",\"yref\":\"y\"},{\"font\":{\"color\":\"#FFFFFF\"},\"showarrow\":false,\"text\":\"-0.156\",\"x\":\"koi_fpflag_ss\",\"xref\":\"x\",\"y\":\"koi_period\",\"yref\":\"y\"},{\"font\":{\"color\":\"#FFFFFF\"},\"showarrow\":false,\"text\":\"-0.1648\",\"x\":\"koi_fpflag_co\",\"xref\":\"x\",\"y\":\"koi_period\",\"yref\":\"y\"},{\"font\":{\"color\":\"#FFFFFF\"},\"showarrow\":false,\"text\":\"-0.1389\",\"x\":\"koi_fpflag_ec\",\"xref\":\"x\",\"y\":\"koi_period\",\"yref\":\"y\"},{\"font\":{\"color\":\"#FFFFFF\"},\"showarrow\":false,\"text\":\"1.0\",\"x\":\"koi_period\",\"xref\":\"x\",\"y\":\"koi_period\",\"yref\":\"y\"},{\"font\":{\"color\":\"#FFFFFF\"},\"showarrow\":false,\"text\":\"0.6748\",\"x\":\"koi_period_err1\",\"xref\":\"x\",\"y\":\"koi_period\",\"yref\":\"y\"},{\"font\":{\"color\":\"#FFFFFF\"},\"showarrow\":false,\"text\":\"-0.6748\",\"x\":\"koi_period_err2\",\"xref\":\"x\",\"y\":\"koi_period\",\"yref\":\"y\"},{\"font\":{\"color\":\"#FFFFFF\"},\"showarrow\":false,\"text\":\"0.6552\",\"x\":\"koi_time0bk\",\"xref\":\"x\",\"y\":\"koi_period\",\"yref\":\"y\"},{\"font\":{\"color\":\"#FFFFFF\"},\"showarrow\":false,\"text\":\"0.2725\",\"x\":\"koi_time0bk_err1\",\"xref\":\"x\",\"y\":\"koi_period\",\"yref\":\"y\"},{\"font\":{\"color\":\"#FFFFFF\"},\"showarrow\":false,\"text\":\"0.099\",\"x\":\"koi_disposition\",\"xref\":\"x\",\"y\":\"koi_period_err1\",\"yref\":\"y\"},{\"font\":{\"color\":\"#FFFFFF\"},\"showarrow\":false,\"text\":\"0.3532\",\"x\":\"koi_fpflag_nt\",\"xref\":\"x\",\"y\":\"koi_period_err1\",\"yref\":\"y\"},{\"font\":{\"color\":\"#FFFFFF\"},\"showarrow\":false,\"text\":\"-0.1342\",\"x\":\"koi_fpflag_ss\",\"xref\":\"x\",\"y\":\"koi_period_err1\",\"yref\":\"y\"},{\"font\":{\"color\":\"#FFFFFF\"},\"showarrow\":false,\"text\":\"-0.0844\",\"x\":\"koi_fpflag_co\",\"xref\":\"x\",\"y\":\"koi_period_err1\",\"yref\":\"y\"},{\"font\":{\"color\":\"#FFFFFF\"},\"showarrow\":false,\"text\":\"-0.0799\",\"x\":\"koi_fpflag_ec\",\"xref\":\"x\",\"y\":\"koi_period_err1\",\"yref\":\"y\"},{\"font\":{\"color\":\"#FFFFFF\"},\"showarrow\":false,\"text\":\"0.6748\",\"x\":\"koi_period\",\"xref\":\"x\",\"y\":\"koi_period_err1\",\"yref\":\"y\"},{\"font\":{\"color\":\"#FFFFFF\"},\"showarrow\":false,\"text\":\"1.0\",\"x\":\"koi_period_err1\",\"xref\":\"x\",\"y\":\"koi_period_err1\",\"yref\":\"y\"},{\"font\":{\"color\":\"#FFFFFF\"},\"showarrow\":false,\"text\":\"-1.0\",\"x\":\"koi_period_err2\",\"xref\":\"x\",\"y\":\"koi_period_err1\",\"yref\":\"y\"},{\"font\":{\"color\":\"#FFFFFF\"},\"showarrow\":false,\"text\":\"0.4696\",\"x\":\"koi_time0bk\",\"xref\":\"x\",\"y\":\"koi_period_err1\",\"yref\":\"y\"},{\"font\":{\"color\":\"#FFFFFF\"},\"showarrow\":false,\"text\":\"0.472\",\"x\":\"koi_time0bk_err1\",\"xref\":\"x\",\"y\":\"koi_period_err1\",\"yref\":\"y\"},{\"font\":{\"color\":\"#FFFFFF\"},\"showarrow\":false,\"text\":\"-0.099\",\"x\":\"koi_disposition\",\"xref\":\"x\",\"y\":\"koi_period_err2\",\"yref\":\"y\"},{\"font\":{\"color\":\"#FFFFFF\"},\"showarrow\":false,\"text\":\"-0.3532\",\"x\":\"koi_fpflag_nt\",\"xref\":\"x\",\"y\":\"koi_period_err2\",\"yref\":\"y\"},{\"font\":{\"color\":\"#FFFFFF\"},\"showarrow\":false,\"text\":\"0.1342\",\"x\":\"koi_fpflag_ss\",\"xref\":\"x\",\"y\":\"koi_period_err2\",\"yref\":\"y\"},{\"font\":{\"color\":\"#FFFFFF\"},\"showarrow\":false,\"text\":\"0.0844\",\"x\":\"koi_fpflag_co\",\"xref\":\"x\",\"y\":\"koi_period_err2\",\"yref\":\"y\"},{\"font\":{\"color\":\"#FFFFFF\"},\"showarrow\":false,\"text\":\"0.0799\",\"x\":\"koi_fpflag_ec\",\"xref\":\"x\",\"y\":\"koi_period_err2\",\"yref\":\"y\"},{\"font\":{\"color\":\"#FFFFFF\"},\"showarrow\":false,\"text\":\"-0.6748\",\"x\":\"koi_period\",\"xref\":\"x\",\"y\":\"koi_period_err2\",\"yref\":\"y\"},{\"font\":{\"color\":\"#FFFFFF\"},\"showarrow\":false,\"text\":\"-1.0\",\"x\":\"koi_period_err1\",\"xref\":\"x\",\"y\":\"koi_period_err2\",\"yref\":\"y\"},{\"font\":{\"color\":\"#FFFFFF\"},\"showarrow\":false,\"text\":\"1.0\",\"x\":\"koi_period_err2\",\"xref\":\"x\",\"y\":\"koi_period_err2\",\"yref\":\"y\"},{\"font\":{\"color\":\"#FFFFFF\"},\"showarrow\":false,\"text\":\"-0.4696\",\"x\":\"koi_time0bk\",\"xref\":\"x\",\"y\":\"koi_period_err2\",\"yref\":\"y\"},{\"font\":{\"color\":\"#FFFFFF\"},\"showarrow\":false,\"text\":\"-0.472\",\"x\":\"koi_time0bk_err1\",\"xref\":\"x\",\"y\":\"koi_period_err2\",\"yref\":\"y\"},{\"font\":{\"color\":\"#FFFFFF\"},\"showarrow\":false,\"text\":\"0.0704\",\"x\":\"koi_disposition\",\"xref\":\"x\",\"y\":\"koi_time0bk\",\"yref\":\"y\"},{\"font\":{\"color\":\"#FFFFFF\"},\"showarrow\":false,\"text\":\"0.2494\",\"x\":\"koi_fpflag_nt\",\"xref\":\"x\",\"y\":\"koi_time0bk\",\"yref\":\"y\"},{\"font\":{\"color\":\"#FFFFFF\"},\"showarrow\":false,\"text\":\"-0.1115\",\"x\":\"koi_fpflag_ss\",\"xref\":\"x\",\"y\":\"koi_time0bk\",\"yref\":\"y\"},{\"font\":{\"color\":\"#FFFFFF\"},\"showarrow\":false,\"text\":\"-0.1215\",\"x\":\"koi_fpflag_co\",\"xref\":\"x\",\"y\":\"koi_time0bk\",\"yref\":\"y\"},{\"font\":{\"color\":\"#FFFFFF\"},\"showarrow\":false,\"text\":\"-0.0998\",\"x\":\"koi_fpflag_ec\",\"xref\":\"x\",\"y\":\"koi_time0bk\",\"yref\":\"y\"},{\"font\":{\"color\":\"#FFFFFF\"},\"showarrow\":false,\"text\":\"0.6552\",\"x\":\"koi_period\",\"xref\":\"x\",\"y\":\"koi_time0bk\",\"yref\":\"y\"},{\"font\":{\"color\":\"#FFFFFF\"},\"showarrow\":false,\"text\":\"0.4696\",\"x\":\"koi_period_err1\",\"xref\":\"x\",\"y\":\"koi_time0bk\",\"yref\":\"y\"},{\"font\":{\"color\":\"#FFFFFF\"},\"showarrow\":false,\"text\":\"-0.4696\",\"x\":\"koi_period_err2\",\"xref\":\"x\",\"y\":\"koi_time0bk\",\"yref\":\"y\"},{\"font\":{\"color\":\"#FFFFFF\"},\"showarrow\":false,\"text\":\"1.0\",\"x\":\"koi_time0bk\",\"xref\":\"x\",\"y\":\"koi_time0bk\",\"yref\":\"y\"},{\"font\":{\"color\":\"#FFFFFF\"},\"showarrow\":false,\"text\":\"0.1628\",\"x\":\"koi_time0bk_err1\",\"xref\":\"x\",\"y\":\"koi_time0bk\",\"yref\":\"y\"},{\"font\":{\"color\":\"#FFFFFF\"},\"showarrow\":false,\"text\":\"0.1477\",\"x\":\"koi_disposition\",\"xref\":\"x\",\"y\":\"koi_time0bk_err1\",\"yref\":\"y\"},{\"font\":{\"color\":\"#FFFFFF\"},\"showarrow\":false,\"text\":\"0.2507\",\"x\":\"koi_fpflag_nt\",\"xref\":\"x\",\"y\":\"koi_time0bk_err1\",\"yref\":\"y\"},{\"font\":{\"color\":\"#FFFFFF\"},\"showarrow\":false,\"text\":\"-0.177\",\"x\":\"koi_fpflag_ss\",\"xref\":\"x\",\"y\":\"koi_time0bk_err1\",\"yref\":\"y\"},{\"font\":{\"color\":\"#FFFFFF\"},\"showarrow\":false,\"text\":\"-0.0231\",\"x\":\"koi_fpflag_co\",\"xref\":\"x\",\"y\":\"koi_time0bk_err1\",\"yref\":\"y\"},{\"font\":{\"color\":\"#FFFFFF\"},\"showarrow\":false,\"text\":\"0.0136\",\"x\":\"koi_fpflag_ec\",\"xref\":\"x\",\"y\":\"koi_time0bk_err1\",\"yref\":\"y\"},{\"font\":{\"color\":\"#FFFFFF\"},\"showarrow\":false,\"text\":\"0.2725\",\"x\":\"koi_period\",\"xref\":\"x\",\"y\":\"koi_time0bk_err1\",\"yref\":\"y\"},{\"font\":{\"color\":\"#FFFFFF\"},\"showarrow\":false,\"text\":\"0.472\",\"x\":\"koi_period_err1\",\"xref\":\"x\",\"y\":\"koi_time0bk_err1\",\"yref\":\"y\"},{\"font\":{\"color\":\"#FFFFFF\"},\"showarrow\":false,\"text\":\"-0.472\",\"x\":\"koi_period_err2\",\"xref\":\"x\",\"y\":\"koi_time0bk_err1\",\"yref\":\"y\"},{\"font\":{\"color\":\"#FFFFFF\"},\"showarrow\":false,\"text\":\"0.1628\",\"x\":\"koi_time0bk\",\"xref\":\"x\",\"y\":\"koi_time0bk_err1\",\"yref\":\"y\"},{\"font\":{\"color\":\"#FFFFFF\"},\"showarrow\":false,\"text\":\"1.0\",\"x\":\"koi_time0bk_err1\",\"xref\":\"x\",\"y\":\"koi_time0bk_err1\",\"yref\":\"y\"}],\"template\":{\"data\":{\"barpolar\":[{\"marker\":{\"line\":{\"color\":\"#E5ECF6\",\"width\":0.5},\"pattern\":{\"fillmode\":\"overlay\",\"size\":10,\"solidity\":0.2}},\"type\":\"barpolar\"}],\"bar\":[{\"error_x\":{\"color\":\"#2a3f5f\"},\"error_y\":{\"color\":\"#2a3f5f\"},\"marker\":{\"line\":{\"color\":\"#E5ECF6\",\"width\":0.5},\"pattern\":{\"fillmode\":\"overlay\",\"size\":10,\"solidity\":0.2}},\"type\":\"bar\"}],\"carpet\":[{\"aaxis\":{\"endlinecolor\":\"#2a3f5f\",\"gridcolor\":\"white\",\"linecolor\":\"white\",\"minorgridcolor\":\"white\",\"startlinecolor\":\"#2a3f5f\"},\"baxis\":{\"endlinecolor\":\"#2a3f5f\",\"gridcolor\":\"white\",\"linecolor\":\"white\",\"minorgridcolor\":\"white\",\"startlinecolor\":\"#2a3f5f\"},\"type\":\"carpet\"}],\"choropleth\":[{\"colorbar\":{\"outlinewidth\":0,\"ticks\":\"\"},\"type\":\"choropleth\"}],\"contourcarpet\":[{\"colorbar\":{\"outlinewidth\":0,\"ticks\":\"\"},\"type\":\"contourcarpet\"}],\"contour\":[{\"colorbar\":{\"outlinewidth\":0,\"ticks\":\"\"},\"colorscale\":[[0.0,\"#0d0887\"],[0.1111111111111111,\"#46039f\"],[0.2222222222222222,\"#7201a8\"],[0.3333333333333333,\"#9c179e\"],[0.4444444444444444,\"#bd3786\"],[0.5555555555555556,\"#d8576b\"],[0.6666666666666666,\"#ed7953\"],[0.7777777777777778,\"#fb9f3a\"],[0.8888888888888888,\"#fdca26\"],[1.0,\"#f0f921\"]],\"type\":\"contour\"}],\"heatmapgl\":[{\"colorbar\":{\"outlinewidth\":0,\"ticks\":\"\"},\"colorscale\":[[0.0,\"#0d0887\"],[0.1111111111111111,\"#46039f\"],[0.2222222222222222,\"#7201a8\"],[0.3333333333333333,\"#9c179e\"],[0.4444444444444444,\"#bd3786\"],[0.5555555555555556,\"#d8576b\"],[0.6666666666666666,\"#ed7953\"],[0.7777777777777778,\"#fb9f3a\"],[0.8888888888888888,\"#fdca26\"],[1.0,\"#f0f921\"]],\"type\":\"heatmapgl\"}],\"heatmap\":[{\"colorbar\":{\"outlinewidth\":0,\"ticks\":\"\"},\"colorscale\":[[0.0,\"#0d0887\"],[0.1111111111111111,\"#46039f\"],[0.2222222222222222,\"#7201a8\"],[0.3333333333333333,\"#9c179e\"],[0.4444444444444444,\"#bd3786\"],[0.5555555555555556,\"#d8576b\"],[0.6666666666666666,\"#ed7953\"],[0.7777777777777778,\"#fb9f3a\"],[0.8888888888888888,\"#fdca26\"],[1.0,\"#f0f921\"]],\"type\":\"heatmap\"}],\"histogram2dcontour\":[{\"colorbar\":{\"outlinewidth\":0,\"ticks\":\"\"},\"colorscale\":[[0.0,\"#0d0887\"],[0.1111111111111111,\"#46039f\"],[0.2222222222222222,\"#7201a8\"],[0.3333333333333333,\"#9c179e\"],[0.4444444444444444,\"#bd3786\"],[0.5555555555555556,\"#d8576b\"],[0.6666666666666666,\"#ed7953\"],[0.7777777777777778,\"#fb9f3a\"],[0.8888888888888888,\"#fdca26\"],[1.0,\"#f0f921\"]],\"type\":\"histogram2dcontour\"}],\"histogram2d\":[{\"colorbar\":{\"outlinewidth\":0,\"ticks\":\"\"},\"colorscale\":[[0.0,\"#0d0887\"],[0.1111111111111111,\"#46039f\"],[0.2222222222222222,\"#7201a8\"],[0.3333333333333333,\"#9c179e\"],[0.4444444444444444,\"#bd3786\"],[0.5555555555555556,\"#d8576b\"],[0.6666666666666666,\"#ed7953\"],[0.7777777777777778,\"#fb9f3a\"],[0.8888888888888888,\"#fdca26\"],[1.0,\"#f0f921\"]],\"type\":\"histogram2d\"}],\"histogram\":[{\"marker\":{\"pattern\":{\"fillmode\":\"overlay\",\"size\":10,\"solidity\":0.2}},\"type\":\"histogram\"}],\"mesh3d\":[{\"colorbar\":{\"outlinewidth\":0,\"ticks\":\"\"},\"type\":\"mesh3d\"}],\"parcoords\":[{\"line\":{\"colorbar\":{\"outlinewidth\":0,\"ticks\":\"\"}},\"type\":\"parcoords\"}],\"pie\":[{\"automargin\":true,\"type\":\"pie\"}],\"scatter3d\":[{\"line\":{\"colorbar\":{\"outlinewidth\":0,\"ticks\":\"\"}},\"marker\":{\"colorbar\":{\"outlinewidth\":0,\"ticks\":\"\"}},\"type\":\"scatter3d\"}],\"scattercarpet\":[{\"marker\":{\"colorbar\":{\"outlinewidth\":0,\"ticks\":\"\"}},\"type\":\"scattercarpet\"}],\"scattergeo\":[{\"marker\":{\"colorbar\":{\"outlinewidth\":0,\"ticks\":\"\"}},\"type\":\"scattergeo\"}],\"scattergl\":[{\"marker\":{\"colorbar\":{\"outlinewidth\":0,\"ticks\":\"\"}},\"type\":\"scattergl\"}],\"scattermapbox\":[{\"marker\":{\"colorbar\":{\"outlinewidth\":0,\"ticks\":\"\"}},\"type\":\"scattermapbox\"}],\"scatterpolargl\":[{\"marker\":{\"colorbar\":{\"outlinewidth\":0,\"ticks\":\"\"}},\"type\":\"scatterpolargl\"}],\"scatterpolar\":[{\"marker\":{\"colorbar\":{\"outlinewidth\":0,\"ticks\":\"\"}},\"type\":\"scatterpolar\"}],\"scatter\":[{\"marker\":{\"colorbar\":{\"outlinewidth\":0,\"ticks\":\"\"}},\"type\":\"scatter\"}],\"scatterternary\":[{\"marker\":{\"colorbar\":{\"outlinewidth\":0,\"ticks\":\"\"}},\"type\":\"scatterternary\"}],\"surface\":[{\"colorbar\":{\"outlinewidth\":0,\"ticks\":\"\"},\"colorscale\":[[0.0,\"#0d0887\"],[0.1111111111111111,\"#46039f\"],[0.2222222222222222,\"#7201a8\"],[0.3333333333333333,\"#9c179e\"],[0.4444444444444444,\"#bd3786\"],[0.5555555555555556,\"#d8576b\"],[0.6666666666666666,\"#ed7953\"],[0.7777777777777778,\"#fb9f3a\"],[0.8888888888888888,\"#fdca26\"],[1.0,\"#f0f921\"]],\"type\":\"surface\"}],\"table\":[{\"cells\":{\"fill\":{\"color\":\"#EBF0F8\"},\"line\":{\"color\":\"white\"}},\"header\":{\"fill\":{\"color\":\"#C8D4E3\"},\"line\":{\"color\":\"white\"}},\"type\":\"table\"}]},\"layout\":{\"annotationdefaults\":{\"arrowcolor\":\"#2a3f5f\",\"arrowhead\":0,\"arrowwidth\":1},\"autotypenumbers\":\"strict\",\"coloraxis\":{\"colorbar\":{\"outlinewidth\":0,\"ticks\":\"\"}},\"colorscale\":{\"diverging\":[[0,\"#8e0152\"],[0.1,\"#c51b7d\"],[0.2,\"#de77ae\"],[0.3,\"#f1b6da\"],[0.4,\"#fde0ef\"],[0.5,\"#f7f7f7\"],[0.6,\"#e6f5d0\"],[0.7,\"#b8e186\"],[0.8,\"#7fbc41\"],[0.9,\"#4d9221\"],[1,\"#276419\"]],\"sequential\":[[0.0,\"#0d0887\"],[0.1111111111111111,\"#46039f\"],[0.2222222222222222,\"#7201a8\"],[0.3333333333333333,\"#9c179e\"],[0.4444444444444444,\"#bd3786\"],[0.5555555555555556,\"#d8576b\"],[0.6666666666666666,\"#ed7953\"],[0.7777777777777778,\"#fb9f3a\"],[0.8888888888888888,\"#fdca26\"],[1.0,\"#f0f921\"]],\"sequentialminus\":[[0.0,\"#0d0887\"],[0.1111111111111111,\"#46039f\"],[0.2222222222222222,\"#7201a8\"],[0.3333333333333333,\"#9c179e\"],[0.4444444444444444,\"#bd3786\"],[0.5555555555555556,\"#d8576b\"],[0.6666666666666666,\"#ed7953\"],[0.7777777777777778,\"#fb9f3a\"],[0.8888888888888888,\"#fdca26\"],[1.0,\"#f0f921\"]]},\"colorway\":[\"#636efa\",\"#EF553B\",\"#00cc96\",\"#ab63fa\",\"#FFA15A\",\"#19d3f3\",\"#FF6692\",\"#B6E880\",\"#FF97FF\",\"#FECB52\"],\"font\":{\"color\":\"#2a3f5f\"},\"geo\":{\"bgcolor\":\"white\",\"lakecolor\":\"white\",\"landcolor\":\"#E5ECF6\",\"showlakes\":true,\"showland\":true,\"subunitcolor\":\"white\"},\"hoverlabel\":{\"align\":\"left\"},\"hovermode\":\"closest\",\"mapbox\":{\"style\":\"light\"},\"paper_bgcolor\":\"white\",\"plot_bgcolor\":\"#E5ECF6\",\"polar\":{\"angularaxis\":{\"gridcolor\":\"white\",\"linecolor\":\"white\",\"ticks\":\"\"},\"bgcolor\":\"#E5ECF6\",\"radialaxis\":{\"gridcolor\":\"white\",\"linecolor\":\"white\",\"ticks\":\"\"}},\"scene\":{\"xaxis\":{\"backgroundcolor\":\"#E5ECF6\",\"gridcolor\":\"white\",\"gridwidth\":2,\"linecolor\":\"white\",\"showbackground\":true,\"ticks\":\"\",\"zerolinecolor\":\"white\"},\"yaxis\":{\"backgroundcolor\":\"#E5ECF6\",\"gridcolor\":\"white\",\"gridwidth\":2,\"linecolor\":\"white\",\"showbackground\":true,\"ticks\":\"\",\"zerolinecolor\":\"white\"},\"zaxis\":{\"backgroundcolor\":\"#E5ECF6\",\"gridcolor\":\"white\",\"gridwidth\":2,\"linecolor\":\"white\",\"showbackground\":true,\"ticks\":\"\",\"zerolinecolor\":\"white\"}},\"shapedefaults\":{\"line\":{\"color\":\"#2a3f5f\"}},\"ternary\":{\"aaxis\":{\"gridcolor\":\"white\",\"linecolor\":\"white\",\"ticks\":\"\"},\"baxis\":{\"gridcolor\":\"white\",\"linecolor\":\"white\",\"ticks\":\"\"},\"bgcolor\":\"#E5ECF6\",\"caxis\":{\"gridcolor\":\"white\",\"linecolor\":\"white\",\"ticks\":\"\"}},\"title\":{\"x\":0.05},\"xaxis\":{\"automargin\":true,\"gridcolor\":\"white\",\"linecolor\":\"white\",\"ticks\":\"\",\"title\":{\"standoff\":15},\"zerolinecolor\":\"white\",\"zerolinewidth\":2},\"yaxis\":{\"automargin\":true,\"gridcolor\":\"white\",\"linecolor\":\"white\",\"ticks\":\"\",\"title\":{\"standoff\":15},\"zerolinecolor\":\"white\",\"zerolinewidth\":2}}},\"xaxis\":{\"dtick\":1,\"gridcolor\":\"rgb(0, 0, 0)\",\"side\":\"top\",\"ticks\":\"\"},\"yaxis\":{\"dtick\":1,\"ticks\":\"\",\"ticksuffix\":\"  \"}},                        {\"responsive\": true}                    ).then(function(){\n",
       "                            \n",
       "var gd = document.getElementById('06e6c762-5d75-47dc-8859-ab2dd5b3031e');\n",
       "var x = new MutationObserver(function (mutations, observer) {{\n",
       "        var display = window.getComputedStyle(gd).display;\n",
       "        if (!display || display === 'none') {{\n",
       "            console.log([gd, 'removed!']);\n",
       "            Plotly.purge(gd);\n",
       "            observer.disconnect();\n",
       "        }}\n",
       "}});\n",
       "\n",
       "// Listen for the removal of the full notebook cells\n",
       "var notebookContainer = gd.closest('#notebook-container');\n",
       "if (notebookContainer) {{\n",
       "    x.observe(notebookContainer, {childList: true});\n",
       "}}\n",
       "\n",
       "// Listen for the clearing of the current output cell\n",
       "var outputEl = gd.closest('.output');\n",
       "if (outputEl) {{\n",
       "    x.observe(outputEl, {childList: true});\n",
       "}}\n",
       "\n",
       "                        })                };                });            </script>        </div>"
      ]
     },
     "metadata": {},
     "output_type": "display_data"
    }
   ],
   "source": [
    "import plotly\n",
    "import plotly.graph_objs as go\n",
    "import plotly.figure_factory as figfac\n",
    "from plotly.offline import iplot\n",
    "\n",
    "iplot(figfac.create_annotated_heatmap(correlation.iloc[:10, :10].round(3).values, x=correlation.iloc[:10, :10].columns.to_list(), \n",
    "                                  y=correlation.iloc[:10, :10].index.to_list(), annotation_text=correlation.iloc[:10, :10].round(4).values, colorscale= 'bluered'))"
   ]
  },
  {
   "cell_type": "code",
   "execution_count": 37,
   "id": "5cf91497",
   "metadata": {},
   "outputs": [
    {
     "name": "stdout",
     "output_type": "stream",
     "text": [
      "(6991, 40)\n",
      "(6991,)\n"
     ]
    }
   ],
   "source": [
    "features = kepler_df.drop('koi_disposition', axis = 1)\n",
    "target = kepler_df['koi_disposition']\n",
    "\n",
    "print(features.shape)\n",
    "print(target.shape)"
   ]
  },
  {
   "cell_type": "code",
   "execution_count": 38,
   "id": "abdbd483",
   "metadata": {},
   "outputs": [],
   "source": [
    "from sklearn.linear_model import LogisticRegression\n",
    "logreg = LogisticRegression()\n"
   ]
  },
  {
   "cell_type": "code",
   "execution_count": 39,
   "id": "f460b763",
   "metadata": {},
   "outputs": [],
   "source": [
    "from sklearn.model_selection import train_test_split\n",
    "X_train, X_test, y_train, y_test = train_test_split(features, target, test_size=0.3, random_state=42)"
   ]
  },
  {
   "cell_type": "code",
   "execution_count": 40,
   "id": "fdc34f55",
   "metadata": {},
   "outputs": [
    {
     "data": {
      "text/plain": [
       "LogisticRegression()"
      ]
     },
     "execution_count": 40,
     "metadata": {},
     "output_type": "execute_result"
    }
   ],
   "source": [
    "logreg.fit(X_train, y_train)"
   ]
  },
  {
   "cell_type": "code",
   "execution_count": 41,
   "id": "794ba32c",
   "metadata": {},
   "outputs": [],
   "source": [
    "from sklearn.feature_selection import RFE\n",
    "rfe = RFE(logreg, n_features_to_select=10, step=1)\n",
    "features_selected = rfe.fit(X_train, y_train)"
   ]
  },
  {
   "cell_type": "code",
   "execution_count": 42,
   "id": "1cfd0eee",
   "metadata": {},
   "outputs": [
    {
     "data": {
      "text/html": [
       "<div>\n",
       "<style scoped>\n",
       "    .dataframe tbody tr th:only-of-type {\n",
       "        vertical-align: middle;\n",
       "    }\n",
       "\n",
       "    .dataframe tbody tr th {\n",
       "        vertical-align: top;\n",
       "    }\n",
       "\n",
       "    .dataframe thead th {\n",
       "        text-align: right;\n",
       "    }\n",
       "</style>\n",
       "<table border=\"1\" class=\"dataframe\">\n",
       "  <thead>\n",
       "    <tr style=\"text-align: right;\">\n",
       "      <th></th>\n",
       "      <th>koi_period</th>\n",
       "      <th>koi_time0bk</th>\n",
       "      <th>koi_depth_err1</th>\n",
       "      <th>koi_depth_err2</th>\n",
       "      <th>koi_prad</th>\n",
       "      <th>koi_prad_err1</th>\n",
       "      <th>koi_prad_err2</th>\n",
       "      <th>koi_model_snr</th>\n",
       "      <th>koi_steff_err1</th>\n",
       "      <th>ra</th>\n",
       "    </tr>\n",
       "  </thead>\n",
       "  <tbody>\n",
       "    <tr>\n",
       "      <th>0</th>\n",
       "      <td>54.418383</td>\n",
       "      <td>162.513840</td>\n",
       "      <td>35.5</td>\n",
       "      <td>-35.5</td>\n",
       "      <td>2.83</td>\n",
       "      <td>0.32</td>\n",
       "      <td>-0.19</td>\n",
       "      <td>25.8</td>\n",
       "      <td>81</td>\n",
       "      <td>291.93423</td>\n",
       "    </tr>\n",
       "    <tr>\n",
       "      <th>1</th>\n",
       "      <td>19.899140</td>\n",
       "      <td>175.850252</td>\n",
       "      <td>171.0</td>\n",
       "      <td>-171.0</td>\n",
       "      <td>14.60</td>\n",
       "      <td>3.92</td>\n",
       "      <td>-1.31</td>\n",
       "      <td>76.3</td>\n",
       "      <td>158</td>\n",
       "      <td>297.00482</td>\n",
       "    </tr>\n",
       "    <tr>\n",
       "      <th>2</th>\n",
       "      <td>1.736952</td>\n",
       "      <td>170.307565</td>\n",
       "      <td>12.8</td>\n",
       "      <td>-12.8</td>\n",
       "      <td>33.46</td>\n",
       "      <td>8.50</td>\n",
       "      <td>-2.83</td>\n",
       "      <td>505.6</td>\n",
       "      <td>157</td>\n",
       "      <td>285.53461</td>\n",
       "    </tr>\n",
       "    <tr>\n",
       "      <th>3</th>\n",
       "      <td>2.525592</td>\n",
       "      <td>171.595550</td>\n",
       "      <td>16.9</td>\n",
       "      <td>-16.9</td>\n",
       "      <td>2.75</td>\n",
       "      <td>0.88</td>\n",
       "      <td>-0.35</td>\n",
       "      <td>40.9</td>\n",
       "      <td>169</td>\n",
       "      <td>288.75488</td>\n",
       "    </tr>\n",
       "    <tr>\n",
       "      <th>4</th>\n",
       "      <td>4.134435</td>\n",
       "      <td>172.979370</td>\n",
       "      <td>18.7</td>\n",
       "      <td>-18.7</td>\n",
       "      <td>2.77</td>\n",
       "      <td>0.90</td>\n",
       "      <td>-0.30</td>\n",
       "      <td>40.2</td>\n",
       "      <td>189</td>\n",
       "      <td>296.28613</td>\n",
       "    </tr>\n",
       "  </tbody>\n",
       "</table>\n",
       "</div>"
      ],
      "text/plain": [
       "   koi_period  koi_time0bk  koi_depth_err1  koi_depth_err2  koi_prad  \\\n",
       "0   54.418383   162.513840            35.5           -35.5      2.83   \n",
       "1   19.899140   175.850252           171.0          -171.0     14.60   \n",
       "2    1.736952   170.307565            12.8           -12.8     33.46   \n",
       "3    2.525592   171.595550            16.9           -16.9      2.75   \n",
       "4    4.134435   172.979370            18.7           -18.7      2.77   \n",
       "\n",
       "   koi_prad_err1  koi_prad_err2  koi_model_snr  koi_steff_err1         ra  \n",
       "0           0.32          -0.19           25.8              81  291.93423  \n",
       "1           3.92          -1.31           76.3             158  297.00482  \n",
       "2           8.50          -2.83          505.6             157  285.53461  \n",
       "3           0.88          -0.35           40.9             169  288.75488  \n",
       "4           0.90          -0.30           40.2             189  296.28613  "
      ]
     },
     "execution_count": 42,
     "metadata": {},
     "output_type": "execute_result"
    }
   ],
   "source": [
    "relevant_features = features.loc[:,features_selected.support_]\n",
    "relevant_features.head()"
   ]
  },
  {
   "cell_type": "code",
   "execution_count": 50,
   "id": "a35d9e63",
   "metadata": {},
   "outputs": [
    {
     "data": {
      "text/html": [
       "<div>\n",
       "<style scoped>\n",
       "    .dataframe tbody tr th:only-of-type {\n",
       "        vertical-align: middle;\n",
       "    }\n",
       "\n",
       "    .dataframe tbody tr th {\n",
       "        vertical-align: top;\n",
       "    }\n",
       "\n",
       "    .dataframe thead th {\n",
       "        text-align: right;\n",
       "    }\n",
       "</style>\n",
       "<table border=\"1\" class=\"dataframe\">\n",
       "  <thead>\n",
       "    <tr style=\"text-align: right;\">\n",
       "      <th></th>\n",
       "      <th>koi_disposition</th>\n",
       "      <th>koi_period</th>\n",
       "      <th>koi_time0bk</th>\n",
       "      <th>koi_depth_err1</th>\n",
       "      <th>koi_depth_err2</th>\n",
       "      <th>koi_prad</th>\n",
       "      <th>koi_prad_err1</th>\n",
       "      <th>koi_prad_err2</th>\n",
       "      <th>koi_model_snr</th>\n",
       "      <th>koi_steff_err1</th>\n",
       "      <th>ra</th>\n",
       "    </tr>\n",
       "  </thead>\n",
       "  <tbody>\n",
       "    <tr>\n",
       "      <th>0</th>\n",
       "      <td>0</td>\n",
       "      <td>54.418383</td>\n",
       "      <td>162.513840</td>\n",
       "      <td>35.5</td>\n",
       "      <td>-35.5</td>\n",
       "      <td>2.83</td>\n",
       "      <td>0.32</td>\n",
       "      <td>-0.19</td>\n",
       "      <td>25.8</td>\n",
       "      <td>81</td>\n",
       "      <td>291.93423</td>\n",
       "    </tr>\n",
       "    <tr>\n",
       "      <th>1</th>\n",
       "      <td>1</td>\n",
       "      <td>19.899140</td>\n",
       "      <td>175.850252</td>\n",
       "      <td>171.0</td>\n",
       "      <td>-171.0</td>\n",
       "      <td>14.60</td>\n",
       "      <td>3.92</td>\n",
       "      <td>-1.31</td>\n",
       "      <td>76.3</td>\n",
       "      <td>158</td>\n",
       "      <td>297.00482</td>\n",
       "    </tr>\n",
       "    <tr>\n",
       "      <th>2</th>\n",
       "      <td>1</td>\n",
       "      <td>1.736952</td>\n",
       "      <td>170.307565</td>\n",
       "      <td>12.8</td>\n",
       "      <td>-12.8</td>\n",
       "      <td>33.46</td>\n",
       "      <td>8.50</td>\n",
       "      <td>-2.83</td>\n",
       "      <td>505.6</td>\n",
       "      <td>157</td>\n",
       "      <td>285.53461</td>\n",
       "    </tr>\n",
       "    <tr>\n",
       "      <th>3</th>\n",
       "      <td>0</td>\n",
       "      <td>2.525592</td>\n",
       "      <td>171.595550</td>\n",
       "      <td>16.9</td>\n",
       "      <td>-16.9</td>\n",
       "      <td>2.75</td>\n",
       "      <td>0.88</td>\n",
       "      <td>-0.35</td>\n",
       "      <td>40.9</td>\n",
       "      <td>169</td>\n",
       "      <td>288.75488</td>\n",
       "    </tr>\n",
       "    <tr>\n",
       "      <th>4</th>\n",
       "      <td>0</td>\n",
       "      <td>4.134435</td>\n",
       "      <td>172.979370</td>\n",
       "      <td>18.7</td>\n",
       "      <td>-18.7</td>\n",
       "      <td>2.77</td>\n",
       "      <td>0.90</td>\n",
       "      <td>-0.30</td>\n",
       "      <td>40.2</td>\n",
       "      <td>189</td>\n",
       "      <td>296.28613</td>\n",
       "    </tr>\n",
       "  </tbody>\n",
       "</table>\n",
       "</div>"
      ],
      "text/plain": [
       "   koi_disposition  koi_period  koi_time0bk  koi_depth_err1  koi_depth_err2  \\\n",
       "0                0   54.418383   162.513840            35.5           -35.5   \n",
       "1                1   19.899140   175.850252           171.0          -171.0   \n",
       "2                1    1.736952   170.307565            12.8           -12.8   \n",
       "3                0    2.525592   171.595550            16.9           -16.9   \n",
       "4                0    4.134435   172.979370            18.7           -18.7   \n",
       "\n",
       "   koi_prad  koi_prad_err1  koi_prad_err2  koi_model_snr  koi_steff_err1  \\\n",
       "0      2.83           0.32          -0.19           25.8              81   \n",
       "1     14.60           3.92          -1.31           76.3             158   \n",
       "2     33.46           8.50          -2.83          505.6             157   \n",
       "3      2.75           0.88          -0.35           40.9             169   \n",
       "4      2.77           0.90          -0.30           40.2             189   \n",
       "\n",
       "          ra  \n",
       "0  291.93423  \n",
       "1  297.00482  \n",
       "2  285.53461  \n",
       "3  288.75488  \n",
       "4  296.28613  "
      ]
     },
     "execution_count": 50,
     "metadata": {},
     "output_type": "execute_result"
    }
   ],
   "source": [
    "relevant_corr_df = pd.merge(target, relevant_features, left_index=True, right_index=True)\n",
    "relevant_corr_df.head()"
   ]
  },
  {
   "cell_type": "code",
   "execution_count": 51,
   "id": "fa387fcf",
   "metadata": {},
   "outputs": [
    {
     "name": "stdout",
     "output_type": "stream",
     "text": [
      "<class 'pandas.core.frame.DataFrame'>\n",
      "RangeIndex: 6991 entries, 0 to 6990\n",
      "Data columns (total 11 columns):\n",
      " #   Column           Non-Null Count  Dtype  \n",
      "---  ------           --------------  -----  \n",
      " 0   koi_disposition  6991 non-null   int64  \n",
      " 1   koi_period       6991 non-null   float64\n",
      " 2   koi_time0bk      6991 non-null   float64\n",
      " 3   koi_depth_err1   6991 non-null   float64\n",
      " 4   koi_depth_err2   6991 non-null   float64\n",
      " 5   koi_prad         6991 non-null   float64\n",
      " 6   koi_prad_err1    6991 non-null   float64\n",
      " 7   koi_prad_err2    6991 non-null   float64\n",
      " 8   koi_model_snr    6991 non-null   float64\n",
      " 9   koi_steff_err1   6991 non-null   int64  \n",
      " 10  ra               6991 non-null   float64\n",
      "dtypes: float64(9), int64(2)\n",
      "memory usage: 600.9 KB\n"
     ]
    }
   ],
   "source": [
    "relevant_corr_df.info()"
   ]
  },
  {
   "cell_type": "code",
   "execution_count": 52,
   "id": "22118167",
   "metadata": {},
   "outputs": [
    {
     "data": {
      "text/plain": [
       "koi_disposition    1.000000\n",
       "koi_period         0.124647\n",
       "koi_time0bk        0.070445\n",
       "koi_depth_err1     0.001797\n",
       "koi_depth_err2    -0.001797\n",
       "koi_prad           0.001485\n",
       "koi_prad_err1      0.003135\n",
       "koi_prad_err2     -0.000998\n",
       "koi_model_snr     -0.016351\n",
       "koi_steff_err1     0.173227\n",
       "ra                 0.063848\n",
       "Name: koi_disposition, dtype: float64"
      ]
     },
     "execution_count": 52,
     "metadata": {},
     "output_type": "execute_result"
    }
   ],
   "source": [
    "rel_correlation = relevant_corr_df.corr()\n",
    "rel_correlation['koi_disposition']"
   ]
  },
  {
   "cell_type": "code",
   "execution_count": 54,
   "id": "a25198c9",
   "metadata": {},
   "outputs": [
    {
     "data": {
      "application/vnd.plotly.v1+json": {
       "config": {
        "linkText": "Export to plot.ly",
        "plotlyServerURL": "https://plot.ly",
        "showLink": false
       },
       "data": [
        {
         "colorscale": [
          [
           0,
           "rgb(255,255,217)"
          ],
          [
           0.125,
           "rgb(237,248,177)"
          ],
          [
           0.25,
           "rgb(199,233,180)"
          ],
          [
           0.375,
           "rgb(127,205,187)"
          ],
          [
           0.5,
           "rgb(65,182,196)"
          ],
          [
           0.625,
           "rgb(29,145,192)"
          ],
          [
           0.75,
           "rgb(34,94,168)"
          ],
          [
           0.875,
           "rgb(37,52,148)"
          ],
          [
           1,
           "rgb(8,29,88)"
          ]
         ],
         "reversescale": false,
         "showscale": false,
         "type": "heatmap",
         "x": [
          "koi_disposition",
          "koi_period",
          "koi_time0bk",
          "koi_depth_err1",
          "koi_depth_err2",
          "koi_prad",
          "koi_prad_err1",
          "koi_prad_err2",
          "koi_model_snr",
          "koi_steff_err1",
          "ra"
         ],
         "y": [
          "koi_disposition",
          "koi_period",
          "koi_time0bk",
          "koi_depth_err1",
          "koi_depth_err2",
          "koi_prad",
          "koi_prad_err1",
          "koi_prad_err2",
          "koi_model_snr",
          "koi_steff_err1",
          "ra"
         ],
         "z": [
          [
           1,
           0.125,
           0.07,
           0.002,
           -0.002,
           0.001,
           0.003,
           -0.001,
           -0.016,
           0.173,
           0.064
          ],
          [
           0.125,
           1,
           0.655,
           0.039,
           -0.039,
           0.073,
           0.052,
           -0.071,
           -0.081,
           0.037,
           -0.031
          ],
          [
           0.07,
           0.655,
           1,
           0.056,
           -0.056,
           0.04,
           0.041,
           -0.038,
           -0.059,
           0.04,
           -0.017
          ],
          [
           0.002,
           0.039,
           0.056,
           1,
           -1,
           0.001,
           0.005,
           -0.001,
           -0.002,
           0.019,
           0.012
          ],
          [
           -0.002,
           -0.039,
           -0.056,
           -1,
           1,
           -0.001,
           -0.005,
           0.001,
           0.002,
           -0.019,
           -0.012
          ],
          [
           0.001,
           0.073,
           0.04,
           0.001,
           -0.001,
           1,
           0.727,
           -0.988,
           -0.004,
           -0.023,
           0.008
          ],
          [
           0.003,
           0.052,
           0.041,
           0.005,
           -0.005,
           0.727,
           1,
           -0.667,
           0,
           -0.012,
           0.01
          ],
          [
           -0.001,
           -0.071,
           -0.038,
           -0.001,
           0.001,
           -0.988,
           -0.667,
           1,
           0.004,
           0.024,
           -0.009
          ],
          [
           -0.016,
           -0.081,
           -0.059,
           -0.002,
           0.002,
           -0.004,
           0,
           0.004,
           1,
           0.121,
           0.029
          ],
          [
           0.173,
           0.037,
           0.04,
           0.019,
           -0.019,
           -0.023,
           -0.012,
           0.024,
           0.121,
           1,
           0.144
          ],
          [
           0.064,
           -0.031,
           -0.017,
           0.012,
           -0.012,
           0.008,
           0.01,
           -0.009,
           0.029,
           0.144,
           1
          ]
         ]
        }
       ],
       "layout": {
        "annotations": [
         {
          "font": {
           "color": "#FFFFFF"
          },
          "showarrow": false,
          "text": "1.0",
          "x": "koi_disposition",
          "xref": "x",
          "y": "koi_disposition",
          "yref": "y"
         },
         {
          "font": {
           "color": "#FFFFFF"
          },
          "showarrow": false,
          "text": "0.1246",
          "x": "koi_period",
          "xref": "x",
          "y": "koi_disposition",
          "yref": "y"
         },
         {
          "font": {
           "color": "#FFFFFF"
          },
          "showarrow": false,
          "text": "0.0704",
          "x": "koi_time0bk",
          "xref": "x",
          "y": "koi_disposition",
          "yref": "y"
         },
         {
          "font": {
           "color": "#FFFFFF"
          },
          "showarrow": false,
          "text": "0.0018",
          "x": "koi_depth_err1",
          "xref": "x",
          "y": "koi_disposition",
          "yref": "y"
         },
         {
          "font": {
           "color": "#000000"
          },
          "showarrow": false,
          "text": "-0.0018",
          "x": "koi_depth_err2",
          "xref": "x",
          "y": "koi_disposition",
          "yref": "y"
         },
         {
          "font": {
           "color": "#FFFFFF"
          },
          "showarrow": false,
          "text": "0.0015",
          "x": "koi_prad",
          "xref": "x",
          "y": "koi_disposition",
          "yref": "y"
         },
         {
          "font": {
           "color": "#FFFFFF"
          },
          "showarrow": false,
          "text": "0.0031",
          "x": "koi_prad_err1",
          "xref": "x",
          "y": "koi_disposition",
          "yref": "y"
         },
         {
          "font": {
           "color": "#000000"
          },
          "showarrow": false,
          "text": "-0.001",
          "x": "koi_prad_err2",
          "xref": "x",
          "y": "koi_disposition",
          "yref": "y"
         },
         {
          "font": {
           "color": "#000000"
          },
          "showarrow": false,
          "text": "-0.0164",
          "x": "koi_model_snr",
          "xref": "x",
          "y": "koi_disposition",
          "yref": "y"
         },
         {
          "font": {
           "color": "#FFFFFF"
          },
          "showarrow": false,
          "text": "0.1732",
          "x": "koi_steff_err1",
          "xref": "x",
          "y": "koi_disposition",
          "yref": "y"
         },
         {
          "font": {
           "color": "#FFFFFF"
          },
          "showarrow": false,
          "text": "0.0638",
          "x": "ra",
          "xref": "x",
          "y": "koi_disposition",
          "yref": "y"
         },
         {
          "font": {
           "color": "#FFFFFF"
          },
          "showarrow": false,
          "text": "0.1246",
          "x": "koi_disposition",
          "xref": "x",
          "y": "koi_period",
          "yref": "y"
         },
         {
          "font": {
           "color": "#FFFFFF"
          },
          "showarrow": false,
          "text": "1.0",
          "x": "koi_period",
          "xref": "x",
          "y": "koi_period",
          "yref": "y"
         },
         {
          "font": {
           "color": "#FFFFFF"
          },
          "showarrow": false,
          "text": "0.6552",
          "x": "koi_time0bk",
          "xref": "x",
          "y": "koi_period",
          "yref": "y"
         },
         {
          "font": {
           "color": "#FFFFFF"
          },
          "showarrow": false,
          "text": "0.0386",
          "x": "koi_depth_err1",
          "xref": "x",
          "y": "koi_period",
          "yref": "y"
         },
         {
          "font": {
           "color": "#000000"
          },
          "showarrow": false,
          "text": "-0.0386",
          "x": "koi_depth_err2",
          "xref": "x",
          "y": "koi_period",
          "yref": "y"
         },
         {
          "font": {
           "color": "#FFFFFF"
          },
          "showarrow": false,
          "text": "0.0728",
          "x": "koi_prad",
          "xref": "x",
          "y": "koi_period",
          "yref": "y"
         },
         {
          "font": {
           "color": "#FFFFFF"
          },
          "showarrow": false,
          "text": "0.0524",
          "x": "koi_prad_err1",
          "xref": "x",
          "y": "koi_period",
          "yref": "y"
         },
         {
          "font": {
           "color": "#000000"
          },
          "showarrow": false,
          "text": "-0.0707",
          "x": "koi_prad_err2",
          "xref": "x",
          "y": "koi_period",
          "yref": "y"
         },
         {
          "font": {
           "color": "#000000"
          },
          "showarrow": false,
          "text": "-0.0815",
          "x": "koi_model_snr",
          "xref": "x",
          "y": "koi_period",
          "yref": "y"
         },
         {
          "font": {
           "color": "#FFFFFF"
          },
          "showarrow": false,
          "text": "0.0368",
          "x": "koi_steff_err1",
          "xref": "x",
          "y": "koi_period",
          "yref": "y"
         },
         {
          "font": {
           "color": "#000000"
          },
          "showarrow": false,
          "text": "-0.0307",
          "x": "ra",
          "xref": "x",
          "y": "koi_period",
          "yref": "y"
         },
         {
          "font": {
           "color": "#FFFFFF"
          },
          "showarrow": false,
          "text": "0.0704",
          "x": "koi_disposition",
          "xref": "x",
          "y": "koi_time0bk",
          "yref": "y"
         },
         {
          "font": {
           "color": "#FFFFFF"
          },
          "showarrow": false,
          "text": "0.6552",
          "x": "koi_period",
          "xref": "x",
          "y": "koi_time0bk",
          "yref": "y"
         },
         {
          "font": {
           "color": "#FFFFFF"
          },
          "showarrow": false,
          "text": "1.0",
          "x": "koi_time0bk",
          "xref": "x",
          "y": "koi_time0bk",
          "yref": "y"
         },
         {
          "font": {
           "color": "#FFFFFF"
          },
          "showarrow": false,
          "text": "0.0556",
          "x": "koi_depth_err1",
          "xref": "x",
          "y": "koi_time0bk",
          "yref": "y"
         },
         {
          "font": {
           "color": "#000000"
          },
          "showarrow": false,
          "text": "-0.0556",
          "x": "koi_depth_err2",
          "xref": "x",
          "y": "koi_time0bk",
          "yref": "y"
         },
         {
          "font": {
           "color": "#FFFFFF"
          },
          "showarrow": false,
          "text": "0.0398",
          "x": "koi_prad",
          "xref": "x",
          "y": "koi_time0bk",
          "yref": "y"
         },
         {
          "font": {
           "color": "#FFFFFF"
          },
          "showarrow": false,
          "text": "0.0415",
          "x": "koi_prad_err1",
          "xref": "x",
          "y": "koi_time0bk",
          "yref": "y"
         },
         {
          "font": {
           "color": "#000000"
          },
          "showarrow": false,
          "text": "-0.038",
          "x": "koi_prad_err2",
          "xref": "x",
          "y": "koi_time0bk",
          "yref": "y"
         },
         {
          "font": {
           "color": "#000000"
          },
          "showarrow": false,
          "text": "-0.0585",
          "x": "koi_model_snr",
          "xref": "x",
          "y": "koi_time0bk",
          "yref": "y"
         },
         {
          "font": {
           "color": "#FFFFFF"
          },
          "showarrow": false,
          "text": "0.04",
          "x": "koi_steff_err1",
          "xref": "x",
          "y": "koi_time0bk",
          "yref": "y"
         },
         {
          "font": {
           "color": "#000000"
          },
          "showarrow": false,
          "text": "-0.017",
          "x": "ra",
          "xref": "x",
          "y": "koi_time0bk",
          "yref": "y"
         },
         {
          "font": {
           "color": "#FFFFFF"
          },
          "showarrow": false,
          "text": "0.0018",
          "x": "koi_disposition",
          "xref": "x",
          "y": "koi_depth_err1",
          "yref": "y"
         },
         {
          "font": {
           "color": "#FFFFFF"
          },
          "showarrow": false,
          "text": "0.0386",
          "x": "koi_period",
          "xref": "x",
          "y": "koi_depth_err1",
          "yref": "y"
         },
         {
          "font": {
           "color": "#FFFFFF"
          },
          "showarrow": false,
          "text": "0.0556",
          "x": "koi_time0bk",
          "xref": "x",
          "y": "koi_depth_err1",
          "yref": "y"
         },
         {
          "font": {
           "color": "#FFFFFF"
          },
          "showarrow": false,
          "text": "1.0",
          "x": "koi_depth_err1",
          "xref": "x",
          "y": "koi_depth_err1",
          "yref": "y"
         },
         {
          "font": {
           "color": "#000000"
          },
          "showarrow": false,
          "text": "-1.0",
          "x": "koi_depth_err2",
          "xref": "x",
          "y": "koi_depth_err1",
          "yref": "y"
         },
         {
          "font": {
           "color": "#FFFFFF"
          },
          "showarrow": false,
          "text": "0.0013",
          "x": "koi_prad",
          "xref": "x",
          "y": "koi_depth_err1",
          "yref": "y"
         },
         {
          "font": {
           "color": "#FFFFFF"
          },
          "showarrow": false,
          "text": "0.0045",
          "x": "koi_prad_err1",
          "xref": "x",
          "y": "koi_depth_err1",
          "yref": "y"
         },
         {
          "font": {
           "color": "#000000"
          },
          "showarrow": false,
          "text": "-0.0006",
          "x": "koi_prad_err2",
          "xref": "x",
          "y": "koi_depth_err1",
          "yref": "y"
         },
         {
          "font": {
           "color": "#000000"
          },
          "showarrow": false,
          "text": "-0.0018",
          "x": "koi_model_snr",
          "xref": "x",
          "y": "koi_depth_err1",
          "yref": "y"
         },
         {
          "font": {
           "color": "#FFFFFF"
          },
          "showarrow": false,
          "text": "0.0186",
          "x": "koi_steff_err1",
          "xref": "x",
          "y": "koi_depth_err1",
          "yref": "y"
         },
         {
          "font": {
           "color": "#FFFFFF"
          },
          "showarrow": false,
          "text": "0.0122",
          "x": "ra",
          "xref": "x",
          "y": "koi_depth_err1",
          "yref": "y"
         },
         {
          "font": {
           "color": "#000000"
          },
          "showarrow": false,
          "text": "-0.0018",
          "x": "koi_disposition",
          "xref": "x",
          "y": "koi_depth_err2",
          "yref": "y"
         },
         {
          "font": {
           "color": "#000000"
          },
          "showarrow": false,
          "text": "-0.0386",
          "x": "koi_period",
          "xref": "x",
          "y": "koi_depth_err2",
          "yref": "y"
         },
         {
          "font": {
           "color": "#000000"
          },
          "showarrow": false,
          "text": "-0.0556",
          "x": "koi_time0bk",
          "xref": "x",
          "y": "koi_depth_err2",
          "yref": "y"
         },
         {
          "font": {
           "color": "#000000"
          },
          "showarrow": false,
          "text": "-1.0",
          "x": "koi_depth_err1",
          "xref": "x",
          "y": "koi_depth_err2",
          "yref": "y"
         },
         {
          "font": {
           "color": "#FFFFFF"
          },
          "showarrow": false,
          "text": "1.0",
          "x": "koi_depth_err2",
          "xref": "x",
          "y": "koi_depth_err2",
          "yref": "y"
         },
         {
          "font": {
           "color": "#000000"
          },
          "showarrow": false,
          "text": "-0.0013",
          "x": "koi_prad",
          "xref": "x",
          "y": "koi_depth_err2",
          "yref": "y"
         },
         {
          "font": {
           "color": "#000000"
          },
          "showarrow": false,
          "text": "-0.0045",
          "x": "koi_prad_err1",
          "xref": "x",
          "y": "koi_depth_err2",
          "yref": "y"
         },
         {
          "font": {
           "color": "#FFFFFF"
          },
          "showarrow": false,
          "text": "0.0006",
          "x": "koi_prad_err2",
          "xref": "x",
          "y": "koi_depth_err2",
          "yref": "y"
         },
         {
          "font": {
           "color": "#FFFFFF"
          },
          "showarrow": false,
          "text": "0.0018",
          "x": "koi_model_snr",
          "xref": "x",
          "y": "koi_depth_err2",
          "yref": "y"
         },
         {
          "font": {
           "color": "#000000"
          },
          "showarrow": false,
          "text": "-0.0186",
          "x": "koi_steff_err1",
          "xref": "x",
          "y": "koi_depth_err2",
          "yref": "y"
         },
         {
          "font": {
           "color": "#000000"
          },
          "showarrow": false,
          "text": "-0.0122",
          "x": "ra",
          "xref": "x",
          "y": "koi_depth_err2",
          "yref": "y"
         },
         {
          "font": {
           "color": "#FFFFFF"
          },
          "showarrow": false,
          "text": "0.0015",
          "x": "koi_disposition",
          "xref": "x",
          "y": "koi_prad",
          "yref": "y"
         },
         {
          "font": {
           "color": "#FFFFFF"
          },
          "showarrow": false,
          "text": "0.0728",
          "x": "koi_period",
          "xref": "x",
          "y": "koi_prad",
          "yref": "y"
         },
         {
          "font": {
           "color": "#FFFFFF"
          },
          "showarrow": false,
          "text": "0.0398",
          "x": "koi_time0bk",
          "xref": "x",
          "y": "koi_prad",
          "yref": "y"
         },
         {
          "font": {
           "color": "#FFFFFF"
          },
          "showarrow": false,
          "text": "0.0013",
          "x": "koi_depth_err1",
          "xref": "x",
          "y": "koi_prad",
          "yref": "y"
         },
         {
          "font": {
           "color": "#000000"
          },
          "showarrow": false,
          "text": "-0.0013",
          "x": "koi_depth_err2",
          "xref": "x",
          "y": "koi_prad",
          "yref": "y"
         },
         {
          "font": {
           "color": "#FFFFFF"
          },
          "showarrow": false,
          "text": "1.0",
          "x": "koi_prad",
          "xref": "x",
          "y": "koi_prad",
          "yref": "y"
         },
         {
          "font": {
           "color": "#FFFFFF"
          },
          "showarrow": false,
          "text": "0.7274",
          "x": "koi_prad_err1",
          "xref": "x",
          "y": "koi_prad",
          "yref": "y"
         },
         {
          "font": {
           "color": "#000000"
          },
          "showarrow": false,
          "text": "-0.9882",
          "x": "koi_prad_err2",
          "xref": "x",
          "y": "koi_prad",
          "yref": "y"
         },
         {
          "font": {
           "color": "#000000"
          },
          "showarrow": false,
          "text": "-0.0036",
          "x": "koi_model_snr",
          "xref": "x",
          "y": "koi_prad",
          "yref": "y"
         },
         {
          "font": {
           "color": "#000000"
          },
          "showarrow": false,
          "text": "-0.0232",
          "x": "koi_steff_err1",
          "xref": "x",
          "y": "koi_prad",
          "yref": "y"
         },
         {
          "font": {
           "color": "#FFFFFF"
          },
          "showarrow": false,
          "text": "0.0079",
          "x": "ra",
          "xref": "x",
          "y": "koi_prad",
          "yref": "y"
         },
         {
          "font": {
           "color": "#FFFFFF"
          },
          "showarrow": false,
          "text": "0.0031",
          "x": "koi_disposition",
          "xref": "x",
          "y": "koi_prad_err1",
          "yref": "y"
         },
         {
          "font": {
           "color": "#FFFFFF"
          },
          "showarrow": false,
          "text": "0.0524",
          "x": "koi_period",
          "xref": "x",
          "y": "koi_prad_err1",
          "yref": "y"
         },
         {
          "font": {
           "color": "#FFFFFF"
          },
          "showarrow": false,
          "text": "0.0415",
          "x": "koi_time0bk",
          "xref": "x",
          "y": "koi_prad_err1",
          "yref": "y"
         },
         {
          "font": {
           "color": "#FFFFFF"
          },
          "showarrow": false,
          "text": "0.0045",
          "x": "koi_depth_err1",
          "xref": "x",
          "y": "koi_prad_err1",
          "yref": "y"
         },
         {
          "font": {
           "color": "#000000"
          },
          "showarrow": false,
          "text": "-0.0045",
          "x": "koi_depth_err2",
          "xref": "x",
          "y": "koi_prad_err1",
          "yref": "y"
         },
         {
          "font": {
           "color": "#FFFFFF"
          },
          "showarrow": false,
          "text": "0.7274",
          "x": "koi_prad",
          "xref": "x",
          "y": "koi_prad_err1",
          "yref": "y"
         },
         {
          "font": {
           "color": "#FFFFFF"
          },
          "showarrow": false,
          "text": "1.0",
          "x": "koi_prad_err1",
          "xref": "x",
          "y": "koi_prad_err1",
          "yref": "y"
         },
         {
          "font": {
           "color": "#000000"
          },
          "showarrow": false,
          "text": "-0.6668",
          "x": "koi_prad_err2",
          "xref": "x",
          "y": "koi_prad_err1",
          "yref": "y"
         },
         {
          "font": {
           "color": "#FFFFFF"
          },
          "showarrow": false,
          "text": "-0.0001",
          "x": "koi_model_snr",
          "xref": "x",
          "y": "koi_prad_err1",
          "yref": "y"
         },
         {
          "font": {
           "color": "#000000"
          },
          "showarrow": false,
          "text": "-0.0119",
          "x": "koi_steff_err1",
          "xref": "x",
          "y": "koi_prad_err1",
          "yref": "y"
         },
         {
          "font": {
           "color": "#FFFFFF"
          },
          "showarrow": false,
          "text": "0.0097",
          "x": "ra",
          "xref": "x",
          "y": "koi_prad_err1",
          "yref": "y"
         },
         {
          "font": {
           "color": "#000000"
          },
          "showarrow": false,
          "text": "-0.001",
          "x": "koi_disposition",
          "xref": "x",
          "y": "koi_prad_err2",
          "yref": "y"
         },
         {
          "font": {
           "color": "#000000"
          },
          "showarrow": false,
          "text": "-0.0707",
          "x": "koi_period",
          "xref": "x",
          "y": "koi_prad_err2",
          "yref": "y"
         },
         {
          "font": {
           "color": "#000000"
          },
          "showarrow": false,
          "text": "-0.038",
          "x": "koi_time0bk",
          "xref": "x",
          "y": "koi_prad_err2",
          "yref": "y"
         },
         {
          "font": {
           "color": "#000000"
          },
          "showarrow": false,
          "text": "-0.0006",
          "x": "koi_depth_err1",
          "xref": "x",
          "y": "koi_prad_err2",
          "yref": "y"
         },
         {
          "font": {
           "color": "#FFFFFF"
          },
          "showarrow": false,
          "text": "0.0006",
          "x": "koi_depth_err2",
          "xref": "x",
          "y": "koi_prad_err2",
          "yref": "y"
         },
         {
          "font": {
           "color": "#000000"
          },
          "showarrow": false,
          "text": "-0.9882",
          "x": "koi_prad",
          "xref": "x",
          "y": "koi_prad_err2",
          "yref": "y"
         },
         {
          "font": {
           "color": "#000000"
          },
          "showarrow": false,
          "text": "-0.6668",
          "x": "koi_prad_err1",
          "xref": "x",
          "y": "koi_prad_err2",
          "yref": "y"
         },
         {
          "font": {
           "color": "#FFFFFF"
          },
          "showarrow": false,
          "text": "1.0",
          "x": "koi_prad_err2",
          "xref": "x",
          "y": "koi_prad_err2",
          "yref": "y"
         },
         {
          "font": {
           "color": "#FFFFFF"
          },
          "showarrow": false,
          "text": "0.0041",
          "x": "koi_model_snr",
          "xref": "x",
          "y": "koi_prad_err2",
          "yref": "y"
         },
         {
          "font": {
           "color": "#FFFFFF"
          },
          "showarrow": false,
          "text": "0.0236",
          "x": "koi_steff_err1",
          "xref": "x",
          "y": "koi_prad_err2",
          "yref": "y"
         },
         {
          "font": {
           "color": "#000000"
          },
          "showarrow": false,
          "text": "-0.0091",
          "x": "ra",
          "xref": "x",
          "y": "koi_prad_err2",
          "yref": "y"
         },
         {
          "font": {
           "color": "#000000"
          },
          "showarrow": false,
          "text": "-0.0164",
          "x": "koi_disposition",
          "xref": "x",
          "y": "koi_model_snr",
          "yref": "y"
         },
         {
          "font": {
           "color": "#000000"
          },
          "showarrow": false,
          "text": "-0.0815",
          "x": "koi_period",
          "xref": "x",
          "y": "koi_model_snr",
          "yref": "y"
         },
         {
          "font": {
           "color": "#000000"
          },
          "showarrow": false,
          "text": "-0.0585",
          "x": "koi_time0bk",
          "xref": "x",
          "y": "koi_model_snr",
          "yref": "y"
         },
         {
          "font": {
           "color": "#000000"
          },
          "showarrow": false,
          "text": "-0.0018",
          "x": "koi_depth_err1",
          "xref": "x",
          "y": "koi_model_snr",
          "yref": "y"
         },
         {
          "font": {
           "color": "#FFFFFF"
          },
          "showarrow": false,
          "text": "0.0018",
          "x": "koi_depth_err2",
          "xref": "x",
          "y": "koi_model_snr",
          "yref": "y"
         },
         {
          "font": {
           "color": "#000000"
          },
          "showarrow": false,
          "text": "-0.0036",
          "x": "koi_prad",
          "xref": "x",
          "y": "koi_model_snr",
          "yref": "y"
         },
         {
          "font": {
           "color": "#FFFFFF"
          },
          "showarrow": false,
          "text": "-0.0001",
          "x": "koi_prad_err1",
          "xref": "x",
          "y": "koi_model_snr",
          "yref": "y"
         },
         {
          "font": {
           "color": "#FFFFFF"
          },
          "showarrow": false,
          "text": "0.0041",
          "x": "koi_prad_err2",
          "xref": "x",
          "y": "koi_model_snr",
          "yref": "y"
         },
         {
          "font": {
           "color": "#FFFFFF"
          },
          "showarrow": false,
          "text": "1.0",
          "x": "koi_model_snr",
          "xref": "x",
          "y": "koi_model_snr",
          "yref": "y"
         },
         {
          "font": {
           "color": "#FFFFFF"
          },
          "showarrow": false,
          "text": "0.1215",
          "x": "koi_steff_err1",
          "xref": "x",
          "y": "koi_model_snr",
          "yref": "y"
         },
         {
          "font": {
           "color": "#FFFFFF"
          },
          "showarrow": false,
          "text": "0.0293",
          "x": "ra",
          "xref": "x",
          "y": "koi_model_snr",
          "yref": "y"
         },
         {
          "font": {
           "color": "#FFFFFF"
          },
          "showarrow": false,
          "text": "0.1732",
          "x": "koi_disposition",
          "xref": "x",
          "y": "koi_steff_err1",
          "yref": "y"
         },
         {
          "font": {
           "color": "#FFFFFF"
          },
          "showarrow": false,
          "text": "0.0368",
          "x": "koi_period",
          "xref": "x",
          "y": "koi_steff_err1",
          "yref": "y"
         },
         {
          "font": {
           "color": "#FFFFFF"
          },
          "showarrow": false,
          "text": "0.04",
          "x": "koi_time0bk",
          "xref": "x",
          "y": "koi_steff_err1",
          "yref": "y"
         },
         {
          "font": {
           "color": "#FFFFFF"
          },
          "showarrow": false,
          "text": "0.0186",
          "x": "koi_depth_err1",
          "xref": "x",
          "y": "koi_steff_err1",
          "yref": "y"
         },
         {
          "font": {
           "color": "#000000"
          },
          "showarrow": false,
          "text": "-0.0186",
          "x": "koi_depth_err2",
          "xref": "x",
          "y": "koi_steff_err1",
          "yref": "y"
         },
         {
          "font": {
           "color": "#000000"
          },
          "showarrow": false,
          "text": "-0.0232",
          "x": "koi_prad",
          "xref": "x",
          "y": "koi_steff_err1",
          "yref": "y"
         },
         {
          "font": {
           "color": "#000000"
          },
          "showarrow": false,
          "text": "-0.0119",
          "x": "koi_prad_err1",
          "xref": "x",
          "y": "koi_steff_err1",
          "yref": "y"
         },
         {
          "font": {
           "color": "#FFFFFF"
          },
          "showarrow": false,
          "text": "0.0236",
          "x": "koi_prad_err2",
          "xref": "x",
          "y": "koi_steff_err1",
          "yref": "y"
         },
         {
          "font": {
           "color": "#FFFFFF"
          },
          "showarrow": false,
          "text": "0.1215",
          "x": "koi_model_snr",
          "xref": "x",
          "y": "koi_steff_err1",
          "yref": "y"
         },
         {
          "font": {
           "color": "#FFFFFF"
          },
          "showarrow": false,
          "text": "1.0",
          "x": "koi_steff_err1",
          "xref": "x",
          "y": "koi_steff_err1",
          "yref": "y"
         },
         {
          "font": {
           "color": "#FFFFFF"
          },
          "showarrow": false,
          "text": "0.1439",
          "x": "ra",
          "xref": "x",
          "y": "koi_steff_err1",
          "yref": "y"
         },
         {
          "font": {
           "color": "#FFFFFF"
          },
          "showarrow": false,
          "text": "0.0638",
          "x": "koi_disposition",
          "xref": "x",
          "y": "ra",
          "yref": "y"
         },
         {
          "font": {
           "color": "#000000"
          },
          "showarrow": false,
          "text": "-0.0307",
          "x": "koi_period",
          "xref": "x",
          "y": "ra",
          "yref": "y"
         },
         {
          "font": {
           "color": "#000000"
          },
          "showarrow": false,
          "text": "-0.017",
          "x": "koi_time0bk",
          "xref": "x",
          "y": "ra",
          "yref": "y"
         },
         {
          "font": {
           "color": "#FFFFFF"
          },
          "showarrow": false,
          "text": "0.0122",
          "x": "koi_depth_err1",
          "xref": "x",
          "y": "ra",
          "yref": "y"
         },
         {
          "font": {
           "color": "#000000"
          },
          "showarrow": false,
          "text": "-0.0122",
          "x": "koi_depth_err2",
          "xref": "x",
          "y": "ra",
          "yref": "y"
         },
         {
          "font": {
           "color": "#FFFFFF"
          },
          "showarrow": false,
          "text": "0.0079",
          "x": "koi_prad",
          "xref": "x",
          "y": "ra",
          "yref": "y"
         },
         {
          "font": {
           "color": "#FFFFFF"
          },
          "showarrow": false,
          "text": "0.0097",
          "x": "koi_prad_err1",
          "xref": "x",
          "y": "ra",
          "yref": "y"
         },
         {
          "font": {
           "color": "#000000"
          },
          "showarrow": false,
          "text": "-0.0091",
          "x": "koi_prad_err2",
          "xref": "x",
          "y": "ra",
          "yref": "y"
         },
         {
          "font": {
           "color": "#FFFFFF"
          },
          "showarrow": false,
          "text": "0.0293",
          "x": "koi_model_snr",
          "xref": "x",
          "y": "ra",
          "yref": "y"
         },
         {
          "font": {
           "color": "#FFFFFF"
          },
          "showarrow": false,
          "text": "0.1439",
          "x": "koi_steff_err1",
          "xref": "x",
          "y": "ra",
          "yref": "y"
         },
         {
          "font": {
           "color": "#FFFFFF"
          },
          "showarrow": false,
          "text": "1.0",
          "x": "ra",
          "xref": "x",
          "y": "ra",
          "yref": "y"
         }
        ],
        "template": {
         "data": {
          "bar": [
           {
            "error_x": {
             "color": "#2a3f5f"
            },
            "error_y": {
             "color": "#2a3f5f"
            },
            "marker": {
             "line": {
              "color": "#E5ECF6",
              "width": 0.5
             },
             "pattern": {
              "fillmode": "overlay",
              "size": 10,
              "solidity": 0.2
             }
            },
            "type": "bar"
           }
          ],
          "barpolar": [
           {
            "marker": {
             "line": {
              "color": "#E5ECF6",
              "width": 0.5
             },
             "pattern": {
              "fillmode": "overlay",
              "size": 10,
              "solidity": 0.2
             }
            },
            "type": "barpolar"
           }
          ],
          "carpet": [
           {
            "aaxis": {
             "endlinecolor": "#2a3f5f",
             "gridcolor": "white",
             "linecolor": "white",
             "minorgridcolor": "white",
             "startlinecolor": "#2a3f5f"
            },
            "baxis": {
             "endlinecolor": "#2a3f5f",
             "gridcolor": "white",
             "linecolor": "white",
             "minorgridcolor": "white",
             "startlinecolor": "#2a3f5f"
            },
            "type": "carpet"
           }
          ],
          "choropleth": [
           {
            "colorbar": {
             "outlinewidth": 0,
             "ticks": ""
            },
            "type": "choropleth"
           }
          ],
          "contour": [
           {
            "colorbar": {
             "outlinewidth": 0,
             "ticks": ""
            },
            "colorscale": [
             [
              0,
              "#0d0887"
             ],
             [
              0.1111111111111111,
              "#46039f"
             ],
             [
              0.2222222222222222,
              "#7201a8"
             ],
             [
              0.3333333333333333,
              "#9c179e"
             ],
             [
              0.4444444444444444,
              "#bd3786"
             ],
             [
              0.5555555555555556,
              "#d8576b"
             ],
             [
              0.6666666666666666,
              "#ed7953"
             ],
             [
              0.7777777777777778,
              "#fb9f3a"
             ],
             [
              0.8888888888888888,
              "#fdca26"
             ],
             [
              1,
              "#f0f921"
             ]
            ],
            "type": "contour"
           }
          ],
          "contourcarpet": [
           {
            "colorbar": {
             "outlinewidth": 0,
             "ticks": ""
            },
            "type": "contourcarpet"
           }
          ],
          "heatmap": [
           {
            "colorbar": {
             "outlinewidth": 0,
             "ticks": ""
            },
            "colorscale": [
             [
              0,
              "#0d0887"
             ],
             [
              0.1111111111111111,
              "#46039f"
             ],
             [
              0.2222222222222222,
              "#7201a8"
             ],
             [
              0.3333333333333333,
              "#9c179e"
             ],
             [
              0.4444444444444444,
              "#bd3786"
             ],
             [
              0.5555555555555556,
              "#d8576b"
             ],
             [
              0.6666666666666666,
              "#ed7953"
             ],
             [
              0.7777777777777778,
              "#fb9f3a"
             ],
             [
              0.8888888888888888,
              "#fdca26"
             ],
             [
              1,
              "#f0f921"
             ]
            ],
            "type": "heatmap"
           }
          ],
          "heatmapgl": [
           {
            "colorbar": {
             "outlinewidth": 0,
             "ticks": ""
            },
            "colorscale": [
             [
              0,
              "#0d0887"
             ],
             [
              0.1111111111111111,
              "#46039f"
             ],
             [
              0.2222222222222222,
              "#7201a8"
             ],
             [
              0.3333333333333333,
              "#9c179e"
             ],
             [
              0.4444444444444444,
              "#bd3786"
             ],
             [
              0.5555555555555556,
              "#d8576b"
             ],
             [
              0.6666666666666666,
              "#ed7953"
             ],
             [
              0.7777777777777778,
              "#fb9f3a"
             ],
             [
              0.8888888888888888,
              "#fdca26"
             ],
             [
              1,
              "#f0f921"
             ]
            ],
            "type": "heatmapgl"
           }
          ],
          "histogram": [
           {
            "marker": {
             "pattern": {
              "fillmode": "overlay",
              "size": 10,
              "solidity": 0.2
             }
            },
            "type": "histogram"
           }
          ],
          "histogram2d": [
           {
            "colorbar": {
             "outlinewidth": 0,
             "ticks": ""
            },
            "colorscale": [
             [
              0,
              "#0d0887"
             ],
             [
              0.1111111111111111,
              "#46039f"
             ],
             [
              0.2222222222222222,
              "#7201a8"
             ],
             [
              0.3333333333333333,
              "#9c179e"
             ],
             [
              0.4444444444444444,
              "#bd3786"
             ],
             [
              0.5555555555555556,
              "#d8576b"
             ],
             [
              0.6666666666666666,
              "#ed7953"
             ],
             [
              0.7777777777777778,
              "#fb9f3a"
             ],
             [
              0.8888888888888888,
              "#fdca26"
             ],
             [
              1,
              "#f0f921"
             ]
            ],
            "type": "histogram2d"
           }
          ],
          "histogram2dcontour": [
           {
            "colorbar": {
             "outlinewidth": 0,
             "ticks": ""
            },
            "colorscale": [
             [
              0,
              "#0d0887"
             ],
             [
              0.1111111111111111,
              "#46039f"
             ],
             [
              0.2222222222222222,
              "#7201a8"
             ],
             [
              0.3333333333333333,
              "#9c179e"
             ],
             [
              0.4444444444444444,
              "#bd3786"
             ],
             [
              0.5555555555555556,
              "#d8576b"
             ],
             [
              0.6666666666666666,
              "#ed7953"
             ],
             [
              0.7777777777777778,
              "#fb9f3a"
             ],
             [
              0.8888888888888888,
              "#fdca26"
             ],
             [
              1,
              "#f0f921"
             ]
            ],
            "type": "histogram2dcontour"
           }
          ],
          "mesh3d": [
           {
            "colorbar": {
             "outlinewidth": 0,
             "ticks": ""
            },
            "type": "mesh3d"
           }
          ],
          "parcoords": [
           {
            "line": {
             "colorbar": {
              "outlinewidth": 0,
              "ticks": ""
             }
            },
            "type": "parcoords"
           }
          ],
          "pie": [
           {
            "automargin": true,
            "type": "pie"
           }
          ],
          "scatter": [
           {
            "marker": {
             "colorbar": {
              "outlinewidth": 0,
              "ticks": ""
             }
            },
            "type": "scatter"
           }
          ],
          "scatter3d": [
           {
            "line": {
             "colorbar": {
              "outlinewidth": 0,
              "ticks": ""
             }
            },
            "marker": {
             "colorbar": {
              "outlinewidth": 0,
              "ticks": ""
             }
            },
            "type": "scatter3d"
           }
          ],
          "scattercarpet": [
           {
            "marker": {
             "colorbar": {
              "outlinewidth": 0,
              "ticks": ""
             }
            },
            "type": "scattercarpet"
           }
          ],
          "scattergeo": [
           {
            "marker": {
             "colorbar": {
              "outlinewidth": 0,
              "ticks": ""
             }
            },
            "type": "scattergeo"
           }
          ],
          "scattergl": [
           {
            "marker": {
             "colorbar": {
              "outlinewidth": 0,
              "ticks": ""
             }
            },
            "type": "scattergl"
           }
          ],
          "scattermapbox": [
           {
            "marker": {
             "colorbar": {
              "outlinewidth": 0,
              "ticks": ""
             }
            },
            "type": "scattermapbox"
           }
          ],
          "scatterpolar": [
           {
            "marker": {
             "colorbar": {
              "outlinewidth": 0,
              "ticks": ""
             }
            },
            "type": "scatterpolar"
           }
          ],
          "scatterpolargl": [
           {
            "marker": {
             "colorbar": {
              "outlinewidth": 0,
              "ticks": ""
             }
            },
            "type": "scatterpolargl"
           }
          ],
          "scatterternary": [
           {
            "marker": {
             "colorbar": {
              "outlinewidth": 0,
              "ticks": ""
             }
            },
            "type": "scatterternary"
           }
          ],
          "surface": [
           {
            "colorbar": {
             "outlinewidth": 0,
             "ticks": ""
            },
            "colorscale": [
             [
              0,
              "#0d0887"
             ],
             [
              0.1111111111111111,
              "#46039f"
             ],
             [
              0.2222222222222222,
              "#7201a8"
             ],
             [
              0.3333333333333333,
              "#9c179e"
             ],
             [
              0.4444444444444444,
              "#bd3786"
             ],
             [
              0.5555555555555556,
              "#d8576b"
             ],
             [
              0.6666666666666666,
              "#ed7953"
             ],
             [
              0.7777777777777778,
              "#fb9f3a"
             ],
             [
              0.8888888888888888,
              "#fdca26"
             ],
             [
              1,
              "#f0f921"
             ]
            ],
            "type": "surface"
           }
          ],
          "table": [
           {
            "cells": {
             "fill": {
              "color": "#EBF0F8"
             },
             "line": {
              "color": "white"
             }
            },
            "header": {
             "fill": {
              "color": "#C8D4E3"
             },
             "line": {
              "color": "white"
             }
            },
            "type": "table"
           }
          ]
         },
         "layout": {
          "annotationdefaults": {
           "arrowcolor": "#2a3f5f",
           "arrowhead": 0,
           "arrowwidth": 1
          },
          "autotypenumbers": "strict",
          "coloraxis": {
           "colorbar": {
            "outlinewidth": 0,
            "ticks": ""
           }
          },
          "colorscale": {
           "diverging": [
            [
             0,
             "#8e0152"
            ],
            [
             0.1,
             "#c51b7d"
            ],
            [
             0.2,
             "#de77ae"
            ],
            [
             0.3,
             "#f1b6da"
            ],
            [
             0.4,
             "#fde0ef"
            ],
            [
             0.5,
             "#f7f7f7"
            ],
            [
             0.6,
             "#e6f5d0"
            ],
            [
             0.7,
             "#b8e186"
            ],
            [
             0.8,
             "#7fbc41"
            ],
            [
             0.9,
             "#4d9221"
            ],
            [
             1,
             "#276419"
            ]
           ],
           "sequential": [
            [
             0,
             "#0d0887"
            ],
            [
             0.1111111111111111,
             "#46039f"
            ],
            [
             0.2222222222222222,
             "#7201a8"
            ],
            [
             0.3333333333333333,
             "#9c179e"
            ],
            [
             0.4444444444444444,
             "#bd3786"
            ],
            [
             0.5555555555555556,
             "#d8576b"
            ],
            [
             0.6666666666666666,
             "#ed7953"
            ],
            [
             0.7777777777777778,
             "#fb9f3a"
            ],
            [
             0.8888888888888888,
             "#fdca26"
            ],
            [
             1,
             "#f0f921"
            ]
           ],
           "sequentialminus": [
            [
             0,
             "#0d0887"
            ],
            [
             0.1111111111111111,
             "#46039f"
            ],
            [
             0.2222222222222222,
             "#7201a8"
            ],
            [
             0.3333333333333333,
             "#9c179e"
            ],
            [
             0.4444444444444444,
             "#bd3786"
            ],
            [
             0.5555555555555556,
             "#d8576b"
            ],
            [
             0.6666666666666666,
             "#ed7953"
            ],
            [
             0.7777777777777778,
             "#fb9f3a"
            ],
            [
             0.8888888888888888,
             "#fdca26"
            ],
            [
             1,
             "#f0f921"
            ]
           ]
          },
          "colorway": [
           "#636efa",
           "#EF553B",
           "#00cc96",
           "#ab63fa",
           "#FFA15A",
           "#19d3f3",
           "#FF6692",
           "#B6E880",
           "#FF97FF",
           "#FECB52"
          ],
          "font": {
           "color": "#2a3f5f"
          },
          "geo": {
           "bgcolor": "white",
           "lakecolor": "white",
           "landcolor": "#E5ECF6",
           "showlakes": true,
           "showland": true,
           "subunitcolor": "white"
          },
          "hoverlabel": {
           "align": "left"
          },
          "hovermode": "closest",
          "mapbox": {
           "style": "light"
          },
          "paper_bgcolor": "white",
          "plot_bgcolor": "#E5ECF6",
          "polar": {
           "angularaxis": {
            "gridcolor": "white",
            "linecolor": "white",
            "ticks": ""
           },
           "bgcolor": "#E5ECF6",
           "radialaxis": {
            "gridcolor": "white",
            "linecolor": "white",
            "ticks": ""
           }
          },
          "scene": {
           "xaxis": {
            "backgroundcolor": "#E5ECF6",
            "gridcolor": "white",
            "gridwidth": 2,
            "linecolor": "white",
            "showbackground": true,
            "ticks": "",
            "zerolinecolor": "white"
           },
           "yaxis": {
            "backgroundcolor": "#E5ECF6",
            "gridcolor": "white",
            "gridwidth": 2,
            "linecolor": "white",
            "showbackground": true,
            "ticks": "",
            "zerolinecolor": "white"
           },
           "zaxis": {
            "backgroundcolor": "#E5ECF6",
            "gridcolor": "white",
            "gridwidth": 2,
            "linecolor": "white",
            "showbackground": true,
            "ticks": "",
            "zerolinecolor": "white"
           }
          },
          "shapedefaults": {
           "line": {
            "color": "#2a3f5f"
           }
          },
          "ternary": {
           "aaxis": {
            "gridcolor": "white",
            "linecolor": "white",
            "ticks": ""
           },
           "baxis": {
            "gridcolor": "white",
            "linecolor": "white",
            "ticks": ""
           },
           "bgcolor": "#E5ECF6",
           "caxis": {
            "gridcolor": "white",
            "linecolor": "white",
            "ticks": ""
           }
          },
          "title": {
           "x": 0.05
          },
          "xaxis": {
           "automargin": true,
           "gridcolor": "white",
           "linecolor": "white",
           "ticks": "",
           "title": {
            "standoff": 15
           },
           "zerolinecolor": "white",
           "zerolinewidth": 2
          },
          "yaxis": {
           "automargin": true,
           "gridcolor": "white",
           "linecolor": "white",
           "ticks": "",
           "title": {
            "standoff": 15
           },
           "zerolinecolor": "white",
           "zerolinewidth": 2
          }
         }
        },
        "xaxis": {
         "dtick": 1,
         "gridcolor": "rgb(0, 0, 0)",
         "side": "top",
         "ticks": ""
        },
        "yaxis": {
         "dtick": 1,
         "ticks": "",
         "ticksuffix": "  "
        }
       }
      },
      "text/html": [
       "<div>                            <div id=\"1ee55b6e-b48a-4af1-95dc-d4884931d2c0\" class=\"plotly-graph-div\" style=\"height:525px; width:100%;\"></div>            <script type=\"text/javascript\">                require([\"plotly\"], function(Plotly) {                    window.PLOTLYENV=window.PLOTLYENV || {};                                    if (document.getElementById(\"1ee55b6e-b48a-4af1-95dc-d4884931d2c0\")) {                    Plotly.newPlot(                        \"1ee55b6e-b48a-4af1-95dc-d4884931d2c0\",                        [{\"colorscale\":[[0.0,\"rgb(255,255,217)\"],[0.125,\"rgb(237,248,177)\"],[0.25,\"rgb(199,233,180)\"],[0.375,\"rgb(127,205,187)\"],[0.5,\"rgb(65,182,196)\"],[0.625,\"rgb(29,145,192)\"],[0.75,\"rgb(34,94,168)\"],[0.875,\"rgb(37,52,148)\"],[1.0,\"rgb(8,29,88)\"]],\"reversescale\":false,\"showscale\":false,\"x\":[\"koi_disposition\",\"koi_period\",\"koi_time0bk\",\"koi_depth_err1\",\"koi_depth_err2\",\"koi_prad\",\"koi_prad_err1\",\"koi_prad_err2\",\"koi_model_snr\",\"koi_steff_err1\",\"ra\"],\"y\":[\"koi_disposition\",\"koi_period\",\"koi_time0bk\",\"koi_depth_err1\",\"koi_depth_err2\",\"koi_prad\",\"koi_prad_err1\",\"koi_prad_err2\",\"koi_model_snr\",\"koi_steff_err1\",\"ra\"],\"z\":[[1.0,0.125,0.07,0.002,-0.002,0.001,0.003,-0.001,-0.016,0.173,0.064],[0.125,1.0,0.655,0.039,-0.039,0.073,0.052,-0.071,-0.081,0.037,-0.031],[0.07,0.655,1.0,0.056,-0.056,0.04,0.041,-0.038,-0.059,0.04,-0.017],[0.002,0.039,0.056,1.0,-1.0,0.001,0.005,-0.001,-0.002,0.019,0.012],[-0.002,-0.039,-0.056,-1.0,1.0,-0.001,-0.005,0.001,0.002,-0.019,-0.012],[0.001,0.073,0.04,0.001,-0.001,1.0,0.727,-0.988,-0.004,-0.023,0.008],[0.003,0.052,0.041,0.005,-0.005,0.727,1.0,-0.667,-0.0,-0.012,0.01],[-0.001,-0.071,-0.038,-0.001,0.001,-0.988,-0.667,1.0,0.004,0.024,-0.009],[-0.016,-0.081,-0.059,-0.002,0.002,-0.004,-0.0,0.004,1.0,0.121,0.029],[0.173,0.037,0.04,0.019,-0.019,-0.023,-0.012,0.024,0.121,1.0,0.144],[0.064,-0.031,-0.017,0.012,-0.012,0.008,0.01,-0.009,0.029,0.144,1.0]],\"type\":\"heatmap\"}],                        {\"annotations\":[{\"font\":{\"color\":\"#FFFFFF\"},\"showarrow\":false,\"text\":\"1.0\",\"x\":\"koi_disposition\",\"xref\":\"x\",\"y\":\"koi_disposition\",\"yref\":\"y\"},{\"font\":{\"color\":\"#FFFFFF\"},\"showarrow\":false,\"text\":\"0.1246\",\"x\":\"koi_period\",\"xref\":\"x\",\"y\":\"koi_disposition\",\"yref\":\"y\"},{\"font\":{\"color\":\"#FFFFFF\"},\"showarrow\":false,\"text\":\"0.0704\",\"x\":\"koi_time0bk\",\"xref\":\"x\",\"y\":\"koi_disposition\",\"yref\":\"y\"},{\"font\":{\"color\":\"#FFFFFF\"},\"showarrow\":false,\"text\":\"0.0018\",\"x\":\"koi_depth_err1\",\"xref\":\"x\",\"y\":\"koi_disposition\",\"yref\":\"y\"},{\"font\":{\"color\":\"#000000\"},\"showarrow\":false,\"text\":\"-0.0018\",\"x\":\"koi_depth_err2\",\"xref\":\"x\",\"y\":\"koi_disposition\",\"yref\":\"y\"},{\"font\":{\"color\":\"#FFFFFF\"},\"showarrow\":false,\"text\":\"0.0015\",\"x\":\"koi_prad\",\"xref\":\"x\",\"y\":\"koi_disposition\",\"yref\":\"y\"},{\"font\":{\"color\":\"#FFFFFF\"},\"showarrow\":false,\"text\":\"0.0031\",\"x\":\"koi_prad_err1\",\"xref\":\"x\",\"y\":\"koi_disposition\",\"yref\":\"y\"},{\"font\":{\"color\":\"#000000\"},\"showarrow\":false,\"text\":\"-0.001\",\"x\":\"koi_prad_err2\",\"xref\":\"x\",\"y\":\"koi_disposition\",\"yref\":\"y\"},{\"font\":{\"color\":\"#000000\"},\"showarrow\":false,\"text\":\"-0.0164\",\"x\":\"koi_model_snr\",\"xref\":\"x\",\"y\":\"koi_disposition\",\"yref\":\"y\"},{\"font\":{\"color\":\"#FFFFFF\"},\"showarrow\":false,\"text\":\"0.1732\",\"x\":\"koi_steff_err1\",\"xref\":\"x\",\"y\":\"koi_disposition\",\"yref\":\"y\"},{\"font\":{\"color\":\"#FFFFFF\"},\"showarrow\":false,\"text\":\"0.0638\",\"x\":\"ra\",\"xref\":\"x\",\"y\":\"koi_disposition\",\"yref\":\"y\"},{\"font\":{\"color\":\"#FFFFFF\"},\"showarrow\":false,\"text\":\"0.1246\",\"x\":\"koi_disposition\",\"xref\":\"x\",\"y\":\"koi_period\",\"yref\":\"y\"},{\"font\":{\"color\":\"#FFFFFF\"},\"showarrow\":false,\"text\":\"1.0\",\"x\":\"koi_period\",\"xref\":\"x\",\"y\":\"koi_period\",\"yref\":\"y\"},{\"font\":{\"color\":\"#FFFFFF\"},\"showarrow\":false,\"text\":\"0.6552\",\"x\":\"koi_time0bk\",\"xref\":\"x\",\"y\":\"koi_period\",\"yref\":\"y\"},{\"font\":{\"color\":\"#FFFFFF\"},\"showarrow\":false,\"text\":\"0.0386\",\"x\":\"koi_depth_err1\",\"xref\":\"x\",\"y\":\"koi_period\",\"yref\":\"y\"},{\"font\":{\"color\":\"#000000\"},\"showarrow\":false,\"text\":\"-0.0386\",\"x\":\"koi_depth_err2\",\"xref\":\"x\",\"y\":\"koi_period\",\"yref\":\"y\"},{\"font\":{\"color\":\"#FFFFFF\"},\"showarrow\":false,\"text\":\"0.0728\",\"x\":\"koi_prad\",\"xref\":\"x\",\"y\":\"koi_period\",\"yref\":\"y\"},{\"font\":{\"color\":\"#FFFFFF\"},\"showarrow\":false,\"text\":\"0.0524\",\"x\":\"koi_prad_err1\",\"xref\":\"x\",\"y\":\"koi_period\",\"yref\":\"y\"},{\"font\":{\"color\":\"#000000\"},\"showarrow\":false,\"text\":\"-0.0707\",\"x\":\"koi_prad_err2\",\"xref\":\"x\",\"y\":\"koi_period\",\"yref\":\"y\"},{\"font\":{\"color\":\"#000000\"},\"showarrow\":false,\"text\":\"-0.0815\",\"x\":\"koi_model_snr\",\"xref\":\"x\",\"y\":\"koi_period\",\"yref\":\"y\"},{\"font\":{\"color\":\"#FFFFFF\"},\"showarrow\":false,\"text\":\"0.0368\",\"x\":\"koi_steff_err1\",\"xref\":\"x\",\"y\":\"koi_period\",\"yref\":\"y\"},{\"font\":{\"color\":\"#000000\"},\"showarrow\":false,\"text\":\"-0.0307\",\"x\":\"ra\",\"xref\":\"x\",\"y\":\"koi_period\",\"yref\":\"y\"},{\"font\":{\"color\":\"#FFFFFF\"},\"showarrow\":false,\"text\":\"0.0704\",\"x\":\"koi_disposition\",\"xref\":\"x\",\"y\":\"koi_time0bk\",\"yref\":\"y\"},{\"font\":{\"color\":\"#FFFFFF\"},\"showarrow\":false,\"text\":\"0.6552\",\"x\":\"koi_period\",\"xref\":\"x\",\"y\":\"koi_time0bk\",\"yref\":\"y\"},{\"font\":{\"color\":\"#FFFFFF\"},\"showarrow\":false,\"text\":\"1.0\",\"x\":\"koi_time0bk\",\"xref\":\"x\",\"y\":\"koi_time0bk\",\"yref\":\"y\"},{\"font\":{\"color\":\"#FFFFFF\"},\"showarrow\":false,\"text\":\"0.0556\",\"x\":\"koi_depth_err1\",\"xref\":\"x\",\"y\":\"koi_time0bk\",\"yref\":\"y\"},{\"font\":{\"color\":\"#000000\"},\"showarrow\":false,\"text\":\"-0.0556\",\"x\":\"koi_depth_err2\",\"xref\":\"x\",\"y\":\"koi_time0bk\",\"yref\":\"y\"},{\"font\":{\"color\":\"#FFFFFF\"},\"showarrow\":false,\"text\":\"0.0398\",\"x\":\"koi_prad\",\"xref\":\"x\",\"y\":\"koi_time0bk\",\"yref\":\"y\"},{\"font\":{\"color\":\"#FFFFFF\"},\"showarrow\":false,\"text\":\"0.0415\",\"x\":\"koi_prad_err1\",\"xref\":\"x\",\"y\":\"koi_time0bk\",\"yref\":\"y\"},{\"font\":{\"color\":\"#000000\"},\"showarrow\":false,\"text\":\"-0.038\",\"x\":\"koi_prad_err2\",\"xref\":\"x\",\"y\":\"koi_time0bk\",\"yref\":\"y\"},{\"font\":{\"color\":\"#000000\"},\"showarrow\":false,\"text\":\"-0.0585\",\"x\":\"koi_model_snr\",\"xref\":\"x\",\"y\":\"koi_time0bk\",\"yref\":\"y\"},{\"font\":{\"color\":\"#FFFFFF\"},\"showarrow\":false,\"text\":\"0.04\",\"x\":\"koi_steff_err1\",\"xref\":\"x\",\"y\":\"koi_time0bk\",\"yref\":\"y\"},{\"font\":{\"color\":\"#000000\"},\"showarrow\":false,\"text\":\"-0.017\",\"x\":\"ra\",\"xref\":\"x\",\"y\":\"koi_time0bk\",\"yref\":\"y\"},{\"font\":{\"color\":\"#FFFFFF\"},\"showarrow\":false,\"text\":\"0.0018\",\"x\":\"koi_disposition\",\"xref\":\"x\",\"y\":\"koi_depth_err1\",\"yref\":\"y\"},{\"font\":{\"color\":\"#FFFFFF\"},\"showarrow\":false,\"text\":\"0.0386\",\"x\":\"koi_period\",\"xref\":\"x\",\"y\":\"koi_depth_err1\",\"yref\":\"y\"},{\"font\":{\"color\":\"#FFFFFF\"},\"showarrow\":false,\"text\":\"0.0556\",\"x\":\"koi_time0bk\",\"xref\":\"x\",\"y\":\"koi_depth_err1\",\"yref\":\"y\"},{\"font\":{\"color\":\"#FFFFFF\"},\"showarrow\":false,\"text\":\"1.0\",\"x\":\"koi_depth_err1\",\"xref\":\"x\",\"y\":\"koi_depth_err1\",\"yref\":\"y\"},{\"font\":{\"color\":\"#000000\"},\"showarrow\":false,\"text\":\"-1.0\",\"x\":\"koi_depth_err2\",\"xref\":\"x\",\"y\":\"koi_depth_err1\",\"yref\":\"y\"},{\"font\":{\"color\":\"#FFFFFF\"},\"showarrow\":false,\"text\":\"0.0013\",\"x\":\"koi_prad\",\"xref\":\"x\",\"y\":\"koi_depth_err1\",\"yref\":\"y\"},{\"font\":{\"color\":\"#FFFFFF\"},\"showarrow\":false,\"text\":\"0.0045\",\"x\":\"koi_prad_err1\",\"xref\":\"x\",\"y\":\"koi_depth_err1\",\"yref\":\"y\"},{\"font\":{\"color\":\"#000000\"},\"showarrow\":false,\"text\":\"-0.0006\",\"x\":\"koi_prad_err2\",\"xref\":\"x\",\"y\":\"koi_depth_err1\",\"yref\":\"y\"},{\"font\":{\"color\":\"#000000\"},\"showarrow\":false,\"text\":\"-0.0018\",\"x\":\"koi_model_snr\",\"xref\":\"x\",\"y\":\"koi_depth_err1\",\"yref\":\"y\"},{\"font\":{\"color\":\"#FFFFFF\"},\"showarrow\":false,\"text\":\"0.0186\",\"x\":\"koi_steff_err1\",\"xref\":\"x\",\"y\":\"koi_depth_err1\",\"yref\":\"y\"},{\"font\":{\"color\":\"#FFFFFF\"},\"showarrow\":false,\"text\":\"0.0122\",\"x\":\"ra\",\"xref\":\"x\",\"y\":\"koi_depth_err1\",\"yref\":\"y\"},{\"font\":{\"color\":\"#000000\"},\"showarrow\":false,\"text\":\"-0.0018\",\"x\":\"koi_disposition\",\"xref\":\"x\",\"y\":\"koi_depth_err2\",\"yref\":\"y\"},{\"font\":{\"color\":\"#000000\"},\"showarrow\":false,\"text\":\"-0.0386\",\"x\":\"koi_period\",\"xref\":\"x\",\"y\":\"koi_depth_err2\",\"yref\":\"y\"},{\"font\":{\"color\":\"#000000\"},\"showarrow\":false,\"text\":\"-0.0556\",\"x\":\"koi_time0bk\",\"xref\":\"x\",\"y\":\"koi_depth_err2\",\"yref\":\"y\"},{\"font\":{\"color\":\"#000000\"},\"showarrow\":false,\"text\":\"-1.0\",\"x\":\"koi_depth_err1\",\"xref\":\"x\",\"y\":\"koi_depth_err2\",\"yref\":\"y\"},{\"font\":{\"color\":\"#FFFFFF\"},\"showarrow\":false,\"text\":\"1.0\",\"x\":\"koi_depth_err2\",\"xref\":\"x\",\"y\":\"koi_depth_err2\",\"yref\":\"y\"},{\"font\":{\"color\":\"#000000\"},\"showarrow\":false,\"text\":\"-0.0013\",\"x\":\"koi_prad\",\"xref\":\"x\",\"y\":\"koi_depth_err2\",\"yref\":\"y\"},{\"font\":{\"color\":\"#000000\"},\"showarrow\":false,\"text\":\"-0.0045\",\"x\":\"koi_prad_err1\",\"xref\":\"x\",\"y\":\"koi_depth_err2\",\"yref\":\"y\"},{\"font\":{\"color\":\"#FFFFFF\"},\"showarrow\":false,\"text\":\"0.0006\",\"x\":\"koi_prad_err2\",\"xref\":\"x\",\"y\":\"koi_depth_err2\",\"yref\":\"y\"},{\"font\":{\"color\":\"#FFFFFF\"},\"showarrow\":false,\"text\":\"0.0018\",\"x\":\"koi_model_snr\",\"xref\":\"x\",\"y\":\"koi_depth_err2\",\"yref\":\"y\"},{\"font\":{\"color\":\"#000000\"},\"showarrow\":false,\"text\":\"-0.0186\",\"x\":\"koi_steff_err1\",\"xref\":\"x\",\"y\":\"koi_depth_err2\",\"yref\":\"y\"},{\"font\":{\"color\":\"#000000\"},\"showarrow\":false,\"text\":\"-0.0122\",\"x\":\"ra\",\"xref\":\"x\",\"y\":\"koi_depth_err2\",\"yref\":\"y\"},{\"font\":{\"color\":\"#FFFFFF\"},\"showarrow\":false,\"text\":\"0.0015\",\"x\":\"koi_disposition\",\"xref\":\"x\",\"y\":\"koi_prad\",\"yref\":\"y\"},{\"font\":{\"color\":\"#FFFFFF\"},\"showarrow\":false,\"text\":\"0.0728\",\"x\":\"koi_period\",\"xref\":\"x\",\"y\":\"koi_prad\",\"yref\":\"y\"},{\"font\":{\"color\":\"#FFFFFF\"},\"showarrow\":false,\"text\":\"0.0398\",\"x\":\"koi_time0bk\",\"xref\":\"x\",\"y\":\"koi_prad\",\"yref\":\"y\"},{\"font\":{\"color\":\"#FFFFFF\"},\"showarrow\":false,\"text\":\"0.0013\",\"x\":\"koi_depth_err1\",\"xref\":\"x\",\"y\":\"koi_prad\",\"yref\":\"y\"},{\"font\":{\"color\":\"#000000\"},\"showarrow\":false,\"text\":\"-0.0013\",\"x\":\"koi_depth_err2\",\"xref\":\"x\",\"y\":\"koi_prad\",\"yref\":\"y\"},{\"font\":{\"color\":\"#FFFFFF\"},\"showarrow\":false,\"text\":\"1.0\",\"x\":\"koi_prad\",\"xref\":\"x\",\"y\":\"koi_prad\",\"yref\":\"y\"},{\"font\":{\"color\":\"#FFFFFF\"},\"showarrow\":false,\"text\":\"0.7274\",\"x\":\"koi_prad_err1\",\"xref\":\"x\",\"y\":\"koi_prad\",\"yref\":\"y\"},{\"font\":{\"color\":\"#000000\"},\"showarrow\":false,\"text\":\"-0.9882\",\"x\":\"koi_prad_err2\",\"xref\":\"x\",\"y\":\"koi_prad\",\"yref\":\"y\"},{\"font\":{\"color\":\"#000000\"},\"showarrow\":false,\"text\":\"-0.0036\",\"x\":\"koi_model_snr\",\"xref\":\"x\",\"y\":\"koi_prad\",\"yref\":\"y\"},{\"font\":{\"color\":\"#000000\"},\"showarrow\":false,\"text\":\"-0.0232\",\"x\":\"koi_steff_err1\",\"xref\":\"x\",\"y\":\"koi_prad\",\"yref\":\"y\"},{\"font\":{\"color\":\"#FFFFFF\"},\"showarrow\":false,\"text\":\"0.0079\",\"x\":\"ra\",\"xref\":\"x\",\"y\":\"koi_prad\",\"yref\":\"y\"},{\"font\":{\"color\":\"#FFFFFF\"},\"showarrow\":false,\"text\":\"0.0031\",\"x\":\"koi_disposition\",\"xref\":\"x\",\"y\":\"koi_prad_err1\",\"yref\":\"y\"},{\"font\":{\"color\":\"#FFFFFF\"},\"showarrow\":false,\"text\":\"0.0524\",\"x\":\"koi_period\",\"xref\":\"x\",\"y\":\"koi_prad_err1\",\"yref\":\"y\"},{\"font\":{\"color\":\"#FFFFFF\"},\"showarrow\":false,\"text\":\"0.0415\",\"x\":\"koi_time0bk\",\"xref\":\"x\",\"y\":\"koi_prad_err1\",\"yref\":\"y\"},{\"font\":{\"color\":\"#FFFFFF\"},\"showarrow\":false,\"text\":\"0.0045\",\"x\":\"koi_depth_err1\",\"xref\":\"x\",\"y\":\"koi_prad_err1\",\"yref\":\"y\"},{\"font\":{\"color\":\"#000000\"},\"showarrow\":false,\"text\":\"-0.0045\",\"x\":\"koi_depth_err2\",\"xref\":\"x\",\"y\":\"koi_prad_err1\",\"yref\":\"y\"},{\"font\":{\"color\":\"#FFFFFF\"},\"showarrow\":false,\"text\":\"0.7274\",\"x\":\"koi_prad\",\"xref\":\"x\",\"y\":\"koi_prad_err1\",\"yref\":\"y\"},{\"font\":{\"color\":\"#FFFFFF\"},\"showarrow\":false,\"text\":\"1.0\",\"x\":\"koi_prad_err1\",\"xref\":\"x\",\"y\":\"koi_prad_err1\",\"yref\":\"y\"},{\"font\":{\"color\":\"#000000\"},\"showarrow\":false,\"text\":\"-0.6668\",\"x\":\"koi_prad_err2\",\"xref\":\"x\",\"y\":\"koi_prad_err1\",\"yref\":\"y\"},{\"font\":{\"color\":\"#FFFFFF\"},\"showarrow\":false,\"text\":\"-0.0001\",\"x\":\"koi_model_snr\",\"xref\":\"x\",\"y\":\"koi_prad_err1\",\"yref\":\"y\"},{\"font\":{\"color\":\"#000000\"},\"showarrow\":false,\"text\":\"-0.0119\",\"x\":\"koi_steff_err1\",\"xref\":\"x\",\"y\":\"koi_prad_err1\",\"yref\":\"y\"},{\"font\":{\"color\":\"#FFFFFF\"},\"showarrow\":false,\"text\":\"0.0097\",\"x\":\"ra\",\"xref\":\"x\",\"y\":\"koi_prad_err1\",\"yref\":\"y\"},{\"font\":{\"color\":\"#000000\"},\"showarrow\":false,\"text\":\"-0.001\",\"x\":\"koi_disposition\",\"xref\":\"x\",\"y\":\"koi_prad_err2\",\"yref\":\"y\"},{\"font\":{\"color\":\"#000000\"},\"showarrow\":false,\"text\":\"-0.0707\",\"x\":\"koi_period\",\"xref\":\"x\",\"y\":\"koi_prad_err2\",\"yref\":\"y\"},{\"font\":{\"color\":\"#000000\"},\"showarrow\":false,\"text\":\"-0.038\",\"x\":\"koi_time0bk\",\"xref\":\"x\",\"y\":\"koi_prad_err2\",\"yref\":\"y\"},{\"font\":{\"color\":\"#000000\"},\"showarrow\":false,\"text\":\"-0.0006\",\"x\":\"koi_depth_err1\",\"xref\":\"x\",\"y\":\"koi_prad_err2\",\"yref\":\"y\"},{\"font\":{\"color\":\"#FFFFFF\"},\"showarrow\":false,\"text\":\"0.0006\",\"x\":\"koi_depth_err2\",\"xref\":\"x\",\"y\":\"koi_prad_err2\",\"yref\":\"y\"},{\"font\":{\"color\":\"#000000\"},\"showarrow\":false,\"text\":\"-0.9882\",\"x\":\"koi_prad\",\"xref\":\"x\",\"y\":\"koi_prad_err2\",\"yref\":\"y\"},{\"font\":{\"color\":\"#000000\"},\"showarrow\":false,\"text\":\"-0.6668\",\"x\":\"koi_prad_err1\",\"xref\":\"x\",\"y\":\"koi_prad_err2\",\"yref\":\"y\"},{\"font\":{\"color\":\"#FFFFFF\"},\"showarrow\":false,\"text\":\"1.0\",\"x\":\"koi_prad_err2\",\"xref\":\"x\",\"y\":\"koi_prad_err2\",\"yref\":\"y\"},{\"font\":{\"color\":\"#FFFFFF\"},\"showarrow\":false,\"text\":\"0.0041\",\"x\":\"koi_model_snr\",\"xref\":\"x\",\"y\":\"koi_prad_err2\",\"yref\":\"y\"},{\"font\":{\"color\":\"#FFFFFF\"},\"showarrow\":false,\"text\":\"0.0236\",\"x\":\"koi_steff_err1\",\"xref\":\"x\",\"y\":\"koi_prad_err2\",\"yref\":\"y\"},{\"font\":{\"color\":\"#000000\"},\"showarrow\":false,\"text\":\"-0.0091\",\"x\":\"ra\",\"xref\":\"x\",\"y\":\"koi_prad_err2\",\"yref\":\"y\"},{\"font\":{\"color\":\"#000000\"},\"showarrow\":false,\"text\":\"-0.0164\",\"x\":\"koi_disposition\",\"xref\":\"x\",\"y\":\"koi_model_snr\",\"yref\":\"y\"},{\"font\":{\"color\":\"#000000\"},\"showarrow\":false,\"text\":\"-0.0815\",\"x\":\"koi_period\",\"xref\":\"x\",\"y\":\"koi_model_snr\",\"yref\":\"y\"},{\"font\":{\"color\":\"#000000\"},\"showarrow\":false,\"text\":\"-0.0585\",\"x\":\"koi_time0bk\",\"xref\":\"x\",\"y\":\"koi_model_snr\",\"yref\":\"y\"},{\"font\":{\"color\":\"#000000\"},\"showarrow\":false,\"text\":\"-0.0018\",\"x\":\"koi_depth_err1\",\"xref\":\"x\",\"y\":\"koi_model_snr\",\"yref\":\"y\"},{\"font\":{\"color\":\"#FFFFFF\"},\"showarrow\":false,\"text\":\"0.0018\",\"x\":\"koi_depth_err2\",\"xref\":\"x\",\"y\":\"koi_model_snr\",\"yref\":\"y\"},{\"font\":{\"color\":\"#000000\"},\"showarrow\":false,\"text\":\"-0.0036\",\"x\":\"koi_prad\",\"xref\":\"x\",\"y\":\"koi_model_snr\",\"yref\":\"y\"},{\"font\":{\"color\":\"#FFFFFF\"},\"showarrow\":false,\"text\":\"-0.0001\",\"x\":\"koi_prad_err1\",\"xref\":\"x\",\"y\":\"koi_model_snr\",\"yref\":\"y\"},{\"font\":{\"color\":\"#FFFFFF\"},\"showarrow\":false,\"text\":\"0.0041\",\"x\":\"koi_prad_err2\",\"xref\":\"x\",\"y\":\"koi_model_snr\",\"yref\":\"y\"},{\"font\":{\"color\":\"#FFFFFF\"},\"showarrow\":false,\"text\":\"1.0\",\"x\":\"koi_model_snr\",\"xref\":\"x\",\"y\":\"koi_model_snr\",\"yref\":\"y\"},{\"font\":{\"color\":\"#FFFFFF\"},\"showarrow\":false,\"text\":\"0.1215\",\"x\":\"koi_steff_err1\",\"xref\":\"x\",\"y\":\"koi_model_snr\",\"yref\":\"y\"},{\"font\":{\"color\":\"#FFFFFF\"},\"showarrow\":false,\"text\":\"0.0293\",\"x\":\"ra\",\"xref\":\"x\",\"y\":\"koi_model_snr\",\"yref\":\"y\"},{\"font\":{\"color\":\"#FFFFFF\"},\"showarrow\":false,\"text\":\"0.1732\",\"x\":\"koi_disposition\",\"xref\":\"x\",\"y\":\"koi_steff_err1\",\"yref\":\"y\"},{\"font\":{\"color\":\"#FFFFFF\"},\"showarrow\":false,\"text\":\"0.0368\",\"x\":\"koi_period\",\"xref\":\"x\",\"y\":\"koi_steff_err1\",\"yref\":\"y\"},{\"font\":{\"color\":\"#FFFFFF\"},\"showarrow\":false,\"text\":\"0.04\",\"x\":\"koi_time0bk\",\"xref\":\"x\",\"y\":\"koi_steff_err1\",\"yref\":\"y\"},{\"font\":{\"color\":\"#FFFFFF\"},\"showarrow\":false,\"text\":\"0.0186\",\"x\":\"koi_depth_err1\",\"xref\":\"x\",\"y\":\"koi_steff_err1\",\"yref\":\"y\"},{\"font\":{\"color\":\"#000000\"},\"showarrow\":false,\"text\":\"-0.0186\",\"x\":\"koi_depth_err2\",\"xref\":\"x\",\"y\":\"koi_steff_err1\",\"yref\":\"y\"},{\"font\":{\"color\":\"#000000\"},\"showarrow\":false,\"text\":\"-0.0232\",\"x\":\"koi_prad\",\"xref\":\"x\",\"y\":\"koi_steff_err1\",\"yref\":\"y\"},{\"font\":{\"color\":\"#000000\"},\"showarrow\":false,\"text\":\"-0.0119\",\"x\":\"koi_prad_err1\",\"xref\":\"x\",\"y\":\"koi_steff_err1\",\"yref\":\"y\"},{\"font\":{\"color\":\"#FFFFFF\"},\"showarrow\":false,\"text\":\"0.0236\",\"x\":\"koi_prad_err2\",\"xref\":\"x\",\"y\":\"koi_steff_err1\",\"yref\":\"y\"},{\"font\":{\"color\":\"#FFFFFF\"},\"showarrow\":false,\"text\":\"0.1215\",\"x\":\"koi_model_snr\",\"xref\":\"x\",\"y\":\"koi_steff_err1\",\"yref\":\"y\"},{\"font\":{\"color\":\"#FFFFFF\"},\"showarrow\":false,\"text\":\"1.0\",\"x\":\"koi_steff_err1\",\"xref\":\"x\",\"y\":\"koi_steff_err1\",\"yref\":\"y\"},{\"font\":{\"color\":\"#FFFFFF\"},\"showarrow\":false,\"text\":\"0.1439\",\"x\":\"ra\",\"xref\":\"x\",\"y\":\"koi_steff_err1\",\"yref\":\"y\"},{\"font\":{\"color\":\"#FFFFFF\"},\"showarrow\":false,\"text\":\"0.0638\",\"x\":\"koi_disposition\",\"xref\":\"x\",\"y\":\"ra\",\"yref\":\"y\"},{\"font\":{\"color\":\"#000000\"},\"showarrow\":false,\"text\":\"-0.0307\",\"x\":\"koi_period\",\"xref\":\"x\",\"y\":\"ra\",\"yref\":\"y\"},{\"font\":{\"color\":\"#000000\"},\"showarrow\":false,\"text\":\"-0.017\",\"x\":\"koi_time0bk\",\"xref\":\"x\",\"y\":\"ra\",\"yref\":\"y\"},{\"font\":{\"color\":\"#FFFFFF\"},\"showarrow\":false,\"text\":\"0.0122\",\"x\":\"koi_depth_err1\",\"xref\":\"x\",\"y\":\"ra\",\"yref\":\"y\"},{\"font\":{\"color\":\"#000000\"},\"showarrow\":false,\"text\":\"-0.0122\",\"x\":\"koi_depth_err2\",\"xref\":\"x\",\"y\":\"ra\",\"yref\":\"y\"},{\"font\":{\"color\":\"#FFFFFF\"},\"showarrow\":false,\"text\":\"0.0079\",\"x\":\"koi_prad\",\"xref\":\"x\",\"y\":\"ra\",\"yref\":\"y\"},{\"font\":{\"color\":\"#FFFFFF\"},\"showarrow\":false,\"text\":\"0.0097\",\"x\":\"koi_prad_err1\",\"xref\":\"x\",\"y\":\"ra\",\"yref\":\"y\"},{\"font\":{\"color\":\"#000000\"},\"showarrow\":false,\"text\":\"-0.0091\",\"x\":\"koi_prad_err2\",\"xref\":\"x\",\"y\":\"ra\",\"yref\":\"y\"},{\"font\":{\"color\":\"#FFFFFF\"},\"showarrow\":false,\"text\":\"0.0293\",\"x\":\"koi_model_snr\",\"xref\":\"x\",\"y\":\"ra\",\"yref\":\"y\"},{\"font\":{\"color\":\"#FFFFFF\"},\"showarrow\":false,\"text\":\"0.1439\",\"x\":\"koi_steff_err1\",\"xref\":\"x\",\"y\":\"ra\",\"yref\":\"y\"},{\"font\":{\"color\":\"#FFFFFF\"},\"showarrow\":false,\"text\":\"1.0\",\"x\":\"ra\",\"xref\":\"x\",\"y\":\"ra\",\"yref\":\"y\"}],\"template\":{\"data\":{\"barpolar\":[{\"marker\":{\"line\":{\"color\":\"#E5ECF6\",\"width\":0.5},\"pattern\":{\"fillmode\":\"overlay\",\"size\":10,\"solidity\":0.2}},\"type\":\"barpolar\"}],\"bar\":[{\"error_x\":{\"color\":\"#2a3f5f\"},\"error_y\":{\"color\":\"#2a3f5f\"},\"marker\":{\"line\":{\"color\":\"#E5ECF6\",\"width\":0.5},\"pattern\":{\"fillmode\":\"overlay\",\"size\":10,\"solidity\":0.2}},\"type\":\"bar\"}],\"carpet\":[{\"aaxis\":{\"endlinecolor\":\"#2a3f5f\",\"gridcolor\":\"white\",\"linecolor\":\"white\",\"minorgridcolor\":\"white\",\"startlinecolor\":\"#2a3f5f\"},\"baxis\":{\"endlinecolor\":\"#2a3f5f\",\"gridcolor\":\"white\",\"linecolor\":\"white\",\"minorgridcolor\":\"white\",\"startlinecolor\":\"#2a3f5f\"},\"type\":\"carpet\"}],\"choropleth\":[{\"colorbar\":{\"outlinewidth\":0,\"ticks\":\"\"},\"type\":\"choropleth\"}],\"contourcarpet\":[{\"colorbar\":{\"outlinewidth\":0,\"ticks\":\"\"},\"type\":\"contourcarpet\"}],\"contour\":[{\"colorbar\":{\"outlinewidth\":0,\"ticks\":\"\"},\"colorscale\":[[0.0,\"#0d0887\"],[0.1111111111111111,\"#46039f\"],[0.2222222222222222,\"#7201a8\"],[0.3333333333333333,\"#9c179e\"],[0.4444444444444444,\"#bd3786\"],[0.5555555555555556,\"#d8576b\"],[0.6666666666666666,\"#ed7953\"],[0.7777777777777778,\"#fb9f3a\"],[0.8888888888888888,\"#fdca26\"],[1.0,\"#f0f921\"]],\"type\":\"contour\"}],\"heatmapgl\":[{\"colorbar\":{\"outlinewidth\":0,\"ticks\":\"\"},\"colorscale\":[[0.0,\"#0d0887\"],[0.1111111111111111,\"#46039f\"],[0.2222222222222222,\"#7201a8\"],[0.3333333333333333,\"#9c179e\"],[0.4444444444444444,\"#bd3786\"],[0.5555555555555556,\"#d8576b\"],[0.6666666666666666,\"#ed7953\"],[0.7777777777777778,\"#fb9f3a\"],[0.8888888888888888,\"#fdca26\"],[1.0,\"#f0f921\"]],\"type\":\"heatmapgl\"}],\"heatmap\":[{\"colorbar\":{\"outlinewidth\":0,\"ticks\":\"\"},\"colorscale\":[[0.0,\"#0d0887\"],[0.1111111111111111,\"#46039f\"],[0.2222222222222222,\"#7201a8\"],[0.3333333333333333,\"#9c179e\"],[0.4444444444444444,\"#bd3786\"],[0.5555555555555556,\"#d8576b\"],[0.6666666666666666,\"#ed7953\"],[0.7777777777777778,\"#fb9f3a\"],[0.8888888888888888,\"#fdca26\"],[1.0,\"#f0f921\"]],\"type\":\"heatmap\"}],\"histogram2dcontour\":[{\"colorbar\":{\"outlinewidth\":0,\"ticks\":\"\"},\"colorscale\":[[0.0,\"#0d0887\"],[0.1111111111111111,\"#46039f\"],[0.2222222222222222,\"#7201a8\"],[0.3333333333333333,\"#9c179e\"],[0.4444444444444444,\"#bd3786\"],[0.5555555555555556,\"#d8576b\"],[0.6666666666666666,\"#ed7953\"],[0.7777777777777778,\"#fb9f3a\"],[0.8888888888888888,\"#fdca26\"],[1.0,\"#f0f921\"]],\"type\":\"histogram2dcontour\"}],\"histogram2d\":[{\"colorbar\":{\"outlinewidth\":0,\"ticks\":\"\"},\"colorscale\":[[0.0,\"#0d0887\"],[0.1111111111111111,\"#46039f\"],[0.2222222222222222,\"#7201a8\"],[0.3333333333333333,\"#9c179e\"],[0.4444444444444444,\"#bd3786\"],[0.5555555555555556,\"#d8576b\"],[0.6666666666666666,\"#ed7953\"],[0.7777777777777778,\"#fb9f3a\"],[0.8888888888888888,\"#fdca26\"],[1.0,\"#f0f921\"]],\"type\":\"histogram2d\"}],\"histogram\":[{\"marker\":{\"pattern\":{\"fillmode\":\"overlay\",\"size\":10,\"solidity\":0.2}},\"type\":\"histogram\"}],\"mesh3d\":[{\"colorbar\":{\"outlinewidth\":0,\"ticks\":\"\"},\"type\":\"mesh3d\"}],\"parcoords\":[{\"line\":{\"colorbar\":{\"outlinewidth\":0,\"ticks\":\"\"}},\"type\":\"parcoords\"}],\"pie\":[{\"automargin\":true,\"type\":\"pie\"}],\"scatter3d\":[{\"line\":{\"colorbar\":{\"outlinewidth\":0,\"ticks\":\"\"}},\"marker\":{\"colorbar\":{\"outlinewidth\":0,\"ticks\":\"\"}},\"type\":\"scatter3d\"}],\"scattercarpet\":[{\"marker\":{\"colorbar\":{\"outlinewidth\":0,\"ticks\":\"\"}},\"type\":\"scattercarpet\"}],\"scattergeo\":[{\"marker\":{\"colorbar\":{\"outlinewidth\":0,\"ticks\":\"\"}},\"type\":\"scattergeo\"}],\"scattergl\":[{\"marker\":{\"colorbar\":{\"outlinewidth\":0,\"ticks\":\"\"}},\"type\":\"scattergl\"}],\"scattermapbox\":[{\"marker\":{\"colorbar\":{\"outlinewidth\":0,\"ticks\":\"\"}},\"type\":\"scattermapbox\"}],\"scatterpolargl\":[{\"marker\":{\"colorbar\":{\"outlinewidth\":0,\"ticks\":\"\"}},\"type\":\"scatterpolargl\"}],\"scatterpolar\":[{\"marker\":{\"colorbar\":{\"outlinewidth\":0,\"ticks\":\"\"}},\"type\":\"scatterpolar\"}],\"scatter\":[{\"marker\":{\"colorbar\":{\"outlinewidth\":0,\"ticks\":\"\"}},\"type\":\"scatter\"}],\"scatterternary\":[{\"marker\":{\"colorbar\":{\"outlinewidth\":0,\"ticks\":\"\"}},\"type\":\"scatterternary\"}],\"surface\":[{\"colorbar\":{\"outlinewidth\":0,\"ticks\":\"\"},\"colorscale\":[[0.0,\"#0d0887\"],[0.1111111111111111,\"#46039f\"],[0.2222222222222222,\"#7201a8\"],[0.3333333333333333,\"#9c179e\"],[0.4444444444444444,\"#bd3786\"],[0.5555555555555556,\"#d8576b\"],[0.6666666666666666,\"#ed7953\"],[0.7777777777777778,\"#fb9f3a\"],[0.8888888888888888,\"#fdca26\"],[1.0,\"#f0f921\"]],\"type\":\"surface\"}],\"table\":[{\"cells\":{\"fill\":{\"color\":\"#EBF0F8\"},\"line\":{\"color\":\"white\"}},\"header\":{\"fill\":{\"color\":\"#C8D4E3\"},\"line\":{\"color\":\"white\"}},\"type\":\"table\"}]},\"layout\":{\"annotationdefaults\":{\"arrowcolor\":\"#2a3f5f\",\"arrowhead\":0,\"arrowwidth\":1},\"autotypenumbers\":\"strict\",\"coloraxis\":{\"colorbar\":{\"outlinewidth\":0,\"ticks\":\"\"}},\"colorscale\":{\"diverging\":[[0,\"#8e0152\"],[0.1,\"#c51b7d\"],[0.2,\"#de77ae\"],[0.3,\"#f1b6da\"],[0.4,\"#fde0ef\"],[0.5,\"#f7f7f7\"],[0.6,\"#e6f5d0\"],[0.7,\"#b8e186\"],[0.8,\"#7fbc41\"],[0.9,\"#4d9221\"],[1,\"#276419\"]],\"sequential\":[[0.0,\"#0d0887\"],[0.1111111111111111,\"#46039f\"],[0.2222222222222222,\"#7201a8\"],[0.3333333333333333,\"#9c179e\"],[0.4444444444444444,\"#bd3786\"],[0.5555555555555556,\"#d8576b\"],[0.6666666666666666,\"#ed7953\"],[0.7777777777777778,\"#fb9f3a\"],[0.8888888888888888,\"#fdca26\"],[1.0,\"#f0f921\"]],\"sequentialminus\":[[0.0,\"#0d0887\"],[0.1111111111111111,\"#46039f\"],[0.2222222222222222,\"#7201a8\"],[0.3333333333333333,\"#9c179e\"],[0.4444444444444444,\"#bd3786\"],[0.5555555555555556,\"#d8576b\"],[0.6666666666666666,\"#ed7953\"],[0.7777777777777778,\"#fb9f3a\"],[0.8888888888888888,\"#fdca26\"],[1.0,\"#f0f921\"]]},\"colorway\":[\"#636efa\",\"#EF553B\",\"#00cc96\",\"#ab63fa\",\"#FFA15A\",\"#19d3f3\",\"#FF6692\",\"#B6E880\",\"#FF97FF\",\"#FECB52\"],\"font\":{\"color\":\"#2a3f5f\"},\"geo\":{\"bgcolor\":\"white\",\"lakecolor\":\"white\",\"landcolor\":\"#E5ECF6\",\"showlakes\":true,\"showland\":true,\"subunitcolor\":\"white\"},\"hoverlabel\":{\"align\":\"left\"},\"hovermode\":\"closest\",\"mapbox\":{\"style\":\"light\"},\"paper_bgcolor\":\"white\",\"plot_bgcolor\":\"#E5ECF6\",\"polar\":{\"angularaxis\":{\"gridcolor\":\"white\",\"linecolor\":\"white\",\"ticks\":\"\"},\"bgcolor\":\"#E5ECF6\",\"radialaxis\":{\"gridcolor\":\"white\",\"linecolor\":\"white\",\"ticks\":\"\"}},\"scene\":{\"xaxis\":{\"backgroundcolor\":\"#E5ECF6\",\"gridcolor\":\"white\",\"gridwidth\":2,\"linecolor\":\"white\",\"showbackground\":true,\"ticks\":\"\",\"zerolinecolor\":\"white\"},\"yaxis\":{\"backgroundcolor\":\"#E5ECF6\",\"gridcolor\":\"white\",\"gridwidth\":2,\"linecolor\":\"white\",\"showbackground\":true,\"ticks\":\"\",\"zerolinecolor\":\"white\"},\"zaxis\":{\"backgroundcolor\":\"#E5ECF6\",\"gridcolor\":\"white\",\"gridwidth\":2,\"linecolor\":\"white\",\"showbackground\":true,\"ticks\":\"\",\"zerolinecolor\":\"white\"}},\"shapedefaults\":{\"line\":{\"color\":\"#2a3f5f\"}},\"ternary\":{\"aaxis\":{\"gridcolor\":\"white\",\"linecolor\":\"white\",\"ticks\":\"\"},\"baxis\":{\"gridcolor\":\"white\",\"linecolor\":\"white\",\"ticks\":\"\"},\"bgcolor\":\"#E5ECF6\",\"caxis\":{\"gridcolor\":\"white\",\"linecolor\":\"white\",\"ticks\":\"\"}},\"title\":{\"x\":0.05},\"xaxis\":{\"automargin\":true,\"gridcolor\":\"white\",\"linecolor\":\"white\",\"ticks\":\"\",\"title\":{\"standoff\":15},\"zerolinecolor\":\"white\",\"zerolinewidth\":2},\"yaxis\":{\"automargin\":true,\"gridcolor\":\"white\",\"linecolor\":\"white\",\"ticks\":\"\",\"title\":{\"standoff\":15},\"zerolinecolor\":\"white\",\"zerolinewidth\":2}}},\"xaxis\":{\"dtick\":1,\"gridcolor\":\"rgb(0, 0, 0)\",\"side\":\"top\",\"ticks\":\"\"},\"yaxis\":{\"dtick\":1,\"ticks\":\"\",\"ticksuffix\":\"  \"}},                        {\"responsive\": true}                    ).then(function(){\n",
       "                            \n",
       "var gd = document.getElementById('1ee55b6e-b48a-4af1-95dc-d4884931d2c0');\n",
       "var x = new MutationObserver(function (mutations, observer) {{\n",
       "        var display = window.getComputedStyle(gd).display;\n",
       "        if (!display || display === 'none') {{\n",
       "            console.log([gd, 'removed!']);\n",
       "            Plotly.purge(gd);\n",
       "            observer.disconnect();\n",
       "        }}\n",
       "}});\n",
       "\n",
       "// Listen for the removal of the full notebook cells\n",
       "var notebookContainer = gd.closest('#notebook-container');\n",
       "if (notebookContainer) {{\n",
       "    x.observe(notebookContainer, {childList: true});\n",
       "}}\n",
       "\n",
       "// Listen for the clearing of the current output cell\n",
       "var outputEl = gd.closest('.output');\n",
       "if (outputEl) {{\n",
       "    x.observe(outputEl, {childList: true});\n",
       "}}\n",
       "\n",
       "                        })                };                });            </script>        </div>"
      ]
     },
     "metadata": {},
     "output_type": "display_data"
    }
   ],
   "source": [
    "iplot(figfac.create_annotated_heatmap(rel_correlation.round(3).values, x=rel_correlation.columns.to_list(), \n",
    "                                  y=rel_correlation.index.to_list(), annotation_text=rel_correlation.round(4).values, colorscale= 'ylgnbu'))"
   ]
  },
  {
   "cell_type": "code",
   "execution_count": null,
   "id": "d3f1389d",
   "metadata": {},
   "outputs": [],
   "source": []
  }
 ],
 "metadata": {
  "kernelspec": {
   "display_name": "Python 3",
   "language": "python",
   "name": "python3"
  },
  "language_info": {
   "codemirror_mode": {
    "name": "ipython",
    "version": 3
   },
   "file_extension": ".py",
   "mimetype": "text/x-python",
   "name": "python",
   "nbconvert_exporter": "python",
   "pygments_lexer": "ipython3",
   "version": "3.6.10"
  }
 },
 "nbformat": 4,
 "nbformat_minor": 5
}
